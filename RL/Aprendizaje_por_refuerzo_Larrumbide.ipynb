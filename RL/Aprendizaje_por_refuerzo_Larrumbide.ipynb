{
  "nbformat": 4,
  "nbformat_minor": 0,
  "metadata": {
    "colab": {
      "provenance": []
    },
    "kernelspec": {
      "name": "python3",
      "display_name": "Python 3"
    },
    "language_info": {
      "name": "python"
    }
  },
  "cells": [
    {
      "cell_type": "code",
      "execution_count": 1,
      "metadata": {
        "colab": {
          "base_uri": "https://localhost:8080/"
        },
        "id": "rAR8ZbxivPmj",
        "outputId": "90708fb7-5f73-4504-8913-c49277335dbd"
      },
      "outputs": [
        {
          "output_type": "stream",
          "name": "stdout",
          "text": [
            "Requirement already satisfied: gymnasium in /usr/local/lib/python3.11/dist-packages (1.1.1)\n",
            "Requirement already satisfied: matplotlib in /usr/local/lib/python3.11/dist-packages (3.10.0)\n",
            "Requirement already satisfied: numpy>=1.21.0 in /usr/local/lib/python3.11/dist-packages (from gymnasium) (2.0.2)\n",
            "Requirement already satisfied: cloudpickle>=1.2.0 in /usr/local/lib/python3.11/dist-packages (from gymnasium) (3.1.1)\n",
            "Requirement already satisfied: typing-extensions>=4.3.0 in /usr/local/lib/python3.11/dist-packages (from gymnasium) (4.13.2)\n",
            "Requirement already satisfied: farama-notifications>=0.0.1 in /usr/local/lib/python3.11/dist-packages (from gymnasium) (0.0.4)\n",
            "Requirement already satisfied: contourpy>=1.0.1 in /usr/local/lib/python3.11/dist-packages (from matplotlib) (1.3.2)\n",
            "Requirement already satisfied: cycler>=0.10 in /usr/local/lib/python3.11/dist-packages (from matplotlib) (0.12.1)\n",
            "Requirement already satisfied: fonttools>=4.22.0 in /usr/local/lib/python3.11/dist-packages (from matplotlib) (4.57.0)\n",
            "Requirement already satisfied: kiwisolver>=1.3.1 in /usr/local/lib/python3.11/dist-packages (from matplotlib) (1.4.8)\n",
            "Requirement already satisfied: packaging>=20.0 in /usr/local/lib/python3.11/dist-packages (from matplotlib) (24.2)\n",
            "Requirement already satisfied: pillow>=8 in /usr/local/lib/python3.11/dist-packages (from matplotlib) (11.1.0)\n",
            "Requirement already satisfied: pyparsing>=2.3.1 in /usr/local/lib/python3.11/dist-packages (from matplotlib) (3.2.3)\n",
            "Requirement already satisfied: python-dateutil>=2.7 in /usr/local/lib/python3.11/dist-packages (from matplotlib) (2.8.2)\n",
            "Requirement already satisfied: six>=1.5 in /usr/local/lib/python3.11/dist-packages (from python-dateutil>=2.7->matplotlib) (1.17.0)\n"
          ]
        }
      ],
      "source": [
        "!pip install gymnasium matplotlib\n"
      ]
    },
    {
      "cell_type": "code",
      "source": [
        "import gymnasium as gym\n",
        "import numpy as np\n",
        "import matplotlib.pyplot as plt\n",
        "from collections import defaultdict\n",
        "from typing import Tuple, List, Dict\n",
        "from pathlib import Path\n"
      ],
      "metadata": {
        "id": "uOtgpeRfvSyQ"
      },
      "execution_count": 2,
      "outputs": []
    },
    {
      "cell_type": "markdown",
      "source": [
        "# Clase principal"
      ],
      "metadata": {
        "id": "rgN9NoBEva3t"
      }
    },
    {
      "cell_type": "code",
      "source": [
        "class QueryRouterEnv(gym.Env):\n",
        "    metadata = {\"render_modes\": []}\n",
        "\n",
        "    ctx_bins  = [\"small\", \"medium\", \"large\"]\n",
        "    tool_bins = [0, 1, 2, 3]               # 3 ≡ \"≥3\"\n",
        "    resp_bins = [\"short\", \"medium\", \"long\"]\n",
        "    n_states  = 36\n",
        "    action_map = [\"gpt-3.5-16k\", \"gpt-4o-128k\", \"gemini-32k\"]\n",
        "\n",
        "    def __init__(self):\n",
        "        self.action_space      = gym.spaces.Discrete(3)\n",
        "        self.observation_space = gym.spaces.Discrete(self.n_states)\n",
        "        self.max_steps = 100\n",
        "        self.rng = np.random.default_rng()\n",
        "        self.state = None\n",
        "        self.step_cnt = 0\n",
        "\n",
        "        # -------- base μ_q, σ_q, μ_lat para ctx = small\n",
        "        self.base_perf = np.array([      # tools × resp × model\n",
        "            [[(0.78,0.07,0.25),(0.91,0.04,0.55),(0.83,0.07,0.35)],\n",
        "             [(0.72,0.07,0.40),(0.90,0.04,0.75),(0.82,0.07,0.55)],\n",
        "             [(0.65,0.08,0.55),(0.91,0.04,0.95),(0.84,0.07,0.70)]],\n",
        "            [[(0.75,0.08,0.30),(0.90,0.04,0.60),(0.82,0.07,0.40)],\n",
        "             [(0.70,0.08,0.45),(0.90,0.04,0.85),(0.80,0.07,0.60)],\n",
        "             [(0.63,0.09,0.60),(0.92,0.04,1.05),(0.85,0.06,0.80)]],\n",
        "            [[(0.73,0.08,0.35),(0.89,0.04,0.65),(0.81,0.07,0.45)],\n",
        "             [(0.68,0.08,0.50),(0.91,0.04,0.90),(0.82,0.07,0.65)],\n",
        "             [(0.60,0.09,0.65),(0.92,0.04,1.10),(0.85,0.06,0.85)]],\n",
        "            [[(0.70,0.08,0.40),(0.88,0.04,0.70),(0.80,0.07,0.50)],\n",
        "             [(0.65,0.08,0.55),(0.91,0.04,1.00),(0.82,0.07,0.70)],\n",
        "             [(0.58,0.10,0.70),(0.92,0.04,1.20),(0.85,0.06,0.90)]],\n",
        "        ], dtype=object)\n",
        "\n",
        "    # ---------- helpers ----------\n",
        "    def encode(self, ctx_idx, tool_idx, resp_idx):\n",
        "        return ctx_idx*12 + tool_idx*3 + resp_idx\n",
        "\n",
        "    def decode(self, s):\n",
        "        return s//12, (s%12)//3, s%3\n",
        "\n",
        "    # --- helpers --------------------------------------------\n",
        "    def _adjust_for_ctx(self, ctx, tools, resp):\n",
        "        arr = np.array(self.base_perf[tools][resp], dtype=float)\n",
        "\n",
        "        if ctx == 1:          # medium\n",
        "            arr[0,0] -= 0.10; arr[0,2] += 0.20\n",
        "            arr[1,0] += 0.15; arr[1,2] += 0.20\n",
        "            arr[2,0] += 0.04; arr[2,2] += 0.20\n",
        "        elif ctx == 2:        # large\n",
        "            arr[0,0] -= 0.30; arr[0,2] += 0.40\n",
        "            arr[1,0] += 0.25; arr[1,2] += 0.40\n",
        "            arr[2,0] -= 0.05; arr[2,2] += 0.25\n",
        "\n",
        "        # bonificación extra para GPT-4o en problemas “pesados”\n",
        "        if tools == 3 or resp == 2:\n",
        "            arr[1,0] += 0.15          # +0.15 de calidad\n",
        "\n",
        "        return arr\n",
        "\n",
        "\n",
        "    # --- sampling -------------------------------------------\n",
        "    def _sample_state(self):\n",
        "        while True:\n",
        "            ctx   = self.rng.choice(3, p=[0.55, 0.35, 0.10])\n",
        "            tools = self.rng.choice(4, p=[0.45, 0.30, 0.15, 0.10])\n",
        "            resp  = self.rng.choice(3, p=[0.45, 0.40, 0.15])\n",
        "\n",
        "            # descarta contexto large con 0 tools (imposible)\n",
        "            if not (ctx == 2 and tools == 0):\n",
        "                return self.encode(ctx, tools, resp)\n",
        "\n",
        "    # ---------- gym interface ----------\n",
        "    def reset(self, seed=None, options=None):\n",
        "        super().reset(seed=seed); self.step_cnt = 0\n",
        "        self.state = self._sample_state()\n",
        "        return self.state, {}\n",
        "\n",
        "    def step(self, action):\n",
        "        ctx, tools, resp = self.decode(self.state)\n",
        "\n",
        "        # acción inviable: modelo sin ventana suficiente\n",
        "        if ctx == 2 and action in (0, 2):\n",
        "            reward = -10.0\n",
        "        else:\n",
        "            mu_q, sig_q, mu_lat = self._adjust_for_ctx(ctx, tools, resp)[action]\n",
        "            q      = np.clip(self.rng.normal(mu_q, sig_q), 0.0, 1.0)\n",
        "            lat_s  = max(0.1, self.rng.normal(mu_lat, 0.05))\n",
        "            reward = q - 1.0 * lat_s            # λ = 1.0  → reward≈0 – 1\n",
        "\n",
        "        self.step_cnt += 1\n",
        "        done = self.step_cnt >= self.max_steps\n",
        "        self.state = None if done else self._sample_state()\n",
        "        return self.state, reward, done, False, {}\n"
      ],
      "metadata": {
        "id": "PAoQ0Qd_vXt5"
      },
      "execution_count": 41,
      "outputs": []
    },
    {
      "cell_type": "code",
      "source": [
        "def train_q(env, episodes=50_000, alpha=0.1, gamma=0.95, eps_start=1.0, eps_end=0.05):\n",
        "    n_states = env.observation_space.n\n",
        "    n_actions = env.action_space.n\n",
        "    Q = np.zeros((n_states, n_actions))\n",
        "    rewards = []\n",
        "    for ep in range(episodes):\n",
        "        s, _ = env.reset()\n",
        "        done = False\n",
        "        total = 0.0\n",
        "        eps = max(eps_end, eps_start - (eps_start - eps_end) * ep / episodes)\n",
        "        while not done:\n",
        "            a = env.action_space.sample() if np.random.rand() < eps else np.argmax(Q[s])\n",
        "            s2, r, done, _, _ = env.step(a)\n",
        "            best_next = 0 if done else np.max(Q[s2])\n",
        "            Q[s, a] += alpha * (r + gamma * best_next - Q[s, a])\n",
        "            s = s2\n",
        "            total += r\n",
        "        rewards.append(total)\n",
        "    return Q, rewards"
      ],
      "metadata": {
        "id": "F0i5ipU_wzlV"
      },
      "execution_count": 42,
      "outputs": []
    },
    {
      "cell_type": "code",
      "source": [
        "def plot_rewards(rewards, window=500):\n",
        "    ma = np.convolve(rewards, np.ones(window)/window, mode=\"valid\")\n",
        "    plt.plot(ma)\n",
        "    plt.xlabel(f\"Episodios (window={window})\")\n",
        "    plt.ylabel(\"Reward medio\")\n",
        "    plt.title(\"Convergencia Q-Learning\")"
      ],
      "metadata": {
        "id": "2yn0La81w2Ue"
      },
      "execution_count": 43,
      "outputs": []
    },
    {
      "cell_type": "markdown",
      "source": [
        "# Entrenar modelo"
      ],
      "metadata": {
        "id": "bh_XWViEw26Q"
      }
    },
    {
      "cell_type": "code",
      "source": [
        "env = QueryRouterEnv()\n",
        "Q, rewards = train_q(env, episodes=60_000)"
      ],
      "metadata": {
        "id": "u6QIQuZxw4AI"
      },
      "execution_count": 44,
      "outputs": []
    },
    {
      "cell_type": "code",
      "source": [
        "plot_rewards(rewards)\n",
        "plt.show()"
      ],
      "metadata": {
        "colab": {
          "base_uri": "https://localhost:8080/",
          "height": 472
        },
        "id": "XWAcuaGYw8eR",
        "outputId": "e6973b40-5f52-4b3d-9d70-5b39d4c15418"
      },
      "execution_count": 45,
      "outputs": [
        {
          "output_type": "display_data",
          "data": {
            "text/plain": [
              "<Figure size 640x480 with 1 Axes>"
            ],
            "image/png": "[encoded data removed]"
          },
          "metadata": {}
        }
      ]
    },
    {
      "cell_type": "markdown",
      "source": [
        "# Guardar/ Cargar la Q-table"
      ],
      "metadata": {
        "id": "cQ_xioB1xK_H"
      }
    },
    {
      "cell_type": "code",
      "source": [
        "np.save(\"Q_router.npy\", Q)        # guarda\n",
        "Q = np.load(\"Q_router.npy\")       # carga\n"
      ],
      "metadata": {
        "id": "a5ZWtrIlxNb7"
      },
      "execution_count": 46,
      "outputs": []
    },
    {
      "cell_type": "code",
      "source": [
        "Q"
      ],
      "metadata": {
        "colab": {
          "base_uri": "https://localhost:8080/"
        },
        "id": "OkobABSoySQu",
        "outputId": "14be6f95-91ca-4339-c9d5-edf4fdaf5770"
      },
      "execution_count": 47,
      "outputs": [
        {
          "output_type": "execute_result",
          "data": {
            "text/plain": [
              "array([[ 3.37017556,  3.42280707,  3.68660262],\n",
              "       [ 3.41562473,  3.19756832,  3.16800293],\n",
              "       [ 2.94827547,  3.1607503 ,  2.9842103 ],\n",
              "       [ 3.41956686,  3.32375063,  3.60228531],\n",
              "       [ 3.42140568,  3.06079126,  3.08435147],\n",
              "       [ 2.83594986,  3.00739962,  3.07411891],\n",
              "       [ 3.14248609,  3.12047038,  3.52605394],\n",
              "       [ 3.28756231,  2.990306  ,  3.05992445],\n",
              "       [ 3.13714323,  2.62922056,  2.65144113],\n",
              "       [ 3.0440374 ,  3.3143795 ,  3.17111342],\n",
              "       [ 2.93595529,  3.1824672 ,  2.8472549 ],\n",
              "       [ 2.70953511,  2.52492497,  3.06525488],\n",
              "       [ 3.18795998,  3.18293133,  3.49000107],\n",
              "       [ 2.74459901,  2.85042861,  3.13908955],\n",
              "       [ 2.40460981,  2.6857964 ,  3.10345802],\n",
              "       [ 3.01627042,  3.00445549,  3.15504238],\n",
              "       [ 2.78169138,  2.74026946,  3.21901267],\n",
              "       [ 2.57453029,  2.95467203,  2.57133423],\n",
              "       [ 2.92222643,  3.16692552,  2.89700113],\n",
              "       [ 2.65152015,  2.57367562,  3.13003015],\n",
              "       [ 2.63532813,  2.59426354,  2.95563324],\n",
              "       [ 3.18961228,  2.85221226,  2.85813739],\n",
              "       [ 2.86153236,  2.4355351 ,  2.7409921 ],\n",
              "       [ 2.46815189,  2.48906495,  2.6545989 ],\n",
              "       [ 0.        ,  0.        ,  0.        ],\n",
              "       [ 0.        ,  0.        ,  0.        ],\n",
              "       [ 0.        ,  0.        ,  0.        ],\n",
              "       [-6.82601835,  3.10457398, -6.82770678],\n",
              "       [-7.15507895,  2.92516938, -6.94358384],\n",
              "       [-6.8452183 ,  2.67588574, -6.96849663],\n",
              "       [-6.86603424,  3.0676726 , -6.8079003 ],\n",
              "       [-6.9409393 ,  2.71764234, -7.01180962],\n",
              "       [-6.89567003,  2.39682597, -6.84291387],\n",
              "       [-6.92699527,  3.05038351, -6.80411587],\n",
              "       [-6.90165595,  2.78164508, -7.15602367],\n",
              "       [-6.75005304,  2.55655962, -6.80818544]])"
            ]
          },
          "metadata": {},
          "execution_count": 47
        }
      ]
    },
    {
      "cell_type": "markdown",
      "source": [
        "# Mostrar la politica aprendida"
      ],
      "metadata": {
        "id": "IvYx5iT7xO-x"
      }
    },
    {
      "cell_type": "code",
      "source": [
        "model_names = [\"gpt-3.5-16k\", \"gpt-4o-128k\", \"gemini-32k\"]\n",
        "\n",
        "def show_policy(Q, env):\n",
        "    for s in range(env.observation_space.n):\n",
        "        a = np.argmax(Q[s])\n",
        "        ctx, tools, resp = env.decode(s)\n",
        "        ctx_label   = env.ctx_bins[ctx]          # small / medium / large\n",
        "        tools_label = f\"{env.tool_bins[tools]}\" if tools < 3 else \"≥3\"\n",
        "        resp_label  = env.resp_bins[resp]        # short / medium / long\n",
        "        print(f\"{ctx_label:<6} | tools {tools_label:<2} | resp {resp_label:<6} -> {model_names[a]}\")\n"
      ],
      "metadata": {
        "id": "4qxEeBFOxQ84"
      },
      "execution_count": 48,
      "outputs": []
    },
    {
      "cell_type": "code",
      "source": [
        "show_policy(Q,env)"
      ],
      "metadata": {
        "colab": {
          "base_uri": "https://localhost:8080/"
        },
        "id": "gySlNhURxTbD",
        "outputId": "eff3753c-c3c1-4e77-a03a-836732f7894f"
      },
      "execution_count": 49,
      "outputs": [
        {
          "output_type": "stream",
          "name": "stdout",
          "text": [
            "small  | tools 0  | resp short  -> gemini-32k\n",
            "small  | tools 0  | resp medium -> gpt-3.5-16k\n",
            "small  | tools 0  | resp long   -> gpt-4o-128k\n",
            "small  | tools 1  | resp short  -> gemini-32k\n",
            "small  | tools 1  | resp medium -> gpt-3.5-16k\n",
            "small  | tools 1  | resp long   -> gemini-32k\n",
            "small  | tools 2  | resp short  -> gemini-32k\n",
            "small  | tools 2  | resp medium -> gpt-3.5-16k\n",
            "small  | tools 2  | resp long   -> gpt-3.5-16k\n",
            "small  | tools ≥3 | resp short  -> gpt-4o-128k\n",
            "small  | tools ≥3 | resp medium -> gpt-4o-128k\n",
            "small  | tools ≥3 | resp long   -> gemini-32k\n",
            "medium | tools 0  | resp short  -> gemini-32k\n",
            "medium | tools 0  | resp medium -> gemini-32k\n",
            "medium | tools 0  | resp long   -> gemini-32k\n",
            "medium | tools 1  | resp short  -> gemini-32k\n",
            "medium | tools 1  | resp medium -> gemini-32k\n",
            "medium | tools 1  | resp long   -> gpt-4o-128k\n",
            "medium | tools 2  | resp short  -> gpt-4o-128k\n",
            "medium | tools 2  | resp medium -> gemini-32k\n",
            "medium | tools 2  | resp long   -> gemini-32k\n",
            "medium | tools ≥3 | resp short  -> gpt-3.5-16k\n",
            "medium | tools ≥3 | resp medium -> gpt-3.5-16k\n",
            "medium | tools ≥3 | resp long   -> gemini-32k\n",
            "large  | tools 0  | resp short  -> gpt-3.5-16k\n",
            "large  | tools 0  | resp medium -> gpt-3.5-16k\n",
            "large  | tools 0  | resp long   -> gpt-3.5-16k\n",
            "large  | tools 1  | resp short  -> gpt-4o-128k\n",
            "large  | tools 1  | resp medium -> gpt-4o-128k\n",
            "large  | tools 1  | resp long   -> gpt-4o-128k\n",
            "large  | tools 2  | resp short  -> gpt-4o-128k\n",
            "large  | tools 2  | resp medium -> gpt-4o-128k\n",
            "large  | tools 2  | resp long   -> gpt-4o-128k\n",
            "large  | tools ≥3 | resp short  -> gpt-4o-128k\n",
            "large  | tools ≥3 | resp medium -> gpt-4o-128k\n",
            "large  | tools ≥3 | resp long   -> gpt-4o-128k\n"
          ]
        }
      ]
    },
    {
      "cell_type": "markdown",
      "source": [
        "# Evaluar politica vs baseline"
      ],
      "metadata": {
        "id": "hKqtuQ8ixVNh"
      }
    },
    {
      "cell_type": "code",
      "source": [
        "def evaluate(env, policy_q, episodes=10_000):\n",
        "    total = 0.0\n",
        "    for _ in range(episodes):\n",
        "        s, _ = env.reset()\n",
        "        done = False\n",
        "        while not done:\n",
        "            a = np.argmax(policy_q[s])\n",
        "            s, r, done, _, _ = env.step(a)\n",
        "            total += r\n",
        "    return total / episodes\n",
        "\n",
        "def evaluate_fixed(env, action, episodes=10_000):\n",
        "    total = 0.0\n",
        "    for _ in range(episodes):\n",
        "        s, _ = env.reset()\n",
        "        done = False\n",
        "        while not done:\n",
        "            s, r, done, _, _ = env.step(action)\n",
        "            total += r\n",
        "    return total / episodes"
      ],
      "metadata": {
        "id": "F4p-2HGKxXDt"
      },
      "execution_count": 50,
      "outputs": []
    },
    {
      "cell_type": "code",
      "source": [
        "env_eval = QueryRouterEnv()\n",
        "avg_rl   = evaluate(env_eval, Q)\n",
        "avg_fix  = evaluate_fixed(env_eval, action=0)   # siempre GPT-3.5\n",
        "print(\"Reward medio RL:\", avg_rl)\n",
        "print(\"Reward medio baseline:\", avg_fix)\n"
      ],
      "metadata": {
        "colab": {
          "base_uri": "https://localhost:8080/"
        },
        "id": "XsGCeMtLxZvV",
        "outputId": "1b1737f0-6bdb-40f3-a7a9-17640fbc7bcd"
      },
      "execution_count": 51,
      "outputs": [
        {
          "output_type": "stream",
          "name": "stdout",
          "text": [
            "Reward medio RL: 19.62318132239386\n",
            "Reward medio baseline: -38.78763331307374\n"
          ]
        }
      ]
    },
    {
      "cell_type": "markdown",
      "source": [
        "# Comparar Q-Learning vs SARSA"
      ],
      "metadata": {
        "id": "dPPxYYb5CERR"
      }
    },
    {
      "cell_type": "code",
      "source": [
        "def train_sarsa(env, episodes=50_000, alpha=0.1, gamma=0.95,\n",
        "                eps_start=1.0, eps_end=0.05):\n",
        "    n_s = env.observation_space.n\n",
        "    n_a = env.action_space.n\n",
        "    Q = np.zeros((n_s, n_a))\n",
        "    rewards = []\n",
        "\n",
        "    for ep in range(episodes):\n",
        "        s, _ = env.reset()\n",
        "        eps = max(eps_end, eps_start - (eps_start - eps_end) * ep / episodes)\n",
        "        # primera acción ε-greedy\n",
        "        if np.random.rand() < eps:\n",
        "            a = env.action_space.sample()\n",
        "        else:\n",
        "            a = np.argmax(Q[s])\n",
        "\n",
        "        total = 0.0\n",
        "        while True:\n",
        "            s2, r, done, _, _ = env.step(a)\n",
        "            total += r\n",
        "\n",
        "            if done:\n",
        "                # actualización terminal: no hay Q[s2,a2]\n",
        "                Q[s, a] += alpha * (r - Q[s, a])\n",
        "                break\n",
        "\n",
        "            # acción siguiente ε-greedy\n",
        "            if np.random.rand() < eps:\n",
        "                a2 = env.action_space.sample()\n",
        "            else:\n",
        "                a2 = np.argmax(Q[s2])\n",
        "\n",
        "            # actualización SARSA\n",
        "            Q[s, a] += alpha * (r + gamma * Q[s2, a2] - Q[s, a])\n",
        "\n",
        "            s, a = s2, a2\n",
        "\n",
        "        rewards.append(total)\n",
        "\n",
        "    return Q, rewards\n"
      ],
      "metadata": {
        "id": "Mn6LocRhCGtB"
      },
      "execution_count": 55,
      "outputs": []
    },
    {
      "cell_type": "code",
      "source": [
        "Q_sarsa, r_sarsa = train_sarsa(env)\n",
        "ma_q   = np.convolve(rewards, np.ones(500)/500, mode=\"valid\")\n",
        "ma_s   = np.convolve(r_sarsa, np.ones(500)/500, mode=\"valid\")\n",
        "\n",
        "plt.plot(ma_q, label=\"Q-Learning\")\n",
        "plt.plot(ma_s, label=\"SARSA\")\n",
        "plt.xlabel(\"Episodios\")\n",
        "plt.ylabel(\"Reward medio (window=500)\")\n",
        "plt.legend()\n",
        "plt.show()\n"
      ],
      "metadata": {
        "colab": {
          "base_uri": "https://localhost:8080/",
          "height": 449
        },
        "id": "_K4MejSWCI6B",
        "outputId": "ef10f6b2-5b00-401d-a42a-e09b3488ba0b"
      },
      "execution_count": 56,
      "outputs": [
        {
          "output_type": "display_data",
          "data": {
            "text/plain": [
              "<Figure size 640x480 with 1 Axes>"
            ],
            "image/png": "[encoded data removed]"
          },
          "metadata": {}
        }
      ]
    },
    {
      "cell_type": "code",
      "source": [
        "Q_sarsa"
      ],
      "metadata": {
        "colab": {
          "base_uri": "https://localhost:8080/"
        },
        "id": "dG4-sw2QDkET",
        "outputId": "f45cffdb-f2bc-4faf-adac-6d957afc3510"
      },
      "execution_count": 57,
      "outputs": [
        {
          "output_type": "execute_result",
          "data": {
            "text/plain": [
              "array([[ 2.15780159,  2.1832911 ,  2.90138344],\n",
              "       [ 1.79497581,  1.53372926,  2.78329139],\n",
              "       [ 2.02075054,  2.51472333,  1.43971795],\n",
              "       [ 2.83734216,  2.49060693,  2.71489286],\n",
              "       [ 2.68618467,  2.21402493,  1.94114344],\n",
              "       [ 2.19918828,  2.09115447,  2.47271841],\n",
              "       [ 2.73683181,  2.29849681,  2.29403201],\n",
              "       [ 1.87316718,  2.35212302,  1.58471878],\n",
              "       [ 2.38240134,  2.04931738,  1.91601615],\n",
              "       [ 2.42448293,  2.69552795,  2.33377963],\n",
              "       [ 2.60419728,  1.82027109,  2.22843989],\n",
              "       [ 1.84139848,  1.28880008,  2.31330044],\n",
              "       [ 2.00431242,  2.54598683,  2.75915352],\n",
              "       [ 2.15478237,  2.2642805 ,  2.18197952],\n",
              "       [ 2.03020642,  1.61030434,  2.38128071],\n",
              "       [ 1.70421495,  2.12506244,  2.62531714],\n",
              "       [ 2.08309166,  2.4073288 ,  2.2507748 ],\n",
              "       [ 2.05603783,  1.92084247,  1.78645246],\n",
              "       [ 2.42072923,  1.90828131,  2.29433197],\n",
              "       [ 2.06389268,  2.29763821,  2.052106  ],\n",
              "       [ 1.90704965,  1.70060468,  2.31860241],\n",
              "       [ 1.60427778,  1.9727372 ,  2.55214641],\n",
              "       [ 2.31455997,  1.97786575,  1.43428988],\n",
              "       [ 1.28426146,  1.08786812,  2.33611713],\n",
              "       [ 0.        ,  0.        ,  0.        ],\n",
              "       [ 0.        ,  0.        ,  0.        ],\n",
              "       [ 0.        ,  0.        ,  0.        ],\n",
              "       [-7.52470938,  2.34216062, -7.60755996],\n",
              "       [-7.76895049,  2.21845608, -7.55482732],\n",
              "       [-7.69877   ,  2.02236557, -7.71480176],\n",
              "       [-7.63358251,  2.35598077, -7.79116666],\n",
              "       [-7.89427858,  2.10818837, -8.25310959],\n",
              "       [-7.93353191,  1.84148418, -7.8957288 ],\n",
              "       [-8.68699843,  2.27050015, -7.7002762 ],\n",
              "       [-7.76067518,  1.99043766, -7.81975663],\n",
              "       [-7.67096399,  1.83499916, -7.94776029]])"
            ]
          },
          "metadata": {},
          "execution_count": 57
        }
      ]
    },
    {
      "cell_type": "code",
      "source": [
        "avg_sarsa = evaluate(env_eval, Q_sarsa)\n",
        "\n",
        "print(\"Reward medio SARSA:\", avg_sarsa)"
      ],
      "metadata": {
        "colab": {
          "base_uri": "https://localhost:8080/"
        },
        "id": "JxsKPQFnDQj3",
        "outputId": "f59fbd27-9b8f-4676-ca6a-32cd041382c6"
      },
      "execution_count": 58,
      "outputs": [
        {
          "output_type": "stream",
          "name": "stdout",
          "text": [
            "Reward medio SARSA: 18.08868265934559\n"
          ]
        }
      ]
    }
  ]
}