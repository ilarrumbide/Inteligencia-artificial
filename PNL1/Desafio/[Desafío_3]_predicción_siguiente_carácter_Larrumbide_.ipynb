{
  "nbformat": 4,
  "nbformat_minor": 0,
  "metadata": {
    "colab": {
      "provenance": [],
      "gpuType": "T4"
    },
    "kernelspec": {
      "name": "python3",
      "display_name": "Python 3"
    },
    "language_info": {
      "name": "python"
    },
    "accelerator": "GPU"
  },
  "cells": [
    {
      "cell_type": "markdown",
      "metadata": {
        "id": "g3yeJGnCYxuF"
      },
      "source": [
        "<img src=\"https://github.com/hernancontigiani/ceia_memorias_especializacion/raw/master/Figures/logoFIUBA.jpg\" width=\"500\" align=\"center\">\n",
        "\n",
        "\n",
        "# Procesamiento de lenguaje natural\n",
        "## Predicción de próxima palabra"
      ]
    },
    {
      "cell_type": "markdown",
      "metadata": {
        "id": "Iv5PEwGzZA9-"
      },
      "source": [
        "### Objetivo\n",
        "El objetivo es utilizar documentos / corpus para crear embeddings de palabras basado en ese contexto utilizando la layer Embedding de Keras. Se utilizará esos embeddings junto con layers LSTM para predeccir la próxima posible palabra."
      ]
    },
    {
      "cell_type": "code",
      "source": [
        "!pip install numpy==1.24.4\n"
      ],
      "metadata": {
        "colab": {
          "base_uri": "https://localhost:8080/"
        },
        "id": "MPXysDKVCtKD",
        "outputId": "5ee42730-e00d-4249-d8de-70e79c706951"
      },
      "execution_count": 1,
      "outputs": [
        {
          "output_type": "stream",
          "name": "stdout",
          "text": [
            "Requirement already satisfied: numpy==1.24.4 in /usr/local/lib/python3.11/dist-packages (1.24.4)\n"
          ]
        }
      ]
    },
    {
      "cell_type": "code",
      "metadata": {
        "id": "Y-QdFbHZYj7C"
      },
      "source": [
        "import random\n",
        "import io\n",
        "import pickle\n",
        "\n",
        "import numpy as np\n",
        "import pandas as pd\n",
        "import matplotlib.pyplot as plt\n",
        "import seaborn as sns\n",
        "import torch\n",
        "import torch.nn.functional as F\n",
        "import torch.nn as nn\n",
        "from torch.utils.data import Dataset, DataLoader"
      ],
      "execution_count": 113,
      "outputs": []
    },
    {
      "cell_type": "code",
      "source": [
        "cuda = torch.cuda.is_available()\n",
        "device = torch.device('cuda' if torch.cuda.is_available() else 'cpu')\n",
        "device"
      ],
      "metadata": {
        "id": "S32xZJt_ACQP",
        "colab": {
          "base_uri": "https://localhost:8080/"
        },
        "outputId": "efe9acd7-c173-4d3d-8d0a-f24cf5ba30b4"
      },
      "execution_count": 3,
      "outputs": [
        {
          "output_type": "execute_result",
          "data": {
            "text/plain": [
              "device(type='cuda')"
            ]
          },
          "metadata": {},
          "execution_count": 3
        }
      ]
    },
    {
      "cell_type": "code",
      "source": [
        "# torchsummar actualmente tiene un problema con las LSTM, por eso\n",
        "# se utiliza torchinfo, un fork del proyecto original con el bug solucionado\n",
        "!pip3 install torchinfo\n",
        "from torchinfo import summary"
      ],
      "metadata": {
        "colab": {
          "base_uri": "https://localhost:8080/"
        },
        "id": "SzYQL2mV-_Rt",
        "outputId": "51868042-5912-446b-c798-15e2cb249779"
      },
      "execution_count": 4,
      "outputs": [
        {
          "output_type": "stream",
          "name": "stdout",
          "text": [
            "Collecting torchinfo\n",
            "  Downloading torchinfo-1.8.0-py3-none-any.whl.metadata (21 kB)\n",
            "Downloading torchinfo-1.8.0-py3-none-any.whl (23 kB)\n",
            "Installing collected packages: torchinfo\n",
            "Successfully installed torchinfo-1.8.0\n"
          ]
        }
      ]
    },
    {
      "cell_type": "code",
      "source": [
        "import os\n",
        "import platform\n",
        "\n",
        "if os.access('torch_helpers.py', os.F_OK) is False:\n",
        "    if platform.system() == 'Windows':\n",
        "        !curl !wget https://raw.githubusercontent.com/FIUBA-Posgrado-Inteligencia-Artificial/procesamiento_lenguaje_natural/main/scripts/torch_helpers.py > torch_helpers.py\n",
        "    else:\n",
        "        !wget torch_helpers.py https://raw.githubusercontent.com/FIUBA-Posgrado-Inteligencia-Artificial/procesamiento_lenguaje_natural/main/scripts/torch_helpers.py"
      ],
      "metadata": {
        "colab": {
          "base_uri": "https://localhost:8080/"
        },
        "id": "XI7mSG6p_B0t",
        "outputId": "f5e31a02-24af-497a-d46f-aa4cb1895992"
      },
      "execution_count": 5,
      "outputs": [
        {
          "output_type": "stream",
          "name": "stdout",
          "text": [
            "--2025-04-26 17:46:23--  http://torch_helpers.py/\n",
            "Resolving torch_helpers.py (torch_helpers.py)... failed: Name or service not known.\n",
            "wget: unable to resolve host address ‘torch_helpers.py’\n",
            "--2025-04-26 17:46:23--  https://raw.githubusercontent.com/FIUBA-Posgrado-Inteligencia-Artificial/procesamiento_lenguaje_natural/main/scripts/torch_helpers.py\n",
            "Resolving raw.githubusercontent.com (raw.githubusercontent.com)... 185.199.108.133, 185.199.109.133, 185.199.110.133, ...\n",
            "Connecting to raw.githubusercontent.com (raw.githubusercontent.com)|185.199.108.133|:443... connected.\n",
            "HTTP request sent, awaiting response... 200 OK\n",
            "Length: 23883 (23K) [text/plain]\n",
            "Saving to: ‘torch_helpers.py’\n",
            "\n",
            "torch_helpers.py    100%[===================>]  23.32K  --.-KB/s    in 0.002s  \n",
            "\n",
            "2025-04-26 17:46:24 (13.5 MB/s) - ‘torch_helpers.py’ saved [23883/23883]\n",
            "\n",
            "FINISHED --2025-04-26 17:46:24--\n",
            "Total wall clock time: 0.3s\n",
            "Downloaded: 1 files, 23K in 0.002s (13.5 MB/s)\n"
          ]
        }
      ]
    },
    {
      "cell_type": "code",
      "source": [
        "from torch_helpers import Tokenizer # tool de keras equivalente a ltokenizer de nltk\n",
        "from torch_helpers import text_to_word_sequence # tool de keras equivalente a word_teokenize de nltk\n",
        "from torch_helpers import pad_sequences # tool de keras qye se utilizará para padding\n",
        "\n",
        "# largo de la secuencia, incluye seq input + word output\n",
        "train_len = 4"
      ],
      "metadata": {
        "id": "sn0AWa0hSu9m"
      },
      "execution_count": 6,
      "outputs": []
    },
    {
      "cell_type": "code",
      "source": [
        "from torch_helpers import categorical_acc\n",
        "\n",
        "def train(model, train_loader, valid_loader, optimizer, criterion, epochs=100):\n",
        "    # Defino listas para realizar graficas de los resultados\n",
        "    train_loss = []\n",
        "    train_accuracy = []\n",
        "    valid_loss = []\n",
        "    valid_accuracy = []\n",
        "\n",
        "    # Defino mi loop de entrenamiento\n",
        "\n",
        "    for epoch in range(epochs):\n",
        "\n",
        "        epoch_train_loss = 0.0\n",
        "        epoch_train_accuracy = 0.0\n",
        "\n",
        "        for train_data, train_target in train_loader:\n",
        "            # Seteo los gradientes en cero ya que, por defecto, PyTorch\n",
        "            # los va acumulando\n",
        "            optimizer.zero_grad()\n",
        "\n",
        "            output = model(train_data.to(device)).cpu()\n",
        "\n",
        "            # Computo el error de la salida comparando contra las etiquetas\n",
        "            loss = criterion(output, train_target)\n",
        "\n",
        "            # Almaceno el error del batch para luego tener el error promedio de la epoca\n",
        "            epoch_train_loss += loss.item()\n",
        "\n",
        "            # Computo el nuevo set de gradientes a lo largo de toda la red\n",
        "            loss.backward()\n",
        "\n",
        "            # Realizo el paso de optimizacion actualizando los parametros de toda la red\n",
        "            optimizer.step()\n",
        "\n",
        "            # Calculo el accuracy del batch\n",
        "            accuracy = categorical_acc(output, train_target)\n",
        "            # Almaceno el accuracy del batch para luego tener el accuracy promedio de la epoca\n",
        "            epoch_train_accuracy += accuracy.item()\n",
        "\n",
        "        # Calculo la media de error para la epoca de entrenamiento.\n",
        "        # La longitud de train_loader es igual a la cantidad de batches dentro de una epoca.\n",
        "        epoch_train_loss = epoch_train_loss / len(train_loader)\n",
        "        train_loss.append(epoch_train_loss)\n",
        "        epoch_train_accuracy = epoch_train_accuracy / len(train_loader)\n",
        "        train_accuracy.append(epoch_train_accuracy)\n",
        "\n",
        "        # Realizo el paso de validación computando error y accuracy, y\n",
        "        # almacenando los valores para imprimirlos y graficarlos\n",
        "        #valid_data, valid_target = iter(valid_loader).next() Version vieja\n",
        "        valid_data, valid_target = next(iter(valid_loader))\n",
        "\n",
        "        output = model(valid_data.to(device)).cpu()\n",
        "\n",
        "        epoch_valid_loss = criterion(output, valid_target).item()\n",
        "        valid_loss.append(epoch_valid_loss)\n",
        "\n",
        "        # Calculo el accuracy de la epoch\n",
        "        epoch_valid_accuracy = categorical_acc(output, valid_target).item()\n",
        "        valid_accuracy.append(epoch_valid_accuracy)\n",
        "\n",
        "        print(f\"Epoch: {epoch+1}/{epochs} - Train loss {epoch_train_loss:.3f} - Train accuracy {epoch_train_accuracy:.3f} - Valid Loss {epoch_valid_loss:.3f} - Valid accuracy {epoch_valid_accuracy:.3f}\")\n",
        "\n",
        "    history = {\n",
        "        \"loss\": train_loss,\n",
        "        \"accuracy\": train_accuracy,\n",
        "        \"val_loss\": valid_loss,\n",
        "        \"val_accuracy\": valid_accuracy,\n",
        "    }\n",
        "    return history"
      ],
      "metadata": {
        "id": "3QPapqTx_Lgt"
      },
      "execution_count": 7,
      "outputs": []
    },
    {
      "cell_type": "markdown",
      "metadata": {
        "id": "xTvXlEKQZdqx"
      },
      "source": [
        "### Datos\n",
        "Utilizaremos como dataset las peliculas de los avengers"
      ]
    },
    {
      "cell_type": "code",
      "metadata": {
        "id": "IkdPfrQJZdB5"
      },
      "source": [
        "def load_avengers_scripts(paths, names=None, encoding=\"latin-1\"):\n",
        "    \"\"\"\n",
        "    Carga líneas de varios scripts en un DataFrame.\n",
        "    Si names se provee, agrega columna 'movie' con el nombre correspondiente.\n",
        "    \"\"\"\n",
        "    records = []\n",
        "    for path, name in zip(paths, names or [None]*len(paths)):\n",
        "        with open(path, encoding=encoding) as f:\n",
        "            for line in f:\n",
        "                txt = line.strip()\n",
        "                if not txt:\n",
        "                    continue\n",
        "                rec = {\"texto\": txt}\n",
        "                if name is not None:\n",
        "                    rec[\"movie\"] = name\n",
        "                records.append(rec)\n",
        "    return pd.DataFrame(records)\n"
      ],
      "execution_count": 8,
      "outputs": []
    },
    {
      "cell_type": "code",
      "source": [
        "def get_char_tokens(df, text_col=\"texto\", lower=True):\n",
        "    \"\"\"\n",
        "    - Concatena todo el texto en un único string.\n",
        "    - Opcionalmente lo pasa a minúsculas.\n",
        "    - Inserta espacios entre cada carácter.\n",
        "    - Tokeniza carácter a carácter usando text_to_word_sequence.\n",
        "    \"\"\"\n",
        "    # 1. Corpus como un solo string\n",
        "    corpus = df[text_col].str.cat(sep=\"\")\n",
        "    if lower:\n",
        "        corpus = corpus.lower()\n",
        "    # 2. Separar cada carácter con un espacio\n",
        "    spaced = \" \".join(list(corpus))\n",
        "    # 3. text_to_word_sequence con filtros vacíos para no descartar nada\n",
        "    return text_to_word_sequence(spaced, filters=\"\", lower=False, split=\" \")\n"
      ],
      "metadata": {
        "id": "tLf7OcyHMsnS"
      },
      "execution_count": 23,
      "outputs": []
    },
    {
      "cell_type": "code",
      "metadata": {
        "id": "6j-3nQ4lZjfb",
        "colab": {
          "base_uri": "https://localhost:8080/"
        },
        "outputId": "ae4bb0f1-dc06-44c8-c782-d13006ad2bdc"
      },
      "source": [
        "file_paths = [\n",
        "        \"/content/Avengers.Age.of.Ultron.txt\",\n",
        "        \"/content/Avengers.Endgame.txt\",\n",
        "        \"/content/Avengers.Infinity.War.txt\",\n",
        "        \"/content/Avengers.txt\"\n",
        "    ]\n",
        "\n",
        "movie_names = [\n",
        "    \"Avengers: Age of Ultron\",\n",
        "    \"Avengers: Endgame\",\n",
        "    \"Avengers: Infinity War\",\n",
        "    \"The Avengers\"\n",
        "]\n",
        "\n",
        "df = load_avengers_scripts(file_paths, movie_names)\n",
        "\n",
        "print(df.head())\n",
        "print(f\"\\nTotal de líneas combinadas: {len(df)}\")"
      ],
      "execution_count": 10,
      "outputs": [
        {
          "output_type": "stream",
          "name": "stdout",
          "text": [
            "                                               texto                    movie\n",
            "0                                (DISTANT EXPLOSION)  Avengers: Age of Ultron\n",
            "1  STRUCKER ON PA: Report to your stations immedi...  Avengers: Age of Ultron\n",
            "2                               This is not a drill.  Avengers: Age of Ultron\n",
            "3                               We are under attack!  Avengers: Age of Ultron\n",
            "4                   (SOLDIERS SHOUTING INDISTINCTLY)  Avengers: Age of Ultron\n",
            "\n",
            "Total de líneas combinadas: 7793\n"
          ]
        }
      ]
    },
    {
      "cell_type": "code",
      "metadata": {
        "id": "riT898QlZnmF",
        "colab": {
          "base_uri": "https://localhost:8080/"
        },
        "outputId": "331f413f-5257-414f-e82c-ed7693da86f8"
      },
      "source": [
        "print(\"Cantidad de documentos:\", df.shape[0])"
      ],
      "execution_count": 11,
      "outputs": [
        {
          "output_type": "stream",
          "name": "stdout",
          "text": [
            "Cantidad de documentos: 7793\n"
          ]
        }
      ]
    },
    {
      "cell_type": "markdown",
      "metadata": {
        "id": "ohS5Tao1d2KB"
      },
      "source": [
        "## 1 - Preprocesamiento de datos"
      ]
    },
    {
      "cell_type": "markdown",
      "source": [
        "### Vistazo a las primeras filas"
      ],
      "metadata": {
        "id": "eRxkzHvyUUUA"
      }
    },
    {
      "cell_type": "code",
      "metadata": {
        "id": "63Z2-Se2t27r",
        "colab": {
          "base_uri": "https://localhost:8080/",
          "height": 554
        },
        "outputId": "2b69f2c6-11fa-4a31-a1b8-8d897801c144"
      },
      "source": [
        "df.iloc[:15,0]"
      ],
      "execution_count": 12,
      "outputs": [
        {
          "output_type": "execute_result",
          "data": {
            "text/plain": [
              "0                                   (DISTANT EXPLOSION)\n",
              "1     STRUCKER ON PA: Report to your stations immedi...\n",
              "2                                  This is not a drill.\n",
              "3                                  We are under attack!\n",
              "4                      (SOLDIERS SHOUTING INDISTINCTLY)\n",
              "5                                  We are under attack!\n",
              "6                                              (GRUNTS)\n",
              "7                                         (POWERING UP)\n",
              "8                                               (YELLS)\n",
              "9                                            (GRUNTING)\n",
              "10                                          (SCREAMING)\n",
              "11                                            (ROARING)\n",
              "12                                  - Shit! - Language!\n",
              "13               Jarvis, what's the view from upstairs?\n",
              "14                      JARVIS: The central building is\n",
              "Name: texto, dtype: object"
            ],
            "text/html": [
              "<div>\n",
              "<style scoped>\n",
              "    .dataframe tbody tr th:only-of-type {\n",
              "        vertical-align: middle;\n",
              "    }\n",
              "\n",
              "    .dataframe tbody tr th {\n",
              "        vertical-align: top;\n",
              "    }\n",
              "\n",
              "    .dataframe thead th {\n",
              "        text-align: right;\n",
              "    }\n",
              "</style>\n",
              "<table border=\"1\" class=\"dataframe\">\n",
              "  <thead>\n",
              "    <tr style=\"text-align: right;\">\n",
              "      <th></th>\n",
              "      <th>texto</th>\n",
              "    </tr>\n",
              "  </thead>\n",
              "  <tbody>\n",
              "    <tr>\n",
              "      <th>0</th>\n",
              "      <td>(DISTANT EXPLOSION)</td>\n",
              "    </tr>\n",
              "    <tr>\n",
              "      <th>1</th>\n",
              "      <td>STRUCKER ON PA: Report to your stations immedi...</td>\n",
              "    </tr>\n",
              "    <tr>\n",
              "      <th>2</th>\n",
              "      <td>This is not a drill.</td>\n",
              "    </tr>\n",
              "    <tr>\n",
              "      <th>3</th>\n",
              "      <td>We are under attack!</td>\n",
              "    </tr>\n",
              "    <tr>\n",
              "      <th>4</th>\n",
              "      <td>(SOLDIERS SHOUTING INDISTINCTLY)</td>\n",
              "    </tr>\n",
              "    <tr>\n",
              "      <th>5</th>\n",
              "      <td>We are under attack!</td>\n",
              "    </tr>\n",
              "    <tr>\n",
              "      <th>6</th>\n",
              "      <td>(GRUNTS)</td>\n",
              "    </tr>\n",
              "    <tr>\n",
              "      <th>7</th>\n",
              "      <td>(POWERING UP)</td>\n",
              "    </tr>\n",
              "    <tr>\n",
              "      <th>8</th>\n",
              "      <td>(YELLS)</td>\n",
              "    </tr>\n",
              "    <tr>\n",
              "      <th>9</th>\n",
              "      <td>(GRUNTING)</td>\n",
              "    </tr>\n",
              "    <tr>\n",
              "      <th>10</th>\n",
              "      <td>(SCREAMING)</td>\n",
              "    </tr>\n",
              "    <tr>\n",
              "      <th>11</th>\n",
              "      <td>(ROARING)</td>\n",
              "    </tr>\n",
              "    <tr>\n",
              "      <th>12</th>\n",
              "      <td>- Shit! - Language!</td>\n",
              "    </tr>\n",
              "    <tr>\n",
              "      <th>13</th>\n",
              "      <td>Jarvis, what's the view from upstairs?</td>\n",
              "    </tr>\n",
              "    <tr>\n",
              "      <th>14</th>\n",
              "      <td>JARVIS: The central building is</td>\n",
              "    </tr>\n",
              "  </tbody>\n",
              "</table>\n",
              "</div><br><label><b>dtype:</b> object</label>"
            ]
          },
          "metadata": {},
          "execution_count": 12
        }
      ]
    },
    {
      "cell_type": "markdown",
      "source": [
        "### Concatenamos todos los rows en un solo valor"
      ],
      "metadata": {
        "id": "6ToBUiYAVOeX"
      }
    },
    {
      "cell_type": "code",
      "metadata": {
        "id": "kILsSoxTuHEr",
        "colab": {
          "base_uri": "https://localhost:8080/"
        },
        "outputId": "6d25668d-311a-4873-89d7-ad35ab5f4adf"
      },
      "source": [
        "corpus = df.apply(lambda row: ' '.join(row.values.astype(str)), axis=0)[0]"
      ],
      "execution_count": 19,
      "outputs": [
        {
          "output_type": "stream",
          "name": "stderr",
          "text": [
            "<ipython-input-19-9eca7dd73672>:1: FutureWarning: Series.__getitem__ treating keys as positions is deprecated. In a future version, integer keys will always be treated as labels (consistent with DataFrame behavior). To access a value by position, use `ser.iloc[pos]`\n",
            "  corpus = df.apply(lambda row: ' '.join(row.values.astype(str)), axis=0)[0]\n"
          ]
        }
      ]
    },
    {
      "cell_type": "code",
      "source": [
        "tokens = get_char_tokens(df)\n",
        "print(tokens[:20])"
      ],
      "metadata": {
        "colab": {
          "base_uri": "https://localhost:8080/"
        },
        "id": "hVkDckY1N0HL",
        "outputId": "cbc6dec7-d1b3-4bc9-89dd-b3a4239e44f5"
      },
      "execution_count": 28,
      "outputs": [
        {
          "output_type": "stream",
          "name": "stdout",
          "text": [
            "['(', 'd', 'i', 's', 't', 'a', 'n', 't', 'e', 'x', 'p', 'l', 'o', 's', 'i', 'o', 'n', ')', 's', 't']\n"
          ]
        }
      ]
    },
    {
      "cell_type": "markdown",
      "source": [
        "### Transformar el corpus a tokens"
      ],
      "metadata": {
        "id": "6U8teCRGVRPJ"
      }
    },
    {
      "cell_type": "code",
      "metadata": {
        "id": "GlqpZSJOJ1xQ",
        "colab": {
          "base_uri": "https://localhost:8080/"
        },
        "outputId": "9edf7d7c-e7fd-4f0d-a925-078b68631b5b"
      },
      "source": [
        "print(\"Cantidad de tokens en el corpus:\", len(tokens))"
      ],
      "execution_count": 29,
      "outputs": [
        {
          "output_type": "stream",
          "name": "stdout",
          "text": [
            "Cantidad de tokens en el corpus: 185527\n"
          ]
        }
      ]
    },
    {
      "cell_type": "code",
      "source": [
        "def build_dataset(text_sequences):\n",
        "    \"\"\"\n",
        "    text_sequences: list[list[token]] de longitud train_len\n",
        "    Devuelve:\n",
        "      - X: LongTensor (n_samples, train_len-1)\n",
        "      - y_idx: LongTensor (n_samples,) en 0...(vocab_size-1)\n",
        "      - vocab_size: int\n",
        "      - tokenizer: Tokenizer ajustado (útil para inversión o embedding)\n",
        "    \"\"\"\n",
        "    # 1) Ajustar el tokenizer (sin filtros, case-sensitive)\n",
        "    tok = Tokenizer(filters='', lower=False, split=' ')\n",
        "    tok.fit_on_texts(text_sequences)\n",
        "\n",
        "    # 2) A números y matriz numpy\n",
        "    sequences = tok.texts_to_sequences(text_sequences)\n",
        "    arr = np.array(sequences, dtype=np.int64)\n",
        "\n",
        "    # 3) X = todas menos la última posición; y_idx = última posición – 1\n",
        "    X_np = arr[:, :-1]\n",
        "    y_idx_np = arr[:,  -1] - 1\n",
        "\n",
        "    # 4) Convertir a tensores Long\n",
        "    X = torch.from_numpy(X_np).long()\n",
        "    y_idx = torch.from_numpy(y_idx_np).long()\n",
        "\n",
        "    # 5) Vocab size\n",
        "    vocab_size = len(tok.word_index)\n",
        "\n",
        "    return X, y_idx, vocab_size, tok,sequences"
      ],
      "metadata": {
        "id": "D5c_vFLdOqg6"
      },
      "execution_count": 49,
      "outputs": []
    },
    {
      "cell_type": "code",
      "metadata": {
        "id": "RhQevOynuYk2"
      },
      "source": [
        "# Código para hacer el desfazaje de las palabras\n",
        "# según el train_len\n",
        "text_sequences = []\n",
        "for i in range(train_len, len(tokens)):\n",
        "  seq = tokens[i-train_len:i]\n",
        "  text_sequences.append(seq)"
      ],
      "execution_count": 44,
      "outputs": []
    },
    {
      "cell_type": "code",
      "metadata": {
        "id": "FU3FuqHSuhzq",
        "colab": {
          "base_uri": "https://localhost:8080/"
        },
        "outputId": "4aff3897-8d81-46a5-b388-1a56c6d56eef"
      },
      "source": [
        "# Demos un vistazo a nuestros vectores para entrenar el modelo\n",
        "text_sequences[:20]"
      ],
      "execution_count": 45,
      "outputs": [
        {
          "output_type": "execute_result",
          "data": {
            "text/plain": [
              "[['(', 'd', 'i', 's'],\n",
              " ['d', 'i', 's', 't'],\n",
              " ['i', 's', 't', 'a'],\n",
              " ['s', 't', 'a', 'n'],\n",
              " ['t', 'a', 'n', 't'],\n",
              " ['a', 'n', 't', 'e'],\n",
              " ['n', 't', 'e', 'x'],\n",
              " ['t', 'e', 'x', 'p'],\n",
              " ['e', 'x', 'p', 'l'],\n",
              " ['x', 'p', 'l', 'o'],\n",
              " ['p', 'l', 'o', 's'],\n",
              " ['l', 'o', 's', 'i'],\n",
              " ['o', 's', 'i', 'o'],\n",
              " ['s', 'i', 'o', 'n'],\n",
              " ['i', 'o', 'n', ')'],\n",
              " ['o', 'n', ')', 's'],\n",
              " ['n', ')', 's', 't'],\n",
              " [')', 's', 't', 'r'],\n",
              " ['s', 't', 'r', 'u'],\n",
              " ['t', 'r', 'u', 'c']]"
            ]
          },
          "metadata": {},
          "execution_count": 45
        }
      ]
    },
    {
      "cell_type": "markdown",
      "source": [
        "## Generar Input y Target"
      ],
      "metadata": {
        "id": "1S0W3DzyVVpo"
      }
    },
    {
      "cell_type": "code",
      "metadata": {
        "id": "064N2jtLvHRg",
        "colab": {
          "base_uri": "https://localhost:8080/"
        },
        "outputId": "fd6a958b-6f16-4040-f8f1-4473e4f8b7c5"
      },
      "source": [
        "X, y, vocab_size, tok,sequences = build_dataset(text_sequences)\n",
        "print(\"X shape:\", X.shape)       # (n_samples, train_len-1)\n",
        "print(\"y shape:\", y.shape)       # (n_samples, vocab_size)\n",
        "print(\"Vocab size:\", vocab_size)"
      ],
      "execution_count": 55,
      "outputs": [
        {
          "output_type": "stream",
          "name": "stdout",
          "text": [
            "X shape: torch.Size([185523, 3])\n",
            "y shape: torch.Size([185523])\n",
            "Vocab size: 52\n"
          ]
        }
      ]
    },
    {
      "cell_type": "code",
      "metadata": {
        "id": "vwsvmvDKKXSP",
        "colab": {
          "base_uri": "https://localhost:8080/"
        },
        "outputId": "efb8408c-f8e0-48e1-8f7b-8ccbeaa55d7e"
      },
      "source": [
        "print(\"Cantidad de rows del dataset:\", len(sequences))"
      ],
      "execution_count": 56,
      "outputs": [
        {
          "output_type": "stream",
          "name": "stdout",
          "text": [
            "Cantidad de rows del dataset: 185523\n"
          ]
        }
      ]
    },
    {
      "cell_type": "code",
      "source": [
        "tok.index_word"
      ],
      "metadata": {
        "colab": {
          "base_uri": "https://localhost:8080/"
        },
        "id": "xM1DOw5FRjIH",
        "outputId": "d534fede-c114-40cb-feb9-7c841c4bacb9"
      },
      "execution_count": 60,
      "outputs": [
        {
          "output_type": "execute_result",
          "data": {
            "text/plain": [
              "{1: 'e',\n",
              " 2: 't',\n",
              " 3: 'o',\n",
              " 4: 'a',\n",
              " 5: 'i',\n",
              " 6: 'n',\n",
              " 7: 's',\n",
              " 8: 'h',\n",
              " 9: 'r',\n",
              " 10: '.',\n",
              " 11: 'l',\n",
              " 12: 'u',\n",
              " 13: 'd',\n",
              " 14: 'y',\n",
              " 15: 'g',\n",
              " 16: 'w',\n",
              " 17: 'm',\n",
              " 18: 'c',\n",
              " 19: 'f',\n",
              " 20: \"'\",\n",
              " 21: 'p',\n",
              " 22: ',',\n",
              " 23: 'b',\n",
              " 24: 'k',\n",
              " 25: 'v',\n",
              " 26: '?',\n",
              " 27: '-',\n",
              " 28: '!',\n",
              " 29: ')',\n",
              " 30: '(',\n",
              " 31: 'j',\n",
              " 32: ':',\n",
              " 33: 'x',\n",
              " 34: '\"',\n",
              " 35: 'q',\n",
              " 36: '0',\n",
              " 37: 'z',\n",
              " 38: '1',\n",
              " 39: '2',\n",
              " 40: '3',\n",
              " 41: '7',\n",
              " 42: '4',\n",
              " 43: '%',\n",
              " 44: '5',\n",
              " 45: '9',\n",
              " 46: '8',\n",
              " 47: '6',\n",
              " 48: '&',\n",
              " 49: 'ö',\n",
              " 50: 'ø',\n",
              " 51: 'ã',\n",
              " 52: 'ï'}"
            ]
          },
          "metadata": {},
          "execution_count": 60
        }
      ]
    },
    {
      "cell_type": "markdown",
      "source": [
        "Aclaracion:\n",
        "\n",
        "No realice one-hot encoding porque CrossEntropyLoss no lo necesita. Esta función espera que las etiquetas sean índices enteros de clase, no vectores. Si hiciéramos one-hot, estaríamos pasando un formato incorrecto y el loss no funcionaría como corresponde.\n",
        "\n",
        "https://pytorch.org/docs/stable/generated/torch.nn.CrossEntropyLoss.html"
      ],
      "metadata": {
        "id": "z-OQ19lplkmz"
      }
    },
    {
      "cell_type": "code",
      "source": [
        "class Data(Dataset):\n",
        "    def __init__(self, x, y):\n",
        "        \"\"\"\n",
        "        x: np.ndarray o torch.Tensor de shape (N, seq_len)\n",
        "        y: np.ndarray o torch.Tensor de shape (N,) con índices 0…vocab_size-1\n",
        "        \"\"\"\n",
        "        # Entradas como LongTensor\n",
        "        if torch.is_tensor(x):\n",
        "            self.x = x.long()\n",
        "        else:\n",
        "            self.x = torch.tensor(x, dtype=torch.long)\n",
        "\n",
        "        # Targets como LongTensor (índices de clase)\n",
        "        if torch.is_tensor(y):\n",
        "            self.y = y.long()\n",
        "        else:\n",
        "            self.y = torch.tensor(y, dtype=torch.long)\n",
        "\n",
        "        self.len = self.y.size(0)\n",
        "\n",
        "    def __getitem__(self, index):\n",
        "        return self.x[index], self.y[index]\n",
        "\n",
        "    def __len__(self):\n",
        "        return self.len"
      ],
      "metadata": {
        "id": "cVO59n_3BEyR"
      },
      "execution_count": 64,
      "outputs": []
    },
    {
      "cell_type": "code",
      "source": [
        "data_set = Data(X, y)\n",
        "\n",
        "input_size = data_set.x.shape[1]\n",
        "print(\"input_size:\", input_size)\n",
        "\n",
        "#output_dim = data_set.y.shape[1]\n",
        "output_dim = vocab_size\n",
        "\n",
        "print(\"Output dim\", output_dim)"
      ],
      "metadata": {
        "colab": {
          "base_uri": "https://localhost:8080/"
        },
        "id": "hO_gp179R2_E",
        "outputId": "dfbb1981-0be5-4800-c79c-3e0a100b7117"
      },
      "execution_count": 65,
      "outputs": [
        {
          "output_type": "stream",
          "name": "stdout",
          "text": [
            "input_size: 3\n",
            "Output dim 52\n"
          ]
        }
      ]
    },
    {
      "cell_type": "code",
      "source": [
        "torch.manual_seed(42)\n",
        "valid_set_size = int(data_set.len * 0.2)\n",
        "train_set_size = data_set.len - valid_set_size\n",
        "\n",
        "train_set = torch.utils.data.Subset(data_set, range(train_set_size))\n",
        "valid_set = torch.utils.data.Subset(data_set, range(train_set_size, data_set.len))\n",
        "\n",
        "print(\"Tamaño del conjunto de entrenamiento:\", len(train_set))\n",
        "print(\"Tamaño del conjunto de validacion:\", len(valid_set))\n",
        "\n",
        "train_batch_size = 32\n",
        "train_loader = torch.utils.data.DataLoader(train_set, batch_size=train_batch_size, shuffle=True)\n",
        "valid_loader = torch.utils.data.DataLoader(valid_set, batch_size=len(valid_set), shuffle=False)"
      ],
      "metadata": {
        "colab": {
          "base_uri": "https://localhost:8080/"
        },
        "id": "9_HzwNSwCISC",
        "outputId": "17666b64-38f8-4656-b85b-f982b9b23a34"
      },
      "execution_count": 66,
      "outputs": [
        {
          "output_type": "stream",
          "name": "stdout",
          "text": [
            "Tamaño del conjunto de entrenamiento: 148419\n",
            "Tamaño del conjunto de validacion: 37104\n"
          ]
        }
      ]
    },
    {
      "cell_type": "markdown",
      "metadata": {
        "id": "GmJWNyxQwfCE"
      },
      "source": [
        "## 3 - Entrenar el modelo"
      ]
    },
    {
      "cell_type": "markdown",
      "source": [
        "Aclaraciones:\n",
        "\n",
        "Hice algunas modifiicaciones en el dropout para evitar overfitting\n",
        "\n",
        "No usamos softmax en la última capa porque CrossEntropyLoss ya lo aplica internamente. Si lo agregábamos nosotros, estaríamos duplicando esa operación, lo cual puede generar inestabilidad numérica y hacer que el modelo aprenda peor. Por eso dejamos que la última capa devuelva directamente los logits."
      ],
      "metadata": {
        "id": "aVCZD9CRk4lu"
      }
    },
    {
      "cell_type": "code",
      "source": [
        "class Model1(nn.Module):\n",
        "    def __init__(self, vocab_size, output_dim):\n",
        "        super().__init__()\n",
        "        # num_embeddings = vocab_size --> 1628 palabras distintas + 1 para padding o UNK\n",
        "        # embedding_dim = 5 --> crear embeddings de tamaño 5 (tamaño variable y ajustable)\n",
        "        self.lstm_size = 64\n",
        "        self.num_layers = 2\n",
        "        self.embedding = nn.Embedding(num_embeddings=vocab_size+1, embedding_dim=5, padding_idx=0)\n",
        "        self.lstm1 = nn.LSTM(input_size=5, hidden_size=self.lstm_size, batch_first=True,\n",
        "                            num_layers=self.num_layers, dropout=0.5) # LSTM layer\n",
        "        self.fc1 = nn.Linear(in_features=self.lstm_size, out_features=32) # Fully connected layer\n",
        "        self.fc2 = nn.Linear(in_features=32, out_features=output_dim) # Fully connected layer\n",
        "\n",
        "        self.relu = nn.ReLU()\n",
        "        self.softmax = nn.Softmax(dim=1) # normalize in dim 1\n",
        "\n",
        "    def forward(self, x, prev_state=None):\n",
        "        if prev_state is None:\n",
        "            # En cada nueva inferencia reinicio el hidden state\n",
        "            # de la LSTM al menos que sea pasado por parámetro el\n",
        "            # elstado de previo\n",
        "            # Esta acción se realiza especialmente para que\n",
        "            # el hidden_state de la última inferencia no afecte\n",
        "            # a la siguiente\n",
        "            batch_size = x.shape[0] #(batch, seq_size)\n",
        "            prev_state = self.init_hidden(batch_size)\n",
        "\n",
        "        out = self.embedding(x)\n",
        "        lstm_output, (ht, ct) = self.lstm1(out, prev_state)\n",
        "        out = self.relu(self.fc1(lstm_output[:,-1,:]))\n",
        "        #out = self.softmax(self.fc2(out))\n",
        "        out = self.fc2(out)\n",
        "\n",
        "        return out\n",
        "\n",
        "    def init_hidden(self, batch_size):\n",
        "        return (torch.zeros(self.num_layers, batch_size, self.lstm_size).to(device),\n",
        "                torch.zeros(self.num_layers, batch_size, self.lstm_size).to(device))"
      ],
      "metadata": {
        "id": "VsdYibawCkHi"
      },
      "execution_count": 67,
      "outputs": []
    },
    {
      "cell_type": "code",
      "source": [
        "model1 = Model1(vocab_size=vocab_size, output_dim=output_dim)\n",
        "if cuda: model1.cuda()\n",
        "\n",
        "model1_optimizer = torch.optim.Adam(model1.parameters(), lr=0.001, weight_decay=1e-4)\n",
        "\n",
        "model1_criterion = torch.nn.CrossEntropyLoss()\n"
      ],
      "metadata": {
        "id": "BEoeL08dHcUq"
      },
      "execution_count": 74,
      "outputs": []
    },
    {
      "cell_type": "code",
      "source": [
        "device = torch.device(\"cuda\" if torch.cuda.is_available() else \"cpu\")\n",
        "model1 = model1.to(device)\n"
      ],
      "metadata": {
        "id": "mcF-sxapHusz"
      },
      "execution_count": 75,
      "outputs": []
    },
    {
      "cell_type": "markdown",
      "source": [
        "### Summary"
      ],
      "metadata": {
        "id": "E5qDOnXTV_6l"
      }
    },
    {
      "cell_type": "code",
      "source": [
        "input_tensor = data_set[0][0].unsqueeze(0).to(device)\n",
        "\n",
        "# Mostrar resumen del modelo\n",
        "summary(model1, input_data=input_tensor)"
      ],
      "metadata": {
        "colab": {
          "base_uri": "https://localhost:8080/"
        },
        "id": "hbPs-LkoHZ07",
        "outputId": "9f784fc7-581f-41ab-b6e0-5a80ce59adcc"
      },
      "execution_count": 76,
      "outputs": [
        {
          "output_type": "execute_result",
          "data": {
            "text/plain": [
              "==========================================================================================\n",
              "Layer (type:depth-idx)                   Output Shape              Param #\n",
              "==========================================================================================\n",
              "Model1                                   [1, 52]                   --\n",
              "├─Embedding: 1-1                         [1, 3, 5]                 265\n",
              "├─LSTM: 1-2                              [1, 3, 64]                51,456\n",
              "├─Linear: 1-3                            [1, 32]                   2,080\n",
              "├─ReLU: 1-4                              [1, 32]                   --\n",
              "├─Linear: 1-5                            [1, 52]                   1,716\n",
              "==========================================================================================\n",
              "Total params: 55,517\n",
              "Trainable params: 55,517\n",
              "Non-trainable params: 0\n",
              "Total mult-adds (Units.MEGABYTES): 0.16\n",
              "==========================================================================================\n",
              "Input size (MB): 0.00\n",
              "Forward/backward pass size (MB): 0.00\n",
              "Params size (MB): 0.22\n",
              "Estimated Total Size (MB): 0.22\n",
              "=========================================================================================="
            ]
          },
          "metadata": {},
          "execution_count": 76
        }
      ]
    },
    {
      "cell_type": "code",
      "source": [
        "def categorical_acc(y_pred, y_test):\n",
        "    y_pred_tag = y_pred.data.max(dim=1, keepdim=True)[1]\n",
        "    y_test_tag = y_test.view(-1, 1)\n",
        "    correct_results_sum = (y_pred_tag == y_test_tag).sum().float()\n",
        "    acc = correct_results_sum / y_test.shape[0]\n",
        "    return acc\n"
      ],
      "metadata": {
        "id": "CXUw_vJ6Pq3H"
      },
      "execution_count": 71,
      "outputs": []
    },
    {
      "cell_type": "code",
      "source": [
        "history1 = train(model1,\n",
        "                train_loader,\n",
        "                valid_loader,\n",
        "                model1_optimizer,\n",
        "                model1_criterion,\n",
        "                epochs=30\n",
        "                )"
      ],
      "metadata": {
        "colab": {
          "base_uri": "https://localhost:8080/"
        },
        "id": "S5yINRb7yMzB",
        "outputId": "8dcfaf9b-2067-4d3c-a6f1-f5fc04f9d1ac"
      },
      "execution_count": 77,
      "outputs": [
        {
          "output_type": "stream",
          "name": "stdout",
          "text": [
            "Epoch: 1/30 - Train loss 2.892 - Train accuracy 0.173 - Valid Loss 2.688 - Valid accuracy 0.232\n",
            "Epoch: 2/30 - Train loss 2.606 - Train accuracy 0.254 - Valid Loss 2.526 - Valid accuracy 0.279\n",
            "Epoch: 3/30 - Train loss 2.469 - Train accuracy 0.289 - Valid Loss 2.451 - Valid accuracy 0.293\n",
            "Epoch: 4/30 - Train loss 2.379 - Train accuracy 0.309 - Valid Loss 2.394 - Valid accuracy 0.308\n",
            "Epoch: 5/30 - Train loss 2.321 - Train accuracy 0.325 - Valid Loss 2.356 - Valid accuracy 0.314\n",
            "Epoch: 6/30 - Train loss 2.284 - Train accuracy 0.337 - Valid Loss 2.337 - Valid accuracy 0.322\n",
            "Epoch: 7/30 - Train loss 2.254 - Train accuracy 0.343 - Valid Loss 2.315 - Valid accuracy 0.324\n",
            "Epoch: 8/30 - Train loss 2.234 - Train accuracy 0.349 - Valid Loss 2.309 - Valid accuracy 0.326\n",
            "Epoch: 9/30 - Train loss 2.216 - Train accuracy 0.353 - Valid Loss 2.285 - Valid accuracy 0.330\n",
            "Epoch: 10/30 - Train loss 2.203 - Train accuracy 0.357 - Valid Loss 2.280 - Valid accuracy 0.333\n",
            "Epoch: 11/30 - Train loss 2.190 - Train accuracy 0.359 - Valid Loss 2.273 - Valid accuracy 0.336\n",
            "Epoch: 12/30 - Train loss 2.179 - Train accuracy 0.361 - Valid Loss 2.264 - Valid accuracy 0.340\n",
            "Epoch: 13/30 - Train loss 2.171 - Train accuracy 0.365 - Valid Loss 2.268 - Valid accuracy 0.338\n",
            "Epoch: 14/30 - Train loss 2.164 - Train accuracy 0.364 - Valid Loss 2.264 - Valid accuracy 0.340\n",
            "Epoch: 15/30 - Train loss 2.157 - Train accuracy 0.368 - Valid Loss 2.252 - Valid accuracy 0.342\n",
            "Epoch: 16/30 - Train loss 2.153 - Train accuracy 0.367 - Valid Loss 2.253 - Valid accuracy 0.340\n",
            "Epoch: 17/30 - Train loss 2.147 - Train accuracy 0.368 - Valid Loss 2.253 - Valid accuracy 0.340\n",
            "Epoch: 18/30 - Train loss 2.142 - Train accuracy 0.371 - Valid Loss 2.242 - Valid accuracy 0.346\n",
            "Epoch: 19/30 - Train loss 2.137 - Train accuracy 0.371 - Valid Loss 2.244 - Valid accuracy 0.345\n",
            "Epoch: 20/30 - Train loss 2.133 - Train accuracy 0.373 - Valid Loss 2.237 - Valid accuracy 0.343\n",
            "Epoch: 21/30 - Train loss 2.130 - Train accuracy 0.373 - Valid Loss 2.240 - Valid accuracy 0.343\n",
            "Epoch: 22/30 - Train loss 2.128 - Train accuracy 0.374 - Valid Loss 2.235 - Valid accuracy 0.347\n",
            "Epoch: 23/30 - Train loss 2.124 - Train accuracy 0.375 - Valid Loss 2.235 - Valid accuracy 0.345\n",
            "Epoch: 24/30 - Train loss 2.121 - Train accuracy 0.375 - Valid Loss 2.231 - Valid accuracy 0.349\n",
            "Epoch: 25/30 - Train loss 2.119 - Train accuracy 0.375 - Valid Loss 2.231 - Valid accuracy 0.345\n",
            "Epoch: 26/30 - Train loss 2.116 - Train accuracy 0.376 - Valid Loss 2.228 - Valid accuracy 0.350\n",
            "Epoch: 27/30 - Train loss 2.114 - Train accuracy 0.377 - Valid Loss 2.227 - Valid accuracy 0.350\n",
            "Epoch: 28/30 - Train loss 2.110 - Train accuracy 0.379 - Valid Loss 2.232 - Valid accuracy 0.347\n",
            "Epoch: 29/30 - Train loss 2.111 - Train accuracy 0.378 - Valid Loss 2.220 - Valid accuracy 0.348\n",
            "Epoch: 30/30 - Train loss 2.108 - Train accuracy 0.377 - Valid Loss 2.222 - Valid accuracy 0.350\n"
          ]
        }
      ]
    },
    {
      "cell_type": "code",
      "source": [
        "epoch_count = range(1, len(history1['accuracy']) + 1)\n",
        "sns.lineplot(x=epoch_count,  y=history1['accuracy'], label='train')\n",
        "sns.lineplot(x=epoch_count,  y=history1['val_accuracy'], label='valid')\n",
        "plt.show()"
      ],
      "metadata": {
        "colab": {
          "base_uri": "https://localhost:8080/",
          "height": 430
        },
        "id": "QH6al4DoyUWu",
        "outputId": "ab6f7f2f-d125-4fed-b1c5-68369b58d172"
      },
      "execution_count": 78,
      "outputs": [
        {
          "output_type": "display_data",
          "data": {
            "text/plain": [
              "<Figure size 640x480 with 1 Axes>"
            ],
            "image/png": "[encoded data removed]"
          },
          "metadata": {}
        }
      ]
    },
    {
      "cell_type": "code",
      "source": [
        "# Guarda solo los pesos del modelo\n",
        "torch.save(model1.state_dict(), \"model1_weights.pth\")\n"
      ],
      "metadata": {
        "id": "6NxCtTXiIo7u"
      },
      "execution_count": 79,
      "outputs": []
    },
    {
      "cell_type": "markdown",
      "source": [
        "## Cargar modelo"
      ],
      "metadata": {
        "id": "oNe4eomLIsgG"
      }
    },
    {
      "cell_type": "code",
      "source": [
        "model1 = Model1(vocab_size=vocab_size, output_dim=output_dim)\n",
        "model1.load_state_dict(torch.load(\"model1_weights.pth\"))\n",
        "model1.to(device)\n",
        "model1.eval()\n"
      ],
      "metadata": {
        "colab": {
          "base_uri": "https://localhost:8080/"
        },
        "id": "NyE9Yc6jItlj",
        "outputId": "1d13cabb-2b76-40a5-f4b8-ad56952fa00b"
      },
      "execution_count": 80,
      "outputs": [
        {
          "output_type": "execute_result",
          "data": {
            "text/plain": [
              "Model1(\n",
              "  (embedding): Embedding(53, 5, padding_idx=0)\n",
              "  (lstm1): LSTM(5, 64, num_layers=2, batch_first=True, dropout=0.5)\n",
              "  (fc1): Linear(in_features=64, out_features=32, bias=True)\n",
              "  (fc2): Linear(in_features=32, out_features=52, bias=True)\n",
              "  (relu): ReLU()\n",
              "  (softmax): Softmax(dim=1)\n",
              ")"
            ]
          },
          "metadata": {},
          "execution_count": 80
        }
      ]
    },
    {
      "cell_type": "markdown",
      "metadata": {
        "id": "KN6Fg_BsxJe6"
      },
      "source": [
        "## 4 - Predicción de próxima palabra"
      ]
    },
    {
      "cell_type": "code",
      "source": [
        "def predict_next_char(model, tokenizer, input_char, max_len=3):\n",
        "    \"\"\"\n",
        "    Predice la próxima palabra dada una frase de entrada.\n",
        "\n",
        "    Args:\n",
        "        model (torch.nn.Module): Modelo entrenado.\n",
        "        tokenizer (Tokenizer): Tokenizador ya ajustado.\n",
        "        input_text (str): Frase inicial.\n",
        "        max_len (int): Longitud máxima de entrada (usada en pad_sequences).\n",
        "\n",
        "    Returns:\n",
        "        str: Frase con la palabra predicha añadida.\n",
        "    \"\"\"\n",
        "    model.eval()\n",
        "    input_char = \" \".join(list(input_char.lower()))\n",
        "\n",
        "    # Tokenizar y preprocesar\n",
        "    encoded = tokenizer.texts_to_sequences([input_char])[0]\n",
        "    padded = pad_sequences([encoded], maxlen=max_len, padding='pre')\n",
        "    tensor = torch.from_numpy(padded.astype(np.int32)).to(device)\n",
        "\n",
        "    # Predecir\n",
        "    with torch.no_grad():\n",
        "        output = model(tensor)\n",
        "        predicted_idx = output.argmax(dim=-1).item()\n",
        "\n",
        "    predicted_word = None\n",
        "    for word, index in tokenizer.word_index.items():\n",
        "        if index == predicted_idx + 1:\n",
        "            predicted_word = word\n",
        "            break\n",
        "\n",
        "    predicted_word = predicted_word if predicted_word is not None else \"<UNK>\"\n",
        "\n",
        "    return input_char + \" \" + predicted_word\n"
      ],
      "metadata": {
        "id": "9xKLBpepaOji"
      },
      "execution_count": 89,
      "outputs": []
    },
    {
      "cell_type": "code",
      "source": [
        "input_text = \"brin\"\n",
        "output = predict_next_char(model1, tok, input_text)\n",
        "print(output)\n"
      ],
      "metadata": {
        "colab": {
          "base_uri": "https://localhost:8080/"
        },
        "id": "HYTtF-agaeW3",
        "outputId": "5375cd53-6dbd-4c81-d605-3fdd57f7ee25"
      },
      "execution_count": 91,
      "outputs": [
        {
          "output_type": "stream",
          "name": "stdout",
          "text": [
            "b r i n g\n"
          ]
        }
      ]
    },
    {
      "cell_type": "code",
      "source": [
        "input_text = \"hel\"\n",
        "output = predict_next_char(model1, tok, input_text)\n",
        "print(output)"
      ],
      "metadata": {
        "colab": {
          "base_uri": "https://localhost:8080/"
        },
        "id": "-Bygx3O0arG1",
        "outputId": "2d32270e-1998-48b4-d000-f355de87ede8"
      },
      "execution_count": 92,
      "outputs": [
        {
          "output_type": "stream",
          "name": "stdout",
          "text": [
            "h e l l\n"
          ]
        }
      ]
    },
    {
      "cell_type": "code",
      "source": [
        "input_text = \"i a\"\n",
        "output = predict_next_char(model1, tok, input_text)\n",
        "print(output)"
      ],
      "metadata": {
        "colab": {
          "base_uri": "https://localhost:8080/"
        },
        "id": "BU5iAbb1a6Ni",
        "outputId": "6c1215a9-360f-4b2a-a568-2e0aa50e3f1f"
      },
      "execution_count": 93,
      "outputs": [
        {
          "output_type": "stream",
          "name": "stdout",
          "text": [
            "i   a m\n"
          ]
        }
      ]
    },
    {
      "cell_type": "code",
      "source": [
        "input_text = \"ton\"\n",
        "output = predict_next_char(model1, tok, input_text)\n",
        "print(output)"
      ],
      "metadata": {
        "colab": {
          "base_uri": "https://localhost:8080/"
        },
        "id": "DZaQpChca9fk",
        "outputId": "b25bbb90-7536-4480-caef-b9acc99b8b90"
      },
      "execution_count": 94,
      "outputs": [
        {
          "output_type": "stream",
          "name": "stdout",
          "text": [
            "t o n e\n"
          ]
        }
      ]
    },
    {
      "cell_type": "markdown",
      "source": [
        "por alguna razon siempre predeci que la siguiente palabra es defeating. Por lo que el modelo no es el mejor."
      ],
      "metadata": {
        "id": "gkZZIVYIa_76"
      }
    },
    {
      "cell_type": "markdown",
      "metadata": {
        "id": "mCeMWWupxN1-"
      },
      "source": [
        "## 5 - Generación de secuencias nuevas"
      ]
    },
    {
      "cell_type": "code",
      "metadata": {
        "id": "bwbS_pfhxvB3"
      },
      "source": [
        "def generate_seq(model, tokenizer, seed_text, max_length, n_char):\n",
        "    \"\"\"\n",
        "        Exec model sequence prediction\n",
        "\n",
        "        Args:\n",
        "            model (keras): modelo entrenado\n",
        "            tokenizer (keras tokenizer): tonenizer utilizado en el preprocesamiento\n",
        "            seed_text (string): texto de entrada (input_seq)\n",
        "            max_length (int): máxima longitud de la sequencia de entrada\n",
        "            n_char (int): números de caracteres a agregar a la sequencia de entrada\n",
        "        returns:\n",
        "            output_text (string): sentencia con las \"n_char\" agregadas\n",
        "    \"\"\"\n",
        "    seed_text = \" \".join(list(seed_text.lower()))\n",
        "    output_text = seed_text\n",
        "\t# generate a fixed number of char\n",
        "    for _ in range(n_char):\n",
        "\t\t# Encodeamos\n",
        "        encoded = tokenizer.texts_to_sequences([output_text])[0]\n",
        "\t\t# Si tienen distinto largo\n",
        "        encoded = pad_sequences([encoded], maxlen=max_length, padding='pre')\n",
        "\n",
        "        # Transformo a tensor\n",
        "        tensor = torch.from_numpy(encoded.astype(np.int32)).to(device)\n",
        "        # Predicción softmax\n",
        "        y_hat = model1(tensor).argmax(axis=-1)\n",
        "\n",
        "\t\t# Vamos concatenando las predicciones\n",
        "        out_char = ''\n",
        "\n",
        "        # Debemos buscar en el vocabulario la palabra\n",
        "        # que corresopnde al indice (y_hat) predicho por le modelo\n",
        "        for char, index in tokenizer.word_index.items():\n",
        "            if index == y_hat:\n",
        "                out_char = char\n",
        "                break\n",
        "\n",
        "\t\t# Agrego las palabras a la frase predicha\n",
        "        output_text += ' ' + out_char\n",
        "    return output_text"
      ],
      "execution_count": 101,
      "outputs": []
    },
    {
      "cell_type": "code",
      "metadata": {
        "id": "JoFqRC5pxzqS",
        "colab": {
          "base_uri": "https://localhost:8080/",
          "height": 36
        },
        "outputId": "c3e89c63-df14-4769-ad6d-e77b818b683a"
      },
      "source": [
        "input_text='i a'\n",
        "\n",
        "generate_seq(model1, tok, input_text, max_length=3, n_char=2)"
      ],
      "execution_count": 103,
      "outputs": [
        {
          "output_type": "execute_result",
          "data": {
            "text/plain": [
              "'i   a w '"
            ],
            "application/vnd.google.colaboratory.intrinsic+json": {
              "type": "string"
            }
          },
          "metadata": {},
          "execution_count": 103
        }
      ]
    },
    {
      "cell_type": "markdown",
      "metadata": {
        "id": "T2SHmXbgxQH9"
      },
      "source": [
        "## 6 - Conclusiones\n",
        "El modelo entrenado tuvo un muy mail desempeño en el entrenamiento además de overfitting. Cuestiones que podrían mejorarse:\n",
        "- Agregar más capas o neuronaes\n",
        "- Incrementar la cantidad de épocas\n",
        "- Agregar BRNN\n",
        "\n",
        "Es importante destacar que en este ejemplo estamos entrenando nuestro propios Embeddings, y para ello se requiere mucha data. En los ejemplos que realizaremos de aquí en más utilizaremos más datos, embeddings pre-enternados o modelos pre-entrenados."
      ]
    },
    {
      "cell_type": "markdown",
      "source": [
        "Voy a aplicar las siguientes recomendaciones para ver si mejora el modelo:"
      ],
      "metadata": {
        "id": "5O3r6lWZWoDl"
      }
    },
    {
      "cell_type": "code",
      "source": [
        "class ModelBonus(Model1):\n",
        "    def __init__(self, vocab_size, output_dim):\n",
        "        super().__init__(vocab_size, output_dim)\n",
        "\n",
        "        self.bidirectional = True\n",
        "        self.embedding_dim = 5\n",
        "        self.lstm_size = 32\n",
        "        self.num_layers = 2\n",
        "        self.embedding = nn.Embedding(num_embeddings=vocab_size + 1,\n",
        "                                      embedding_dim=self.embedding_dim,\n",
        "                                      padding_idx=0)\n",
        "        self.lstm1 = nn.LSTM(input_size=self.embedding_dim,\n",
        "                             hidden_size=self.lstm_size,\n",
        "                             num_layers=self.num_layers,\n",
        "                             dropout=0.6,\n",
        "                             batch_first=True,\n",
        "                             bidirectional=self.bidirectional)\n",
        "\n",
        "        # Ajustamos los Linear para bidireccional\n",
        "        self.fc1 = nn.Linear(in_features=self.lstm_size * 2, out_features=32)\n",
        "        self.fc2 = nn.Linear(in_features=32, out_features=output_dim)\n",
        "\n",
        "        self.relu = nn.ReLU()\n",
        "\n",
        "    def forward(self, x, prev_state=None):\n",
        "        if prev_state is None:\n",
        "            batch_size = x.shape[0]\n",
        "            prev_state = self.init_hidden(batch_size)\n",
        "\n",
        "        out = self.embedding(x)\n",
        "        lstm_output, (ht, ct) = self.lstm1(out, prev_state)\n",
        "        out = self.relu(self.fc1(lstm_output[:, -1, :]))\n",
        "        out = self.fc2(out)  # sin softmax porque usamos CrossEntropy\n",
        "        return out\n",
        "\n",
        "    def init_hidden(self, batch_size):\n",
        "        num_directions = 2 if self.bidirectional else 1\n",
        "        return (\n",
        "            torch.zeros(self.num_layers * num_directions, batch_size, self.lstm_size).to(device),\n",
        "            torch.zeros(self.num_layers * num_directions, batch_size, self.lstm_size).to(device),\n",
        "        )\n"
      ],
      "metadata": {
        "id": "tM8QvgalVppk"
      },
      "execution_count": 104,
      "outputs": []
    },
    {
      "cell_type": "code",
      "source": [
        "model2 = ModelBonus(vocab_size=vocab_size, output_dim=output_dim)\n",
        "if cuda: model2.cuda()\n",
        "\n",
        "model2_optimizer = torch.optim.Adam(model2.parameters(), lr=0.001, weight_decay=1e-5)\n",
        "\n",
        "model2_criterion = torch.nn.CrossEntropyLoss()"
      ],
      "metadata": {
        "id": "j6Sbu7jrVtcA"
      },
      "execution_count": 105,
      "outputs": []
    },
    {
      "cell_type": "code",
      "source": [
        "model2 = model2.to(device)"
      ],
      "metadata": {
        "id": "sn0I1OFmV2DB"
      },
      "execution_count": 106,
      "outputs": []
    },
    {
      "cell_type": "code",
      "source": [
        "# Mostrar resumen del modelo\n",
        "summary(model2, input_data=input_tensor)"
      ],
      "metadata": {
        "colab": {
          "base_uri": "https://localhost:8080/"
        },
        "id": "Mf5wFFYYV7nM",
        "outputId": "6a0735bc-9f2a-4aba-fb33-fd1c86e3fa9c"
      },
      "execution_count": 107,
      "outputs": [
        {
          "output_type": "execute_result",
          "data": {
            "text/plain": [
              "==========================================================================================\n",
              "Layer (type:depth-idx)                   Output Shape              Param #\n",
              "==========================================================================================\n",
              "ModelBonus                               [1, 52]                   --\n",
              "├─Embedding: 1-1                         [1, 3, 5]                 265\n",
              "├─LSTM: 1-2                              [1, 3, 64]                35,072\n",
              "├─Linear: 1-3                            [1, 32]                   2,080\n",
              "├─ReLU: 1-4                              [1, 32]                   --\n",
              "├─Linear: 1-5                            [1, 52]                   1,716\n",
              "==========================================================================================\n",
              "Total params: 39,133\n",
              "Trainable params: 39,133\n",
              "Non-trainable params: 0\n",
              "Total mult-adds (Units.MEGABYTES): 0.11\n",
              "==========================================================================================\n",
              "Input size (MB): 0.00\n",
              "Forward/backward pass size (MB): 0.00\n",
              "Params size (MB): 0.16\n",
              "Estimated Total Size (MB): 0.16\n",
              "=========================================================================================="
            ]
          },
          "metadata": {},
          "execution_count": 107
        }
      ]
    },
    {
      "cell_type": "code",
      "source": [
        "history2 = train(model2,\n",
        "                train_loader,\n",
        "                valid_loader,\n",
        "                model2_optimizer,\n",
        "                model2_criterion,\n",
        "                epochs=30\n",
        "                )"
      ],
      "metadata": {
        "colab": {
          "base_uri": "https://localhost:8080/"
        },
        "id": "gfSUUCdqWHUu",
        "outputId": "0e7a48d2-1d1d-4eb7-b711-b6dfc2d21668"
      },
      "execution_count": 108,
      "outputs": [
        {
          "output_type": "stream",
          "name": "stdout",
          "text": [
            "Epoch: 1/30 - Train loss 2.839 - Train accuracy 0.191 - Valid Loss 2.665 - Valid accuracy 0.232\n",
            "Epoch: 2/30 - Train loss 2.612 - Train accuracy 0.245 - Valid Loss 2.568 - Valid accuracy 0.258\n",
            "Epoch: 3/30 - Train loss 2.520 - Train accuracy 0.269 - Valid Loss 2.513 - Valid accuracy 0.268\n",
            "Epoch: 4/30 - Train loss 2.460 - Train accuracy 0.283 - Valid Loss 2.467 - Valid accuracy 0.283\n",
            "Epoch: 5/30 - Train loss 2.418 - Train accuracy 0.293 - Valid Loss 2.441 - Valid accuracy 0.290\n",
            "Epoch: 6/30 - Train loss 2.386 - Train accuracy 0.304 - Valid Loss 2.418 - Valid accuracy 0.301\n",
            "Epoch: 7/30 - Train loss 2.361 - Train accuracy 0.310 - Valid Loss 2.407 - Valid accuracy 0.303\n",
            "Epoch: 8/30 - Train loss 2.343 - Train accuracy 0.315 - Valid Loss 2.393 - Valid accuracy 0.303\n",
            "Epoch: 9/30 - Train loss 2.326 - Train accuracy 0.320 - Valid Loss 2.373 - Valid accuracy 0.308\n",
            "Epoch: 10/30 - Train loss 2.313 - Train accuracy 0.323 - Valid Loss 2.369 - Valid accuracy 0.309\n",
            "Epoch: 11/30 - Train loss 2.301 - Train accuracy 0.325 - Valid Loss 2.362 - Valid accuracy 0.312\n",
            "Epoch: 12/30 - Train loss 2.290 - Train accuracy 0.330 - Valid Loss 2.353 - Valid accuracy 0.314\n",
            "Epoch: 13/30 - Train loss 2.284 - Train accuracy 0.330 - Valid Loss 2.353 - Valid accuracy 0.312\n",
            "Epoch: 14/30 - Train loss 2.275 - Train accuracy 0.333 - Valid Loss 2.341 - Valid accuracy 0.317\n",
            "Epoch: 15/30 - Train loss 2.268 - Train accuracy 0.335 - Valid Loss 2.338 - Valid accuracy 0.314\n",
            "Epoch: 16/30 - Train loss 2.265 - Train accuracy 0.337 - Valid Loss 2.346 - Valid accuracy 0.316\n",
            "Epoch: 17/30 - Train loss 2.258 - Train accuracy 0.338 - Valid Loss 2.329 - Valid accuracy 0.320\n",
            "Epoch: 18/30 - Train loss 2.253 - Train accuracy 0.339 - Valid Loss 2.326 - Valid accuracy 0.322\n",
            "Epoch: 19/30 - Train loss 2.249 - Train accuracy 0.340 - Valid Loss 2.328 - Valid accuracy 0.319\n",
            "Epoch: 20/30 - Train loss 2.245 - Train accuracy 0.341 - Valid Loss 2.327 - Valid accuracy 0.321\n",
            "Epoch: 21/30 - Train loss 2.242 - Train accuracy 0.343 - Valid Loss 2.321 - Valid accuracy 0.323\n",
            "Epoch: 22/30 - Train loss 2.236 - Train accuracy 0.344 - Valid Loss 2.318 - Valid accuracy 0.325\n",
            "Epoch: 23/30 - Train loss 2.232 - Train accuracy 0.344 - Valid Loss 2.314 - Valid accuracy 0.322\n",
            "Epoch: 24/30 - Train loss 2.230 - Train accuracy 0.346 - Valid Loss 2.312 - Valid accuracy 0.323\n",
            "Epoch: 25/30 - Train loss 2.225 - Train accuracy 0.348 - Valid Loss 2.307 - Valid accuracy 0.325\n",
            "Epoch: 26/30 - Train loss 2.225 - Train accuracy 0.347 - Valid Loss 2.310 - Valid accuracy 0.323\n",
            "Epoch: 27/30 - Train loss 2.219 - Train accuracy 0.349 - Valid Loss 2.305 - Valid accuracy 0.325\n",
            "Epoch: 28/30 - Train loss 2.216 - Train accuracy 0.349 - Valid Loss 2.309 - Valid accuracy 0.328\n",
            "Epoch: 29/30 - Train loss 2.215 - Train accuracy 0.349 - Valid Loss 2.303 - Valid accuracy 0.328\n",
            "Epoch: 30/30 - Train loss 2.214 - Train accuracy 0.350 - Valid Loss 2.297 - Valid accuracy 0.331\n"
          ]
        }
      ]
    },
    {
      "cell_type": "code",
      "source": [
        "epoch_count = range(1, len(history2['accuracy']) + 1)\n",
        "sns.lineplot(x=epoch_count,  y=history2['accuracy'], label='train')\n",
        "sns.lineplot(x=epoch_count,  y=history2['val_accuracy'], label='valid')\n",
        "plt.show()"
      ],
      "metadata": {
        "colab": {
          "base_uri": "https://localhost:8080/",
          "height": 430
        },
        "id": "z1ecx6QGWTrb",
        "outputId": "46df9e2d-a9a2-4268-e894-1f72717f488d"
      },
      "execution_count": 109,
      "outputs": [
        {
          "output_type": "display_data",
          "data": {
            "text/plain": [
              "<Figure size 640x480 with 1 Axes>"
            ],
            "image/png": "[encoded data removed]"
          },
          "metadata": {}
        }
      ]
    },
    {
      "cell_type": "code",
      "source": [
        "torch.save(model2.state_dict(), \"model2_weights.pth\")"
      ],
      "metadata": {
        "id": "1jUg8a0qWZd4"
      },
      "execution_count": 110,
      "outputs": []
    },
    {
      "cell_type": "code",
      "source": [
        "test_phrases = [\n",
        "    \"bri\",\n",
        "    \"hi\",\n",
        "    \"i a\",\n",
        "    \"ton\",\n",
        "    \"i a\",\n",
        "    \"we\",\n",
        "    \"i \",\n",
        "    \"ave\",\n",
        "    \"wha\",\n",
        "    \"you\",\n",
        "    \"i l\"\n",
        "]\n",
        "\n",
        "\n",
        "for text in test_phrases:\n",
        "    output = predict_next_char(model2, tok, text)\n",
        "    print(f\"Input:  {text}\")\n",
        "    print(f\"Output: {output}\")\n",
        "    print(\"-\" * 40)\n"
      ],
      "metadata": {
        "colab": {
          "base_uri": "https://localhost:8080/"
        },
        "id": "DFqRUl40bbO9",
        "outputId": "3b50e379-2c4e-46ec-9e6b-58db327ddae9"
      },
      "execution_count": 111,
      "outputs": [
        {
          "output_type": "stream",
          "name": "stdout",
          "text": [
            "Input:  bri\n",
            "Output: b r i n\n",
            "----------------------------------------\n",
            "Input:  hi\n",
            "Output: h i s\n",
            "----------------------------------------\n",
            "Input:  i a\n",
            "Output: i   a t\n",
            "----------------------------------------\n",
            "Input:  ton\n",
            "Output: t o n e\n",
            "----------------------------------------\n",
            "Input:  i a\n",
            "Output: i   a t\n",
            "----------------------------------------\n",
            "Input:  we\n",
            "Output: w e '\n",
            "----------------------------------------\n",
            "Input:  i \n",
            "Output: i   g\n",
            "----------------------------------------\n",
            "Input:  ave\n",
            "Output: a v e t\n",
            "----------------------------------------\n",
            "Input:  wha\n",
            "Output: w h a t\n",
            "----------------------------------------\n",
            "Input:  you\n",
            "Output: y o u '\n",
            "----------------------------------------\n",
            "Input:  i l\n",
            "Output: i   l l\n",
            "----------------------------------------\n"
          ]
        }
      ]
    },
    {
      "cell_type": "code",
      "source": [
        "for text in test_phrases:\n",
        "    output = predict_next_char(model1, tok, text)\n",
        "    print(f\"Input:  {text}\")\n",
        "    print(f\"Output: {output}\")\n",
        "    print(\"-\" * 40)\n"
      ],
      "metadata": {
        "colab": {
          "base_uri": "https://localhost:8080/"
        },
        "id": "RhdfMRpecOPS",
        "outputId": "6378bea8-642e-4f18-eecc-4df07c0714fa"
      },
      "execution_count": 112,
      "outputs": [
        {
          "output_type": "stream",
          "name": "stdout",
          "text": [
            "Input:  bri\n",
            "Output: b r i n\n",
            "----------------------------------------\n",
            "Input:  hi\n",
            "Output: h i m\n",
            "----------------------------------------\n",
            "Input:  i a\n",
            "Output: i   a m\n",
            "----------------------------------------\n",
            "Input:  ton\n",
            "Output: t o n e\n",
            "----------------------------------------\n",
            "Input:  i a\n",
            "Output: i   a m\n",
            "----------------------------------------\n",
            "Input:  we\n",
            "Output: w e '\n",
            "----------------------------------------\n",
            "Input:  i \n",
            "Output: i   d\n",
            "----------------------------------------\n",
            "Input:  ave\n",
            "Output: a v e t\n",
            "----------------------------------------\n",
            "Input:  wha\n",
            "Output: w h a t\n",
            "----------------------------------------\n",
            "Input:  you\n",
            "Output: y o u '\n",
            "----------------------------------------\n",
            "Input:  i l\n",
            "Output: i   l e\n",
            "----------------------------------------\n"
          ]
        }
      ]
    },
    {
      "cell_type": "markdown",
      "source": [
        "En conclusión, incorporar una LSTM bidireccional incrementó la capacidad del modelo y permitió una leve mejora en el rendimiento sobre el conjunto de entrenamiento. Sin embargo, el desempeño general sigue siendo limitado, evidenciando que el modelo continúa teniendo dificultades para generalizar. Esto indica que, si bien la bidireccionalidad aporta valor, la arquitectura actual sigue siendo insuficiente para capturar correctamente la complejidad del lenguaje en el dataset de avengers."
      ],
      "metadata": {
        "id": "sggCw6UocVXs"
      }
    }
  ]
}