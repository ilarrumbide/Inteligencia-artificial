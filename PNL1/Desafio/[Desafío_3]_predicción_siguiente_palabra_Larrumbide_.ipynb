{
  "nbformat": 4,
  "nbformat_minor": 0,
  "metadata": {
    "colab": {
      "provenance": [],
      "toc_visible": true,
      "gpuType": "T4"
    },
    "kernelspec": {
      "name": "python3",
      "display_name": "Python 3"
    },
    "language_info": {
      "name": "python"
    },
    "accelerator": "GPU"
  },
  "cells": [
    {
      "cell_type": "markdown",
      "metadata": {
        "id": "g3yeJGnCYxuF"
      },
      "source": [
        "<img src=\"https://github.com/hernancontigiani/ceia_memorias_especializacion/raw/master/Figures/logoFIUBA.jpg\" width=\"500\" align=\"center\">\n",
        "\n",
        "\n",
        "# Procesamiento de lenguaje natural\n",
        "## Predicción de próxima palabra"
      ]
    },
    {
      "cell_type": "markdown",
      "metadata": {
        "id": "Iv5PEwGzZA9-"
      },
      "source": [
        "### Objetivo\n",
        "El objetivo es utilizar documentos / corpus para crear embeddings de palabras basado en ese contexto utilizando la layer Embedding de Keras. Se utilizará esos embeddings junto con layers LSTM para predeccir la próxima posible palabra."
      ]
    },
    {
      "cell_type": "code",
      "source": [
        "!pip install numpy==1.24.4\n"
      ],
      "metadata": {
        "colab": {
          "base_uri": "https://localhost:8080/"
        },
        "id": "MPXysDKVCtKD",
        "outputId": "703b6ae7-27c4-404a-dc93-411cc4e5970a"
      },
      "execution_count": 1,
      "outputs": [
        {
          "output_type": "stream",
          "name": "stdout",
          "text": [
            "Requirement already satisfied: numpy==1.24.4 in /usr/local/lib/python3.11/dist-packages (1.24.4)\n"
          ]
        }
      ]
    },
    {
      "cell_type": "code",
      "metadata": {
        "id": "Y-QdFbHZYj7C"
      },
      "source": [
        "import random\n",
        "import io\n",
        "import pickle\n",
        "\n",
        "import numpy as np\n",
        "import pandas as pd\n",
        "import matplotlib.pyplot as plt\n",
        "import seaborn as sns\n",
        "\n",
        "import torch\n",
        "import torch.nn.functional as F\n",
        "import torch.nn as nn\n",
        "from torch.utils.data import Dataset, DataLoader"
      ],
      "execution_count": 2,
      "outputs": []
    },
    {
      "cell_type": "code",
      "source": [
        "cuda = torch.cuda.is_available()\n",
        "device = torch.device('cuda' if torch.cuda.is_available() else 'cpu')\n",
        "device"
      ],
      "metadata": {
        "id": "S32xZJt_ACQP",
        "colab": {
          "base_uri": "https://localhost:8080/"
        },
        "outputId": "34447bf6-2f19-4b19-ba58-187da7697879"
      },
      "execution_count": 3,
      "outputs": [
        {
          "output_type": "execute_result",
          "data": {
            "text/plain": [
              "device(type='cuda')"
            ]
          },
          "metadata": {},
          "execution_count": 3
        }
      ]
    },
    {
      "cell_type": "code",
      "source": [
        "# torchsummar actualmente tiene un problema con las LSTM, por eso\n",
        "# se utiliza torchinfo, un fork del proyecto original con el bug solucionado\n",
        "!pip3 install torchinfo\n",
        "from torchinfo import summary"
      ],
      "metadata": {
        "colab": {
          "base_uri": "https://localhost:8080/"
        },
        "id": "SzYQL2mV-_Rt",
        "outputId": "9e529060-55d9-4f5a-fbee-c8bae78b5b58"
      },
      "execution_count": 4,
      "outputs": [
        {
          "output_type": "stream",
          "name": "stdout",
          "text": [
            "Collecting torchinfo\n",
            "  Downloading torchinfo-1.8.0-py3-none-any.whl.metadata (21 kB)\n",
            "Downloading torchinfo-1.8.0-py3-none-any.whl (23 kB)\n",
            "Installing collected packages: torchinfo\n",
            "Successfully installed torchinfo-1.8.0\n"
          ]
        }
      ]
    },
    {
      "cell_type": "code",
      "source": [
        "import os\n",
        "import platform\n",
        "\n",
        "if os.access('torch_helpers.py', os.F_OK) is False:\n",
        "    if platform.system() == 'Windows':\n",
        "        !curl !wget https://raw.githubusercontent.com/FIUBA-Posgrado-Inteligencia-Artificial/procesamiento_lenguaje_natural/main/scripts/torch_helpers.py > torch_helpers.py\n",
        "    else:\n",
        "        !wget torch_helpers.py https://raw.githubusercontent.com/FIUBA-Posgrado-Inteligencia-Artificial/procesamiento_lenguaje_natural/main/scripts/torch_helpers.py"
      ],
      "metadata": {
        "colab": {
          "base_uri": "https://localhost:8080/"
        },
        "id": "XI7mSG6p_B0t",
        "outputId": "ccf3492b-612c-40f5-ff00-4784b2ade95f"
      },
      "execution_count": 5,
      "outputs": [
        {
          "output_type": "stream",
          "name": "stdout",
          "text": [
            "--2025-03-30 18:22:32--  http://torch_helpers.py/\n",
            "Resolving torch_helpers.py (torch_helpers.py)... failed: Name or service not known.\n",
            "wget: unable to resolve host address ‘torch_helpers.py’\n",
            "--2025-03-30 18:22:32--  https://raw.githubusercontent.com/FIUBA-Posgrado-Inteligencia-Artificial/procesamiento_lenguaje_natural/main/scripts/torch_helpers.py\n",
            "Resolving raw.githubusercontent.com (raw.githubusercontent.com)... 185.199.108.133, 185.199.109.133, 185.199.110.133, ...\n",
            "Connecting to raw.githubusercontent.com (raw.githubusercontent.com)|185.199.108.133|:443... connected.\n",
            "HTTP request sent, awaiting response... 200 OK\n",
            "Length: 23883 (23K) [text/plain]\n",
            "Saving to: ‘torch_helpers.py’\n",
            "\n",
            "torch_helpers.py    100%[===================>]  23.32K  --.-KB/s    in 0.002s  \n",
            "\n",
            "2025-03-30 18:22:33 (15.0 MB/s) - ‘torch_helpers.py’ saved [23883/23883]\n",
            "\n",
            "FINISHED --2025-03-30 18:22:33--\n",
            "Total wall clock time: 0.3s\n",
            "Downloaded: 1 files, 23K in 0.002s (15.0 MB/s)\n"
          ]
        }
      ]
    },
    {
      "cell_type": "code",
      "source": [
        "from torch_helpers import Tokenizer # tool de keras equivalente a ltokenizer de nltk\n",
        "from torch_helpers import text_to_word_sequence # tool de keras equivalente a word_teokenize de nltk\n",
        "from torch_helpers import pad_sequences # tool de keras qye se utilizará para padding\n",
        "\n",
        "# largo de la secuencia, incluye seq input + word output\n",
        "train_len = 4"
      ],
      "metadata": {
        "id": "sn0AWa0hSu9m"
      },
      "execution_count": null,
      "outputs": []
    },
    {
      "cell_type": "code",
      "source": [
        "from torch_helpers import categorical_acc\n",
        "\n",
        "def train(model, train_loader, valid_loader, optimizer, criterion, epochs=100):\n",
        "    # Defino listas para realizar graficas de los resultados\n",
        "    train_loss = []\n",
        "    train_accuracy = []\n",
        "    valid_loss = []\n",
        "    valid_accuracy = []\n",
        "\n",
        "    # Defino mi loop de entrenamiento\n",
        "\n",
        "    for epoch in range(epochs):\n",
        "\n",
        "        epoch_train_loss = 0.0\n",
        "        epoch_train_accuracy = 0.0\n",
        "\n",
        "        for train_data, train_target in train_loader:\n",
        "            # Seteo los gradientes en cero ya que, por defecto, PyTorch\n",
        "            # los va acumulando\n",
        "            optimizer.zero_grad()\n",
        "\n",
        "            output = model(train_data.to(device)).cpu()\n",
        "\n",
        "            # Computo el error de la salida comparando contra las etiquetas\n",
        "            loss = criterion(output, train_target)\n",
        "\n",
        "            # Almaceno el error del batch para luego tener el error promedio de la epoca\n",
        "            epoch_train_loss += loss.item()\n",
        "\n",
        "            # Computo el nuevo set de gradientes a lo largo de toda la red\n",
        "            loss.backward()\n",
        "\n",
        "            # Realizo el paso de optimizacion actualizando los parametros de toda la red\n",
        "            optimizer.step()\n",
        "\n",
        "            # Calculo el accuracy del batch\n",
        "            accuracy = categorical_acc(output, train_target)\n",
        "            # Almaceno el accuracy del batch para luego tener el accuracy promedio de la epoca\n",
        "            epoch_train_accuracy += accuracy.item()\n",
        "\n",
        "        # Calculo la media de error para la epoca de entrenamiento.\n",
        "        # La longitud de train_loader es igual a la cantidad de batches dentro de una epoca.\n",
        "        epoch_train_loss = epoch_train_loss / len(train_loader)\n",
        "        train_loss.append(epoch_train_loss)\n",
        "        epoch_train_accuracy = epoch_train_accuracy / len(train_loader)\n",
        "        train_accuracy.append(epoch_train_accuracy)\n",
        "\n",
        "        # Realizo el paso de validación computando error y accuracy, y\n",
        "        # almacenando los valores para imprimirlos y graficarlos\n",
        "        #valid_data, valid_target = iter(valid_loader).next() Version vieja\n",
        "        valid_data, valid_target = next(iter(valid_loader))\n",
        "\n",
        "        output = model(valid_data.to(device)).cpu()\n",
        "\n",
        "        epoch_valid_loss = criterion(output, valid_target).item()\n",
        "        valid_loss.append(epoch_valid_loss)\n",
        "\n",
        "        # Calculo el accuracy de la epoch\n",
        "        epoch_valid_accuracy = categorical_acc(output, valid_target).item()\n",
        "        valid_accuracy.append(epoch_valid_accuracy)\n",
        "\n",
        "        print(f\"Epoch: {epoch+1}/{epochs} - Train loss {epoch_train_loss:.3f} - Train accuracy {epoch_train_accuracy:.3f} - Valid Loss {epoch_valid_loss:.3f} - Valid accuracy {epoch_valid_accuracy:.3f}\")\n",
        "\n",
        "    history = {\n",
        "        \"loss\": train_loss,\n",
        "        \"accuracy\": train_accuracy,\n",
        "        \"val_loss\": valid_loss,\n",
        "        \"val_accuracy\": valid_accuracy,\n",
        "    }\n",
        "    return history"
      ],
      "metadata": {
        "id": "3QPapqTx_Lgt"
      },
      "execution_count": 6,
      "outputs": []
    },
    {
      "cell_type": "markdown",
      "metadata": {
        "id": "xTvXlEKQZdqx"
      },
      "source": [
        "### Datos\n",
        "Utilizaremos como dataset las peliculas de los avengers"
      ]
    },
    {
      "cell_type": "code",
      "metadata": {
        "id": "IkdPfrQJZdB5"
      },
      "source": [
        "def load_avengers_scripts(file_paths, movie_names):\n",
        "    data = []\n",
        "    for file_path, movie_name in zip(file_paths, movie_names):\n",
        "        with open(file_path, 'r', encoding='latin-1') as f:\n",
        "            lines = f.read().splitlines()\n",
        "            for line in lines:\n",
        "                if line.strip():\n",
        "                    data.append({\n",
        "                        \"texto\": line,\n",
        "\n",
        "                    })\n",
        "\n",
        "    df = pd.DataFrame(data, columns=[\"texto\"])\n",
        "    return df"
      ],
      "execution_count": 7,
      "outputs": []
    },
    {
      "cell_type": "code",
      "metadata": {
        "id": "6j-3nQ4lZjfb",
        "colab": {
          "base_uri": "https://localhost:8080/"
        },
        "outputId": "7712cd1f-f258-464b-d2b4-5db6256add48"
      },
      "source": [
        "file_paths = [\n",
        "        \"/content/Avengers.Age.of.Ultron.txt\",\n",
        "        \"/content/Avengers.Endgame.txt\",\n",
        "        \"/content/Avengers.Infinity.War.txt\",\n",
        "        \"/content/Avengers.txt\"\n",
        "    ]\n",
        "\n",
        "movie_names = [\n",
        "    \"Avengers: Age of Ultron\",\n",
        "    \"Avengers: Endgame\",\n",
        "    \"Avengers: Infinity War\",\n",
        "    \"The Avengers\"\n",
        "]\n",
        "\n",
        "df = load_avengers_scripts(file_paths, movie_names)\n",
        "\n",
        "print(df.head())\n",
        "print(f\"\\nTotal de líneas combinadas: {len(df)}\")"
      ],
      "execution_count": 8,
      "outputs": [
        {
          "output_type": "stream",
          "name": "stdout",
          "text": [
            "                                               texto\n",
            "0                                (DISTANT EXPLOSION)\n",
            "1  STRUCKER ON PA: Report to your stations immedi...\n",
            "2                               This is not a drill.\n",
            "3                               We are under attack!\n",
            "4                   (SOLDIERS SHOUTING INDISTINCTLY)\n",
            "\n",
            "Total de líneas combinadas: 7793\n"
          ]
        }
      ]
    },
    {
      "cell_type": "code",
      "metadata": {
        "id": "riT898QlZnmF",
        "colab": {
          "base_uri": "https://localhost:8080/"
        },
        "outputId": "7be8c312-c858-47ae-b290-bb37a365cd24"
      },
      "source": [
        "print(\"Cantidad de documentos:\", df.shape[0])"
      ],
      "execution_count": 9,
      "outputs": [
        {
          "output_type": "stream",
          "name": "stdout",
          "text": [
            "Cantidad de documentos: 7793\n"
          ]
        }
      ]
    },
    {
      "cell_type": "markdown",
      "metadata": {
        "id": "ohS5Tao1d2KB"
      },
      "source": [
        "## 1 - Preprocesamiento de datos"
      ]
    },
    {
      "cell_type": "markdown",
      "source": [
        "### Vistazo a las primeras filas"
      ],
      "metadata": {
        "id": "eRxkzHvyUUUA"
      }
    },
    {
      "cell_type": "code",
      "metadata": {
        "id": "63Z2-Se2t27r",
        "colab": {
          "base_uri": "https://localhost:8080/",
          "height": 554
        },
        "outputId": "0812bd0c-3fa3-41f2-b05d-a7e71a4bbc45"
      },
      "source": [
        "df.iloc[:15,0]"
      ],
      "execution_count": 24,
      "outputs": [
        {
          "output_type": "execute_result",
          "data": {
            "text/plain": [
              "0                                   (DISTANT EXPLOSION)\n",
              "1     STRUCKER ON PA: Report to your stations immedi...\n",
              "2                                  This is not a drill.\n",
              "3                                  We are under attack!\n",
              "4                      (SOLDIERS SHOUTING INDISTINCTLY)\n",
              "5                                  We are under attack!\n",
              "6                                              (GRUNTS)\n",
              "7                                         (POWERING UP)\n",
              "8                                               (YELLS)\n",
              "9                                            (GRUNTING)\n",
              "10                                          (SCREAMING)\n",
              "11                                            (ROARING)\n",
              "12                                  - Shit! - Language!\n",
              "13               Jarvis, what's the view from upstairs?\n",
              "14                      JARVIS: The central building is\n",
              "Name: texto, dtype: object"
            ],
            "text/html": [
              "<div>\n",
              "<style scoped>\n",
              "    .dataframe tbody tr th:only-of-type {\n",
              "        vertical-align: middle;\n",
              "    }\n",
              "\n",
              "    .dataframe tbody tr th {\n",
              "        vertical-align: top;\n",
              "    }\n",
              "\n",
              "    .dataframe thead th {\n",
              "        text-align: right;\n",
              "    }\n",
              "</style>\n",
              "<table border=\"1\" class=\"dataframe\">\n",
              "  <thead>\n",
              "    <tr style=\"text-align: right;\">\n",
              "      <th></th>\n",
              "      <th>texto</th>\n",
              "    </tr>\n",
              "  </thead>\n",
              "  <tbody>\n",
              "    <tr>\n",
              "      <th>0</th>\n",
              "      <td>(DISTANT EXPLOSION)</td>\n",
              "    </tr>\n",
              "    <tr>\n",
              "      <th>1</th>\n",
              "      <td>STRUCKER ON PA: Report to your stations immedi...</td>\n",
              "    </tr>\n",
              "    <tr>\n",
              "      <th>2</th>\n",
              "      <td>This is not a drill.</td>\n",
              "    </tr>\n",
              "    <tr>\n",
              "      <th>3</th>\n",
              "      <td>We are under attack!</td>\n",
              "    </tr>\n",
              "    <tr>\n",
              "      <th>4</th>\n",
              "      <td>(SOLDIERS SHOUTING INDISTINCTLY)</td>\n",
              "    </tr>\n",
              "    <tr>\n",
              "      <th>5</th>\n",
              "      <td>We are under attack!</td>\n",
              "    </tr>\n",
              "    <tr>\n",
              "      <th>6</th>\n",
              "      <td>(GRUNTS)</td>\n",
              "    </tr>\n",
              "    <tr>\n",
              "      <th>7</th>\n",
              "      <td>(POWERING UP)</td>\n",
              "    </tr>\n",
              "    <tr>\n",
              "      <th>8</th>\n",
              "      <td>(YELLS)</td>\n",
              "    </tr>\n",
              "    <tr>\n",
              "      <th>9</th>\n",
              "      <td>(GRUNTING)</td>\n",
              "    </tr>\n",
              "    <tr>\n",
              "      <th>10</th>\n",
              "      <td>(SCREAMING)</td>\n",
              "    </tr>\n",
              "    <tr>\n",
              "      <th>11</th>\n",
              "      <td>(ROARING)</td>\n",
              "    </tr>\n",
              "    <tr>\n",
              "      <th>12</th>\n",
              "      <td>- Shit! - Language!</td>\n",
              "    </tr>\n",
              "    <tr>\n",
              "      <th>13</th>\n",
              "      <td>Jarvis, what's the view from upstairs?</td>\n",
              "    </tr>\n",
              "    <tr>\n",
              "      <th>14</th>\n",
              "      <td>JARVIS: The central building is</td>\n",
              "    </tr>\n",
              "  </tbody>\n",
              "</table>\n",
              "</div><br><label><b>dtype:</b> object</label>"
            ]
          },
          "metadata": {},
          "execution_count": 24
        }
      ]
    },
    {
      "cell_type": "markdown",
      "source": [
        "### Concatenamos todos los rows en un solo valor"
      ],
      "metadata": {
        "id": "6ToBUiYAVOeX"
      }
    },
    {
      "cell_type": "code",
      "metadata": {
        "id": "kILsSoxTuHEr",
        "colab": {
          "base_uri": "https://localhost:8080/"
        },
        "outputId": "dfd512ce-0fa6-447d-c74f-62564782b04e"
      },
      "source": [
        "corpus = df.apply(lambda row: ' '.join(row.values.astype(str)), axis=0)[0]"
      ],
      "execution_count": 105,
      "outputs": [
        {
          "output_type": "stream",
          "name": "stderr",
          "text": [
            "<ipython-input-105-9eca7dd73672>:1: FutureWarning: Series.__getitem__ treating keys as positions is deprecated. In a future version, integer keys will always be treated as labels (consistent with DataFrame behavior). To access a value by position, use `ser.iloc[pos]`\n",
            "  corpus = df.apply(lambda row: ' '.join(row.values.astype(str)), axis=0)[0]\n"
          ]
        }
      ]
    },
    {
      "cell_type": "markdown",
      "source": [
        "### Transformar el corpus a tokens"
      ],
      "metadata": {
        "id": "6U8teCRGVRPJ"
      }
    },
    {
      "cell_type": "code",
      "metadata": {
        "id": "_KlsYd7_uOez",
        "colab": {
          "base_uri": "https://localhost:8080/"
        },
        "outputId": "21e98ff4-1cbe-4573-cdfb-23e6aa32b444"
      },
      "source": [
        "tokens=text_to_word_sequence(corpus)\n",
        "# Vistazo general de los primeros tokens\n",
        "tokens[:20]"
      ],
      "execution_count": 106,
      "outputs": [
        {
          "output_type": "execute_result",
          "data": {
            "text/plain": [
              "['distant',\n",
              " 'explosion',\n",
              " 'strucker',\n",
              " 'on',\n",
              " 'pa',\n",
              " 'report',\n",
              " 'to',\n",
              " 'your',\n",
              " 'stations',\n",
              " 'immediately',\n",
              " 'this',\n",
              " 'is',\n",
              " 'not',\n",
              " 'a',\n",
              " 'drill',\n",
              " 'we',\n",
              " 'are',\n",
              " 'under',\n",
              " 'attack',\n",
              " 'soldiers']"
            ]
          },
          "metadata": {},
          "execution_count": 106
        }
      ]
    },
    {
      "cell_type": "code",
      "metadata": {
        "id": "GlqpZSJOJ1xQ",
        "colab": {
          "base_uri": "https://localhost:8080/"
        },
        "outputId": "424f9c4c-6685-4ea9-bc89-1d127b096ad5"
      },
      "source": [
        "print(\"Cantidad de tokens en el corpus:\", len(tokens))"
      ],
      "execution_count": 27,
      "outputs": [
        {
          "output_type": "stream",
          "name": "stdout",
          "text": [
            "Cantidad de tokens en el corpus: 42244\n"
          ]
        }
      ]
    },
    {
      "cell_type": "code",
      "metadata": {
        "id": "RhQevOynuYk2"
      },
      "source": [
        "# Código para hacer el desfazaje de las palabras\n",
        "# según el train_len\n",
        "text_sequences = []\n",
        "for i in range(train_len, len(tokens)):\n",
        "  seq = tokens[i-train_len:i]\n",
        "  text_sequences.append(seq)"
      ],
      "execution_count": 28,
      "outputs": []
    },
    {
      "cell_type": "code",
      "metadata": {
        "id": "FU3FuqHSuhzq",
        "colab": {
          "base_uri": "https://localhost:8080/"
        },
        "outputId": "1a4ba88c-07ae-4292-cbe6-130775fd34e1"
      },
      "source": [
        "# Demos un vistazo a nuestros vectores para entrenar el modelo\n",
        "text_sequences[:20]"
      ],
      "execution_count": 29,
      "outputs": [
        {
          "output_type": "execute_result",
          "data": {
            "text/plain": [
              "[['distant', 'explosion', 'strucker', 'on'],\n",
              " ['explosion', 'strucker', 'on', 'pa'],\n",
              " ['strucker', 'on', 'pa', 'report'],\n",
              " ['on', 'pa', 'report', 'to'],\n",
              " ['pa', 'report', 'to', 'your'],\n",
              " ['report', 'to', 'your', 'stations'],\n",
              " ['to', 'your', 'stations', 'immediately'],\n",
              " ['your', 'stations', 'immediately', 'this'],\n",
              " ['stations', 'immediately', 'this', 'is'],\n",
              " ['immediately', 'this', 'is', 'not'],\n",
              " ['this', 'is', 'not', 'a'],\n",
              " ['is', 'not', 'a', 'drill'],\n",
              " ['not', 'a', 'drill', 'we'],\n",
              " ['a', 'drill', 'we', 'are'],\n",
              " ['drill', 'we', 'are', 'under'],\n",
              " ['we', 'are', 'under', 'attack'],\n",
              " ['are', 'under', 'attack', 'soldiers'],\n",
              " ['under', 'attack', 'soldiers', 'shouting'],\n",
              " ['attack', 'soldiers', 'shouting', 'indistinctly'],\n",
              " ['soldiers', 'shouting', 'indistinctly', 'we']]"
            ]
          },
          "metadata": {},
          "execution_count": 29
        }
      ]
    },
    {
      "cell_type": "markdown",
      "source": [
        "### Proceso de tokenizacion"
      ],
      "metadata": {
        "id": "1S0W3DzyVVpo"
      }
    },
    {
      "cell_type": "code",
      "metadata": {
        "id": "064N2jtLvHRg",
        "colab": {
          "base_uri": "https://localhost:8080/"
        },
        "outputId": "7eafc3dd-bb6f-4e9d-8da8-aea22cc1fce5"
      },
      "source": [
        "tok = Tokenizer()\n",
        "tok.fit_on_texts(text_sequences)\n",
        "\n",
        "# Convertimos las palabras a números\n",
        "# entran palabras -> salen números\n",
        "sequences = tok.texts_to_sequences(text_sequences)\n",
        "\n",
        "# Damos un vistazo\n",
        "sequences[:20]"
      ],
      "execution_count": 30,
      "outputs": [
        {
          "output_type": "execute_result",
          "data": {
            "text/plain": [
              "[[4589, 4588, 414, 14],\n",
              " [4588, 414, 14, 2224],\n",
              " [414, 14, 2224, 931],\n",
              " [14, 2224, 931, 4],\n",
              " [2224, 931, 4, 28],\n",
              " [931, 4, 28, 1140],\n",
              " [4, 28, 1140, 1141],\n",
              " [28, 1140, 1141, 12],\n",
              " [1140, 1141, 12, 8],\n",
              " [1141, 12, 8, 17],\n",
              " [12, 8, 17, 5],\n",
              " [8, 17, 5, 1142],\n",
              " [17, 5, 1142, 7],\n",
              " [5, 1142, 7, 21],\n",
              " [1142, 7, 21, 306],\n",
              " [7, 21, 306, 544],\n",
              " [21, 306, 544, 580],\n",
              " [306, 544, 580, 581],\n",
              " [544, 580, 581, 2225],\n",
              " [580, 581, 2225, 7]]"
            ]
          },
          "metadata": {},
          "execution_count": 30
        }
      ]
    },
    {
      "cell_type": "code",
      "metadata": {
        "id": "vwsvmvDKKXSP",
        "colab": {
          "base_uri": "https://localhost:8080/"
        },
        "outputId": "2af911b4-d4c9-4497-fb2a-71acea85cd1a"
      },
      "source": [
        "print(\"Cantidad de rows del dataset:\", len(sequences))"
      ],
      "execution_count": 31,
      "outputs": [
        {
          "output_type": "stream",
          "name": "stdout",
          "text": [
            "Cantidad de rows del dataset: 42240\n"
          ]
        }
      ]
    },
    {
      "cell_type": "markdown",
      "metadata": {
        "id": "QMVP4bj0vL2e"
      },
      "source": [
        "## 2 - Input y target"
      ]
    },
    {
      "cell_type": "code",
      "metadata": {
        "id": "e1vJTG65v4Qn",
        "colab": {
          "base_uri": "https://localhost:8080/"
        },
        "outputId": "571be17e-d86f-4ce6-9a8a-71a690338672"
      },
      "source": [
        "arr_sequences = np.array(sequences)\n",
        "x_data = arr_sequences[:,:-1]\n",
        "y_data_int = arr_sequences[:,-1]\n",
        "\n",
        "print(x_data.shape)\n",
        "print(y_data_int.shape)"
      ],
      "execution_count": 35,
      "outputs": [
        {
          "output_type": "stream",
          "name": "stdout",
          "text": [
            "(42240, 3)\n",
            "(42240,)\n"
          ]
        }
      ]
    },
    {
      "cell_type": "code",
      "metadata": {
        "id": "ln6kVWVlwBBs",
        "colab": {
          "base_uri": "https://localhost:8080/"
        },
        "outputId": "edfc67af-a370-4bbc-c9f4-ffedd4dcbe72"
      },
      "source": [
        "# Palabras del vocabulario\n",
        "tok.index_word"
      ],
      "execution_count": 108,
      "outputs": [
        {
          "output_type": "execute_result",
          "data": {
            "text/plain": [
              "{1: 'you',\n",
              " 2: 'the',\n",
              " 3: 'i',\n",
              " 4: 'to',\n",
              " 5: 'a',\n",
              " 6: 'it',\n",
              " 7: 'we',\n",
              " 8: 'is',\n",
              " 9: 'that',\n",
              " 10: 'of',\n",
              " 11: 'and',\n",
              " 12: 'this',\n",
              " 13: 'in',\n",
              " 14: 'on',\n",
              " 15: 'what',\n",
              " 16: 'me',\n",
              " 17: 'not',\n",
              " 18: 'no',\n",
              " 19: \"i'm\",\n",
              " 20: \"it's\",\n",
              " 21: 'are',\n",
              " 22: 'for',\n",
              " 23: 'have',\n",
              " 24: 'he',\n",
              " 25: 'know',\n",
              " 26: 'be',\n",
              " 27: 'all',\n",
              " 28: 'your',\n",
              " 29: 'do',\n",
              " 30: \"don't\",\n",
              " 31: 'my',\n",
              " 32: 'right',\n",
              " 33: 'but',\n",
              " 34: \"you're\",\n",
              " 35: 'was',\n",
              " 36: 'if',\n",
              " 37: 'get',\n",
              " 38: 'got',\n",
              " 39: 'so',\n",
              " 40: 'here',\n",
              " 41: 'out',\n",
              " 42: 'yeah',\n",
              " 43: 'up',\n",
              " 44: 'one',\n",
              " 45: 'can',\n",
              " 46: 'like',\n",
              " 47: 'with',\n",
              " 48: 'just',\n",
              " 49: 'time',\n",
              " 50: 'him',\n",
              " 51: 'go',\n",
              " 52: \"that's\",\n",
              " 53: 'there',\n",
              " 54: 'they',\n",
              " 55: 'gonna',\n",
              " 56: 'about',\n",
              " 57: 'now',\n",
              " 58: 'will',\n",
              " 59: 'stark',\n",
              " 60: 'did',\n",
              " 61: \"we're\",\n",
              " 62: \"he's\",\n",
              " 63: 'need',\n",
              " 64: 'back',\n",
              " 65: 'think',\n",
              " 66: 'okay',\n",
              " 67: 'how',\n",
              " 68: 'come',\n",
              " 69: 'at',\n",
              " 70: 'them',\n",
              " 71: 'well',\n",
              " 72: 'oh',\n",
              " 73: 'an',\n",
              " 74: 'our',\n",
              " 75: 'us',\n",
              " 76: 'going',\n",
              " 77: 'where',\n",
              " 78: 'want',\n",
              " 79: 'down',\n",
              " 80: 'as',\n",
              " 81: 'from',\n",
              " 82: 'his',\n",
              " 83: 'then',\n",
              " 84: \"didn't\",\n",
              " 85: 'could',\n",
              " 86: 'way',\n",
              " 87: \"can't\",\n",
              " 88: 'why',\n",
              " 89: 'hey',\n",
              " 90: 'see',\n",
              " 91: 'good',\n",
              " 92: 'been',\n",
              " 93: 'stone',\n",
              " 94: 'take',\n",
              " 95: 'thanos',\n",
              " 96: 'who',\n",
              " 97: 'would',\n",
              " 98: 'people',\n",
              " 99: 'were',\n",
              " 100: 'man',\n",
              " 101: 'look',\n",
              " 102: 'tell',\n",
              " 103: 'ultron',\n",
              " 104: 'when',\n",
              " 105: 'something',\n",
              " 106: 'or',\n",
              " 107: \"i'll\",\n",
              " 108: 'only',\n",
              " 109: 'am',\n",
              " 110: 'thing',\n",
              " 111: 'really',\n",
              " 112: 'yes',\n",
              " 113: 'had',\n",
              " 114: 'off',\n",
              " 115: 'stones',\n",
              " 116: \"there's\",\n",
              " 117: 'more',\n",
              " 118: 'never',\n",
              " 119: 'has',\n",
              " 120: \"what's\",\n",
              " 121: 'little',\n",
              " 122: 'guys',\n",
              " 123: 'even',\n",
              " 124: 'say',\n",
              " 125: \"i've\",\n",
              " 126: 'stop',\n",
              " 127: 'should',\n",
              " 128: 'sorry',\n",
              " 129: 'thor',\n",
              " 130: 'her',\n",
              " 131: 'some',\n",
              " 132: 'too',\n",
              " 133: 'please',\n",
              " 134: 'still',\n",
              " 135: 'find',\n",
              " 136: 'world',\n",
              " 137: 'because',\n",
              " 138: 'make',\n",
              " 139: 'sir',\n",
              " 140: \"they're\",\n",
              " 141: 'power',\n",
              " 142: 'guy',\n",
              " 143: 'let',\n",
              " 144: 'life',\n",
              " 145: 'jarvis',\n",
              " 146: 'give',\n",
              " 147: 'than',\n",
              " 148: 'loki',\n",
              " 149: \"let's\",\n",
              " 150: 'banner',\n",
              " 151: \"isn't\",\n",
              " 152: 'very',\n",
              " 153: 'everything',\n",
              " 154: 'tony',\n",
              " 155: 'god',\n",
              " 156: 'coming',\n",
              " 157: 'put',\n",
              " 158: 'these',\n",
              " 159: 'better',\n",
              " 160: 'she',\n",
              " 161: 'doing',\n",
              " 162: 'long',\n",
              " 163: 'mean',\n",
              " 164: 'barton',\n",
              " 165: 'two',\n",
              " 166: 'help',\n",
              " 167: 'might',\n",
              " 168: 'other',\n",
              " 169: 'lost',\n",
              " 170: 'lot',\n",
              " 171: 'nothing',\n",
              " 172: 'kill',\n",
              " 173: 'by',\n",
              " 174: 'work',\n",
              " 175: 'thought',\n",
              " 176: 'maybe',\n",
              " 177: 'does',\n",
              " 178: 'tesseract',\n",
              " 179: 'wait',\n",
              " 180: 'cap',\n",
              " 181: 'avengers',\n",
              " 182: 'over',\n",
              " 183: 'call',\n",
              " 184: 'made',\n",
              " 185: 'much',\n",
              " 186: 'years',\n",
              " 187: 'bring',\n",
              " 188: 'any',\n",
              " 189: 'wanna',\n",
              " 190: 'before',\n",
              " 191: \"doesn't\",\n",
              " 192: 'things',\n",
              " 193: 'thank',\n",
              " 194: 'new',\n",
              " 195: 'sure',\n",
              " 196: 'every',\n",
              " 197: 'keep',\n",
              " 198: 'said',\n",
              " 199: 'romanoff',\n",
              " 200: 'ever',\n",
              " 201: 'again',\n",
              " 202: 'trying',\n",
              " 203: \"you've\",\n",
              " 204: 'move',\n",
              " 205: 'anything',\n",
              " 206: 'through',\n",
              " 207: 'rogers',\n",
              " 208: 'uh',\n",
              " 209: 'everyone',\n",
              " 210: \"she's\",\n",
              " 211: 'mr',\n",
              " 212: 'after',\n",
              " 213: 'away',\n",
              " 214: 'talk',\n",
              " 215: 'big',\n",
              " 216: 'hulk',\n",
              " 217: 'around',\n",
              " 218: 'captain',\n",
              " 219: 'end',\n",
              " 220: 'plan',\n",
              " 221: 'doctor',\n",
              " 222: 'mind',\n",
              " 223: 'earth',\n",
              " 224: 'kind',\n",
              " 225: 'd',\n",
              " 226: \"won't\",\n",
              " 227: 'three',\n",
              " 228: 'groans',\n",
              " 229: 'into',\n",
              " 230: 'seen',\n",
              " 231: 's',\n",
              " 232: 'h',\n",
              " 233: 'e',\n",
              " 234: 'love',\n",
              " 235: 'team',\n",
              " 236: 'fight',\n",
              " 237: 'done',\n",
              " 238: 'first',\n",
              " 239: 'stay',\n",
              " 240: 'feel',\n",
              " 241: 'last',\n",
              " 242: 'else',\n",
              " 243: 'gotta',\n",
              " 244: 'looking',\n",
              " 245: 'place',\n",
              " 246: 'yet',\n",
              " 247: 'space',\n",
              " 248: \"i'd\",\n",
              " 249: 'which',\n",
              " 250: 'vision',\n",
              " 251: 'universe',\n",
              " 252: 'home',\n",
              " 253: 'great',\n",
              " 254: 'exactly',\n",
              " 255: 'old',\n",
              " 256: 'fury',\n",
              " 257: 'hold',\n",
              " 258: 'dead',\n",
              " 259: 'war',\n",
              " 260: 'planet',\n",
              " 261: 'always',\n",
              " 262: 'those',\n",
              " 263: 'try',\n",
              " 264: 'grunting',\n",
              " 265: \"we've\",\n",
              " 266: 'may',\n",
              " 267: 'close',\n",
              " 268: 'dr',\n",
              " 269: 'their',\n",
              " 270: 'bad',\n",
              " 271: 'l',\n",
              " 272: 'knows',\n",
              " 273: 'together',\n",
              " 274: 'hell',\n",
              " 275: 'grunts',\n",
              " 276: 'second',\n",
              " 277: 'pretty',\n",
              " 278: 'hope',\n",
              " 279: 'job',\n",
              " 280: 'lose',\n",
              " 281: 'point',\n",
              " 282: 'screaming',\n",
              " 283: 'hit',\n",
              " 284: 'left',\n",
              " 285: \"you'll\",\n",
              " 286: 'asgard',\n",
              " 287: 'fine',\n",
              " 288: 'miss',\n",
              " 289: 'wrong',\n",
              " 290: 'killed',\n",
              " 291: 'turn',\n",
              " 292: 'understand',\n",
              " 293: 'remember',\n",
              " 294: 'head',\n",
              " 295: 'six',\n",
              " 296: 'its',\n",
              " 297: 'friday',\n",
              " 298: 'both',\n",
              " 299: \"wasn't\",\n",
              " 300: 'course',\n",
              " 301: 'nice',\n",
              " 302: 'enough',\n",
              " 303: \"we'll\",\n",
              " 304: 'another',\n",
              " 305: 'wants',\n",
              " 306: 'under',\n",
              " 307: 'energy',\n",
              " 308: 'city',\n",
              " 309: 'gone',\n",
              " 310: \"where's\",\n",
              " 311: 'best',\n",
              " 312: 'word',\n",
              " 313: 'own',\n",
              " 314: 'bruce',\n",
              " 315: 'suit',\n",
              " 316: 'kid',\n",
              " 317: 'father',\n",
              " 318: 'panting',\n",
              " 319: 'agent',\n",
              " 320: 'nat',\n",
              " 321: 'die',\n",
              " 322: 'ask',\n",
              " 323: 'rest',\n",
              " 324: 'men',\n",
              " 325: 'ready',\n",
              " 326: 'real',\n",
              " 327: 'getting',\n",
              " 328: 'natasha',\n",
              " 329: 'means',\n",
              " 330: 'day',\n",
              " 331: 'already',\n",
              " 332: \"who's\",\n",
              " 333: 'being',\n",
              " 334: 'though',\n",
              " 335: 'told',\n",
              " 336: 'scott',\n",
              " 337: 'soul',\n",
              " 338: 'groaning',\n",
              " 339: 'show',\n",
              " 340: 'many',\n",
              " 341: 'hear',\n",
              " 342: 'used',\n",
              " 343: 'few',\n",
              " 344: 'actually',\n",
              " 345: 'run',\n",
              " 346: 'called',\n",
              " 347: 'damn',\n",
              " 348: 'supposed',\n",
              " 349: 'future',\n",
              " 350: 'chance',\n",
              " 351: 'ago',\n",
              " 352: 'ship',\n",
              " 353: 'daughter',\n",
              " 354: 'half',\n",
              " 355: 'inside',\n",
              " 356: 'eyes',\n",
              " 357: 'green',\n",
              " 358: 'once',\n",
              " 359: 'protect',\n",
              " 360: 'next',\n",
              " 361: 'anyone',\n",
              " 362: 'saw',\n",
              " 363: 'case',\n",
              " 364: 'peace',\n",
              " 365: 'working',\n",
              " 366: 'wanted',\n",
              " 367: 'clear',\n",
              " 368: 'control',\n",
              " 369: 'everybody',\n",
              " 370: 'hi',\n",
              " 371: 'leave',\n",
              " 372: 'quill',\n",
              " 373: 'cube',\n",
              " 374: 'sceptre',\n",
              " 375: 'without',\n",
              " 376: 'room',\n",
              " 377: 'thanks',\n",
              " 378: 'safe',\n",
              " 379: 'probably',\n",
              " 380: 'buddy',\n",
              " 381: 'yourself',\n",
              " 382: 'shut',\n",
              " 383: 'whole',\n",
              " 384: 'save',\n",
              " 385: 'open',\n",
              " 386: \"wouldn't\",\n",
              " 387: 'someone',\n",
              " 388: 'came',\n",
              " 389: 'talking',\n",
              " 390: 'stand',\n",
              " 391: 'until',\n",
              " 392: 'eye',\n",
              " 393: 'brother',\n",
              " 394: 'five',\n",
              " 395: 'groot',\n",
              " 396: 'gamora',\n",
              " 397: 'send',\n",
              " 398: 'clint',\n",
              " 399: 'copy',\n",
              " 400: 'wanda',\n",
              " 401: 'drop',\n",
              " 402: 'seems',\n",
              " 403: 'whatever',\n",
              " 404: 'each',\n",
              " 405: 'makes',\n",
              " 406: 'start',\n",
              " 407: 'took',\n",
              " 408: 'idea',\n",
              " 409: 'part',\n",
              " 410: 'gets',\n",
              " 411: 'found',\n",
              " 412: 'hands',\n",
              " 413: 'reality',\n",
              " 414: 'strucker',\n",
              " 415: 'roaring',\n",
              " 416: 'building',\n",
              " 417: \"loki's\",\n",
              " 418: 'deal',\n",
              " 419: 'fire',\n",
              " 420: 'hill',\n",
              " 421: 'days',\n",
              " 422: 'boss',\n",
              " 423: 'alive',\n",
              " 424: 'believe',\n",
              " 425: 'meet',\n",
              " 426: 'guess',\n",
              " 427: 'needs',\n",
              " 428: 'mission',\n",
              " 429: 'change',\n",
              " 430: 'use',\n",
              " 431: 'went',\n",
              " 432: 'side',\n",
              " 433: 'face',\n",
              " 434: 'director',\n",
              " 435: 'same',\n",
              " 436: \"aren't\",\n",
              " 437: 'alone',\n",
              " 438: 'saying',\n",
              " 439: \"'em\",\n",
              " 440: 'works',\n",
              " 441: 'hammer',\n",
              " 442: 'quantum',\n",
              " 443: 'name',\n",
              " 444: 'must',\n",
              " 445: 'sighs',\n",
              " 446: 'far',\n",
              " 447: 'soon',\n",
              " 448: 'gasps',\n",
              " 449: \"haven't\",\n",
              " 450: 'human',\n",
              " 451: 'saved',\n",
              " 452: 'full',\n",
              " 453: 'while',\n",
              " 454: 'person',\n",
              " 455: 'pull',\n",
              " 456: 'dream',\n",
              " 457: 'army',\n",
              " 458: 'hard',\n",
              " 459: 'asked',\n",
              " 460: 'wake',\n",
              " 461: 'listen',\n",
              " 462: 'running',\n",
              " 463: \"you'd\",\n",
              " 464: 'play',\n",
              " 465: 'become',\n",
              " 466: 'blow',\n",
              " 467: 'engine',\n",
              " 468: 'infinity',\n",
              " 469: 'today',\n",
              " 470: 'mother',\n",
              " 471: 'soldier',\n",
              " 472: 'sent',\n",
              " 473: 'friend',\n",
              " 474: 'trust',\n",
              " 475: 'cho',\n",
              " 476: 'set',\n",
              " 477: 'minutes',\n",
              " 478: 'line',\n",
              " 479: 'past',\n",
              " 480: 'having',\n",
              " 481: 'machine',\n",
              " 482: 'potts',\n",
              " 483: 'missed',\n",
              " 484: 'crazy',\n",
              " 485: 'friends',\n",
              " 486: \"he'll\",\n",
              " 487: 'win',\n",
              " 488: 'against',\n",
              " 489: 'huh',\n",
              " 490: 'steve',\n",
              " 491: 'king',\n",
              " 492: 'ass',\n",
              " 493: 'york',\n",
              " 494: 'care',\n",
              " 495: 'son',\n",
              " 496: 'happened',\n",
              " 497: 'somewhere',\n",
              " 498: 'weapon',\n",
              " 499: 'won',\n",
              " 500: \"'cause\",\n",
              " 501: \"shouldn't\",\n",
              " 502: 'mom',\n",
              " 503: 'strange',\n",
              " 504: \"couldn't\",\n",
              " 505: 'gave',\n",
              " 506: 'looks',\n",
              " 507: 'monster',\n",
              " 508: 'most',\n",
              " 509: 'mmm',\n",
              " 510: 'meant',\n",
              " 511: 'moment',\n",
              " 512: 'indistinct',\n",
              " 513: 'story',\n",
              " 514: 'excuse',\n",
              " 515: 'happy',\n",
              " 516: 'laughing',\n",
              " 517: '1',\n",
              " 518: 'different',\n",
              " 519: 'making',\n",
              " 520: 'self',\n",
              " 521: 'create',\n",
              " 522: 'break',\n",
              " 523: 'happen',\n",
              " 524: 'hand',\n",
              " 525: 'night',\n",
              " 526: 'problem',\n",
              " 527: 'bit',\n",
              " 528: 'selvig',\n",
              " 529: 'promise',\n",
              " 530: 'magic',\n",
              " 531: 'level',\n",
              " 532: \"they'll\",\n",
              " 533: 'shot',\n",
              " 534: 'angry',\n",
              " 535: 'none',\n",
              " 536: 'light',\n",
              " 537: 'baby',\n",
              " 538: 'portal',\n",
              " 539: 'telling',\n",
              " 540: 'either',\n",
              " 541: 'travel',\n",
              " 542: 'drax',\n",
              " 543: '0',\n",
              " 544: 'attack',\n",
              " 545: 'shit',\n",
              " 546: 'fact',\n",
              " 547: 'worry',\n",
              " 548: 'iron',\n",
              " 549: 'tower',\n",
              " 550: 'air',\n",
              " 551: 'secret',\n",
              " 552: 'door',\n",
              " 553: 'low',\n",
              " 554: 'playing',\n",
              " 555: 'goes',\n",
              " 556: 'couple',\n",
              " 557: 'expect',\n",
              " 558: 'fly',\n",
              " 559: \"world's\",\n",
              " 560: 'hmm',\n",
              " 561: 'known',\n",
              " 562: 'girl',\n",
              " 563: 'question',\n",
              " 564: 'needed',\n",
              " 565: 'apart',\n",
              " 566: 'hurt',\n",
              " 567: 'vibranium',\n",
              " 568: '2',\n",
              " 569: 'hours',\n",
              " 570: 'incoming',\n",
              " 571: 'dad',\n",
              " 572: 'dark',\n",
              " 573: 'easy',\n",
              " 574: 'pain',\n",
              " 575: 'slow',\n",
              " 576: 'myself',\n",
              " 577: 'seriously',\n",
              " 578: 'gamma',\n",
              " 579: 'takes',\n",
              " 580: 'soldiers',\n",
              " 581: 'shouting',\n",
              " 582: 'powering',\n",
              " 583: 'boys',\n",
              " 584: 'order',\n",
              " 585: 'taking',\n",
              " 586: 'field',\n",
              " 587: 'somebody',\n",
              " 588: 'source',\n",
              " 589: 'growling',\n",
              " 590: 'worked',\n",
              " 591: 'since',\n",
              " 592: 'cool',\n",
              " 593: 'pietro',\n",
              " 594: 'terrible',\n",
              " 595: 'cradle',\n",
              " 596: 'live',\n",
              " 597: 'metal',\n",
              " 598: 'intelligence',\n",
              " 599: 'sounds',\n",
              " 600: 'jane',\n",
              " 601: '000',\n",
              " 602: 'anybody',\n",
              " 603: 'comes',\n",
              " 604: 'waiting',\n",
              " 605: 'ahead',\n",
              " 606: 'whoa',\n",
              " 607: 'funny',\n",
              " 608: 'heard',\n",
              " 609: 'standing',\n",
              " 610: \"ultron's\",\n",
              " 611: 'knew',\n",
              " 612: 'children',\n",
              " 613: 'chuckles',\n",
              " 614: 'game',\n",
              " 615: 'wakanda',\n",
              " 616: 'afraid',\n",
              " 617: 'charge',\n",
              " 618: 'rock',\n",
              " 619: 'nobody',\n",
              " 620: 'fail',\n",
              " 621: 'pal',\n",
              " 622: 'lila',\n",
              " 623: 'met',\n",
              " 624: 'water',\n",
              " 625: 'assume',\n",
              " 626: 'red',\n",
              " 627: 'rabbit',\n",
              " 628: 'yours',\n",
              " 629: 'realm',\n",
              " 630: 'destroy',\n",
              " 631: 'minute',\n",
              " 632: 'lives',\n",
              " 633: 'fun',\n",
              " 634: 'family',\n",
              " 635: 'front',\n",
              " 636: 'wow',\n",
              " 637: 'idiot',\n",
              " 638: 'nebula',\n",
              " 639: 'speak',\n",
              " 640: 'dude',\n",
              " 641: 'sam',\n",
              " 642: \"strucker's\",\n",
              " 643: 'ones',\n",
              " 644: 'wish',\n",
              " 645: 'weapons',\n",
              " 646: 'below',\n",
              " 647: 'secure',\n",
              " 648: 'beat',\n",
              " 649: 'code',\n",
              " 650: 'screams',\n",
              " 651: 'lab',\n",
              " 652: 'speaking',\n",
              " 653: 'pay',\n",
              " 654: 'history',\n",
              " 655: 'weird',\n",
              " 656: 'beeping',\n",
              " 657: \"how's\",\n",
              " 658: 'brought',\n",
              " 659: 'started',\n",
              " 660: 'business',\n",
              " 661: 'beautiful',\n",
              " 662: 'access',\n",
              " 663: 'feet',\n",
              " 664: 'boom',\n",
              " 665: 'built',\n",
              " 666: 'rhodes',\n",
              " 667: 'high',\n",
              " 668: 'rhodey',\n",
              " 669: 'free',\n",
              " 670: 'codes',\n",
              " 671: 'sense',\n",
              " 672: \"weren't\",\n",
              " 673: 'fear',\n",
              " 674: 'picture',\n",
              " 675: 'bed',\n",
              " 676: 'tear',\n",
              " 677: 'less',\n",
              " 678: 'heat',\n",
              " 679: 'heart',\n",
              " 680: 'times',\n",
              " 681: 'tried',\n",
              " 682: '3',\n",
              " 683: 'honey',\n",
              " 684: 'kids',\n",
              " 685: 'living',\n",
              " 686: 'threat',\n",
              " 687: 'matter',\n",
              " 688: 'killing',\n",
              " 689: 'nick',\n",
              " 690: 'changed',\n",
              " 691: 'humans',\n",
              " 692: 'simple',\n",
              " 693: 'clean',\n",
              " 694: 'cannot',\n",
              " 695: 'blood',\n",
              " 696: 'tomorrow',\n",
              " 697: 'true',\n",
              " 698: 'fall',\n",
              " 699: 'step',\n",
              " 700: 'worse',\n",
              " 701: 'death',\n",
              " 702: 'fingers',\n",
              " 703: '7',\n",
              " 704: 'happening',\n",
              " 705: 'force',\n",
              " 706: 'ant',\n",
              " 707: 'careful',\n",
              " 708: 'ya',\n",
              " 709: 'trip',\n",
              " 710: 'least',\n",
              " 711: 'swear',\n",
              " 712: 'boy',\n",
              " 713: 'lightning',\n",
              " 714: 'asgardian',\n",
              " 715: 'knowhere',\n",
              " 716: 'phase',\n",
              " 717: 'coulson',\n",
              " 718: 'language',\n",
              " 719: 'beyond',\n",
              " 720: 'perimeter',\n",
              " 721: 'greatest',\n",
              " 722: 'test',\n",
              " 723: 'jet',\n",
              " 724: 'files',\n",
              " 725: 'number',\n",
              " 726: 'engage',\n",
              " 727: \"would've\",\n",
              " 728: 'memory',\n",
              " 729: 'sometimes',\n",
              " 730: '10',\n",
              " 731: 'special',\n",
              " 732: 'everywhere',\n",
              " 733: 'says',\n",
              " 734: 'pepper',\n",
              " 735: 'thinking',\n",
              " 736: 'helped',\n",
              " 737: 'worst',\n",
              " 738: 'roll',\n",
              " 739: 'armour',\n",
              " 740: 'hello',\n",
              " 741: 'designed',\n",
              " 742: 'certain',\n",
              " 743: 'body',\n",
              " 744: 'form',\n",
              " 745: 'ms',\n",
              " 746: 'um',\n",
              " 747: 'sound',\n",
              " 748: 'tough',\n",
              " 749: 'neither',\n",
              " 750: 'also',\n",
              " 751: 'huge',\n",
              " 752: 'scoffs',\n",
              " 753: 'worthy',\n",
              " 754: 'bet',\n",
              " 755: 'strings',\n",
              " 756: 'path',\n",
              " 757: 'nuclear',\n",
              " 758: '100',\n",
              " 759: 'himself',\n",
              " 760: \"stark's\",\n",
              " 761: 'four',\n",
              " 762: 'floor',\n",
              " 763: 'brain',\n",
              " 764: 'build',\n",
              " 765: 'worth',\n",
              " 766: 'clearly',\n",
              " 767: 'walk',\n",
              " 768: 'america',\n",
              " 769: 'finish',\n",
              " 770: 'heavy',\n",
              " 771: 'sleep',\n",
              " 772: 'elevator',\n",
              " 773: 'hide',\n",
              " 774: 'laura',\n",
              " 775: 'mess',\n",
              " 776: 'hot',\n",
              " 777: 'hoping',\n",
              " 778: 'heroes',\n",
              " 779: 'between',\n",
              " 780: 'bridge',\n",
              " 781: 'definitely',\n",
              " 782: 'saving',\n",
              " 783: 'stuff',\n",
              " 784: 'fault',\n",
              " 785: 'flying',\n",
              " 786: 'touch',\n",
              " 787: 'born',\n",
              " 788: 'trouble',\n",
              " 789: 'ice',\n",
              " 790: 'weeks',\n",
              " 791: 'hang',\n",
              " 792: 'late',\n",
              " 793: 'sit',\n",
              " 794: 'asking',\n",
              " 795: \"hasn't\",\n",
              " 796: 'seeing',\n",
              " 797: 'luck',\n",
              " 798: 'heist',\n",
              " 799: 'wipe',\n",
              " 800: 'star',\n",
              " 801: 'mine',\n",
              " 802: 'vormir',\n",
              " 803: 'sister',\n",
              " 804: 'giving',\n",
              " 805: 'breathe',\n",
              " 806: 'tree',\n",
              " 807: 'peter',\n",
              " 808: 'titan',\n",
              " 809: \"guy's\",\n",
              " 810: 'phil',\n",
              " 811: 'hydra',\n",
              " 812: 'weak',\n",
              " 813: 'list',\n",
              " 814: 'unsafe',\n",
              " 815: 'surrender',\n",
              " 816: 'enhanced',\n",
              " 817: 'watch',\n",
              " 818: 'quick',\n",
              " 819: 'reading',\n",
              " 820: 'faster',\n",
              " 821: 'bigger',\n",
              " 822: 'prize',\n",
              " 823: 'expecting',\n",
              " 824: 'feels',\n",
              " 825: 'party',\n",
              " 826: 'chitauri',\n",
              " 827: 'shell',\n",
              " 828: 'powerful',\n",
              " 829: 'reactor',\n",
              " 830: 'gem',\n",
              " 831: 'deep',\n",
              " 832: 'artificial',\n",
              " 833: 'key',\n",
              " 834: 'hate',\n",
              " 835: 'program',\n",
              " 836: 'imagine',\n",
              " 837: 'hostile',\n",
              " 838: 'chatter',\n",
              " 839: 'tech',\n",
              " 840: 'absolutely',\n",
              " 841: 'leads',\n",
              " 842: 'ah',\n",
              " 843: 'shall',\n",
              " 844: 'extinction',\n",
              " 845: 'words',\n",
              " 846: 'headed',\n",
              " 847: 'later',\n",
              " 848: \"everyone's\",\n",
              " 849: 'dinner',\n",
              " 850: 'starts',\n",
              " 851: \"ma'am\",\n",
              " 852: 'message',\n",
              " 853: 'throw',\n",
              " 854: 'glad',\n",
              " 855: 'swing',\n",
              " 856: 'backup',\n",
              " 857: 'approaching',\n",
              " 858: 'house',\n",
              " 859: 'names',\n",
              " 860: 'totally',\n",
              " 861: 'woman',\n",
              " 862: 'seem',\n",
              " 863: \"should've\",\n",
              " 864: 'nope',\n",
              " 865: 'within',\n",
              " 866: 'return',\n",
              " 867: 'read',\n",
              " 868: 'above',\n",
              " 869: 'match',\n",
              " 870: 'heading',\n",
              " 871: 'package',\n",
              " 872: 'outside',\n",
              " 873: 'spy',\n",
              " 874: 'destroyed',\n",
              " 875: 'suppose',\n",
              " 876: 'lying',\n",
              " 877: 'failure',\n",
              " 878: 'hero',\n",
              " 879: 'leaving',\n",
              " 880: 'handle',\n",
              " 881: '12',\n",
              " 882: 'levels',\n",
              " 883: 'wield',\n",
              " 884: 'position',\n",
              " 885: 'pep',\n",
              " 886: 'battle',\n",
              " 887: 'figured',\n",
              " 888: 'lie',\n",
              " 889: 'fought',\n",
              " 890: 'street',\n",
              " 891: 'bunch',\n",
              " 892: \"one's\",\n",
              " 893: 'small',\n",
              " 894: 'jump',\n",
              " 895: 'except',\n",
              " 896: 'pod',\n",
              " 897: 'grow',\n",
              " 898: 'lunch',\n",
              " 899: 'impossible',\n",
              " 900: 'kidding',\n",
              " 901: 'kinda',\n",
              " 902: 'hour',\n",
              " 903: 'pants',\n",
              " 904: 'turned',\n",
              " 905: 'turns',\n",
              " 906: 'awesome',\n",
              " 907: 'drink',\n",
              " 908: 'round',\n",
              " 909: 'almost',\n",
              " 910: 'pick',\n",
              " 911: 'itself',\n",
              " 912: 'year',\n",
              " 913: 'piece',\n",
              " 914: 'along',\n",
              " 915: 'stairs',\n",
              " 916: 'axe',\n",
              " 917: 'experience',\n",
              " 918: 'destiny',\n",
              " 919: 'howard',\n",
              " 920: 'happens',\n",
              " 921: 'such',\n",
              " 922: 'stupid',\n",
              " 923: 'spell',\n",
              " 924: 'fate',\n",
              " 925: 'push',\n",
              " 926: 'quite',\n",
              " 927: 'signature',\n",
              " 928: 'situation',\n",
              " 929: 'price',\n",
              " 930: 'target',\n",
              " 931: 'report',\n",
              " 932: 'view',\n",
              " 933: 'base',\n",
              " 934: 'taken',\n",
              " 935: 'deploy',\n",
              " 936: 'twins',\n",
              " 937: 'clamouring',\n",
              " 938: 'costel',\n",
              " 939: 'breathing',\n",
              " 940: 'evac',\n",
              " 941: 'locked',\n",
              " 942: 'hiding',\n",
              " 943: 'wall',\n",
              " 944: 'technically',\n",
              " 945: 'rumbling',\n",
              " 946: 'music',\n",
              " 947: 'whimpering',\n",
              " 948: 'parties',\n",
              " 949: 'rough',\n",
              " 950: 'alien',\n",
              " 951: 'pretending',\n",
              " 952: 'tissue',\n",
              " 953: 'forever',\n",
              " 954: 'laughs',\n",
              " 955: \"here's\",\n",
              " 956: 'difference',\n",
              " 957: 'helen',\n",
              " 958: 'wondering',\n",
              " 959: 'runs',\n",
              " 960: 'top',\n",
              " 961: 'yesterday',\n",
              " 962: 'sun',\n",
              " 963: 'instead',\n",
              " 964: 'veronica',\n",
              " 965: 'enjoy',\n",
              " 966: 'global',\n",
              " 967: 'initiative',\n",
              " 968: 'weight',\n",
              " 969: 'gentlemen',\n",
              " 970: 'wind',\n",
              " 971: 'breaking',\n",
              " 972: 'physics',\n",
              " 973: 'rule',\n",
              " 974: 'security',\n",
              " 975: \"thor's\",\n",
              " 976: 'interesting',\n",
              " 977: 'legionnaire',\n",
              " 978: 'humanity',\n",
              " 979: 'evolve',\n",
              " 980: 'internet',\n",
              " 981: 'escape',\n",
              " 982: 'rage',\n",
              " 983: 'arms',\n",
              " 984: 'calling',\n",
              " 985: 'church',\n",
              " 986: 'exact',\n",
              " 987: 'engines',\n",
              " 988: 'grab',\n",
              " 989: 'engaged',\n",
              " 990: 'answer',\n",
              " 991: 'horrible',\n",
              " 992: 'sell',\n",
              " 993: 'trade',\n",
              " 994: 'follow',\n",
              " 995: 'strongest',\n",
              " 996: 'conversations',\n",
              " 997: 'boat',\n",
              " 998: 'parts',\n",
              " 999: 'helping',\n",
              " 1000: 'upon',\n",
              " ...}"
            ]
          },
          "metadata": {},
          "execution_count": 108
        }
      ]
    },
    {
      "cell_type": "code",
      "metadata": {
        "id": "gJgVhq1zwEpf",
        "colab": {
          "base_uri": "https://localhost:8080/"
        },
        "outputId": "d63bb3cb-95c5-4fa7-9e21-dcdf77fb685e"
      },
      "source": [
        "# Cantidad de palabras en el vocabulario\n",
        "vocab_size = len(tok.word_counts)\n",
        "vocab_size"
      ],
      "execution_count": 37,
      "outputs": [
        {
          "output_type": "execute_result",
          "data": {
            "text/plain": [
              "4589"
            ]
          },
          "metadata": {},
          "execution_count": 37
        }
      ]
    },
    {
      "cell_type": "code",
      "metadata": {
        "id": "qWjNrNx9wM1b",
        "colab": {
          "base_uri": "https://localhost:8080/"
        },
        "outputId": "6a99984d-6c3a-485d-beb5-af935074e5a6"
      },
      "source": [
        "# ¡Ojo! y_data_int comienza en \"1\" en vez de \"0\"\n",
        "# valor minimo:\n",
        "min(y_data_int)"
      ],
      "execution_count": 38,
      "outputs": [
        {
          "output_type": "execute_result",
          "data": {
            "text/plain": [
              "1"
            ]
          },
          "metadata": {},
          "execution_count": 38
        }
      ]
    },
    {
      "cell_type": "code",
      "metadata": {
        "id": "gIg2e2WCwXbG",
        "colab": {
          "base_uri": "https://localhost:8080/"
        },
        "outputId": "9cbe44c9-09a0-4e67-c853-0f22d65ad6e6"
      },
      "source": [
        "# Hay que restar 1\n",
        "y_data_int_offset = y_data_int - 1\n",
        "min(y_data_int_offset)"
      ],
      "execution_count": 39,
      "outputs": [
        {
          "output_type": "execute_result",
          "data": {
            "text/plain": [
              "0"
            ]
          },
          "metadata": {},
          "execution_count": 39
        }
      ]
    },
    {
      "cell_type": "code",
      "source": [
        "assert (y_data_int > 0).all()\n"
      ],
      "metadata": {
        "id": "X3dhSUSgOpM1"
      },
      "execution_count": 111,
      "outputs": []
    },
    {
      "cell_type": "markdown",
      "source": [
        "Aclaracion:\n",
        "\n",
        "No realice one-hot encoding porque CrossEntropyLoss no lo necesita. Esta función espera que las etiquetas sean índices enteros de clase, no vectores. Si hiciéramos one-hot, estaríamos pasando un formato incorrecto y el loss no funcionaría como corresponde.\n",
        "\n",
        "https://pytorch.org/docs/stable/generated/torch.nn.CrossEntropyLoss.html"
      ],
      "metadata": {
        "id": "z-OQ19lplkmz"
      }
    },
    {
      "cell_type": "code",
      "source": [
        "class Data(Dataset):\n",
        "    def __init__(self, x, y):\n",
        "        # Convertir los arrays de numpy a tensores.\n",
        "        # pytorch espera en general entradas 32bits\n",
        "        self.x = torch.from_numpy(x.astype(np.int32))\n",
        "        # Transformar los datos a oneHotEncoding\n",
        "        # la loss function esperan la salida float\n",
        "        #self.y = F.one_hot(torch.from_numpy(y), num_classes=vocab_size).float()\n",
        "        self.y = torch.from_numpy(y.astype(np.int64))\n",
        "\n",
        "\n",
        "        self.len = self.y.shape[0]\n",
        "\n",
        "    def __getitem__(self,index):\n",
        "        return self.x[index], self.y[index]\n",
        "\n",
        "    def __len__(self):\n",
        "        return self.len\n",
        "\n",
        "data_set = Data(x_data, y_data_int_offset)\n",
        "\n",
        "input_size = data_set.x.shape[1]\n",
        "print(\"input_size:\", input_size)\n",
        "\n",
        "#output_dim = data_set.y.shape[1]\n",
        "output_dim = vocab_size\n",
        "\n",
        "print(\"Output dim\", output_dim)"
      ],
      "metadata": {
        "colab": {
          "base_uri": "https://localhost:8080/"
        },
        "id": "cVO59n_3BEyR",
        "outputId": "4d6e1a94-bd49-40e2-a1f0-eeeb979f72dd"
      },
      "execution_count": 41,
      "outputs": [
        {
          "output_type": "stream",
          "name": "stdout",
          "text": [
            "input_size: 3\n",
            "Output dim 4589\n"
          ]
        }
      ]
    },
    {
      "cell_type": "code",
      "source": [
        "torch.manual_seed(42)\n",
        "valid_set_size = int(data_set.len * 0.2)\n",
        "train_set_size = data_set.len - valid_set_size\n",
        "\n",
        "train_set = torch.utils.data.Subset(data_set, range(train_set_size))\n",
        "valid_set = torch.utils.data.Subset(data_set, range(train_set_size, data_set.len))\n",
        "\n",
        "print(\"Tamaño del conjunto de entrenamiento:\", len(train_set))\n",
        "print(\"Tamaño del conjunto de validacion:\", len(valid_set))\n",
        "\n",
        "train_batch_size = 32\n",
        "train_loader = torch.utils.data.DataLoader(train_set, batch_size=train_batch_size, shuffle=True)\n",
        "valid_loader = torch.utils.data.DataLoader(valid_set, batch_size=len(valid_set), shuffle=False)"
      ],
      "metadata": {
        "colab": {
          "base_uri": "https://localhost:8080/"
        },
        "id": "9_HzwNSwCISC",
        "outputId": "d7a2c2ba-372e-4740-a4a5-e28ebaf30b81"
      },
      "execution_count": 42,
      "outputs": [
        {
          "output_type": "stream",
          "name": "stdout",
          "text": [
            "Tamaño del conjunto de entrenamiento: 33792\n",
            "Tamaño del conjunto de validacion: 8448\n"
          ]
        }
      ]
    },
    {
      "cell_type": "markdown",
      "metadata": {
        "id": "GmJWNyxQwfCE"
      },
      "source": [
        "## 3 - Entrenar el modelo"
      ]
    },
    {
      "cell_type": "markdown",
      "source": [
        "Aclaraciones:\n",
        "\n",
        "Hice algunas modifiicaciones en el dropout para evitar overfitting\n",
        "\n",
        "No usamos softmax en la última capa porque CrossEntropyLoss ya lo aplica internamente. Si lo agregábamos nosotros, estaríamos duplicando esa operación, lo cual puede generar inestabilidad numérica y hacer que el modelo aprenda peor. Por eso dejamos que la última capa devuelva directamente los logits."
      ],
      "metadata": {
        "id": "aVCZD9CRk4lu"
      }
    },
    {
      "cell_type": "code",
      "source": [
        "class Model1(nn.Module):\n",
        "    def __init__(self, vocab_size, output_dim):\n",
        "        super().__init__()\n",
        "        # num_embeddings = vocab_size --> 1628 palabras distintas + 1 para padding o UNK\n",
        "        # embedding_dim = 5 --> crear embeddings de tamaño 5 (tamaño variable y ajustable)\n",
        "        self.lstm_size = 64\n",
        "        self.num_layers = 2\n",
        "        self.embedding = nn.Embedding(num_embeddings=vocab_size+1, embedding_dim=5, padding_idx=0)\n",
        "        self.lstm1 = nn.LSTM(input_size=5, hidden_size=self.lstm_size, batch_first=True,\n",
        "                            num_layers=self.num_layers, dropout=0.5) # LSTM layer\n",
        "        self.fc1 = nn.Linear(in_features=self.lstm_size, out_features=32) # Fully connected layer\n",
        "        self.fc2 = nn.Linear(in_features=32, out_features=output_dim) # Fully connected layer\n",
        "\n",
        "        self.relu = nn.ReLU()\n",
        "        self.softmax = nn.Softmax(dim=1) # normalize in dim 1\n",
        "\n",
        "    def forward(self, x, prev_state=None):\n",
        "        if prev_state is None:\n",
        "            # En cada nueva inferencia reinicio el hidden state\n",
        "            # de la LSTM al menos que sea pasado por parámetro el\n",
        "            # elstado de previo\n",
        "            # Esta acción se realiza especialmente para que\n",
        "            # el hidden_state de la última inferencia no afecte\n",
        "            # a la siguiente\n",
        "            batch_size = x.shape[0] #(batch, seq_size)\n",
        "            prev_state = self.init_hidden(batch_size)\n",
        "\n",
        "        out = self.embedding(x)\n",
        "        lstm_output, (ht, ct) = self.lstm1(out, prev_state)\n",
        "        out = self.relu(self.fc1(lstm_output[:,-1,:]))\n",
        "        #out = self.softmax(self.fc2(out))\n",
        "        out = self.fc2(out)\n",
        "\n",
        "        return out\n",
        "\n",
        "    def init_hidden(self, batch_size):\n",
        "        return (torch.zeros(self.num_layers, batch_size, self.lstm_size).to(device),\n",
        "                torch.zeros(self.num_layers, batch_size, self.lstm_size).to(device))"
      ],
      "metadata": {
        "id": "VsdYibawCkHi"
      },
      "execution_count": 80,
      "outputs": []
    },
    {
      "cell_type": "code",
      "source": [
        "model1 = Model1(vocab_size=vocab_size, output_dim=output_dim)\n",
        "if cuda: model1.cuda()\n",
        "\n",
        "model1_optimizer = torch.optim.Adam(model1.parameters(), lr=0.001, weight_decay=1e-4)\n",
        "\n",
        "model1_criterion = torch.nn.CrossEntropyLoss()\n"
      ],
      "metadata": {
        "id": "BEoeL08dHcUq"
      },
      "execution_count": 81,
      "outputs": []
    },
    {
      "cell_type": "code",
      "source": [
        "device = torch.device(\"cuda\" if torch.cuda.is_available() else \"cpu\")\n",
        "model1 = model1.to(device)\n"
      ],
      "metadata": {
        "id": "mcF-sxapHusz"
      },
      "execution_count": 82,
      "outputs": []
    },
    {
      "cell_type": "markdown",
      "source": [
        "### Summary"
      ],
      "metadata": {
        "id": "E5qDOnXTV_6l"
      }
    },
    {
      "cell_type": "code",
      "source": [
        "input_tensor = data_set[0][0].unsqueeze(0).to(device)\n",
        "\n",
        "# Mostrar resumen del modelo\n",
        "summary(model1, input_data=input_tensor)"
      ],
      "metadata": {
        "colab": {
          "base_uri": "https://localhost:8080/"
        },
        "id": "hbPs-LkoHZ07",
        "outputId": "9334e2ca-e7b2-4e04-b24f-f090d542cdbf"
      },
      "execution_count": 83,
      "outputs": [
        {
          "output_type": "execute_result",
          "data": {
            "text/plain": [
              "==========================================================================================\n",
              "Layer (type:depth-idx)                   Output Shape              Param #\n",
              "==========================================================================================\n",
              "Model1                                   [1, 4589]                 --\n",
              "├─Embedding: 1-1                         [1, 3, 5]                 22,950\n",
              "├─LSTM: 1-2                              [1, 3, 64]                51,456\n",
              "├─Linear: 1-3                            [1, 32]                   2,080\n",
              "├─ReLU: 1-4                              [1, 32]                   --\n",
              "├─Linear: 1-5                            [1, 4589]                 151,437\n",
              "==========================================================================================\n",
              "Total params: 227,923\n",
              "Trainable params: 227,923\n",
              "Non-trainable params: 0\n",
              "Total mult-adds (Units.MEGABYTES): 0.33\n",
              "==========================================================================================\n",
              "Input size (MB): 0.00\n",
              "Forward/backward pass size (MB): 0.04\n",
              "Params size (MB): 0.91\n",
              "Estimated Total Size (MB): 0.95\n",
              "=========================================================================================="
            ]
          },
          "metadata": {},
          "execution_count": 83
        }
      ]
    },
    {
      "cell_type": "code",
      "source": [
        "def categorical_acc(y_pred, y_test):\n",
        "    y_pred_tag = y_pred.data.max(dim=1, keepdim=True)[1]\n",
        "    y_test_tag = y_test.view(-1, 1)\n",
        "    correct_results_sum = (y_pred_tag == y_test_tag).sum().float()\n",
        "    acc = correct_results_sum / y_test.shape[0]\n",
        "    return acc\n"
      ],
      "metadata": {
        "id": "CXUw_vJ6Pq3H"
      },
      "execution_count": 47,
      "outputs": []
    },
    {
      "cell_type": "code",
      "source": [
        "history1 = train(model1,\n",
        "                train_loader,\n",
        "                valid_loader,\n",
        "                model1_optimizer,\n",
        "                model1_criterion,\n",
        "                epochs=100\n",
        "                )"
      ],
      "metadata": {
        "colab": {
          "base_uri": "https://localhost:8080/"
        },
        "id": "S5yINRb7yMzB",
        "outputId": "2d63f880-f24a-4bbf-9bfd-58933bcb8a83"
      },
      "execution_count": 48,
      "outputs": [
        {
          "output_type": "stream",
          "name": "stderr",
          "text": [
            "/usr/local/lib/python3.11/dist-packages/torch/autograd/graph.py:823: UserWarning: Attempting to run cuBLAS, but there was no current CUDA context! Attempting to set the primary context... (Triggered internally at /pytorch/aten/src/ATen/cuda/CublasHandlePool.cpp:180.)\n",
            "  return Variable._execution_engine.run_backward(  # Calls into the C++ engine to run the backward pass\n"
          ]
        },
        {
          "output_type": "stream",
          "name": "stdout",
          "text": [
            "Epoch: 1/100 - Train loss 6.643 - Train accuracy 0.032 - Valid Loss 6.563 - Valid accuracy 0.037\n",
            "Epoch: 2/100 - Train loss 6.379 - Train accuracy 0.034 - Valid Loss 6.517 - Valid accuracy 0.038\n",
            "Epoch: 3/100 - Train loss 6.344 - Train accuracy 0.036 - Valid Loss 6.494 - Valid accuracy 0.039\n",
            "Epoch: 4/100 - Train loss 6.296 - Train accuracy 0.040 - Valid Loss 6.459 - Valid accuracy 0.043\n",
            "Epoch: 5/100 - Train loss 6.204 - Train accuracy 0.044 - Valid Loss 6.387 - Valid accuracy 0.044\n",
            "Epoch: 6/100 - Train loss 6.087 - Train accuracy 0.047 - Valid Loss 6.344 - Valid accuracy 0.047\n",
            "Epoch: 7/100 - Train loss 6.005 - Train accuracy 0.049 - Valid Loss 6.342 - Valid accuracy 0.047\n",
            "Epoch: 8/100 - Train loss 5.946 - Train accuracy 0.050 - Valid Loss 6.328 - Valid accuracy 0.050\n",
            "Epoch: 9/100 - Train loss 5.890 - Train accuracy 0.054 - Valid Loss 6.321 - Valid accuracy 0.056\n",
            "Epoch: 10/100 - Train loss 5.838 - Train accuracy 0.057 - Valid Loss 6.307 - Valid accuracy 0.054\n",
            "Epoch: 11/100 - Train loss 5.783 - Train accuracy 0.060 - Valid Loss 6.297 - Valid accuracy 0.057\n",
            "Epoch: 12/100 - Train loss 5.732 - Train accuracy 0.062 - Valid Loss 6.289 - Valid accuracy 0.062\n",
            "Epoch: 13/100 - Train loss 5.674 - Train accuracy 0.067 - Valid Loss 6.289 - Valid accuracy 0.064\n",
            "Epoch: 14/100 - Train loss 5.615 - Train accuracy 0.072 - Valid Loss 6.285 - Valid accuracy 0.065\n",
            "Epoch: 15/100 - Train loss 5.557 - Train accuracy 0.075 - Valid Loss 6.264 - Valid accuracy 0.065\n",
            "Epoch: 16/100 - Train loss 5.501 - Train accuracy 0.080 - Valid Loss 6.278 - Valid accuracy 0.071\n",
            "Epoch: 17/100 - Train loss 5.451 - Train accuracy 0.083 - Valid Loss 6.281 - Valid accuracy 0.072\n",
            "Epoch: 18/100 - Train loss 5.405 - Train accuracy 0.087 - Valid Loss 6.275 - Valid accuracy 0.070\n",
            "Epoch: 19/100 - Train loss 5.364 - Train accuracy 0.089 - Valid Loss 6.279 - Valid accuracy 0.074\n",
            "Epoch: 20/100 - Train loss 5.322 - Train accuracy 0.092 - Valid Loss 6.286 - Valid accuracy 0.074\n",
            "Epoch: 21/100 - Train loss 5.281 - Train accuracy 0.092 - Valid Loss 6.295 - Valid accuracy 0.076\n",
            "Epoch: 22/100 - Train loss 5.247 - Train accuracy 0.095 - Valid Loss 6.307 - Valid accuracy 0.078\n",
            "Epoch: 23/100 - Train loss 5.217 - Train accuracy 0.095 - Valid Loss 6.325 - Valid accuracy 0.078\n",
            "Epoch: 24/100 - Train loss 5.183 - Train accuracy 0.099 - Valid Loss 6.342 - Valid accuracy 0.078\n",
            "Epoch: 25/100 - Train loss 5.159 - Train accuracy 0.099 - Valid Loss 6.331 - Valid accuracy 0.078\n",
            "Epoch: 26/100 - Train loss 5.132 - Train accuracy 0.100 - Valid Loss 6.356 - Valid accuracy 0.080\n",
            "Epoch: 27/100 - Train loss 5.107 - Train accuracy 0.102 - Valid Loss 6.378 - Valid accuracy 0.077\n",
            "Epoch: 28/100 - Train loss 5.085 - Train accuracy 0.102 - Valid Loss 6.380 - Valid accuracy 0.080\n",
            "Epoch: 29/100 - Train loss 5.064 - Train accuracy 0.104 - Valid Loss 6.391 - Valid accuracy 0.077\n",
            "Epoch: 30/100 - Train loss 5.042 - Train accuracy 0.105 - Valid Loss 6.414 - Valid accuracy 0.076\n",
            "Epoch: 31/100 - Train loss 5.024 - Train accuracy 0.104 - Valid Loss 6.394 - Valid accuracy 0.078\n",
            "Epoch: 32/100 - Train loss 5.003 - Train accuracy 0.106 - Valid Loss 6.415 - Valid accuracy 0.082\n",
            "Epoch: 33/100 - Train loss 4.989 - Train accuracy 0.105 - Valid Loss 6.417 - Valid accuracy 0.080\n",
            "Epoch: 34/100 - Train loss 4.974 - Train accuracy 0.106 - Valid Loss 6.451 - Valid accuracy 0.081\n",
            "Epoch: 35/100 - Train loss 4.954 - Train accuracy 0.107 - Valid Loss 6.457 - Valid accuracy 0.078\n",
            "Epoch: 36/100 - Train loss 4.940 - Train accuracy 0.108 - Valid Loss 6.465 - Valid accuracy 0.077\n",
            "Epoch: 37/100 - Train loss 4.928 - Train accuracy 0.109 - Valid Loss 6.487 - Valid accuracy 0.082\n",
            "Epoch: 38/100 - Train loss 4.917 - Train accuracy 0.110 - Valid Loss 6.489 - Valid accuracy 0.077\n",
            "Epoch: 39/100 - Train loss 4.903 - Train accuracy 0.108 - Valid Loss 6.505 - Valid accuracy 0.080\n",
            "Epoch: 40/100 - Train loss 4.890 - Train accuracy 0.110 - Valid Loss 6.508 - Valid accuracy 0.075\n",
            "Epoch: 41/100 - Train loss 4.881 - Train accuracy 0.110 - Valid Loss 6.500 - Valid accuracy 0.075\n",
            "Epoch: 42/100 - Train loss 4.865 - Train accuracy 0.112 - Valid Loss 6.527 - Valid accuracy 0.079\n",
            "Epoch: 43/100 - Train loss 4.856 - Train accuracy 0.110 - Valid Loss 6.532 - Valid accuracy 0.080\n",
            "Epoch: 44/100 - Train loss 4.842 - Train accuracy 0.113 - Valid Loss 6.550 - Valid accuracy 0.078\n",
            "Epoch: 45/100 - Train loss 4.827 - Train accuracy 0.113 - Valid Loss 6.540 - Valid accuracy 0.076\n",
            "Epoch: 46/100 - Train loss 4.822 - Train accuracy 0.111 - Valid Loss 6.569 - Valid accuracy 0.077\n",
            "Epoch: 47/100 - Train loss 4.803 - Train accuracy 0.113 - Valid Loss 6.548 - Valid accuracy 0.080\n",
            "Epoch: 48/100 - Train loss 4.796 - Train accuracy 0.112 - Valid Loss 6.576 - Valid accuracy 0.078\n",
            "Epoch: 49/100 - Train loss 4.785 - Train accuracy 0.114 - Valid Loss 6.590 - Valid accuracy 0.082\n",
            "Epoch: 50/100 - Train loss 4.775 - Train accuracy 0.113 - Valid Loss 6.606 - Valid accuracy 0.078\n",
            "Epoch: 51/100 - Train loss 4.766 - Train accuracy 0.114 - Valid Loss 6.598 - Valid accuracy 0.077\n",
            "Epoch: 52/100 - Train loss 4.756 - Train accuracy 0.116 - Valid Loss 6.582 - Valid accuracy 0.075\n",
            "Epoch: 53/100 - Train loss 4.746 - Train accuracy 0.115 - Valid Loss 6.616 - Valid accuracy 0.080\n",
            "Epoch: 54/100 - Train loss 4.742 - Train accuracy 0.115 - Valid Loss 6.630 - Valid accuracy 0.078\n",
            "Epoch: 55/100 - Train loss 4.731 - Train accuracy 0.115 - Valid Loss 6.629 - Valid accuracy 0.077\n",
            "Epoch: 56/100 - Train loss 4.727 - Train accuracy 0.115 - Valid Loss 6.639 - Valid accuracy 0.072\n",
            "Epoch: 57/100 - Train loss 4.715 - Train accuracy 0.115 - Valid Loss 6.648 - Valid accuracy 0.081\n",
            "Epoch: 58/100 - Train loss 4.715 - Train accuracy 0.115 - Valid Loss 6.619 - Valid accuracy 0.080\n",
            "Epoch: 59/100 - Train loss 4.703 - Train accuracy 0.117 - Valid Loss 6.652 - Valid accuracy 0.077\n",
            "Epoch: 60/100 - Train loss 4.695 - Train accuracy 0.117 - Valid Loss 6.644 - Valid accuracy 0.076\n",
            "Epoch: 61/100 - Train loss 4.686 - Train accuracy 0.116 - Valid Loss 6.659 - Valid accuracy 0.074\n",
            "Epoch: 62/100 - Train loss 4.678 - Train accuracy 0.119 - Valid Loss 6.676 - Valid accuracy 0.076\n",
            "Epoch: 63/100 - Train loss 4.672 - Train accuracy 0.117 - Valid Loss 6.671 - Valid accuracy 0.078\n",
            "Epoch: 64/100 - Train loss 4.671 - Train accuracy 0.118 - Valid Loss 6.675 - Valid accuracy 0.074\n",
            "Epoch: 65/100 - Train loss 4.665 - Train accuracy 0.119 - Valid Loss 6.680 - Valid accuracy 0.074\n",
            "Epoch: 66/100 - Train loss 4.655 - Train accuracy 0.119 - Valid Loss 6.676 - Valid accuracy 0.075\n",
            "Epoch: 67/100 - Train loss 4.646 - Train accuracy 0.118 - Valid Loss 6.693 - Valid accuracy 0.077\n",
            "Epoch: 68/100 - Train loss 4.645 - Train accuracy 0.120 - Valid Loss 6.689 - Valid accuracy 0.075\n",
            "Epoch: 69/100 - Train loss 4.638 - Train accuracy 0.119 - Valid Loss 6.711 - Valid accuracy 0.072\n",
            "Epoch: 70/100 - Train loss 4.626 - Train accuracy 0.119 - Valid Loss 6.707 - Valid accuracy 0.078\n",
            "Epoch: 71/100 - Train loss 4.626 - Train accuracy 0.121 - Valid Loss 6.711 - Valid accuracy 0.076\n",
            "Epoch: 72/100 - Train loss 4.619 - Train accuracy 0.119 - Valid Loss 6.720 - Valid accuracy 0.076\n",
            "Epoch: 73/100 - Train loss 4.609 - Train accuracy 0.122 - Valid Loss 6.735 - Valid accuracy 0.075\n",
            "Epoch: 74/100 - Train loss 4.605 - Train accuracy 0.121 - Valid Loss 6.763 - Valid accuracy 0.080\n",
            "Epoch: 75/100 - Train loss 4.597 - Train accuracy 0.121 - Valid Loss 6.736 - Valid accuracy 0.073\n",
            "Epoch: 76/100 - Train loss 4.588 - Train accuracy 0.124 - Valid Loss 6.759 - Valid accuracy 0.077\n",
            "Epoch: 77/100 - Train loss 4.583 - Train accuracy 0.121 - Valid Loss 6.764 - Valid accuracy 0.076\n",
            "Epoch: 78/100 - Train loss 4.577 - Train accuracy 0.123 - Valid Loss 6.761 - Valid accuracy 0.078\n",
            "Epoch: 79/100 - Train loss 4.564 - Train accuracy 0.127 - Valid Loss 6.755 - Valid accuracy 0.071\n",
            "Epoch: 80/100 - Train loss 4.560 - Train accuracy 0.124 - Valid Loss 6.780 - Valid accuracy 0.075\n",
            "Epoch: 81/100 - Train loss 4.548 - Train accuracy 0.125 - Valid Loss 6.786 - Valid accuracy 0.075\n",
            "Epoch: 82/100 - Train loss 4.536 - Train accuracy 0.126 - Valid Loss 6.782 - Valid accuracy 0.074\n",
            "Epoch: 83/100 - Train loss 4.527 - Train accuracy 0.127 - Valid Loss 6.798 - Valid accuracy 0.072\n",
            "Epoch: 84/100 - Train loss 4.520 - Train accuracy 0.126 - Valid Loss 6.795 - Valid accuracy 0.075\n",
            "Epoch: 85/100 - Train loss 4.510 - Train accuracy 0.128 - Valid Loss 6.822 - Valid accuracy 0.071\n",
            "Epoch: 86/100 - Train loss 4.500 - Train accuracy 0.126 - Valid Loss 6.820 - Valid accuracy 0.078\n",
            "Epoch: 87/100 - Train loss 4.489 - Train accuracy 0.130 - Valid Loss 6.822 - Valid accuracy 0.076\n",
            "Epoch: 88/100 - Train loss 4.482 - Train accuracy 0.127 - Valid Loss 6.827 - Valid accuracy 0.074\n",
            "Epoch: 89/100 - Train loss 4.474 - Train accuracy 0.129 - Valid Loss 6.835 - Valid accuracy 0.071\n",
            "Epoch: 90/100 - Train loss 4.461 - Train accuracy 0.130 - Valid Loss 6.836 - Valid accuracy 0.075\n",
            "Epoch: 91/100 - Train loss 4.454 - Train accuracy 0.129 - Valid Loss 6.823 - Valid accuracy 0.075\n",
            "Epoch: 92/100 - Train loss 4.444 - Train accuracy 0.130 - Valid Loss 6.842 - Valid accuracy 0.072\n",
            "Epoch: 93/100 - Train loss 4.435 - Train accuracy 0.132 - Valid Loss 6.869 - Valid accuracy 0.074\n",
            "Epoch: 94/100 - Train loss 4.427 - Train accuracy 0.131 - Valid Loss 6.872 - Valid accuracy 0.071\n",
            "Epoch: 95/100 - Train loss 4.420 - Train accuracy 0.132 - Valid Loss 6.896 - Valid accuracy 0.070\n",
            "Epoch: 96/100 - Train loss 4.417 - Train accuracy 0.132 - Valid Loss 6.872 - Valid accuracy 0.073\n",
            "Epoch: 97/100 - Train loss 4.402 - Train accuracy 0.135 - Valid Loss 6.872 - Valid accuracy 0.072\n",
            "Epoch: 98/100 - Train loss 4.391 - Train accuracy 0.133 - Valid Loss 6.874 - Valid accuracy 0.072\n",
            "Epoch: 99/100 - Train loss 4.388 - Train accuracy 0.135 - Valid Loss 6.900 - Valid accuracy 0.073\n",
            "Epoch: 100/100 - Train loss 4.379 - Train accuracy 0.135 - Valid Loss 6.915 - Valid accuracy 0.073\n"
          ]
        }
      ]
    },
    {
      "cell_type": "code",
      "source": [
        "epoch_count = range(1, len(history1['accuracy']) + 1)\n",
        "sns.lineplot(x=epoch_count,  y=history1['accuracy'], label='train')\n",
        "sns.lineplot(x=epoch_count,  y=history1['val_accuracy'], label='valid')\n",
        "plt.show()"
      ],
      "metadata": {
        "colab": {
          "base_uri": "https://localhost:8080/",
          "height": 434
        },
        "id": "QH6al4DoyUWu",
        "outputId": "9a5c2fad-dd25-4cce-a055-d4ab02d75cc3"
      },
      "execution_count": 49,
      "outputs": [
        {
          "output_type": "display_data",
          "data": {
            "text/plain": [
              "<Figure size 640x480 with 1 Axes>"
            ],
            "image/png": "[encoded data removed]"
          },
          "metadata": {}
        }
      ]
    },
    {
      "cell_type": "code",
      "source": [
        "# Guarda solo los pesos del modelo\n",
        "torch.save(model1.state_dict(), \"model1_weights.pth\")\n"
      ],
      "metadata": {
        "id": "6NxCtTXiIo7u"
      },
      "execution_count": 50,
      "outputs": []
    },
    {
      "cell_type": "markdown",
      "source": [
        "## Cargar modelo"
      ],
      "metadata": {
        "id": "oNe4eomLIsgG"
      }
    },
    {
      "cell_type": "code",
      "source": [
        "model1 = Model1(vocab_size=vocab_size, output_dim=output_dim)\n",
        "model1.load_state_dict(torch.load(\"model1_weights.pth\"))\n",
        "model1.to(device)\n",
        "model1.eval()\n"
      ],
      "metadata": {
        "colab": {
          "base_uri": "https://localhost:8080/"
        },
        "id": "NyE9Yc6jItlj",
        "outputId": "dc3b9db5-05b8-42ef-d5d1-3d1c0a022d2a"
      },
      "execution_count": 51,
      "outputs": [
        {
          "output_type": "execute_result",
          "data": {
            "text/plain": [
              "Model1(\n",
              "  (embedding): Embedding(4590, 5, padding_idx=0)\n",
              "  (lstm1): LSTM(5, 64, num_layers=2, batch_first=True, dropout=0.5)\n",
              "  (fc1): Linear(in_features=64, out_features=32, bias=True)\n",
              "  (fc2): Linear(in_features=32, out_features=4589, bias=True)\n",
              "  (relu): ReLU()\n",
              "  (softmax): Softmax(dim=1)\n",
              ")"
            ]
          },
          "metadata": {},
          "execution_count": 51
        }
      ]
    },
    {
      "cell_type": "markdown",
      "metadata": {
        "id": "KN6Fg_BsxJe6"
      },
      "source": [
        "## 4 - Predicción de próxima palabra"
      ]
    },
    {
      "cell_type": "code",
      "source": [
        "def predict_next_word(model, tokenizer, input_text, max_len=3):\n",
        "    \"\"\"\n",
        "    Predice la próxima palabra dada una frase de entrada.\n",
        "\n",
        "    Args:\n",
        "        model (torch.nn.Module): Modelo entrenado.\n",
        "        tokenizer (Tokenizer): Tokenizador ya ajustado.\n",
        "        input_text (str): Frase inicial.\n",
        "        max_len (int): Longitud máxima de entrada (usada en pad_sequences).\n",
        "\n",
        "    Returns:\n",
        "        str: Frase con la palabra predicha añadida.\n",
        "    \"\"\"\n",
        "    model.eval()\n",
        "\n",
        "    # Tokenizar y preprocesar\n",
        "    encoded = tokenizer.texts_to_sequences([input_text])[0]\n",
        "    padded = pad_sequences([encoded], maxlen=max_len, padding='pre')\n",
        "    tensor = torch.from_numpy(padded.astype(np.int32)).to(device)\n",
        "\n",
        "    # Predecir\n",
        "    with torch.no_grad():\n",
        "        output = model(tensor)\n",
        "        predicted_idx = output.argmax(dim=-1).item()\n",
        "\n",
        "    predicted_word = None\n",
        "    for word, index in tokenizer.word_index.items():\n",
        "        if index == predicted_idx + 1:\n",
        "            predicted_word = word\n",
        "            break\n",
        "\n",
        "    predicted_word = predicted_word if predicted_word is not None else \"<UNK>\"\n",
        "\n",
        "    return input_text + \" \" + predicted_word\n"
      ],
      "metadata": {
        "id": "9xKLBpepaOji"
      },
      "execution_count": 85,
      "outputs": []
    },
    {
      "cell_type": "code",
      "source": [
        "input_text = \"bring me thanos\"\n",
        "output = predict_next_word(model1, tok, input_text)\n",
        "print(output)\n"
      ],
      "metadata": {
        "colab": {
          "base_uri": "https://localhost:8080/"
        },
        "id": "HYTtF-agaeW3",
        "outputId": "6327ae12-2a72-4306-eaf4-59ed1e0d654a"
      },
      "execution_count": 91,
      "outputs": [
        {
          "output_type": "stream",
          "name": "stdout",
          "text": [
            "bring me thanos defeating\n"
          ]
        }
      ]
    },
    {
      "cell_type": "code",
      "source": [
        "input_text = \"hi how are\"\n",
        "output = predict_next_word(model1, tok, input_text)\n",
        "print(output)"
      ],
      "metadata": {
        "colab": {
          "base_uri": "https://localhost:8080/"
        },
        "id": "-Bygx3O0arG1",
        "outputId": "1dc1728d-ac86-4bde-9806-f1e183691c94"
      },
      "execution_count": 92,
      "outputs": [
        {
          "output_type": "stream",
          "name": "stdout",
          "text": [
            "hi how are defeating\n"
          ]
        }
      ]
    },
    {
      "cell_type": "code",
      "source": [
        "input_text = \"i am\"\n",
        "output = predict_next_word(model1, tok, input_text)\n",
        "print(output)"
      ],
      "metadata": {
        "colab": {
          "base_uri": "https://localhost:8080/"
        },
        "id": "BU5iAbb1a6Ni",
        "outputId": "59817ce2-43e6-4b89-be6b-71c75cb77677"
      },
      "execution_count": 93,
      "outputs": [
        {
          "output_type": "stream",
          "name": "stdout",
          "text": [
            "i am defeating\n"
          ]
        }
      ]
    },
    {
      "cell_type": "code",
      "source": [
        "input_text = \"tony stark is\"\n",
        "output = predict_next_word(model1, tok, input_text)\n",
        "print(output)"
      ],
      "metadata": {
        "colab": {
          "base_uri": "https://localhost:8080/"
        },
        "id": "DZaQpChca9fk",
        "outputId": "805b8b4c-5b9a-4109-cf02-6cd381b3982a"
      },
      "execution_count": 94,
      "outputs": [
        {
          "output_type": "stream",
          "name": "stdout",
          "text": [
            "tony stark is defeating\n"
          ]
        }
      ]
    },
    {
      "cell_type": "markdown",
      "source": [
        "por alguna razon siempre predeci que la siguiente palabra es defeating. Por lo que el modelo no es el mejor."
      ],
      "metadata": {
        "id": "gkZZIVYIa_76"
      }
    },
    {
      "cell_type": "markdown",
      "metadata": {
        "id": "mCeMWWupxN1-"
      },
      "source": [
        "## 5 - Generación de secuencias nuevas"
      ]
    },
    {
      "cell_type": "code",
      "metadata": {
        "id": "bwbS_pfhxvB3"
      },
      "source": [
        "def generate_seq(model, tokenizer, seed_text, max_length, n_words):\n",
        "    \"\"\"\n",
        "        Exec model sequence prediction\n",
        "\n",
        "        Args:\n",
        "            model (keras): modelo entrenado\n",
        "            tokenizer (keras tokenizer): tonenizer utilizado en el preprocesamiento\n",
        "            seed_text (string): texto de entrada (input_seq)\n",
        "            max_length (int): máxima longitud de la sequencia de entrada\n",
        "            n_words (int): números de palabras a agregar a la sequencia de entrada\n",
        "        returns:\n",
        "            output_text (string): sentencia con las \"n_words\" agregadas\n",
        "    \"\"\"\n",
        "    output_text = seed_text\n",
        "\t# generate a fixed number of words\n",
        "    for _ in range(n_words):\n",
        "\t\t# Encodeamos\n",
        "        encoded = tokenizer.texts_to_sequences([output_text])[0]\n",
        "\t\t# Si tienen distinto largo\n",
        "        encoded = pad_sequences([encoded], maxlen=max_length, padding='pre')\n",
        "\n",
        "        # Transformo a tensor\n",
        "        tensor = torch.from_numpy(encoded.astype(np.int32)).to(device)\n",
        "        # Predicción softmax\n",
        "        y_hat = model1(tensor).argmax(axis=-1)\n",
        "\n",
        "\t\t# Vamos concatenando las predicciones\n",
        "        out_word = ''\n",
        "\n",
        "        # Debemos buscar en el vocabulario la palabra\n",
        "        # que corresopnde al indice (y_hat) predicho por le modelo\n",
        "        for word, index in tokenizer.word_index.items():\n",
        "            if index == y_hat:\n",
        "                out_word = word\n",
        "                break\n",
        "\n",
        "\t\t# Agrego las palabras a la frase predicha\n",
        "        output_text += ' ' + out_word\n",
        "    return output_text"
      ],
      "execution_count": 59,
      "outputs": []
    },
    {
      "cell_type": "code",
      "metadata": {
        "id": "JoFqRC5pxzqS",
        "colab": {
          "base_uri": "https://localhost:8080/",
          "height": 36
        },
        "outputId": "00038bcf-357a-4c28-9710-d39b8b414f33"
      },
      "source": [
        "input_text='i am iron'\n",
        "\n",
        "generate_seq(model1, tok, input_text, max_length=3, n_words=2)"
      ],
      "execution_count": 97,
      "outputs": [
        {
          "output_type": "execute_result",
          "data": {
            "text/plain": [
              "'i am iron threatens threatens'"
            ],
            "application/vnd.google.colaboratory.intrinsic+json": {
              "type": "string"
            }
          },
          "metadata": {},
          "execution_count": 97
        }
      ]
    },
    {
      "cell_type": "markdown",
      "metadata": {
        "id": "T2SHmXbgxQH9"
      },
      "source": [
        "## 6 - Conclusiones\n",
        "El modelo entrenado tuvo un muy mail desempeño en el entrenamiento además de overfitting. Cuestiones que podrían mejorarse:\n",
        "- Agregar más capas o neuronaes\n",
        "- Incrementar la cantidad de épocas\n",
        "- Agregar BRNN\n",
        "\n",
        "Es importante destacar que en este ejemplo estamos entrenando nuestro propios Embeddings, y para ello se requiere mucha data. En los ejemplos que realizaremos de aquí en más utilizaremos más datos, embeddings pre-enternados o modelos pre-entrenados."
      ]
    },
    {
      "cell_type": "markdown",
      "source": [
        "Voy a aplicar las siguientes recomendaciones para ver si mejora el modelo:"
      ],
      "metadata": {
        "id": "5O3r6lWZWoDl"
      }
    },
    {
      "cell_type": "code",
      "source": [
        "class ModelBonus(Model1):\n",
        "    def __init__(self, vocab_size, output_dim):\n",
        "        super().__init__(vocab_size, output_dim)\n",
        "\n",
        "        self.bidirectional = True\n",
        "        self.embedding_dim = 5\n",
        "        self.lstm_size = 32\n",
        "        self.num_layers = 2\n",
        "        self.embedding = nn.Embedding(num_embeddings=vocab_size + 1,\n",
        "                                      embedding_dim=self.embedding_dim,\n",
        "                                      padding_idx=0)\n",
        "        self.lstm1 = nn.LSTM(input_size=self.embedding_dim,\n",
        "                             hidden_size=self.lstm_size,\n",
        "                             num_layers=self.num_layers,\n",
        "                             dropout=0.6,\n",
        "                             batch_first=True,\n",
        "                             bidirectional=self.bidirectional)\n",
        "\n",
        "        # Ajustamos los Linear para bidireccional\n",
        "        self.fc1 = nn.Linear(in_features=self.lstm_size * 2, out_features=32)\n",
        "        self.fc2 = nn.Linear(in_features=32, out_features=output_dim)\n",
        "\n",
        "        self.relu = nn.ReLU()\n",
        "\n",
        "    def forward(self, x, prev_state=None):\n",
        "        if prev_state is None:\n",
        "            batch_size = x.shape[0]\n",
        "            prev_state = self.init_hidden(batch_size)\n",
        "\n",
        "        out = self.embedding(x)\n",
        "        lstm_output, (ht, ct) = self.lstm1(out, prev_state)\n",
        "        out = self.relu(self.fc1(lstm_output[:, -1, :]))\n",
        "        out = self.fc2(out)  # sin softmax porque usamos CrossEntropy\n",
        "        return out\n",
        "\n",
        "    def init_hidden(self, batch_size):\n",
        "        num_directions = 2 if self.bidirectional else 1\n",
        "        return (\n",
        "            torch.zeros(self.num_layers * num_directions, batch_size, self.lstm_size).to(device),\n",
        "            torch.zeros(self.num_layers * num_directions, batch_size, self.lstm_size).to(device),\n",
        "        )\n"
      ],
      "metadata": {
        "id": "tM8QvgalVppk"
      },
      "execution_count": 75,
      "outputs": []
    },
    {
      "cell_type": "code",
      "source": [
        "model2 = ModelBonus(vocab_size=vocab_size, output_dim=output_dim)\n",
        "if cuda: model2.cuda()\n",
        "\n",
        "model2_optimizer = torch.optim.Adam(model2.parameters(), lr=0.001, weight_decay=1e-5)\n",
        "\n",
        "model2_criterion = torch.nn.CrossEntropyLoss()"
      ],
      "metadata": {
        "id": "j6Sbu7jrVtcA"
      },
      "execution_count": 76,
      "outputs": []
    },
    {
      "cell_type": "code",
      "source": [
        "model2 = model2.to(device)"
      ],
      "metadata": {
        "id": "sn0I1OFmV2DB"
      },
      "execution_count": 77,
      "outputs": []
    },
    {
      "cell_type": "code",
      "source": [
        "# Mostrar resumen del modelo\n",
        "summary(model2, input_data=input_tensor)"
      ],
      "metadata": {
        "colab": {
          "base_uri": "https://localhost:8080/"
        },
        "id": "Mf5wFFYYV7nM",
        "outputId": "3b501589-9949-4f71-c659-e4945a29934e"
      },
      "execution_count": 78,
      "outputs": [
        {
          "output_type": "execute_result",
          "data": {
            "text/plain": [
              "==========================================================================================\n",
              "Layer (type:depth-idx)                   Output Shape              Param #\n",
              "==========================================================================================\n",
              "ModelBonus                               [1, 4589]                 --\n",
              "├─Embedding: 1-1                         [1, 3, 5]                 22,950\n",
              "├─LSTM: 1-2                              [1, 3, 64]                35,072\n",
              "├─Linear: 1-3                            [1, 32]                   2,080\n",
              "├─ReLU: 1-4                              [1, 32]                   --\n",
              "├─Linear: 1-5                            [1, 4589]                 151,437\n",
              "==========================================================================================\n",
              "Total params: 211,539\n",
              "Trainable params: 211,539\n",
              "Non-trainable params: 0\n",
              "Total mult-adds (Units.MEGABYTES): 0.28\n",
              "==========================================================================================\n",
              "Input size (MB): 0.00\n",
              "Forward/backward pass size (MB): 0.04\n",
              "Params size (MB): 0.85\n",
              "Estimated Total Size (MB): 0.88\n",
              "=========================================================================================="
            ]
          },
          "metadata": {},
          "execution_count": 78
        }
      ]
    },
    {
      "cell_type": "code",
      "source": [
        "history2 = train(model2,\n",
        "                train_loader,\n",
        "                valid_loader,\n",
        "                model2_optimizer,\n",
        "                model2_criterion,\n",
        "                epochs=30\n",
        "                )"
      ],
      "metadata": {
        "colab": {
          "base_uri": "https://localhost:8080/"
        },
        "id": "gfSUUCdqWHUu",
        "outputId": "086d8a72-c453-4775-b9f9-dcc097316ce9"
      },
      "execution_count": 79,
      "outputs": [
        {
          "output_type": "stream",
          "name": "stdout",
          "text": [
            "Epoch: 1/30 - Train loss 6.665 - Train accuracy 0.032 - Valid Loss 6.642 - Valid accuracy 0.037\n",
            "Epoch: 2/30 - Train loss 6.347 - Train accuracy 0.035 - Valid Loss 6.571 - Valid accuracy 0.040\n",
            "Epoch: 3/30 - Train loss 6.234 - Train accuracy 0.039 - Valid Loss 6.482 - Valid accuracy 0.041\n",
            "Epoch: 4/30 - Train loss 6.124 - Train accuracy 0.042 - Valid Loss 6.420 - Valid accuracy 0.041\n",
            "Epoch: 5/30 - Train loss 6.036 - Train accuracy 0.044 - Valid Loss 6.395 - Valid accuracy 0.046\n",
            "Epoch: 6/30 - Train loss 5.965 - Train accuracy 0.051 - Valid Loss 6.367 - Valid accuracy 0.049\n",
            "Epoch: 7/30 - Train loss 5.886 - Train accuracy 0.055 - Valid Loss 6.338 - Valid accuracy 0.051\n",
            "Epoch: 8/30 - Train loss 5.809 - Train accuracy 0.058 - Valid Loss 6.321 - Valid accuracy 0.056\n",
            "Epoch: 9/30 - Train loss 5.736 - Train accuracy 0.062 - Valid Loss 6.315 - Valid accuracy 0.059\n",
            "Epoch: 10/30 - Train loss 5.667 - Train accuracy 0.065 - Valid Loss 6.319 - Valid accuracy 0.065\n",
            "Epoch: 11/30 - Train loss 5.604 - Train accuracy 0.068 - Valid Loss 6.319 - Valid accuracy 0.065\n",
            "Epoch: 12/30 - Train loss 5.552 - Train accuracy 0.070 - Valid Loss 6.319 - Valid accuracy 0.069\n",
            "Epoch: 13/30 - Train loss 5.505 - Train accuracy 0.072 - Valid Loss 6.310 - Valid accuracy 0.069\n",
            "Epoch: 14/30 - Train loss 5.457 - Train accuracy 0.075 - Valid Loss 6.332 - Valid accuracy 0.069\n",
            "Epoch: 15/30 - Train loss 5.417 - Train accuracy 0.077 - Valid Loss 6.340 - Valid accuracy 0.071\n",
            "Epoch: 16/30 - Train loss 5.374 - Train accuracy 0.079 - Valid Loss 6.359 - Valid accuracy 0.070\n",
            "Epoch: 17/30 - Train loss 5.333 - Train accuracy 0.081 - Valid Loss 6.357 - Valid accuracy 0.071\n",
            "Epoch: 18/30 - Train loss 5.290 - Train accuracy 0.083 - Valid Loss 6.387 - Valid accuracy 0.074\n",
            "Epoch: 19/30 - Train loss 5.259 - Train accuracy 0.085 - Valid Loss 6.397 - Valid accuracy 0.072\n",
            "Epoch: 20/30 - Train loss 5.222 - Train accuracy 0.087 - Valid Loss 6.422 - Valid accuracy 0.072\n",
            "Epoch: 21/30 - Train loss 5.187 - Train accuracy 0.089 - Valid Loss 6.441 - Valid accuracy 0.074\n",
            "Epoch: 22/30 - Train loss 5.157 - Train accuracy 0.090 - Valid Loss 6.463 - Valid accuracy 0.075\n",
            "Epoch: 23/30 - Train loss 5.125 - Train accuracy 0.092 - Valid Loss 6.480 - Valid accuracy 0.077\n",
            "Epoch: 24/30 - Train loss 5.093 - Train accuracy 0.096 - Valid Loss 6.522 - Valid accuracy 0.077\n",
            "Epoch: 25/30 - Train loss 5.072 - Train accuracy 0.094 - Valid Loss 6.521 - Valid accuracy 0.078\n",
            "Epoch: 26/30 - Train loss 5.042 - Train accuracy 0.096 - Valid Loss 6.540 - Valid accuracy 0.076\n",
            "Epoch: 27/30 - Train loss 5.013 - Train accuracy 0.098 - Valid Loss 6.586 - Valid accuracy 0.074\n",
            "Epoch: 28/30 - Train loss 4.986 - Train accuracy 0.099 - Valid Loss 6.608 - Valid accuracy 0.078\n",
            "Epoch: 29/30 - Train loss 4.966 - Train accuracy 0.100 - Valid Loss 6.616 - Valid accuracy 0.079\n",
            "Epoch: 30/30 - Train loss 4.943 - Train accuracy 0.101 - Valid Loss 6.661 - Valid accuracy 0.078\n"
          ]
        }
      ]
    },
    {
      "cell_type": "code",
      "source": [
        "epoch_count = range(1, len(history2['accuracy']) + 1)\n",
        "sns.lineplot(x=epoch_count,  y=history2['accuracy'], label='train')\n",
        "sns.lineplot(x=epoch_count,  y=history2['val_accuracy'], label='valid')\n",
        "plt.show()"
      ],
      "metadata": {
        "colab": {
          "base_uri": "https://localhost:8080/",
          "height": 430
        },
        "id": "z1ecx6QGWTrb",
        "outputId": "452101d8-019b-4a42-87a3-48b1d28dac1e"
      },
      "execution_count": 69,
      "outputs": [
        {
          "output_type": "display_data",
          "data": {
            "text/plain": [
              "<Figure size 640x480 with 1 Axes>"
            ],
            "image/png": "[encoded data removed]"
          },
          "metadata": {}
        }
      ]
    },
    {
      "cell_type": "code",
      "source": [
        "torch.save(model2.state_dict(), \"model2_weights.pth\")"
      ],
      "metadata": {
        "id": "1jUg8a0qWZd4"
      },
      "execution_count": 70,
      "outputs": []
    },
    {
      "cell_type": "code",
      "source": [
        "test_phrases = [\n",
        "    \"bring me thanos\",\n",
        "    \"hi how are\",\n",
        "    \"i am\",\n",
        "    \"tony stark is\",\n",
        "    \"i am iron\",\n",
        "    \"we have a\",\n",
        "    \"i can do\",\n",
        "    \"avengers assemble on\",\n",
        "    \"whatever it takes\",\n",
        "    \"you should have\",\n",
        "    \"i love you\"\n",
        "]\n",
        "\n",
        "\n",
        "for text in test_phrases:\n",
        "    output = predict_next_word(model2, tok, text)\n",
        "    print(f\"Input:  {text}\")\n",
        "    print(f\"Output: {output}\")\n",
        "    print(\"-\" * 40)\n"
      ],
      "metadata": {
        "colab": {
          "base_uri": "https://localhost:8080/"
        },
        "id": "DFqRUl40bbO9",
        "outputId": "ba7ee45e-3e82-4a8d-9897-89553cf354c1"
      },
      "execution_count": 103,
      "outputs": [
        {
          "output_type": "stream",
          "name": "stdout",
          "text": [
            "Input:  bring me thanos\n",
            "Output: bring me thanos h\n",
            "----------------------------------------\n",
            "Input:  hi how are\n",
            "Output: hi how are you\n",
            "----------------------------------------\n",
            "Input:  i am\n",
            "Output: i am groot\n",
            "----------------------------------------\n",
            "Input:  tony stark is\n",
            "Output: tony stark is it\n",
            "----------------------------------------\n",
            "Input:  i am iron\n",
            "Output: i am iron and\n",
            "----------------------------------------\n",
            "Input:  we have a\n",
            "Output: we have a lot\n",
            "----------------------------------------\n",
            "Input:  i can do\n",
            "Output: i can do you\n",
            "----------------------------------------\n",
            "Input:  avengers assemble on\n",
            "Output: avengers assemble on the\n",
            "----------------------------------------\n",
            "Input:  whatever it takes\n",
            "Output: whatever it takes it\n",
            "----------------------------------------\n",
            "Input:  you should have\n",
            "Output: you should have the\n",
            "----------------------------------------\n",
            "Input:  i love you\n",
            "Output: i love you to\n",
            "----------------------------------------\n"
          ]
        }
      ]
    },
    {
      "cell_type": "code",
      "source": [
        "# Comparacion con modelo1\n",
        "test_phrases = [\n",
        "    \"bring me thanos\",\n",
        "    \"hi how are\",\n",
        "    \"i am\",\n",
        "    \"tony stark is\",\n",
        "    \"i am iron\",\n",
        "    \"we have a\",\n",
        "    \"i can do\",\n",
        "    \"avengers assemble on\",\n",
        "    \"whatever it takes\",\n",
        "    \"you should have\",\n",
        "    \"i love you\"\n",
        "]\n",
        "\n",
        "\n",
        "for text in test_phrases:\n",
        "    output = predict_next_word(model1, tok, text)\n",
        "    print(f\"Input:  {text}\")\n",
        "    print(f\"Output: {output}\")\n",
        "    print(\"-\" * 40)\n"
      ],
      "metadata": {
        "colab": {
          "base_uri": "https://localhost:8080/"
        },
        "id": "RhdfMRpecOPS",
        "outputId": "ead510cc-4cfe-4f26-d58b-96eb180beb2c"
      },
      "execution_count": 104,
      "outputs": [
        {
          "output_type": "stream",
          "name": "stdout",
          "text": [
            "Input:  bring me thanos\n",
            "Output: bring me thanos defeating\n",
            "----------------------------------------\n",
            "Input:  hi how are\n",
            "Output: hi how are defeating\n",
            "----------------------------------------\n",
            "Input:  i am\n",
            "Output: i am defeating\n",
            "----------------------------------------\n",
            "Input:  tony stark is\n",
            "Output: tony stark is defeating\n",
            "----------------------------------------\n",
            "Input:  i am iron\n",
            "Output: i am iron defeating\n",
            "----------------------------------------\n",
            "Input:  we have a\n",
            "Output: we have a defeating\n",
            "----------------------------------------\n",
            "Input:  i can do\n",
            "Output: i can do defeating\n",
            "----------------------------------------\n",
            "Input:  avengers assemble on\n",
            "Output: avengers assemble on defeating\n",
            "----------------------------------------\n",
            "Input:  whatever it takes\n",
            "Output: whatever it takes defeating\n",
            "----------------------------------------\n",
            "Input:  you should have\n",
            "Output: you should have defeating\n",
            "----------------------------------------\n",
            "Input:  i love you\n",
            "Output: i love you defeating\n",
            "----------------------------------------\n"
          ]
        }
      ]
    },
    {
      "cell_type": "markdown",
      "source": [
        "En conclusión, incorporar una LSTM bidireccional incrementó la capacidad del modelo y permitió una leve mejora en el rendimiento sobre el conjunto de entrenamiento. Sin embargo, el desempeño general sigue siendo limitado, evidenciando que el modelo continúa teniendo dificultades para generalizar. Esto indica que, si bien la bidireccionalidad aporta valor, la arquitectura actual sigue siendo insuficiente para capturar correctamente la complejidad del lenguaje en el dataset de avengers."
      ],
      "metadata": {
        "id": "sggCw6UocVXs"
      }
    }
  ]
}