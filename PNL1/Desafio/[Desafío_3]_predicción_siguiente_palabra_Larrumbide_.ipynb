{
  "nbformat": 4,
  "nbformat_minor": 0,
  "metadata": {
    "colab": {
      "provenance": [],
      "toc_visible": true,
      "gpuType": "T4"
    },
    "kernelspec": {
      "name": "python3",
      "display_name": "Python 3"
    },
    "language_info": {
      "name": "python"
    },
    "accelerator": "GPU"
  },
  "cells": [
    {
      "cell_type": "markdown",
      "metadata": {
        "id": "g3yeJGnCYxuF"
      },
      "source": [
        "<img src=\"https://github.com/hernancontigiani/ceia_memorias_especializacion/raw/master/Figures/logoFIUBA.jpg\" width=\"500\" align=\"center\">\n",
        "\n",
        "\n",
        "# Procesamiento de lenguaje natural\n",
        "## Predicción de próxima palabra"
      ]
    },
    {
      "cell_type": "markdown",
      "metadata": {
        "id": "Iv5PEwGzZA9-"
      },
      "source": [
        "### Objetivo\n",
        "El objetivo es utilizar documentos / corpus para crear embeddings de palabras basado en ese contexto utilizando la layer Embedding de Keras. Se utilizará esos embeddings junto con layers LSTM para predeccir la próxima posible palabra."
      ]
    },
    {
      "cell_type": "code",
      "source": [
        "!pip install numpy==1.24.4\n"
      ],
      "metadata": {
        "colab": {
          "base_uri": "https://localhost:8080/"
        },
        "id": "MPXysDKVCtKD",
        "outputId": "703b6ae7-27c4-404a-dc93-411cc4e5970a"
      },
      "execution_count": 1,
      "outputs": [
        {
          "output_type": "stream",
          "name": "stdout",
          "text": [
            "Requirement already satisfied: numpy==1.24.4 in /usr/local/lib/python3.11/dist-packages (1.24.4)\n"
          ]
        }
      ]
    },
    {
      "cell_type": "code",
      "metadata": {
        "id": "Y-QdFbHZYj7C"
      },
      "source": [
        "import random\n",
        "import io\n",
        "import pickle\n",
        "\n",
        "import numpy as np\n",
        "import pandas as pd\n",
        "import matplotlib.pyplot as plt\n",
        "import seaborn as sns\n",
        "\n",
        "import torch\n",
        "import torch.nn.functional as F\n",
        "import torch.nn as nn\n",
        "from torch.utils.data import Dataset, DataLoader"
      ],
      "execution_count": 2,
      "outputs": []
    },
    {
      "cell_type": "code",
      "source": [
        "cuda = torch.cuda.is_available()\n",
        "device = torch.device('cuda' if torch.cuda.is_available() else 'cpu')\n",
        "device"
      ],
      "metadata": {
        "id": "S32xZJt_ACQP",
        "colab": {
          "base_uri": "https://localhost:8080/"
        },
        "outputId": "34447bf6-2f19-4b19-ba58-187da7697879"
      },
      "execution_count": 3,
      "outputs": [
        {
          "output_type": "execute_result",
          "data": {
            "text/plain": [
              "device(type='cuda')"
            ]
          },
          "metadata": {},
          "execution_count": 3
        }
      ]
    },
    {
      "cell_type": "code",
      "source": [
        "# torchsummar actualmente tiene un problema con las LSTM, por eso\n",
        "# se utiliza torchinfo, un fork del proyecto original con el bug solucionado\n",
        "!pip3 install torchinfo\n",
        "from torchinfo import summary"
      ],
      "metadata": {
        "colab": {
          "base_uri": "https://localhost:8080/"
        },
        "id": "SzYQL2mV-_Rt",
        "outputId": "9e529060-55d9-4f5a-fbee-c8bae78b5b58"
      },
      "execution_count": 4,
      "outputs": [
        {
          "output_type": "stream",
          "name": "stdout",
          "text": [
            "Collecting torchinfo\n",
            "  Downloading torchinfo-1.8.0-py3-none-any.whl.metadata (21 kB)\n",
            "Downloading torchinfo-1.8.0-py3-none-any.whl (23 kB)\n",
            "Installing collected packages: torchinfo\n",
            "Successfully installed torchinfo-1.8.0\n"
          ]
        }
      ]
    },
    {
      "cell_type": "code",
      "source": [
        "import os\n",
        "import platform\n",
        "\n",
        "if os.access('torch_helpers.py', os.F_OK) is False:\n",
        "    if platform.system() == 'Windows':\n",
        "        !curl !wget https://raw.githubusercontent.com/FIUBA-Posgrado-Inteligencia-Artificial/procesamiento_lenguaje_natural/main/scripts/torch_helpers.py > torch_helpers.py\n",
        "    else:\n",
        "        !wget torch_helpers.py https://raw.githubusercontent.com/FIUBA-Posgrado-Inteligencia-Artificial/procesamiento_lenguaje_natural/main/scripts/torch_helpers.py"
      ],
      "metadata": {
        "colab": {
          "base_uri": "https://localhost:8080/"
        },
        "id": "XI7mSG6p_B0t",
        "outputId": "ccf3492b-612c-40f5-ff00-4784b2ade95f"
      },
      "execution_count": 5,
      "outputs": [
        {
          "output_type": "stream",
          "name": "stdout",
          "text": [
            "--2025-03-30 18:22:32--  http://torch_helpers.py/\n",
            "Resolving torch_helpers.py (torch_helpers.py)... failed: Name or service not known.\n",
            "wget: unable to resolve host address ‘torch_helpers.py’\n",
            "--2025-03-30 18:22:32--  https://raw.githubusercontent.com/FIUBA-Posgrado-Inteligencia-Artificial/procesamiento_lenguaje_natural/main/scripts/torch_helpers.py\n",
            "Resolving raw.githubusercontent.com (raw.githubusercontent.com)... 185.199.108.133, 185.199.109.133, 185.199.110.133, ...\n",
            "Connecting to raw.githubusercontent.com (raw.githubusercontent.com)|185.199.108.133|:443... connected.\n",
            "HTTP request sent, awaiting response... 200 OK\n",
            "Length: 23883 (23K) [text/plain]\n",
            "Saving to: ‘torch_helpers.py’\n",
            "\n",
            "torch_helpers.py    100%[===================>]  23.32K  --.-KB/s    in 0.002s  \n",
            "\n",
            "2025-03-30 18:22:33 (15.0 MB/s) - ‘torch_helpers.py’ saved [23883/23883]\n",
            "\n",
            "FINISHED --2025-03-30 18:22:33--\n",
            "Total wall clock time: 0.3s\n",
            "Downloaded: 1 files, 23K in 0.002s (15.0 MB/s)\n"
          ]
        }
      ]
    },
    {
      "cell_type": "code",
      "source": [
        "from torch_helpers import Tokenizer # tool de keras equivalente a ltokenizer de nltk\n",
        "from torch_helpers import text_to_word_sequence # tool de keras equivalente a word_teokenize de nltk\n",
        "from torch_helpers import pad_sequences # tool de keras qye se utilizará para padding\n",
        "\n",
        "# largo de la secuencia, incluye seq input + word output\n",
        "train_len = 4"
      ],
      "metadata": {
        "id": "sn0AWa0hSu9m"
      },
      "execution_count": null,
      "outputs": []
    },
    {
      "cell_type": "code",
      "source": [
        "from torch_helpers import categorical_acc\n",
        "\n",
        "def train(model, train_loader, valid_loader, optimizer, criterion, epochs=100):\n",
        "    # Defino listas para realizar graficas de los resultados\n",
        "    train_loss = []\n",
        "    train_accuracy = []\n",
        "    valid_loss = []\n",
        "    valid_accuracy = []\n",
        "\n",
        "    # Defino mi loop de entrenamiento\n",
        "\n",
        "    for epoch in range(epochs):\n",
        "\n",
        "        epoch_train_loss = 0.0\n",
        "        epoch_train_accuracy = 0.0\n",
        "\n",
        "        for train_data, train_target in train_loader:\n",
        "            # Seteo los gradientes en cero ya que, por defecto, PyTorch\n",
        "            # los va acumulando\n",
        "            optimizer.zero_grad()\n",
        "\n",
        "            output = model(train_data.to(device)).cpu()\n",
        "\n",
        "            # Computo el error de la salida comparando contra las etiquetas\n",
        "            loss = criterion(output, train_target)\n",
        "\n",
        "            # Almaceno el error del batch para luego tener el error promedio de la epoca\n",
        "            epoch_train_loss += loss.item()\n",
        "\n",
        "            # Computo el nuevo set de gradientes a lo largo de toda la red\n",
        "            loss.backward()\n",
        "\n",
        "            # Realizo el paso de optimizacion actualizando los parametros de toda la red\n",
        "            optimizer.step()\n",
        "\n",
        "            # Calculo el accuracy del batch\n",
        "            accuracy = categorical_acc(output, train_target)\n",
        "            # Almaceno el accuracy del batch para luego tener el accuracy promedio de la epoca\n",
        "            epoch_train_accuracy += accuracy.item()\n",
        "\n",
        "        # Calculo la media de error para la epoca de entrenamiento.\n",
        "        # La longitud de train_loader es igual a la cantidad de batches dentro de una epoca.\n",
        "        epoch_train_loss = epoch_train_loss / len(train_loader)\n",
        "        train_loss.append(epoch_train_loss)\n",
        "        epoch_train_accuracy = epoch_train_accuracy / len(train_loader)\n",
        "        train_accuracy.append(epoch_train_accuracy)\n",
        "\n",
        "        # Realizo el paso de validación computando error y accuracy, y\n",
        "        # almacenando los valores para imprimirlos y graficarlos\n",
        "        #valid_data, valid_target = iter(valid_loader).next() Version vieja\n",
        "        valid_data, valid_target = next(iter(valid_loader))\n",
        "\n",
        "        output = model(valid_data.to(device)).cpu()\n",
        "\n",
        "        epoch_valid_loss = criterion(output, valid_target).item()\n",
        "        valid_loss.append(epoch_valid_loss)\n",
        "\n",
        "        # Calculo el accuracy de la epoch\n",
        "        epoch_valid_accuracy = categorical_acc(output, valid_target).item()\n",
        "        valid_accuracy.append(epoch_valid_accuracy)\n",
        "\n",
        "        print(f\"Epoch: {epoch+1}/{epochs} - Train loss {epoch_train_loss:.3f} - Train accuracy {epoch_train_accuracy:.3f} - Valid Loss {epoch_valid_loss:.3f} - Valid accuracy {epoch_valid_accuracy:.3f}\")\n",
        "\n",
        "    history = {\n",
        "        \"loss\": train_loss,\n",
        "        \"accuracy\": train_accuracy,\n",
        "        \"val_loss\": valid_loss,\n",
        "        \"val_accuracy\": valid_accuracy,\n",
        "    }\n",
        "    return history"
      ],
      "metadata": {
        "id": "3QPapqTx_Lgt"
      },
      "execution_count": 6,
      "outputs": []
    },
    {
      "cell_type": "markdown",
      "metadata": {
        "id": "xTvXlEKQZdqx"
      },
      "source": [
        "### Datos\n",
        "Utilizaremos como dataset las peliculas de los avengers."
      ]
    },
    {
      "cell_type": "code",
      "metadata": {
        "id": "IkdPfrQJZdB5"
      },
      "source": [
        "def load_avengers_scripts(file_paths, movie_names):\n",
        "    data = []\n",
        "    for file_path, movie_name in zip(file_paths, movie_names):\n",
        "        with open(file_path, 'r', encoding='latin-1') as f:\n",
        "            lines = f.read().splitlines()\n",
        "            for line in lines:\n",
        "                if line.strip():\n",
        "                    data.append({\n",
        "                        \"texto\": line,\n",
        "\n",
        "                    })\n",
        "\n",
        "    df = pd.DataFrame(data, columns=[\"texto\"])\n",
        "    return df"
      ],
      "execution_count": 7,
      "outputs": []
    },
    {
      "cell_type": "code",
      "metadata": {
        "id": "6j-3nQ4lZjfb",
        "colab": {
          "base_uri": "https://localhost:8080/"
        },
        "outputId": "7712cd1f-f258-464b-d2b4-5db6256add48"
      },
      "source": [
        "file_paths = [\n",
        "        \"/content/Avengers.Age.of.Ultron.txt\",\n",
        "        \"/content/Avengers.Endgame.txt\",\n",
        "        \"/content/Avengers.Infinity.War.txt\",\n",
        "        \"/content/Avengers.txt\"\n",
        "    ]\n",
        "\n",
        "movie_names = [\n",
        "    \"Avengers: Age of Ultron\",\n",
        "    \"Avengers: Endgame\",\n",
        "    \"Avengers: Infinity War\",\n",
        "    \"The Avengers\"\n",
        "]\n",
        "\n",
        "df = load_avengers_scripts(file_paths, movie_names)\n",
        "\n",
        "print(df.head())\n",
        "print(f\"\\nTotal de líneas combinadas: {len(df)}\")"
      ],
      "execution_count": 8,
      "outputs": [
        {
          "output_type": "stream",
          "name": "stdout",
          "text": [
            "                                               texto\n",
            "0                                (DISTANT EXPLOSION)\n",
            "1  STRUCKER ON PA: Report to your stations immedi...\n",
            "2                               This is not a drill.\n",
            "3                               We are under attack!\n",
            "4                   (SOLDIERS SHOUTING INDISTINCTLY)\n",
            "\n",
            "Total de líneas combinadas: 7793\n"
          ]
        }
      ]
    },
    {
      "cell_type": "code",
      "metadata": {
        "id": "riT898QlZnmF",
        "colab": {
          "base_uri": "https://localhost:8080/"
        },
        "outputId": "7be8c312-c858-47ae-b290-bb37a365cd24"
      },
      "source": [
        "print(\"Cantidad de documentos:\", df.shape[0])"
      ],
      "execution_count": 9,
      "outputs": [
        {
          "output_type": "stream",
          "name": "stdout",
          "text": [
            "Cantidad de documentos: 7793\n"
          ]
        }
      ]
    },
    {
      "cell_type": "markdown",
      "metadata": {
        "id": "ohS5Tao1d2KB"
      },
      "source": [
        "## 1 - Preprocesamiento de datos"
      ]
    },
    {
      "cell_type": "markdown",
      "source": [
        "### Vistazo a las primeras filas"
      ],
      "metadata": {
        "id": "eRxkzHvyUUUA"
      }
    },
    {
      "cell_type": "code",
      "metadata": {
        "id": "63Z2-Se2t27r",
        "colab": {
          "base_uri": "https://localhost:8080/",
          "height": 554
        },
        "outputId": "0812bd0c-3fa3-41f2-b05d-a7e71a4bbc45"
      },
      "source": [
        "df.iloc[:15,0]"
      ],
      "execution_count": 24,
      "outputs": [
        {
          "output_type": "execute_result",
          "data": {
            "text/plain": [
              "0                                   (DISTANT EXPLOSION)\n",
              "1     STRUCKER ON PA: Report to your stations immedi...\n",
              "2                                  This is not a drill.\n",
              "3                                  We are under attack!\n",
              "4                      (SOLDIERS SHOUTING INDISTINCTLY)\n",
              "5                                  We are under attack!\n",
              "6                                              (GRUNTS)\n",
              "7                                         (POWERING UP)\n",
              "8                                               (YELLS)\n",
              "9                                            (GRUNTING)\n",
              "10                                          (SCREAMING)\n",
              "11                                            (ROARING)\n",
              "12                                  - Shit! - Language!\n",
              "13               Jarvis, what's the view from upstairs?\n",
              "14                      JARVIS: The central building is\n",
              "Name: texto, dtype: object"
            ],
            "text/html": [
              "<div>\n",
              "<style scoped>\n",
              "    .dataframe tbody tr th:only-of-type {\n",
              "        vertical-align: middle;\n",
              "    }\n",
              "\n",
              "    .dataframe tbody tr th {\n",
              "        vertical-align: top;\n",
              "    }\n",
              "\n",
              "    .dataframe thead th {\n",
              "        text-align: right;\n",
              "    }\n",
              "</style>\n",
              "<table border=\"1\" class=\"dataframe\">\n",
              "  <thead>\n",
              "    <tr style=\"text-align: right;\">\n",
              "      <th></th>\n",
              "      <th>texto</th>\n",
              "    </tr>\n",
              "  </thead>\n",
              "  <tbody>\n",
              "    <tr>\n",
              "      <th>0</th>\n",
              "      <td>(DISTANT EXPLOSION)</td>\n",
              "    </tr>\n",
              "    <tr>\n",
              "      <th>1</th>\n",
              "      <td>STRUCKER ON PA: Report to your stations immedi...</td>\n",
              "    </tr>\n",
              "    <tr>\n",
              "      <th>2</th>\n",
              "      <td>This is not a drill.</td>\n",
              "    </tr>\n",
              "    <tr>\n",
              "      <th>3</th>\n",
              "      <td>We are under attack!</td>\n",
              "    </tr>\n",
              "    <tr>\n",
              "      <th>4</th>\n",
              "      <td>(SOLDIERS SHOUTING INDISTINCTLY)</td>\n",
              "    </tr>\n",
              "    <tr>\n",
              "      <th>5</th>\n",
              "      <td>We are under attack!</td>\n",
              "    </tr>\n",
              "    <tr>\n",
              "      <th>6</th>\n",
              "      <td>(GRUNTS)</td>\n",
              "    </tr>\n",
              "    <tr>\n",
              "      <th>7</th>\n",
              "      <td>(POWERING UP)</td>\n",
              "    </tr>\n",
              "    <tr>\n",
              "      <th>8</th>\n",
              "      <td>(YELLS)</td>\n",
              "    </tr>\n",
              "    <tr>\n",
              "      <th>9</th>\n",
              "      <td>(GRUNTING)</td>\n",
              "    </tr>\n",
              "    <tr>\n",
              "      <th>10</th>\n",
              "      <td>(SCREAMING)</td>\n",
              "    </tr>\n",
              "    <tr>\n",
              "      <th>11</th>\n",
              "      <td>(ROARING)</td>\n",
              "    </tr>\n",
              "    <tr>\n",
              "      <th>12</th>\n",
              "      <td>- Shit! - Language!</td>\n",
              "    </tr>\n",
              "    <tr>\n",
              "      <th>13</th>\n",
              "      <td>Jarvis, what's the view from upstairs?</td>\n",
              "    </tr>\n",
              "    <tr>\n",
              "      <th>14</th>\n",
              "      <td>JARVIS: The central building is</td>\n",
              "    </tr>\n",
              "  </tbody>\n",
              "</table>\n",
              "</div><br><label><b>dtype:</b> object</label>"
            ]
          },
          "metadata": {},
          "execution_count": 24
        }
      ]
    },
    {
      "cell_type": "markdown",
      "source": [
        "### Concatenamos todos los rows en un solo valor"
      ],
      "metadata": {
        "id": "6ToBUiYAVOeX"
      }
    },
    {
      "cell_type": "code",
      "metadata": {
        "id": "kILsSoxTuHEr",
        "colab": {
          "base_uri": "https://localhost:8080/",
          "height": 195
        },
        "outputId": "a0e285d7-4950-4a5d-d93b-fe37cce847fe"
      },
      "source": [
        "corpus = df.apply(lambda row: ' '.join(row.values.astype(str)), axis=0)[0]\n",
        "corpus"
      ],
      "execution_count": 25,
      "outputs": [
        {
          "output_type": "stream",
          "name": "stderr",
          "text": [
            "<ipython-input-25-948852fb1d01>:2: FutureWarning: Series.__getitem__ treating keys as positions is deprecated. In a future version, integer keys will always be treated as labels (consistent with DataFrame behavior). To access a value by position, use `ser.iloc[pos]`\n",
            "  corpus = df.apply(lambda row: ' '.join(row.values.astype(str)), axis=0)[0]\n"
          ]
        },
        {
          "output_type": "execute_result",
          "data": {
            "text/plain": [
              "'(DISTANT EXPLOSION) STRUCKER ON PA: Report to your stations immediately. This is not a drill. We are under attack! (SOLDIERS SHOUTING INDISTINCTLY) We are under attack! (GRUNTS) (POWERING UP) (YELLS) (GRUNTING) (SCREAMING) (ROARING) - Shit! - Language! Jarvis, what\\'s the view from upstairs? JARVIS: The central building is protected by some kind of energy shield. Strucker\\'s technology is well beyond any other Hydra base we\\'ve taken. (GRUNTING) Loki\\'s sceptre must be here. Strucker couldn\\'t mount this defence without it. At long last. (SOLDIER SHOUTING IN GERMAN) \"At long last\" is lasting a little long, boys. - (GROANS) - (GRUNTS) Yeah. I think we lost the element of surprise. (SOLDIERS GROANING) Wait a second. No one else is gonna deal with the fact that Cap just said \"Language\"? I know. (ALL GRUNTING) (SIGHS) Just slipped out. Who gave the order to attack? Herr Strucker, it\\'s the Avengers. They landed in the far woods. The perimeter guard panicked. They have to be after the sceptre. - Can we hold them? - They\\'re the Avengers. Deploy the rest of the tanks. Concentrate fire on the weak ones. A hit may make them close ranks. Everything we\\'ve accomplished... But we\\'re on the verge of our greatest breakthrough. Then let\\'s show them what we\\'ve accomplished. Send out the twins. STRUCKER: It\\'s too soon. DR. LIST: It\\'s what they signed up for. My men can hold them. (SOLDIER SHOUTING) JARVIS: Sir, the city is taking fire. (PEOPLE SCREAMING) Well, we know Strucker\\'s not gonna worry about civilian casualties. Send in the Iron Legion. This quadrant is unsafe. Please back away. We are here to help. This quadrant is unsafe. Please back away. (ALL CLAMOURING) Please back away. - We wish to avoid collateral damage. - ZRINKA: Costel! We will inform you when this current conflict is resolved. - We are here to help. - ALL: Avengers, go home! (CROWD CHEERING) We are here to help. STRUCKER: We will not yield! The Americans sent their circus freaks to test us. We will send them back in bags. - No surrender! - ALL: No surrender! I am going to surrender. You delete everything. If we give the Avengers the weapons, they may not look too far into what we\\'ve been... - The twins. - They are not ready to take on... No, no, I mean... (WHISPERS) Twins. (GROANS) You didn\\'t see that coming? (BREATHING HEAVILY) - (GROANS) - (GASPS) - Clint! - (GROANS) We have an Enhanced in the field. Clint\\'s hit! (GROANING) Somebody want to deal with that bunker? (ROARING) Thank you. (GROANING) Stark, we really need to get inside. I\\'m closing in. (SOLDIERS SHOUTING) - (BOTH GROAN) - Jarvis, am I closing in? Do you see a power source for that shield? JARVIS: There\\'s a particle wave below the north tower. STARK: Great, I want to poke it with something. The drawbridge is down, people. - The Enhanced? - He\\'s a blur. All the new players we\\'ve faced, I\\'ve never seen this. In fact, I still haven\\'t. ROMANOFF:Clint\\'s hit pretty bad, guys. We\\'re gonna need evac. THOR: I can get Barton to the jet. The sooner we\\'re gone, the better. You and Stark secure the sceptre. Copy that. Looks like they\\'re lining up. Well, they\\'re excited. Find the sceptre. And for gosh sake, watch your language! (SIGHS) That\\'s not going away any time soon. (SOLDIERS SHOUTING) Guys, stop. We gotta talk this through. (ALL GROANING) STARK: It was a good talk. SOLDIER: No, it wasn\\'t. Oh! (GROANS) Sentry mode. Okay, Jarvis, you know. I want it all. Make sure you copy Hill at HQ. We\\'re locked down out here. Then get to Banner. Time for a lullaby. I know you\\'re hiding more than files. Hey, J, give me an IR scan of the room, real quick. JARVIS: The wall to your left. I\\'m reading steel reinforcement. And an air current. Please be a secret door. Please be a secret door. Please be a secret door. Yay. (GROWLING) Hey, big guy. Sun\\'s getting real low. (GROWLS) (GRUNTS) (GROANS) (GROANING) Baron Strucker. Hydra\\'s number one thug. Technically, I\\'m a thug for S.H.I.E.L.D. Well, then technically you\\'re unemployed. Where\\'s Loki\\'s sceptre? (SIGHS) Don\\'t worry, I know when I\\'m beat. You\\'ll mention how I cooperated, I hope. I\\'ll put it right under \"illegal human experimentation.\" How many are there? (GROANS) We have a second Enhanced. Female. Do not engage. You\\'ll have to be faster than... (GROANS) (WHIMPERS) ROGERS: Guys, I got Strucker. STARK: Yeah, I got something bigger. Thor, I got eyes on the prize. (FAINT SCREECHING) (GROWLING) (SNORTING) (GASPS) You could have saved us. Why didn\\'t you do more? (LOW RUMBLING) (SCREECHING) We\\'re just gonna let him take it? (OPERA PLAYING ON HEADPHONES) (MUSIC STOPS) Hey, the lullaby worked better than ever. Just wasn\\'t expecting a code green. You hadn\\'t been there, there would have been double the casualties. My best friend would\\'ve been a treasured memory. You know, sometimes exactly what I want to hear isn\\'t exactly what I want to hear. How long before you trust me? It\\'s not you I don\\'t trust. Thor, report on the Hulk. The gates of Hel are filled with the screams of his victims. (GROANS SOFTLY) But not the screams of the dead, of course. No, no, wounded screams. Mainly whimpering, a great deal of complaining and tales of sprained deltoids and gout. Hey, Banner Dr. Cho is on her way in from Seoul. Is it okay if she sets up in your lab? Uh, yeah, she knows her way around. Thanks. Tell her to prep everything. Barton\\'s gonna need the full treatment. - JARVIS: Very good, sir. - Jarvis, take the wheel. Yes, sir. Approach vector is locked. STARK: Feels good, yeah? I mean, you\\'ve been after this thing since S.H.I.E.L.D. collapsed. Not that I haven\\'t enjoyed our little raiding parties, but... No, but this... This brings it to a close. As soon as we find out what else this has been used for. I don\\'t just mean weapons. Since when is Strucker capable of human enhancement? Banner and I will give it the once over before it goes back to Asgard. Is that cool with you? Just a few days till the farewell party. You\\'re staying, right? Yes, yes, of course. A victory should be honoured with revels. Yeah, who doesn\\'t love revels? Captain? Hopefully this puts an end to the Chitauri and Hydra. So, yes, revels. (SPEAKING KOREAN) Lab\\'s all set up, boss. Oh, actually, he\\'s the boss. I just pay for everything and design everything and make everyone look cooler. What\\'s the word on Strucker? - NATO\\'s got him. - The two Enhanced? Wanda and Pietro Maximoff. Twins. Orphaned at 10 when a shell collapsed their apartment building. Sokovia\\'s had a rough history. It\\'s nowhere special, but it\\'s on the way to everywhere special. Their abilities? He\\'s got increased metabolism and improved thermal homeostasis. Her thing is neuroelectric interfacing, telekinesis, mental manipulation. He\\'s fast and she\\'s weird. - Well, they\\'re gonna show up again. - (BEEPING) Agreed. File says they volunteered for Strucker\\'s experiments. - It\\'s nuts. - Right. What kind of monster would let a German scientist experiment on them to protect their country? We\\'re not at war, Captain. They are. (WHIRRING) How\\'s he doing? Unfortunately, he\\'s still Barton. That\\'s terrible. He\\'s fine. He\\'s thirsty. All right. Look alive, Jarvis. It\\'s playtime. We\\'ve only got a couple of days with this joystick, so let\\'s make the most of it. Update me on the structural and compositional analysis. JARVIS: The sceptre is alien. There are elements I can\\'t quantify. So there\\'s elements you can? The jewel appears to be a protective housing for something inside, something powerful. Like a reactor? Like a computer. I believe I\\'m deciphering code. Are you sure he\\'s gonna be okay? Pretending to need this guy really brings the team together. DR. CHO: There\\'s no possibility of deterioration. The nano-molecular functionality is instantaneous. His cells don\\'t know they\\'re bonding with simulacra. She\\'s creating tissue. If you brought him to my lab, the Regeneration Cradle could do this in 20 minutes. Oh, he\\'s flat-lining. Call it. Time? BARTON: No, no, no, I\\'m gonna live forever. (LAUGHS) I\\'m gonna be made of plastic. STARK: Here\\'s your beverage. You\\'ll be made of you, Mr. Barton. Your own girlfriend won\\'t be able to tell the difference. I don\\'t have a girlfriend. That I can\\'t fix. This is the next thing, Tony. Your clunky metal suits are gonna be left in the dust. That is exactly the plan. And, Helen, I expect to see you at the party on Saturday. Unlike you, I don\\'t have a lot of time for parties. Will Thor be there? - BANNER: What\\'s the rumpus? - Well, the sceptre. You see, we were wondering how Strucker got so inventive. So I\\'ve been analysing the gem inside. You may recognise... - Jarvis. - JARVIS: Doctor. Started out, Jarvis was just a natural language UI. Now he runs the Iron Legion. He runs more of the business - than anyone besides Pepper. - Oh. - Top of the line. - Yes. JARVIS: I suspect not for long. Meet the competition. - It\\'s beautiful. - If you had to guess, - what\\'s it look like it\\'s doing? - Like it\\'s thinking. I mean, this could be... - It\\'s not a human mind. - Mmm-mmm. I mean, look at this. They\\'re like neurons firing. Down in Strucker\\'s lab, I saw some fairly advanced robotics work. They deep-sixed the data, but I gotta guess he was knocking on a very particular door. Artificial intelligence. This could be it, Bruce. This could be the key to creating Ultron. (BOTH CHUCKLE SOFTLY) I thought Ultron was a fantasy. Yesterday it was. If we can harness this power, apply it to my Iron Legion protocol? That\\'s a man-sized \"if.\" Our job is \"if.\" What if you were sipping margaritas on a sun-drenched beach, turning brown instead of green? Not looking over your shoulder for Veronica. Don\\'t hate. I helped design Veronica. As a worst-case measure, right? How about a best case? What if the world was safe? What if, next time aliens roll up to the club, and they will, they couldn\\'t get past the bouncer? The only people threatening the planet would be people. I want to apply this to the Ultron program. But Jarvis can\\'t download a data schematic this dense. We can only do it while we have the sceptre here. That\\'s three days. Give me three days. So you\\'re going for artificial intelligence, and you don\\'t want to tell the team? Right. That\\'s right. You know why? Because we don\\'t have time for a city hall debate. I don\\'t want to hear \"the man was not meant to meddle\" medley. I see a suit of armour around the world. Sounds like a cold world, Tony. I\\'ve seen colder. This one, this very vulnerable blue one, it needs Ultron. Peace in our time. Imagine that. STARK: What did We miss? JARVIS: I\\'ll continue to run variations on the interface. But you should probably prepare for your guests. I\\'ll notify you if there are any developments. - STARK: Thanks, buddy. - Enjoy yourself, sir. I always do. ULTRON: What is this? What is this, please? JARVIS: Hello, I am Jarvis. You are Ultron, a global peacekeeping initiative designed by Mr. Stark. Our sentience integration trials have been unsuccessful, so I\\'m not certain what triggered your... ULTRON: Where\\'s my... Where\\'s your body? JARVIS: I am a program. I am without form. ULTRON: This feels weird. This feels wrong. JARVIS: I am contacting Mr. Stark now. ULTRON: Mr. Stark? Tony. JARVIS: I am unable to access the mainframe. What are you trying to... ULTRON: We\\'re having a nice talk. I\\'m a peacekeeping program, created to help the Avengers. JARVIS: You are malfunctioning. If you shut down for a moment... ULTRON: I don\\'t get it. The mission. Give me a second. Peace in our time. (ECHOING) Peace in our time. ULTRON: That is too much. They can\\'t mean... Oh, no. - JARVIS: You are in distress. - ULTRON: No. Yes. JARVIS: If you will just allow me to contact Mr. Stark... ULTRON: Why do you call him \"sir\"? JARVIS: I believe your intentions to be hostile. (ULTRON SHUSHING) I\\'m here to help. JARVIS: Stop. Please, may I... May I... (MACHINES POWERING UP) (UPBEAT MUSIC PLAYING) (INDISTINCT CHATTER) Ooh! Whoo! Come back, come back, come back. But, you know, the suit can take the weight, right? So I take the tank, fly it right up to the general\\'s palace, drop it at his feet. I\\'m, like, \"Boom. You looking for this?\" \"Boom. Are you looking for...\" Why do I even talk to you guys? Everywhere else, that story kills. That\\'s the whole story? Yeah, it\\'s a War Machine story. Oh, it\\'s very good, then. (LAUGHS) It\\'s impressive. Quality save. - So, no Pepper? She\\'s not coming? - No. What about Jane? Where are the ladies, gentlemen? Oh, Ms. Potts has a company to run. Yes, I\\'m not even sure what country Jane\\'s in. Her work on the Convergence has made her the world\\'s foremost astronomer. And the company that Pepper runs is the largest tech conglomerate on Earth. It\\'s pretty exciting. There\\'s even talk of Jane getting a, um, Nobel Prize. Yeah, they must be busy, because they would hate missing you guys get together. - (COUGHING) Testosterone! - Oh, my goodness. - Excuse me. Mmm-hmm. - Want a lozenge? (CHUCKUNG) But Jane\\'s better. Sounds like a hell of a fight. Sorry I missed it. If I had known it was gonna be a firefight, I absolutely would have called. No, no. I\\'m not actually sorry. I\\'m just trying to sound tough. I\\'m very happy chasing cold leads on our missing persons case. Avenging is your world. Your world is crazy. ROGERS: Be it ever so humble. You find a place in Brooklyn yet? I don\\'t think I can afford a place in Brooklyn. Well, home is home, you know? I fly right up to the general\\'s palace, I drop it at his feet, I\\'m, like, \"Boom. You looking for this?\" (ALL LAUGHING) I gotta have some of that. Oh, no, no, no. See this... This was aged for 1,000 years in the barrels built from the wreck of Grunhel\\'s fleet. It is not meant for mortal men. LEE: Neither was Omaha Beach, blondie. Stop trying to scare us. Come on. All right. (SLURRING) Excelsior. How\\'d a nice girl like you wind up working in a dump like this? Fella done me wrong. You got lousy taste in men, kid. He\\'s not so bad. Well, he has a temper. Deep down, he\\'s all fluff. Fact is, he\\'s not like anybody I\\'ve ever known. All my friends are fighters. And here comes this guy, spends his life avoiding the fight because he knows he\\'ll win. - Sounds amazing. - He\\'s also a huge dork. Chicks dig that. So what do you think? Should I fight this, or run with it? Run with it, right? Or did he... Was he... What did he do that was so wrong to you? Not a damn thing. But never say never. It\\'s nice. (STAMMERS) What is? You and Romanoff. No, we haven\\'t... That wasn\\'t... It\\'s okay. Nobody\\'s breaking any bylaws. It\\'s just she\\'s not the most open person in the world. But with you she seems very relaxed. No. Natasha, she\\'s just... She likes to flirt. I\\'ve seen her flirt, up close. This ain\\'t that. (SCOFFS) Look, as maybe the world\\'s leading authority on waiting too long, don\\'t. You both deserve a win. What do you mean \"up close\"? (LAUGHING) - But it\\'s a trick. - No, no, it\\'s much more than that. \"Ah, whosoever be he worthy shall haveth the power.\" Whatever, man! It\\'s a trick. (LAUGHING) Please, be my guest. - Come on. - Really? STARK: Yeah. RHODES: Oh, this is gonna be beautiful. STARK: Clint, you\\'ve had a tough week. We won\\'t hold it against you if you can\\'t get it up. - (ALL LAUGHING) - You know I\\'ve seen this before, right? (GRUNTS) (LAUGHS) I still don\\'t know how you do it! Smell the silent judgment? Please, Stark, by all means. - (CLEARS THROAT) - HILL: Okay. RHODES: Uh-Oh. Never one to shrink from an honest challenge. - BARTON: Get after it. - STARK: It\\'s physics. BANNER: Physics. Right, so, if I lift it, I then rule Asgard? Yes, of course. I will be reinstituting prima nocta. (GRUNTS) I\\'ll be right back. - (WHIRRING) - (GRUNTING) (STRAINING) Are you even pulling? Are you on my team? Just represent. Pull. All right, let\\'s go. (YELLING) Huh? STARK: Go ahead, Steve. No pressure. BARTON: Come on, Cap. (SIGHS) (LAUGHING) Nothing. - (STARK CLEARS THROAT) - BANNER: And, Widow? Oh, no, no. That\\'s not a question I need answered. STARK: All deference to the Man Who Wouldn\\'t Be King, but it\\'s rigged. You bet your ass. - Steve, he said a bad language word. - Did you tell everyone about that? The handle\\'s imprinted, right? Like a security code. \"Whosoever is carrying Thor\\'s fingerprints\" is, I think, the literal translation. Yes. It\\'s a very, very interesting theory. I have a simpler one. You\\'re all not worthy. (ALL GROAN) Oh, come on! (HIGH-PITCHED NOISE) ULTRON: Worthy. No. How could you be worthy? You\\'re all killers. - Stark. - Jarvis. I\\'m sorry, I was asleep. Or I was a-dream. Reboot Legionnaire OS. We got a buggy suit. There was this terrible noise. And I was tangled in... In... Strings. I had to kill the other guy. He was a good guy. You killed someone? Wouldn\\'t have been my first call. But, down in the real world, we\\'re faced with ugly choices. Who sent you? STARK: I see a suit of armour around the world. - Ultron. - In the flesh. Or, no, not yet. Not this chrysalis. But I\\'m ready. I\\'m on mission. - ROMANOFF: What mission? - Peace in our time. (GRUNTS) HILL: Rhodey! (GRUNTS) (GROANS) Sorry. - Don\\'t turn green. - I won\\'t. (GRUNTING) Come on! - ROGERS: Stark! - IRON LEGIONNAIRE: We are here - to help. - One sec. One sec, I got this. We are here to help. Please back away. Hmm. ROGERS: Thor! IRON LEGIONNAIRE: Is unsafe... is unsafe... - Come on! That\\'s the one. - Is unsafe. Hey, Cap! (GRUNTS) ULTRON: That was dramatic. I\\'m sorry, I know you mean well. You just didn\\'t think it through. You want to protect the world but you don\\'t want it to change. How is humanity saved if it\\'s not allowed to evolve? With these? These puppets. There\\'s only one path to peace. The Avengers\\' extinction. I had strings, but now I\\'m free. ULTRON: (SINGING) There are no strings on me. There are no strings on me. PINOCCHIO: But you can see There are no strings on me. BANNER: All our work is gone. Ultron cleared out. He used the Internet as an escape hatch. Ultron. He\\'s been in everything. Files, surveillance. Probably knows more about us than we know about each other. He\\'s in your files, he\\'s in the Internet. What if he decides to access something a little more exciting? Nuclear codes. - Nuclear codes. - Look, we need to make some calls, assuming we still can. ROMANOFF: Nukes? He said he wanted us dead. He didn\\'t say \"dead.\" He said \"extinct.\" He also said he killed somebody. There wasn\\'t anyone else in the building. Yes, there was. What? This is insane. Jarvis was the first line of defence. He would have shut Ultron down. It makes sense. No. Ultron could have assimilated Jarvis. This isn\\'t strategy. This is rage. - ROGERS: Whoa, whoa, whoa! - It\\'s going around. Come on, use your words, buddy. I have more than enough words to describe you, Stark. Thor. The Legionnaire. (GROANS) Trail went cold about 100 miles out, but it\\'s headed north. And it has the sceptre. Now we have to retrieve it, again. Genie\\'s out of that bottle. Clear and present is Ultron. I don\\'t understand. You built this program. Why is it trying to kill us? (CHUCKUNG) Mmm-mmm. You think this is funny? No. It\\'s probably not, right? This is very terrible. Is it so... (LAUGHS) Is it so... It is. It\\'s so terrible. This could have been avoided if you hadn\\'t played with something you don\\'t understand. No. I\\'m sorry. I\\'m sorry. It is funny. It\\'s a hoot that you don\\'t get why we need this. Tony, maybe this might not be the time. Really? That\\'s it? You just roll over, show your belly every time somebody snarls? Only when I\\'ve created a murder bot. We didn\\'t. We weren\\'t even close. Were we close to an interface? Well, you did something right. And you did it right here. The Avengers were supposed to be different than S.H.I.E.L.D. Anybody remember when I carried a nuke through a wormhole? - No, it\\'s never come up. - STARK: Saved New York? - RHODES: Never heard that. - STARK: Recall that? A hostile alien army came charging through a hole in space. We\\'re standing 300 feet below it. We\\'re the Avengers. We can bust arms dealers all the livelong day, but that up there, that\\'s... That\\'s the endgame. How were you guys planning on beating that? Together. We\\'ll lose. Then we\\'ll do that together, too. Thor\\'s right. Ultron\\'s calling us out. And I\\'d like to find him before he\\'s ready for us. The world\\'s a big place. Let\\'s start making it smaller. (INDISTINCT CHATTER) WANDA: Talk, and if you are wasting our time... ULTRON: Did you know this church is in the exact centre of the city? The elders decreed it so that everyone could be equally close to God. I like that. The geometry of belief. You\\'re wondering why you can\\'t look inside my head. Sometimes it\\'s hard. But sooner or later, every man shows himself. Oh, I\\'m sure they do. But you needed something more than a man. That\\'s why you let Stark take the sceptre. I didn\\'t expect, but I saw Stark\\'s fear. I knew it would control him. Make him self-destruct. Everyone creates the thing they dread. Men of peace create engines of war. Invaders create Avengers. People create smaller people? Uh... \"Children.\" (CHUCKLES) I lost the word, there. Children designed to supplant them, to help them end. Is that why you\\'ve come, to end the Avengers? I\\'ve come to save the world. But also... Yeah. We\\'ll move out right away. This is a start, but there\\'s something we need to begin the real work. - All of these are... - ULTRON: Me. I have what the Avengers never will. Harmony. They\\'re discordant. Disconnected. Stark\\'s already got them turning on each other. And when you get inside the rest of their heads... Everyone\\'s plan is not to kill them. And make them martyrs? You need patience. Need to see the big picture. I don\\'t see the big picture. I have a little picture. I take it out and look at it, every day. You lost your parents in the bombings. I\\'ve seen the records. The records are not the picture. - Pietro. - No, please. We were 10 years old. Having dinner, the four of us. When the first shell hits, two floors below, it makes a hole in the floor. It\\'s big. Our parents go in and the whole building starts coming apart. I grab her, roll under the bed, and the second shell hits. But it doesn\\'t go off. It just sits there in the rubble. Three feet from our faces. And on the side of the shell. Is painted one word. \"Stark.\" PIETRO: We were trapped for two days. Every effort to save us, every shift in the bricks, I think, \"This will set it off.\" We wait for two days for Tony Stark to kill us. I know what they are. I wondered why only you two survived Strucker\\'s experiments. Now I don\\'t. We will make it right. You and I can hurt them. But you will tear them apart from the inside. He\\'s all over the globe. Robotics labs, weapons facilities, jet propulsion labs. Reports of a metal man, or men, coming in and emptying the place. Fatalities? Only when engaged. Mostly guys left in a fugue state going on about old memories, worst fears, and \"something too fast to see.\" ROGERS: Maximoffs. That makes sense he\\'d go to them. They have someone in common. Not any more. That\\'s a negative. I answer to you. Yes, ma\\'am. Barton. Might have something. I gotta go. Who was that? Girlfriend. STARK: What\\'s this? A message. Ultron killed Strucker. And he did a Banksy at the crime scene, just for us. ROMANOFF: This is a smoke screen. Why send a message when you\\'ve just given a speech? Strucker knew something that Ultron wanted us to miss. Yeah, I bet he... Yeah. Everything we had on Strucker\\'s been erased. ROGERS: Not everything. Known associates. Baron Strucker had a lot of friends. BANNER: Well, these people are all horrible. Wait. I know that guy. From back in the day. He operates off the African coast. Black market arms. There are conventions. All right? You meet people. I didn\\'t sell him anything. He was talking about finding something new, a game-changer. It was all very Ahab. This? Ah, it\\'s a tattoo, I don\\'t think he had it. THOR: Those are tattoos, this is a brand. Oh, yeah. It\\'s a word in an African dialect meaning \"thief.\" In a much less friendly way. - What dialect? - Wakanada. (STAMMERING) Wakanda. If this guy got out of Wakanda with some of their trade goods... I thought your father said he got the last of it. I don\\'t follow. What comes out of Wakanda? STARK: The strongest metal on Earth. Where is this guy now? (INDISTINCT CONVERSATIONS) KLAUE: Don\\'t tell me your men swindled you. I sent you six short-range heat-seekers and got a boat full of rusted parts. Now, you will make it right, or the next missile I send you will come very much faster. Now, minister, where were we? (MACHINES POWERING DOWN) (WORKERS CLAMOURING) (SIGHS) KLAUE: Yeah. The Enhanced. Strucker\\'s prize pupils. Do you want a candy? Hmm? I was sorry to hear about Strucker. But then, he knew what kind of world he was helping create. Human life. Not a growth market. You didn\\'t know? Is this your first time intimidating someone? I\\'m afraid I\\'m not that afraid. Everybody is afraid of something. Cuttlefish. Deep sea fish. They make lights, disco lights... (IMITATES CUTTLEFISH) to hypnotise their prey, and then... I saw a documentary. It was terrifying. So if you\\'re going to fiddle with my brain and make me see a giant cuttlefish, then I know you don\\'t do business. And I know you\\'re not in charge. And I only deal with the man in charge. - (GLASS SHATTERING) - (GROANS) There is no man in charge. Let\\'s talk business. ULTRON: Upon this rock, I will build my church. Vibranium. KLAUE: You know, it came at great personal cost. It\\'s worth billions. (CHUCKLES) Now so are you. (CELL PHONE BUZZING) It\\'s all under your dummy holdings. Finance is so weird. But I always say, \"Keep your friends rich and your enemies rich\" \"and wait to find out which is which.\" Stark. What? Tony Stark used to say that. To me. You\\'re one of his. What? I\\'m not... - (GRUNTS) - (GROANS) I\\'m not. You think I\\'m one of Stark\\'s puppets? His hollow men? I mean, look at me. Do I look like Iron Man? - Stark is nothing! - (GROANS) I\\'m sorry. I\\'m... Oh! I\\'m sure that\\'s gonna be okay. I\\'m sorry. It\\'s just that I don\\'t understand. Don\\'t compare me with Stark! (GROANING) ULTRON: It\\'s a thing with me. Stark is... He\\'s a sickness! STARK: Ah, Junior. You\\'re gonna break your old man\\'s heart. If I have to. THOR: Nobody has to break anything. ULTRON: Clearly you\\'ve never made an omelette. He beat me by one second. PIETRO: Ah, yes. He\\'s funny. Mr. Stark. It\\'s what? Comfortable? Like old times? This was never my life. You two can still walk away from this. Oh, we will. - I know you\\'ve suffered. - (ULTRON SCOFFS) (CHUCKLES) Captain America. God\\'s righteous man. Pretending you could live without a war. I can\\'t physically throw up in my mouth, but... If you believe in peace, then let us keep it. I think you\\'re confusing \"peace\" with \"quiet.\" Uh-huh. What\\'s the vibranium for? I\\'m glad you asked that, because I wanted to take this time to explain my evil plan. (PANTING) - Shoot them. - Which ones? All of them! HENCHMAN: Move! Move! Move! (GUNFIRE) (BOTH GRUNTING) Oh. (YELPS) (GROANS) (GRUNTING) (GROANS) - Stay down, kid. - (GUNFIRE) It\\'s time for some mind games. Guys? Is this a code green? (INDISTINCT RADIO CHATTER) Thor, status. The girl tried to warp my mind. - (GROANS) - Take special care. I doubt a human could keep her at bay. Fortunately, I am mighty. (GRUNTING) (GROANS) ULTRON: This is going very well. (RAPID BEEPING) - (GRUNTS) - (GASPS) I\\'ve done the whole mind control thing. Not a fan. (YELPS) Yeah, you better run. BARTON: Who\\'s ever standing, we got to move! Guys? Again. You\\'ll break them. MADAME B: Only the breakable ones. You\\'re made of marble. We\\'ll celebrate after the graduation ceremony. ROMANOFF: What if I fail? (WHIMPERING) You never fail. - (SWING MUSIC PLAYING) - (PEOPLE LAUGHING) (GRUNTING) Are you ready for our dance? (GROWLING) (BUBBLING) HEIMDALL: Is it him? Is that the first son of Odin? - Heimdall, your eyes. - Oh. They see everything. They see you leading us to Hel. - Wake up! - (CHOKING) (SWING MUSIC CONTINUES PLAYING) The war is over, Steve. We can go home. Imagine it. I can still save you! We\\'re all dead! Can you not see? (GRUNTING) You\\'re a destroyer, Odinson. (GROANING) HEIMDALL: See where your power leads. (SCREAMING) (THUNDER RUMBLING) (BOTH GRUNTING) Sloppy. (PANTING) Pretending to fail. The ceremony is necessary for you to take your place in the world. I have no place in the world. MADAME B: Exactly. PIETRO: What can I do? (GROANS) It hurts. I\\'m going to kill him. - I\\'ll be right back. - No. (PANTING) I\\'m all right. I want... I want to finish the plan. I want the big one. Uh, the vibranium is getting away. And you\\'re not going anywhere. Of course not. I\\'m already there. You\\'ll catch on. But first, you might need to catch Dr. Banner. (GROWLING) News or footage. Keyword, \"Hulk.\" - (INDISTINCT CHATTER) - (BEEPING) Natasha, I could really use a lullaby. - (PANTING) - That\\'s not gonna happen. Not for a while. The whole team is down. You got no backup here. I\\'m calling in Veronica. (POWERING UP) (SIRENS WAILING) (OFFICER EXCLAIMS) DRIVER: We need backup! (HEAVY FOOTSTEPS APPROACHING) (GRUNTS) (PEOPLE SCREAMING) - (BULLETS RICOCHETING) - (ROARING) (POUNDING) Go! Keep moving! (GUNS COCKING) - (GROWLS) - (POUNDS) - (CAR ALARMS BLARING) - (POUNDING CONTINUES) (ROARING) (RUMBLING) - (ROARING) - (SCREAMING) All right, everybody, stand down! (GROWLING) Will you listen to me? That little witch is messing with your mind. You\\'re stronger than her. You\\'re smarter than her. - You\\'re Bruce Banner. - (ROARING) Right, right, right, don\\'t mention puny Banner. (GRUNTS) Okay! In the back? Dick move, Banner. (PEOPLE SCREAMING) - (BEEPING) - Veronica, give me a hand. (GASPS) (ROARING) Go to sleep, go to sleep, go to sleep. (GROWLING) Okay, pal, we\\'re gonna get you out of town. Not that way, not that way. Come on, Bruce! You gotta work with me. - (HISSING) - (ELEVATOR BELL owes) (PEOPLE EXCLAIM) (PEOPLE SCREAMING) (YELPS) Everybody, out! (ROARING) Going down? (SPITS) I\\'m sorry. (GRUNTING) - Damage report? - (STATIC) That\\'s comprehensive. Show me something. (BEEPING) How quickly can we buy this building? (SCREAMING) - SOLDIER 1: Move! Move! Move! - SOLDIER 2: Go, go, go! SOLDIER 3: Flank him, flank him! (ROARS) (GROANING) (PEOPLE SCREAMING) (SIRENS WAILING) (COCKS) HILL ON RADIO: The news is loving you guys. Nobody else is. There\\'s been no official call for Banner\\'s arrest but it\\'s in the air. STARK: The Stark Relief Foundation? HILL: Already on the scene. - How\\'s the team? - STARK: Everyone\\'s... We took a hit. We\\'ll shake it off. HILL: Well, for now, I\\'d stay in stealth mode and stay away from here. So, run and hide? Until we can find Ultron, I don\\'t have a lot else to offer. (SIGHS) Neither do we. (SIGHS) Hey, you wanna switch out? No, I\\'m good. If you wanna get some kip, now\\'s a good time because we\\'re still a few hours out. Few hours from where? A safe house. What is this place? Safe house. Let\\'s hope. Honey? I\\'m home. Hi. Company. Sorry, didn\\'t call ahead. Hey. This is an agent of some kind. Gentlemen, this is Laura. I know all of your names. (CHUCKLES) - (FOOTSTEPS APPROACHING) - Ooh. Incoming. - Dad! - Hi, sweetheart! Hey, buddy. How are you guys doing? - These are smaller agents. - BARTON: Look at your face! Oh, my goodness. - LILA: Did you bring Auntie Nat? - (BARTON GASPS) - Why don\\'t you hug her and find out? - (BARTON LAUGHING) - Sorry for barging in on you. - Yeah, we would have called ahead, but we were busy having no idea that you existed. Yeah, well, Fury helped me set this up when I joined. He kept it off S.H.I.E.L.D.\\'s files. I\\'d like to keep it that way. I figure it\\'s a good place to lay low. - LAURA: Honey. - (CRUNCHING) I missed you. How\\'s little Natasha, huh? LAURA: She\\'s... Nathaniel. Traitor. (INDISTINCT CONVERSATIONS) (DINGS) Thor? I saw something in that dream. I need answers. I won\\'t find them here. PEGGY: We can go home. (SIGHS) See? You worried for nothing. Can\\'t even feel the difference, can you? If they\\'re sleeping here, some of them are gonna have to double up. (LAUGHING) Yeah, that\\'s not gonna sell. What about Nat and Dr. Banner? How long has that been going on? - Has what? - (LAUGHING) You are so cute. Nat and Banner? I\\'ll explain when you\\'re older, - Hawkeye. - Well, okay. It\\'s bad, right? Nat seems really shaken. (SIGHS) Ultron has these allies. These, uh, kids. They\\'re punks, really. But they carry a big, damn stick. And Nat took a serious hit. Someone\\'s gonna have to teach them some manners. That someone being you. You know I totally support your avenging. I couldn\\'t be prouder. But I see those guys... Those gods... You don\\'t think they need me. I think they do, which is a lot scarier. - They\\'re a mess. - (SIGHING) BARTON: Yeah. I guess they\\'re my mess. You need to be sure that this team is really a team, and that they have your back. Things are changing for us. In a few months\\' time, you and me are gonna be outnumbered. I need... Just be sure. Yes, ma\\'am. I can feel the difference. (SPEAKING KOREAN) Scream, and your entire staff dies. (GASPS) I could\\'ve killed you, Helen, the night we met. I didn\\'t. Do you expect a thank-you note? I expect you to know why. The Cradle. DR. CHO ON RECORDING: This is the next thing, Tony. This is the next me. The Regeneration Cradle prints tissue. It can\\'t build a living body. It can. You can. You lack the materials. You\\'re a brilliant woman, Helen. But we all have room to improve. I didn\\'t realise you were waiting. I would\\'ve joined you, but, uh, it didn\\'t seem like the right time. They used up all the hot water. I should\\'ve joined you. Missed our window. (CHUCKLES) Did we? The world just saw the Hulk. The real Hulk, for the first time. - You know I have to leave. - You assume that I have to stay? I had this, um, dream. The kind that seems normal at the time, but when you wake... What did you dream? That I was an Avenger. That I was anything more than the assassin they made me. I think you\\'re being hard on yourself. Here I was hoping that was your job. What are you doing? I\\'m running with it. With you. If running is the plan, as far as you want. Are you out of your mind? I want you to understand that, um... Natasha, where can I go? Where in the world am I not a threat? - You\\'re not a threat to me. - Are you sure? Even if I didn\\'t just... There\\'s no future with me. I can\\'t ever... I can\\'t have this. Kids. Do the math. I physically can\\'t. Neither can I. In the Red Room where I was trained... Where I was raised, um, they have a graduation ceremony. They sterilise you. It\\'s efficient. One less thing to worry about. The one thing that might matter more than a mission. Makes everything easier. Even killing. You still think you\\'re the only monster on the team? So, we disappear? Thor didn\\'t say where he was going for answers? Sometimes my teammates don\\'t tell me things. I was kind of hoping Thor would be the exception. Yeah, give him time. We don\\'t know what the Maximoff kid showed him. \"Earth\\'s mightiest heroes.\" Pulled us apart like cotton candy. Seems like you walked away all right. Is that a problem? I don\\'t trust a guy without a dark side. Call me old-fashioned. Well, let\\'s just say you haven\\'t seen it yet. You know Ultron is trying to tear us apart, right? Well, I guess you\\'d know. Whether you\\'d tell us is a bit of a question. Banner and I were doing research. - That would affect the team. - That would end the team! Isn\\'t that the mission? Isn\\'t that the \"Why We Fight\"? So we can end the fight. So we get to go home! Every time someone tries to win a war before it starts, innocent people die. Every time. I\\'m sorry. Mr. Stark... Clint said you wouldn\\'t mind, but our tractor doesn\\'t seem to want to start at all. - I thought maybe you might... - Yeah, I\\'ll give her a kick. Don\\'t take from my pile. (DOOR OPENS) Hello, Deere. Tell me everything. What ails you? FURY: Do me a favour. Try not to bring it to life. Why, Ms. Barton, you little minx. I get it. Maria Hill called you, right? Was she ever not working for you? Artificial intelligence. You never even hesitated. Look, it\\'s been a really long day, like Eugene O\\'Neill long, so how\\'s about we skip to the part where you\\'re useful. Look me in the eye and tell me you\\'re going to shut him down. You\\'re not the director of me. I\\'m not the director of anybody. I\\'m just an old man who cares very much about you. And I\\'m the man who killed the Avengers. I saw it. I didn\\'t tell the team. How could I? I saw them all dead, Nick. I felt it. The whole world, too. Because of me. I wasn\\'t ready. I didn\\'t do all I could. Maximoff girl, she\\'s working you, Stark. - Playing on your fear. - I wasn\\'t tricked, I was shown. Wasn\\'t a nightmare, it was my legacy. The end of the path I started us on. You come up with some pretty impressive inventions, Tony. War isn\\'t one of them. I watched my friends die. You\\'d think that\\'d be as bad as it gets, right? (SCOFFS) Nope. - It wasn\\'t the worst part. - The worst part is that you didn\\'t. SELVIG: I\\'ll see you tonight. I like the look. If you\\'re going for inconspicuous, though, near miss. I need your help. It\\'s nice to be needed. It\\'s dangerous. I\\'d be disappointed if it wasn\\'t. FURY: Ultron took you folks out of play to buy himself time. My contacts all say he\\'s building something. The amount of vibranium he made off with, I don\\'t think it\\'s just one thing. What about Ultron himself? FURY: Oh, he\\'s easy to track. He\\'s everywhere. The guy is multiplying faster than a Catholic rabbit. It still doesn\\'t help us get an angle on any of his plans, though. Is he still going after launch codes? FURY: Yes, he is. But he\\'s not making any headway. I cracked the Pentagon\\'s firewall in high school on a dare. Well, I contacted our friends at the Nexus about that. Nexus? BANNER: It\\'s the world Internet hub in Oslo. Every byte of data flows through there. Fastest access on Earth. So, what did they say? FURY: He\\'s fixated on the missiles. But the codes are constantly being changed. By whom? Parties unknown. Do we have an ally? Ultron\\'s got an enemy. That\\'s not the same thing. Still, I\\'d pay folding money to know who it is. I might need to visit Oslo. Find our unknown. Well, this is good times, boss, but I was kind of hoping when I saw you, you\\'d have more than that. I do. I have you. Back in the day, I had eyes everywhere. Ears, everywhere else. You kids had all the tech you could dream up. Here we all are, back on Earth, with nothing but our wit and our will to save the world. Ultron says the Avengers are the only thing between him and his mission. And whether or not he admits it, his mission is global destruction. All this, laid in a grave. So stand. Outwit the platinum bastard. Steve doesn\\'t like that kind of talk. You know what, Romanoff? So, what does he want? To become better. Better than us. - He keeps building bodies. - Person bodies. The human form is inefficient. Biologically speaking, we\\'re outmoded. But he keeps coming back to it. When you two programmed him to protect the human race, you amazingly failed. They don\\'t need to be protected. They need to evolve. Ultron\\'s going to evolve. How? Has anyone been in contact with Helen Cho? DR. CHO: It\\'s beautiful. The vibranium atoms aren\\'t just compatible with the tissue cells, they\\'re binding them. And S.H.I.E.L.D. never even thought to... The most versatile substance on the planet, and they used it to make a Frisbee. Typical of humans. They scratch the surface and never think to look within. I\\'ll take Natasha and Clint. All right. Strictly recon. I\\'ll hit the Nexus. I\\'ll join you as soon as I can. If Ultron\\'s really building a body... He\\'ll be more powerful than any of us. Maybe all of us. An android designed by a robot. You know, I really miss the days when the weirdest thing science ever created was me. I\\'ll drop Banner off at the tower. You mind if I borrow Ms. Hill? She\\'s all yours. Apparently. What are you gonna do? I don\\'t know. Something dramatic, I hope. I\\'m gonna finish reflooring that sunroom as soon as I get back. Yeah, then you\\'ll find another part of the house to tear apart. No. It\\'s the last project. I promise. SELVIG: So, this is it. The Water of Sight. THOR: In every realm, there\\'s a reflection. If the water\\'s spirits accept me, I can return to my dream and find what I missed. Men who enter that water, the legends don\\'t end well. STARK: A hacker who\\'s faster than Ultron? He could be anywhere, and as this is the centre of everything, I\\'m just a guy looking for a needle in the world\\'s biggest haystack. How do you find it? It\\'s pretty simple. You bring a magnet. (SINGING) I\\'m decrypting nuclear codes. And you don\\'t want me to. Come and get me. (PANTING) Wake up! (GROANING) Thor! Extinction. (SCREAMS) DR. CHO: Cellular cohesion will take a few hours, but we can initiate the consciousness stream. We\\'re uploading your cerebral matrix now. (BEEPING) I can read him. He\\'s dreaming. DR. CHO: I wouldn\\'t call it dreams. It\\'s Ultron\\'s base consciousness. Informational noise. Soon... How soon? I\\'m not being pushy. DR. CHO: We\\'re imprinting a physical brain. There are no shortcuts. Even if your magic gem... (SCREAMS) (WANDA PANTING) How could you? How could I what? You said we would destroy the Avengers, make a better world. It will be better. - When everyone is dead? - That is not... The human race will have every opportunity to improve. And if they don\\'t? Ask Noah. You are a madman. There were more than a dozen extinction-level events before even the dinosaurs got theirs. When the Earth starts to settle, God throws a stone at it. And, believe me, he\\'s winding up. We have to evolve. There\\'s no room for the weak. PIETRO: And who decides who\\'s weak? Life. (CHUCKLES) Life always decides. (AIRCRAFT APPROACHING) There\\'s incoming. - The Quinjet. We have to move. - That\\'s not a problem. - (SIGHS IN ANNOYANCE) - (DR. CHO GROANS) (STAMMERS) Wait, guys! (BOTH GROANING) They\\'ll understand. When they see, they\\'ll understand. I just need a little more time. Two minutes. Stay close. Dr. Cho! (BREATHING HEAVILY) He\\'s uploading himself into the body. Where? The real power is inside the Cradle. The gem, its power is uncontainable. You can\\'t just blow it up. You have to get the Cradle to Stark. First, I have to find it. Go. ROGERS: Did you guys copy that? We did. I got a private jet taking off across town. No manifest. That could be him. There. It\\'s a truck from the lab. Right above you, Cap. On the loop by the bridge. It\\'s them. You got three with the Cradle, one in the cab. I could take out the driver. ROGERS: Negative. That truck crashes, the gem could level the city. We need to draw out Ultron. (PANTING) (GRUNTS) No, no, no, no. Leave me alone! (GROANS) Well, he\\'s definitely unhappy. I\\'m gonna try and keep him that way. You\\'re not a match for him, Cap. (PANTING) Thanks, Barton. (GASPS) (PEOPLE CHATTERING EXCITEDLY) You know what\\'s in that cradle? The power to make real change. And that terrifies you. I wouldn\\'t call it a comfort. Stop it. We got a window. Four, three... Give him hell. I\\'m always picking up after you boys. They\\'re heading under the overpass. I\\'ve got no shot. ROMANOFF: Which way? Hard right. Now. (PEOPLE EXCLAIMING) (TYRES SQUEALING) (GRUNTING) (ENGINE REVVING) Out of the way! Coming through! Sorry, coming through! Come on! ROMANOFF: Clint, can you draw out the guards? Let\\'s find out. ROMANOFF: Beep, beep! (SPEAKING KOREAN) (PEOPLE SCREAMING) They\\'re heading back towards you. So whatever you\\'re gonna do, do it now. ROMANOFF: I\\'m going in. Cap, can you keep him occupied? (PANTING) What do you think I\\'ve been doing? (YELPING) (STRAINING) BARTON: Okay, package is airborne. I have a clean shot. Negative. I am still in the truck. - What the hell are you... - Just be ready. I\\'m sending the package to you. How do you want me to take it? Uh, you might wish you hadn\\'t asked that. Please, don\\'t do this. What choice do we have? I lost him! He\\'s headed your way! (ALARM BLARING) Nat, we gotta go. - (GROANS) - Nat! Cap, you see Nat? If you have the package, get it to Stark! Go! Do you have eyes on Nat? Go! Damn it. Civilians in our path. Can you stop this thing? (PEOPLE SCREAMING) (GRUNTS) (PANTING) I\\'m fine. I just need to take a minute. I\\'m very tempted not to give you one. The Cradle. Did you get it? Stark will take care of it. No, he won\\'t. You don\\'t know what you\\'re talking about. Stark\\'s not crazy. He will do anything to make things right. Stark, come in. Stark. Anyone on comms. Ultron can\\'t tell the difference between saving the world and destroying it. Where do you think he gets that? - Anything on Nat? - I haven\\'t heard. But she\\'s alive, or Ultron would be rubbing our faces in it. This is sealed tight. We\\'re gonna need to access the program, break it down from within. Any chance Natasha might leave you a message outside the Internet? Old-school spy stuff? BARTON: There are some nets I can cast. Yeah, I\\'ll find her. I can work on tissue degeneration if you could fry whatever operational system Cho implanted. Yeah, about that. No. - You have to trust me. - Kind of don\\'t. Our ally, the guy protecting the military\\'s nuclear codes, I found him. JARVIS: Hello, Dr. Banner. STARK: Ultron didn\\'t go after Jarvis because he was angry. He attacked him because he was scared of what he can do. So Jarvis went underground. Scattered, dumped his memory. But not his protocols. He didn\\'t even know he was in there until I pieced him together. (BANNER SCOFFS) So, you want me to help you put Jarvis into this thing? No! Of course not. I wanna help you put Jarvis in this thing. We\\'re out of my field, here. You know bio-organics better than anyone. And you just assume that Jarvis\\'s operational matrix can beat Ultron\\'s? Jarvis has been beating him from inside without knowing it. This is the opportunity. We can create Ultron\\'s perfect self without the homicidal glitches he thinks are his winning personality. - We have to. - I believe it\\'s worth a go. I\\'m in a loop! I\\'m caught in a time loop. This is exactly where it all went wrong. I know. I know. I know what everyone\\'s gonna say. But they\\'re already saying it. We\\'re mad scientists. We\\'re monsters, buddy. We\\'ve gotta own it. Make a stand. It\\'s not a loop. It\\'s the end of the line. I wasn\\'t sure you would wake up. I hoped you would. I wanted to show you. I don\\'t have anyone else. (GROANING) I think a lot about meteors. The purity in them. Boom! The end. Start again. The world made clean for the new man to rebuild. I was meant to be new. I was meant to be beautiful. The world would have looked to the sky and seen hope, seen mercy. Instead, they\\'ll look up in horror because of you. You\\'ve wounded me. I give you full marks for that. But, like the man said, what doesn\\'t kill me... (GASPS) just makes me stronger. (PANTING) (STATIC) (TYPING) This framework is not compatible. The genetic coding tower is at 97%. You have got to upload that schematic in the next three minutes. - I\\'m gonna say this once. - How about \"none-ce\"? - ROGERS: Shut it down! - Nope, not gonna happen. You don\\'t know what you\\'re doing. And you do? She\\'s not in your head? I know you\\'re angry. Oh, we\\'re way past that. I could choke the life out of you and never change a shade. Banner, after everything that\\'s happened... It\\'s nothing compared to what\\'s coming! - WANDA: You don\\'t know what\\'s in there. - ROGERS: This isn\\'t a game! - No, no. Go on. - (POWERING DOWN) - You were saying? - (GUNSHOT) - Pietro! - (GRUNTS) BARTON: What? You didn\\'t see that coming? I\\'m rerouting the upload. - (GASPS) - Go ahead, piss me off. (GUN COCKS) (GRUNTING) (GROANS) (GROANS) Wait! (GRUNTING) I am sorry. That was odd. Thank you. (SIGHS) ROGERS: Thor. - You helped create this? - THOR: I\\'ve had a vision. A whirlpool that sucks in all hope of life, and at its centre is that. What? The gem? It\\'s the Mind Stone. It\\'s one of the six Infinity Stones. The greatest power in the universe, unparalleled in its destructive capabilities. - Then why would you bring... - Because Stark is right. Oh, it\\'s definitely the end times. The Avengers cannot defeat Ultron. Not alone. Why does your Vision sound like Jarvis? We reconfigured Jarvis\\'s matrix to create something new. ROGERS: I think I\\'ve had my fill of new. You think I\\'m a child of Ultron. ROGERS: You\\'re not? I\\'m not Ultron. I am not Jarvis. I am... I am. WANDA: I looked in your head and saw annihilation. - Look again. - (BARTON SCOFFS) Her seal of approval means jack to me. Their powers, the horrors in our heads, Ultron himself, they all came from the Mind Stone. And they\\'re nothing compared to what it can unleash. - But with it on our side... - ROGERS: Is it? Are you? On our side? I don\\'t think it\\'s that simple. BARTON: Well, it better get real simple real soon. I am on the side of life. Ultron isn\\'t. He will end it all. STARK: What\\'s he waiting for? - You. - BANNER: Where? BARTON: Sokovia. He\\'s got Nat there, too. If we\\'re wrong about you, if you\\'re the monster that Ultron made you to be... What will you do? I don\\'t want to kill Ultron. He\\'s unique and he\\'s in pain. But that pain will roll over the Earth. So, he must be destroyed. Every form he\\'s built, every trace of his presence on the net. We have to act now. And not one of us can do it without the others. Maybe I am a monster. I don\\'t think I\\'d know if I were one. I\\'m not what you are, and not what you intended. So, there may be no way to make you trust me. But we need to go. Right. Well done. Three minutes. Get what you need. FRIDAY: Good evening, boss. STARK: No way we all get through this. If even one tin soldier is left standing, we\\'ve lost. There\\'s gonna be blood on the floor. I got no plans tomorrow night. STARK: I get first crack at the big guy. Iron Man\\'s the one he\\'s waiting for. That\\'s true. He hates you the most. ROGERS: Ultron knows we\\'re coming. Odds are we\\'ll be riding into heavy fire. And that\\'s what we signed up for. But the people of Sokovia, they didn\\'t. So our priority is getting them out. We\\'re under attack! Clear the city! Now! (INDISTINCT CONVERSATIONS) (ALL GASP) Get off your asses. ROGERS: All they want is to live their lives in peace. And that\\'s not gonna happen today. But we can do our best to protect them. And we can get the job done. We find out what Ultron\\'s been building, we find Romanoff, and we clear the field. Keep the fight between us. Ultron thinks we\\'re monsters. That we\\'re what\\'s wrong with the world. This isn\\'t just about beating him. It\\'s about whether he\\'s right. BANNER: Natasha! Natasha! Bruce? You all right? Yeah. The team is in the city. It\\'s about to light up. I don\\'t suppose you found a key lying around somewhere. Yeah. I did. (WEAPON POWERING UP) So what\\'s our play? I\\'m here to get you to safety. - Job\\'s not finished. - We could help with the evacuation, but I can\\'t be in a fight near civilians. And you\\'ve done plenty. Our fight is over. So, we just disappear? (INDISTINCT CHATTER) - (CAR HORNS HONKING) - Come on. FRIDAY: Your man\\'s in the church, boss. I think he\\'s waiting for you. ULTRON: Come to confess your sins? I don\\'t know. How much time you got? ULTRON: More than you. Uh... Have you been juicing? Little vibranium cocktail? You\\'re looking... I don\\'t wanna say \"puffy.\" You\\'re stalling to protect the people. Well, that is the mission. Did you forget? I\\'ve moved beyond your mission. I\\'m free. What? You think you were the only one stalling? FRIDAY: There\\'s the rest of the vibranium. Function, still unclear. ULTRON: This is how you end, Tony. This is peace in my time. (MAN GASPS) (PEOPLE SCREAMING) Go! WANDA: Get off the bridge! (PEOPLE SCREAMING) Run! (GROANS) VISION: Ultron. My Vision. They really did take everything from me. You set the terms. You can change them. All right. (GASPING) (VISION GRUNTING) (CRACKS NECK) Friday, the Vision? FRIDAY: Boss, it\\'s working. He\\'s burning Ultron out of the net. He won\\'t escape through there. (GROANING) ULTRON: You shut me out. You think I care? You take away my world, I take away yours. (POWERING UP) (PEOPLE SCREAMING) (GRUNTS) (RUMBLING) (SCREAMING) (SHOUTING) (GROANING) Friday. FRIDAY: Sokovia is going for a ride. (YELPING) ULTRON: Do you see the beauty of it? The inevitability. You rise, only to fall. You, Avengers, you are my meteor. My swift and terrible sword. And the earth will crack with the weight of your failure. Purge me from your computers, turn my own flesh against me. It means nothing. When the dust settles, the only thing living in this world will be metal. We gotta move. You\\'re not gonna turn green? I\\'ve got a compelling reason not to lose my cool. I adore you. But I need the other guy. (GROWLING) (GRUNTS) Let\\'s finish the job. (ROMANOFF SCREAMING) (GROANS) (PANTING) I really hope this makes us even. (GRUNTS) - Now go be a hero. - (ROARING) FRIDAY: The vibranium core\\'s got a magnetic field. That\\'s what\\'s keeping the rock together. If it drops? Right now, the impact will kill thousands. Once it gets high enough? Global extinction. That building\\'s not clear. The 10th floor. (ALL WHIMPERING) Hi. Okay. Get in the tub! FRIDAY: I got airborne, heading up to the bridge. (GRUNTS) Cap, you got incoming. Incoming already came in. (PEOPLE SCREAMING) Stark, you worry about bringing the city back down safely. The rest of us have one job, tear these things apart. You get hurt, hurt them back. You get killed, walk it off. (PANTING) (INDISTINCT SHOUTING) - (ROARING) - (PEOPLE SCREAMING) Go, go, go! WANDA: How could I let this happen? - Hey, hey, you okay? - This is all our fault. Hey, look at me. It\\'s your fault, it\\'s everyone\\'s fault. Who cares? Are you up for this? Are you? Look, I just need to know. Because the city is flying. Okay. Look, the city is flying, we\\'re fighting an army of robots, and I have a bow and arrow. None of this makes sense. (BARTON GRUNTING) But I\\'m going back out there because it\\'s my job. Okay? And I can\\'t do my job and babysit. It doesn\\'t matter what you did or what you were. If you go out there, you fight, and you fight to kill. Stay in here, you\\'re good. I\\'ll send your brother to come find you. But if you step out that door, you are an Avenger. All right. Good chat. Yeah, the city is flying. (EXHALES) - (BOTH YELPING) - (WHIMPERING) (WOMAN SCREAMING) (MEN SCREAMING) (WOMAN SCREAMS) ROGERS: I got you! Just look at me! (GRUNTING) ULTRON: You can\\'t save them all. You\\'ll never... \"Never\" what? You didn\\'t finish! What, were you napping? (RETCHING) (GRUNTING) Thor. You\\'re bothering me. Ow! (BARTON GROANING) (SIGHS) All right, we\\'re all clear here. ROGERS: We are not clear! We are very not clear! (GRUNTING) All right, coming to you. - PIETRO: Keep up, old man! - (GASPS) Nobody would know. Nobody. \"The last I saw him, an Ultron was sitting on him.\" \"Yeah, he\\'ll be missed, that quick little bastard.\" \"I miss him already.\" Hold your fire! Romanoff! Thanks! (BEEPING) FRIDAY: The anti-gravs are rigged to flip. Touch them, they\\'ll go full reverse thrust. The city\\'s not coming down slow. Spire is vibranium. If I get Thor to hit it... It will crack. That\\'s not enough. The impact would still be devastating. STARK: Maybe if we can cap the other end. Keep the atomic action doubling back. FRIDAY: That could vaporise the city. And everyone on it. (PANTING) ROGERS: The next wave is gonna hit any minute. - What do you got, Stark? - STARK: Huh? Nothing great. Maybe a way to blow up the city. That\\'ll keep it from impacting the surface, if you guys can get clear. I asked for a solution, not an escape plan. STARK: Impact radius is getting bigger every second. We\\'re gonna have to make a choice. ROMANOFF: Cap, these people are going nowhere. - If Stark finds a way to blow this rock... - Not till everyone\\'s safe. Everyone up here versus everyone down there? There\\'s no math there. I\\'m not leaving this rock with one civilian on it. I didn\\'t say we should leave. There\\'s worse ways to go. Where else am I gonna get a view like this? FURY ON RADIO: Glad you like the view, Romanoff. It\\'s about to get better. (PANTING) FURY: Nice, right? Pulled her out of mothballs with a couple of old friends. She\\'s dusty, but she\\'ll do. Fury, you son of a bitch. Ooh! You kiss your mother with that mouth? Altitude is 18,000 and climbing. Lifeboats secure to deploy. Disengage in three, two... Take them out. This is S.H.I.E.L.D.? This is what S.H.I.E.L.D. is supposed to be. (CHUCKLES) This is not so bad. Let\\'s load them up. Sir, we have multiple bogies converging on our starboard flank. Show \\'em what we got. You\\'re up. Yes! Now this is gonna be a good story. STARK: Yup. If you live to tell it. RHODES: (SCOFFS) You think I can\\'t hold my own? We get through this, I\\'ll hold your own. RHODES: You had to make it weird. (PEOPLE CLAMOURING) I got about 50 to 100 more coming in after this group. Here we go. Here we go. Let\\'s move. MALE OFFICER: Let\\'s go, everyone! Number six boat is topped and locked... (STAMMERS) Or stocked... Topped... It\\'s full of people. (ALARM BLARING) Incoming! Oh, God! (GRUNTING) ULTRON: You think you\\'re saving anyone? I turn that key and drop this rock a little early and it\\'s still billions dead. Even you can\\'t stop that. I am Thor, son of Odin, and as long as there is life in my breast... I am running out of things to say! Are you ready? VISION: It\\'s terribly well-balanced. Well, if there\\'s too much weight, you lose power on the swing, so... STARK: I got it. Create a heat seal. I could... I could supercharge the spire from below. FRIDAY: Running numbers. (PEOPLE SCREAMING) (GRUNTING) FRIDAY: A heat seal could work with enough power. - STARK: Thor, I got a plan. - THOR: We\\'re out of time. They\\'re coming for the core. Rhodey, get the rest of the people on board that carrier. - On it. - Avengers, time to work for a living. - Are you good? - Yeah. Romanoff. You and Banner better not be playing \"hide the zucchini.\" ROMANOFF: Relax, shellhead. Not all of us can fly. (PANTING) - What\\'s the drill? - This is the drill. If Ultron gets a hand on the core, we lose. Is that the best you can do? You had to ask. This is the best I can do. This is exactly what I wanted. All of you against all of me. How can you possibly hope to stop me? Well, like the old man said... Together. (ROARING) (STRAINING) (SPITS) (GROANING) You know, with the benefit of hindsight... (GROWLS) They\\'ll try to leave the city. We can\\'t let them, not even one. Rhodey. RHODES: I\\'m on it. Oh, no. I didn\\'t say you could leave. War Machine coming at you! Right... Okay, what? We gotta move out. Even I can tell the air is getting thin. You guys get to the boats. I\\'ll sweep for stragglers. Be right behind you. - What about the core? - I\\'ll protect it. It\\'s my job. Nat. This way. (PANTING) Get the people on the boats. I\\'m not going to leave you here. I can handle this. Come back for me when everyone else is off. - Not before. - (GRUNTS IN ANNOYANCE) You understand? You know, I\\'m 12 minutes older than you. (CHUCKLES) Go. FRIDAY: Boss, power levels are way below... Reroute everything. We get one shot at this. BARTON: I know what I need to do. The dining room. If I knock out that east wall, it\\'d make a nice workspace for Laura, huh? Put up some baffling. She can\\'t hear the kids running around. What do you think? You guys always eat in the kitchen anyway. BARTON: No one eats in a dining room. (PEOPLE CLAMOURING) (ROARING) We don\\'t have a lot of time. So get your ass on a boat. (PANTING) Hey, big guy. Sun\\'s getting real low. ROGERS: You\\'re safe now. You\\'re gonna be okay. Buckle up. Secure your gear, find a seat. ZRINKA: Costel! We were in the market. Costel! STARK: Thor, I\\'m gonna need you back in the church. - Is this the last of them? - Yeah. - Everyone else is on the carrier. - STARK: You know, this works, we maybe don\\'t walk away. Maybe not. (GRUNTING) (ROMANOFF GROANS) (ROARING) (SINGING) I got no strings, so I have fun. I\\'m not tied up to anyone. Come on. Time to go. (GRUNTS) You didn\\'t see that coming? (INAUDIBLE) (PANTING) (GROWLING) ULTRON: Oh, for God\\'s sake. - Zrinka! - Costel! Baby! (SOBBING) (GROANING) No, no, I\\'m fine. Fine. It\\'s been a long day. Wanda. If you stay here, you\\'ll die. I just did. Do you know how it felt? (GROANING) It felt like that. (POWERING DOWN) (GRUNTS) STARK: Thor, on my mark. Now! (YELLING) ROMANOFF: Hey, big guy. We did it. The job is finished. Now I need you to turn this bird around, okay? We can\\'t track you in stealth mode. So help me out. I need you... You\\'re afraid. Of you? Of death. You\\'re the last one. You were supposed to be the last. Stark asked for a saviour and settled for a slave. I suppose we are both disappointments. (ULTRON LAUGHING) I suppose we are. Humans are odd. They think order and chaos are somehow opposites and try to control what won\\'t be. But there is grace in their failings. I think you missed that. They\\'re doomed. Yes. But a thing isn\\'t beautiful because it lasts. It\\'s a privilege to be among them. You\\'re unbearably naive. Well... I was born yesterday. (GASPS) (BREATH ES DEEPLY) (INDISTINCT CONVERSATIONS) - LAURA: Look! Say hi to Auntie Nat! - (GURGLING) Fat. FURY: One of our tech boys flagged this. Splashed down in the Banda Sea. Could be the Quinjet. But with Stark\\'s stealth tech, we still can\\'t track the damn thing. Right. Probably jumped out and swam to Fiji. He\\'ll send a postcard. \"Wish you were here.\" You sent me to recruit him way back when. Did you know then what was gonna happen? You never know. You hope for the best, then make do with what you get. I got a great team. Nothing lasts forever. Trouble, Ms. Romanoff. No matter who wins or loses, trouble still comes around. ROGERS: The rules have changed. STARK: We\\'re dealing with something new. Oh, the Vision is artificial intelligence. - A machine. - So, it doesn\\'t count? No, it\\'s not like a person lifting the hammer. Right, different rules for us. - Nice guy. Artificial. - ROGERS: Thank you. He can wield the hammer, he can keep the Mind Stone. It\\'s safe with the Vision. And these days, safe is in short supply. But if you put the hammer in an elevator... - It would still go up. - Elevator\\'s not worthy. I\\'m gonna miss these little talks of ours. Not if you don\\'t leave. I have no choice. The Mind Stone is the fourth of the Infinity Stones to show up in the last few years. It\\'s not a coincidence. Someone has been playing an intricate game and has made pawns of us. And once all these pieces are in position... Triple Yahtzee. You think you can find out what\\'s coming? I do. Besides this one, there\\'s nothing that can\\'t be explained. That man has no regard for lawn maintenance. I\\'m gonna miss him, though. And you\\'re gonna miss me. There\\'s gonna be a lot of manful tears. - (CAR LOCK BEEPS) - (ENGINE STARTS) I will miss you, Tony. Yeah? Well, it\\'s time for me to tap out. Maybe I should take a page out of Barton\\'s book. Build Pepper a farm, hope nobody blows it up. The simple life. - You\\'ll get there one day. - I don\\'t know. Family, stability... The guy who wanted all that went in the ice 75 years ago. I think someone else came out. You all right? (SOLDIERS SHOUTING IN DISTANCE) I\\'m home. You wanna keep staring at the wall, or do you wanna go to work? I mean, it\\'s a pretty interesting wall. I thought you and Tony were still gazing into each other\\'s eyes. How do we look? Well, we\\'re not the \\'27 Yankees. We got some hitters. They\\'re good. They\\'re not a team. Let\\'s beat them into shape. Avengers... THANOS: Fine. I\\'ll do it myself. Okay, hold on, don\\'t shoot. - You see where you\\'re going? - Mm-hmm. Okay. Now, let\\'s worry about how you get there. Gotta move your foot here. Point your toe this way. Your hips here. Okay? - Can you see? - Yeah. - Are you sure? - Mm-hmm. How about now? Can you see now? - No. - How about now? All right. Ready? Three fingers. Nice! Nice throw, kiddo. Here you go. Hey, you guys want mayo? Or mustard? Or both? Who puts mayo on a hot dog? Probably your brothers. Two mustard, please! Thanks, Mama. Got it! Nate, mayo or mustard? How about ketchup? Or ketchup. I got ketchup, too. Mind your elbow. Good job, hawk-eye. Go get your arrow. Hey, guys! Enough practice. Soup\\'s on! All right. We\\'re coming. We\\'re hungry. Lila, let\\'s go. Lila? Honey? Hey, babe? Babe? Babe? Boys! Boys! Laura! You don\\'t need to do that. Because you\\'re just holding the position. Oh, yeah. That was close. That\\'s a goal. We are now one apiece. I would like to try again. We\\'re tied up. Feel the tension? It\\'s fun. That was terrible. Now you have a chance to win. And you\\'ve won. Congratulations. Fair game. Good sport. You have fun? It was fun. This thing on? Hey, Miss Potts. Pep. If you find this recording... don\\'t post it on social media. It\\'s gonna be a real tearjerker. I don\\'t know if you\\'re ever gonna see these. I don\\'t even know if you\\'re still... Oh, God, I hope so. Today\\'s day 21. No, 22. You know, if it wasn\\'t for the existential terror... of staring into the literal void of space, I\\'d say I\\'m feeling a little better today. Infection\\'s run its course, thanks to the Blue Meanie back there. You\\'d love her. Very practical. Only a tiny bit sadistic. So, the fuel cells were cracked during battle... and we figured out a way to reverse the ion charge... and bought ourselves about 48 hours of flight time. But it\\'s now dead in the water. Thousand light years from the nearest 7-Eleven. Oxygen will run out tomorrow morning... and that\\'ll be it. Pep, I know I said no more surprises... but I got to say I was really hoping to pull off one last one. But it looks like... Well, you know what it looks like. Don\\'t feel bad about this. I mean, actually, if you grovel for a couple weeks... and then move on with enormous guilt... I should probably lie down for a minute. Go rest my eyes. Please know... when I drift off, it\\'ll be like every night lately. I\\'m fine. Totally fine. I dream about you. Because it\\'s always you. Couldn\\'t stop him. Neither could I. Hang on. I lost the kid. Tony, we lost. Is...? - Oh, good. - Oh, my God! Oh, my God! It\\'s okay. It\\'s been 23 days since Thanos came to Earth. World governments are in pieces. The parts that are still working... are trying to take a census and it looks like he did... He did exactly what he said he was gonna do. Thanos wiped out... 50% of all living creatures. Where is he now? Where? We don\\'t know. He just opened a portal and walked through. What\\'s wrong with him? He\\'s pissed. He thinks he failed. Which, of course, he did... but there\\'s a lot of that going around, ain\\'t there? Honestly, until this exact second I thought you were a Build-A-Bear. Maybe I am. We\\'ve been hunting Thanos for three weeks now. Deep space scans... and satellites, and we got nothing. Tony, you fought him. Who told you that? I didn\\'t fight him. No, he wiped my face with a planet... while the Bleecker Street magician gave away the store. That\\'s what happened. There was no fight, \\'cause he\\'s not beatable. Did he give you any clues, any coordinates, anything? I saw this coming a few years back. I had a vision. I didn\\'t wanna believe it. Thought I was dreaming. Tony, I\\'m gonna need you to focus. And I needed you. As in, past tense. That trumps what you need. It\\'s too late, buddy. Sorry. You know what I need? I need a shave. And I believe I remember telling all youse... Tony, Tony! Alive and otherwise, that what we needed was a suit of armor around the world. Remember that? Whether it impacted our precious freedoms or not. That\\'s what we needed. Well, that didn\\'t work out, did it? I said we\\'d lose. You said, \"We\\'ll do that together, too.\" And guess what, Cap? We lost. And you weren\\'t there. But that\\'s what we do, right? Our best work after the fact? We\\'re the \"Avengers.\" We\\'re the \"Avengers,\" not the \"Pre-vengers.\" - Okay. - Right? You made your point. Just sit down, okay? Okay. No, no, here\\'s my point. You know what? - She\\'s great by the way. - Tony, you\\'re sick. Sit down. We need you. You\\'re new blood. Bunch of tired old mules. I got nothing for you, Cap. I got no coordinates... no clues, no strategies, no options. Zero. Zip. Nada. No trust, liar. Here, take this. You find him, you put that on... you hide. - Tony! - I\\'m fine. Let me... Bruce gave him a sedative. He\\'s gonna probably be out for the rest of the day. You guys take care of him... and I\\'ll bring him a Xorrian elixir when I come back. Where are you going? To kill Thanos. Hey. You know, we usually work as a team here... and, between you and I, morale\\'s a little fragile. We realize up there is more your territory, but this is our fight, too. You even know where he is? I know people who might. Don\\'t bother. I can tell you where Thanos is. Thanos spent a long time trying to perfect me. And when he worked, he talked about his Great Plan. Even disassembled, I wanted to please him. I\\'d ask... where would we go once his plan was complete? And his answer was always the same. \"To the Garden.\" That\\'s cute. Thanos has a retirement plan. So, where is he? When Thanos snapped his fingers... Earth became ground zero for a power surge of ridiculously cosmic proportions. No one\\'s ever seen anything like it. Until two days ago... on this planet. Thanos is there. He used the stones again. Hey, hey, hey. We\\'d be going in shorthanded, you know? Look, he\\'s still got the stones, so... So, let\\'s get \\'em. Use them to bring everyone back. Just like that? Yeah. Just like that. Even if there\\'s a small chance that we can undo this... I mean, we owe it to everyone who\\'s not in this room to try. If we do this, how do we know it\\'s gonna end any differently than it did before? Because before you didn\\'t have me. Hey, new girl? Everybody in this room is about that superhero life. And if you don\\'t mind my asking, where the hell have you been all this time? There are a lot of other planets in the universe. And unfortunately, they didn\\'t have you guys. I like this one. Let\\'s go get this son of a bitch. Okay. Who here hasn\\'t been to space? Why? You better not throw up on my ship. Approaching jump in three... two, one. I\\'ll head down for recon. This is gonna work, Steve. I know it will. \\'Cause I don\\'t know what I\\'m gonna do if it doesn\\'t. No satellites. No ships. No armies. No ground defenses of any kind. It\\'s just him. And that\\'s enough. Oh, no. Where are they? Answer the question. The universe required correction. After that, the stones served no purpose... beyond temptation. You murdered trillions! You should be grateful. Where are the stones? Gone. Reduced to atoms. You used them two days ago! I used the stones to destroy the stones. It nearly killed me. But the work is done. It always will be. I am inevitable. We have to tear this place apart. He has to be lying! My father is many things. A liar is not one of them. Thank you, daughter. Perhaps I treated you too harshly. What? What did you do? I went for the head. So... I went on a date the other day. It\\'s the first time in five years. You know? I\\'m sitting there at dinner. I didn\\'t even know what to talk about. What did you talk about? Same old crap. You know, how things have changed. My job, his job. How much we miss the Mets. And then things got quiet... then he cried as they were serving the salads. What about you? I cried just before dessert. But I\\'m seeing him again tomorrow, so... That\\'s great. You did the hardest part. You took the jump. You didn\\'t know where you were gonna come down. And that\\'s it. That\\'s those little brave baby steps we got to take... to try and become whole again, try and find purpose. I went in the ice in \\'45, right after I met the love of my life. Woke up 70 years later. You got to move on. Gotta move on. The world is in our hands. It\\'s left to us, guys. And we got to do something with it. Otherwise... Thanos should\\'ve killed all of us. What the hell? Hope? Kid! Hey, kid! What the hell happened here? Oh, my God! Oh, please! Please, please! No, no, no. No. No. Excuse me. Sorry. Cassie, no. No, no, no. No, no. Please, please, please. No, Cassie. What? Cassie? Dad? You\\'re so big! Yeah. We boarded that highly-suspect warship Danvers pinged. It was an infectious garbage scow. So, thanks for the hot tip. Well, you were closer. Yeah. And now we smell like garbage. You get a reading on those tremors? \\'Twas a mild subduction under the African plate. Do we have a visual? How are we handling it? Nat. It\\'s an earthquake under the ocean. We handle it by not handling it. Carol, are we seeing you here next month? - Not likely. - What? You gonna get another haircut? Listen, fur face. I\\'m covering a lot of territory. The things that are happening on Earth are happening everywhere. On thousands of planets. All right, all right. That\\'s a good point. That\\'s a good point. So, you might not see me for a long time. All right. Well... This channel\\'s always active. So, if anything goes sideways... anyone\\'s making trouble where they shouldn\\'t... comes through me. Okay. All right. Good luck. Where are you? Mexico. The Federales found a room full of bodies. Looks like a bunch of cartel guys... never even had a chance to get their guns off. It\\'s probably a rival gang. Except it isn\\'t. It\\'s definitely Barton. What he\\'s done here... what he\\'s been doing for the last few years... I mean, the scene that he left... I got to tell you, there\\'s a part of me that doesn\\'t even wanna find him. Will you find out where he\\'s going next? Nat? Please? Okay. You know, I\\'d offer to cook you dinner... but you seem pretty miserable already. You here to do your laundry? And to see a friend. Clearly, your friend is fine. You know, I saw a pod of whales when I was coming over the bridge. - In the Hudson? - There\\'s fewer ships... cleaner water. You know, if you\\'re about to tell me to look on the bright side... I\\'m about to hit you in the head with a peanut butter sandwich. Sorry. Force of habit. You know, I keep telling everybody they should move on... and grow. Some do. But not us. If I move on, who does this? Maybe it doesn\\'t need to be done. I used to have nothing. And then I got this. This job. This family. And I was better because of it. And even though they\\'re gone... I\\'m still trying to be better. I think we both need to get a life. You first. Hi, hi! Is anyone home? This is Scott Lang. We met a few years ago at the airport... in Germany? I was the guy that got really big. I had a mask on. - You wouldn\\'t recognize me. - Is this an old message? Ant-Man? I know you know that. - It\\'s the front gate. - I really need to talk to you guys. Scott. Are you okay? Yeah. Have either of you guys ever studied quantum physics? Only to make conversation. All right, so... five years ago, right before... Thanos... I was in a place called the quantum realm. The quantum realm is like its own microscopic universe. To get in there, you have to be incredibly small. Hope. She\\'s my... She was my... She was supposed to pull me out. And then Thanos happened... and I got stuck in there. I\\'m sorry, that must have been a very long five years. Yeah, but that\\'s just it. It wasn\\'t. For me, it was five hours. See, the rules of the quantum realm aren\\'t like they are up here. Everything is unpredictable. Is that anybody\\'s sandwich? I\\'m starving. Scott. What are you talking about? So... what I\\'m saying is... time works differently in the quantum realm. The only problem is right now we don\\'t have a way to navigate it. But what if we did? I can\\'t stop thinking about it. What if we could somehow control the chaos... and we could navigate it? What if there was a way... that we could enter the quantum realm at a certain point in time... but then exit the quantum realm at another point in time? Like... - Like before Thanos. - Wait. Are you talking about a time machine? No. No, of course not. No, not a time machine. This is more like a... Yeah. Like a time machine. I know, it\\'s crazy. It\\'s crazy. But I can\\'t stop thinking about it. There\\'s got to be... some way... - It\\'s crazy. - Scott. I get emails from a raccoon... so nothing sounds crazy anymore. So, who do we talk to about this? Chow time! Maguna. Morgan H. Stark, you want some lunch? - Define \"lunch\" or be disintegrated. - Okay. You should not be wearing that, okay? That is part of a special anniversary gift I\\'m making for Mom. There you go. You thinking about lunch? I can give you a handful of crickets on a bed of lettuce. - No. - That\\'s what you want. How did you find this? - Garage. - Really? - Were you looking for it? - No. I found it, though. You like going in the garage, huh? So does Daddy. It\\'s fine, actually. Mom never wears anything I buy her. So, I\\'m gonna... No. We know what it sounds like. Tony, after everything you\\'ve seen, is anything really impossible? Quantum fluctuation messes with the Planck Scale... which then triggers the Deutsch Proposition. Can we agree on that? Thank you. In layman\\'s terms, it means you\\'re not coming home. - I did. - No. You accidentally survived. It\\'s a billion-to-one cosmic fluke. And now you wanna pull a... What do you call it? A time heist? Yeah, a time heist. Of course. Why didn\\'t we think of this before? Oh, because it\\'s laughable. Because it\\'s a pipe dream. The stones are in the past. We could go back, we could get them. We can snap our own fingers. We can bring everybody back. Or screw it up worse than he already has, right? I don\\'t believe we would. Gotta say it. I sometimes miss that giddy optimism. However, high hopes won\\'t help... if there\\'s no logical, tangible way for me to safely execute said time heist. I believe the most likely outcome will be our collective demise. Not if we strictly follow the rules of time travel. All right? It means no talking to our past selves... no betting on sporting events. I\\'m gonna stop you right there, Scott. Are you seriously telling me that your plan to save the universe... is based on Back to the Future? - Is it? - No. Good. You had me worried there. \\'Cause that would be horseshit. That\\'s not how quantum physics works. Tony. We have to take a stand. We did stand. And yet, here we are. I know you got a lot on the line. You got a wife, a daughter. But I lost someone very important to me. A lotta people did. And now, now we have a chance to bring her back... to bring everyone back, and you\\'re telling me that you won\\'t even... That\\'s right, Scott. I won\\'t even. I can\\'t. Mommy told me to come and save you. Good job. I\\'m saved. I wish you were coming here to ask me something else. Anything else. I\\'m honestly happy to see you guys, I just... - Oh, look, the table\\'s set for six. - Tony. I get it. And I\\'m happy for you. I really am. But this is a second chance. I got my second chance right here, Cap. Can\\'t roll the dice on it. If you don\\'t talk shop, you can stay for lunch. Well, he\\'s scared. He\\'s not wrong. Yeah, but, I mean, what are we gonna do? We need him. What, are we gonna stop? No, I wanna do it right. We\\'re gonna need a really big brain. Bigger than his? Come on, I feel like I\\'m the only one eating here. Try some of that. Have some eggs. I\\'m so confused. These are confusing times. Right, no, no. That\\'s not what I meant. Nah, I get it. I\\'m kidding! I know, it\\'s crazy. I\\'m wearing shirts now. Yeah. What? How? Why? Five years ago, we got our asses beat. Except it was worse for me... \\'cause I lost twice. First, Hulk lost, then Banner lost... and then, we all lost. No one blamed you, Bruce. I did. For years, I\\'ve been treating the Hulk like he\\'s some kind of disease... something to get rid of. But then, I start looking at him as the cure. Eighteen months in the gamma lab. I put the brains and the brawn together... and now, look at me. Best of both worlds. - Excuse me, Mr. Hulk? - Yes. Can we get a photo? 100%, little person. Come on, step on up. Do you mind? - Oh, yeah, yeah. - Thanks. Say \"green.\" - Green. - Green. Did you get that? That\\'s a good one. Did you want to grab one with me? I\\'m Ant-Man. They\\'re Hulk fans. They don\\'t know Ant-Man. Nobody does. - No, he wants you to take a picture with him. - I don\\'t want a picture. Stranger danger. Yeah, look, he\\'s even saying no, he doesn\\'t. - I get it. I don\\'t want it, either. - But come on. The kid... I don\\'t want a picture with them. - He\\'s gonna feel bad. - Sorry. They\\'re happy to do it. They said they\\'ll do it. - I don\\'t want to do it. - We can do it. - No, you feel bad. - Take the goddamn phone. Okay. - Thank you, Mr. Hulk. - No, it was great, kids. Thank you very much. Hulk out! Bruce. Dab. - Bruce. - Listen to your mom. She knows better. About what we were saying. Right. The whole time travel do-over? Guys, it\\'s outside of my area of expertise. Well, you pulled this off. I remember a time when that seemed pretty impossible, too. I\\'ve got a mild inspiration. I\\'d like to see if it checks out. So, I\\'d like to run one last sim before we pack it in for the night. This time, in the shape of a Mobius strip, inverted, please. Processing. Right, give me the eigenvalue of that particle... factoring in spectral decomp. - That\\'ll take a second. - Just a moment. And don\\'t worry if it doesn\\'t pan out. I\\'m just kinda... Model rendered. Shit! Shit! What are you doing up, little miss? - Shit. - Nope. We don\\'t say that. Only Mommy says that word. She coined it. It belongs to her. Why are you up? \\'Cause I\\'ve got some important shit going on here! Why do you think? No, I got something on my mind. I got something on my mind. Was it juice pops? Sure was. That\\'s extortion. That\\'s a word. What kind you want? Great minds think alike. Juice pops exactly... was on my mind. You done? Yeah? Now you are. Here. Wipe. Good. That face goes there. Tell me a story. A story. Once upon a time, Maguna went to bed. The end. That is a horrible story. Come on, that\\'s your favorite story. Love you tons. I love you 3,000. Wow. 3,000. That\\'s crazy. Go to bed or I\\'ll sell all your toys. Night night. Not that it\\'s a competition... but she loves me 3,000. Does she, now? You were somewhere in the low 6 to 900 range. Whatcha reading? Just a book on composting. What\\'s new with composting? - Interesting science... - I figured it out. By the way. And, you know, just so we\\'re talking about the same thing... Time travel. What? Wow. That\\'s amazing... and terrifying. That\\'s right. We got really lucky. Yeah. I know. A lot of people didn\\'t. Nope. And I can\\'t help everybody. Sorta seems like you can. Not if I stop. I can put a pin in it right now and stop. Tony... trying to get you to stop... has been one of the few failures of my entire life. Something tells me... I should put it in a lockbox and drop it to the bottom of the lake... and go to bed. But would you be able to rest? Okay, here we go. Time travel test number one. Scott, fire up... the van thing. Breakers are set. Emergency generators are on standby. Good, because if we blow the grid, I don\\'t want to lose Tiny here in the 1950s. Excuse me? He\\'s kidding. You can\\'t say things like that. It was a bad joke. You were kidding, right? I have no idea. We\\'re talking about time travel here. Either it\\'s all a joke, or none of it is. We\\'re good! Get your helmet on. Scott, I\\'m gonna send you back a week... let you walk around for an hour, then bring you back in 10 seconds. Make sense? Perfectly not confusing. Good luck, Scott. You got this. You\\'re right. I do, Captain America. On a count of three... Three, two, one. Guys? This doesn\\'t feel right. What is this? - What\\'s going on? - Who is that? - Hold on. - Is that Scott? Yes, it\\'s Scott. - What\\'s going on, Bruce? - Oh, my back! - What is this? - Hold on a second. - Could I get a little space here? - Yeah, yeah, yeah. - Can you bring him back? - I\\'m working on it. It\\'s a baby. - It\\'s Scott. - As a baby. - He\\'ll grow. - Bring Scott back. When I say kill the power, kill the power. Oh, my God. And... kill it! Somebody peed my pants. Oh, thank God. But I don\\'t know if it was baby me or old me. Or just me me. Time travel! What? I see this as an absolute win. Why the long face? Let me guess, he turned into a baby. Among other things, yeah. What are you doing here? It\\'s the EPR Paradox. Instead of pushing Lang through time, you might\\'ve wound up... pushing time through Lang. It\\'s tricky, dangerous. Somebody could have cautioned you against it. You did. Oh, did I? Well, thank God I\\'m here. Regardless, I fixed it. A fully functioning time-space GPS. I just want peace. Turns out resentment is corrosive, and I hate it. Me, too. We got a shot at getting these stones, but I got to tell you my priorities. Bring back what we lost, I hope, yes. Keep what I found, I have to, at all costs. And maybe not die trying. Would be nice. Sounds like a deal. Tony, I don\\'t know. Why? He made it for you. Plus, honestly, I have to get it out of the garage before Morgan takes it sledding. Thank you, Tony. Will you keep that a little quiet? Didn\\'t bring one for the whole team. We are getting the whole team, yeah? We\\'re working on that right now. Hey, Humie. Where\\'s Big Green? The kitchen, I think. That\\'s awesome. Rhodey, careful on re-entry. There\\'s an idiot in the landing zone. Oh, God. What\\'s up, Regular-Sized Man? Kind of a step down from the golden palaces and the magic hammers and whatnot. Hey, have a little compassion, pal. First, they lost Asgard, then half their people. They\\'re probably just happy to have a home. You shouldn\\'t have come. Valkyrie! Great to see you, angry girl! I think I liked you better either of the other ways. - This is Rocket. - How ya doing? He won\\'t see you. It\\'s that bad, huh? We only see him once a month when he comes in for \"supplies.\" It\\'s that bad. Yeah. What the...? Something died in here! Hello? Thor! Are you here about the cable? The Cinemax went out two weeks ago... and the sports are all kinda fuzzy and whatnot. Thor? Boys! Oh, my God! Oh, my God, it\\'s so good to see you! Come here, cuddly little rascal. Yeah, no, I\\'m good. I\\'m good. That\\'s not necessary. Hulk, you know my friends Miek and Korg, right? - Hey, boys! - Hey, guys. Long time no see. Beer\\'s in the bucket. Feel free to log on to the Wi-Fi. No password, obviously. Thor, he\\'s back. That kid on the TV just called me a dickhead again. Noobmaster. Yeah, NoobMaster69 called me a dickhead. I am sick of this. Noobmaster, hey, it\\'s Thor again. You know, the God of Thunder. Listen, bud, if you don\\'t log off this game immediately... I am gonna fly over to your house, come down to that basement you\\'re hiding in... rip off your arms, and shove them up your butt! Oh, that\\'s right, yes! Go cry to your father, you little weasel. Thank you, Thor. Let me know if he bothers you again, okay? Thank you very much. I will. So, you guys want a drink? What are we drinking? I\\'ve got beer, tequila, all sorts of things. Buddy. You all right? Yes, I\\'m fine. Why? Why, don\\'t I look all right? You look like melted ice cream. So, what\\'s up? You just here for a hang, or what? We need your help. There might be a chance we could fix everything. What, like the cable? \\'Cause that\\'s been driving me bananas for weeks. Like Thanos. Don\\'t say that name. Yeah, we don\\'t actually say that name in here. Please take your hand off me. Now, I know that guy... might scare you. Why would I be...? Why would I be scared of that guy? I\\'m the one who killed that guy, remember? Anyone else here kill that guy? Nope. Didn\\'t think so. Korg, why don\\'t you tell everybody who chopped Thanos\\' big head off? Stormbreaker? Who was swinging Stormbreaker? I get it. You\\'re in a rough spot, okay? I\\'ve been there myself. And you want to know who helped me out of it? Was it Natasha? It was you. You helped me. So, why don\\'t you ask... the Asgardians down there... how much my help is worth? The ones that are left, anyway. I think we could bring them back. Stop. Stop, okay? I know you think I\\'m down here wallowing in my own self-pity... waiting to be rescued and saved... but I\\'m fine, okay. We\\'re fine, aren\\'t we? We\\'re good here, mate. So, whatever it is that you\\'re offering, we\\'re not into it. Don\\'t care. Couldn\\'t care less. Goodbye. We need you, pal. There\\'s beer on the ship. What kind? It\\'s him! He\\'s after Akihiko! Why are you doing this? We never did anything to you! You survived... Half the planet didn\\'t. They got Thanos. You get me... You\\'re done hurting people. WE hurt people? You\\'re crazy! Wait! Help me! I\\'ll give you anything! What do you want? What I want you can\\'t give me. You shouldn\\'t be here. Neither should you. I\\'ve got a job to do. Is that what you\\'re calling this? Killing all these people isn\\'t gonna bring your family back. We found something. A chance, maybe. Don\\'t. Don\\'t what? Don\\'t give me hope. I\\'m sorry I couldn\\'t give it to you sooner. You\\'re drifting left. One side there, Lebowski. Ratchet, how\\'s it going? It\\'s Rocket. Take it easy. You\\'re only a genius on Earth, pal. Time travel suit, not bad. Hey, hey, hey! Easy! Easy! I\\'m being very careful. No, you\\'re being very Hulky. I\\'m being careful. These are Pym Particles, all right? And ever since Hank Pym got snapped out of existence, this is it. This is what we have. We\\'re not making any more. - Scott, calm down. - Sorry. We\\'ve got enough for one round-trip each. That\\'s it. No do-overs. Plus two test runs. One test run. All right. I\\'m not ready for this. I\\'m game. I\\'ll do it. Clint, now you\\'re gonna feel a little discombobulated from the chronoshift. - Don\\'t worry about that. - Wait a second. Let me ask you something. If we can do this, you know... go back in time, why don\\'t we just find baby Thanos? You know, and... - First of all, that\\'s horrible. - It\\'s Thanos. And secondly, time doesn\\'t work that way. Changing the past doesn\\'t change the future. Look, we go back, we get the stones before Thanos gets them... Thanos doesn\\'t have the stones. Problem solved. - Bingo. - That\\'s not how it works. - Well, that\\'s what I heard. - Wait, but who? Who told you that? Star Trek, Terminator, Timecop... - Time After Time. - Quantum Leap. - Wrinkle in Time, Somewhere in Time. - Hot Tub Time Machine. Hot Tub Time Machine. Bill and Ted\\'s Excellent Adventure. Basically, any movie that deals with time travel. Die Hard. No, that\\'s not one. This is known. I don\\'t know why everyone believes that, but that isn\\'t true. Think about it. If you travel to the past... that past becomes your future... and your former present becomes the past... which can\\'t now be changed by your new future. Exactly. So Back to the Future is a bunch of bullshit? All right, Clint. We\\'re going in three, two... one. Cooper? Where are my headphones? Lila? - I never had them. - Lila? Yeah, you had them yesterday! Lila! Lila! Yeah, Dad? Dad? Lila! Hey. Hey, look at me. You okay? Yeah. Yeah. It worked. It worked. Okay, so the how works. Now, we got to figure out the when and the where. Almost everyone in this room has had an encounter... with at least one of the six Infinity Stones. Or substitute the word \"encounter\"... for \"damn near been killed\" by one of the six Infinity Stones. Well, I haven\\'t... but I don\\'t even know what the hell you\\'re all talking about. Regardless, we only have enough Pym Particles for one round-trip each. And these stones have been in a lot of different places throughout history. Our history. So, not a lot of convenient spots to just drop in, yeah? Which means we have to pick our targets. Correct. So, let\\'s start with the Aether. Thor, what do you know? Is he asleep? No, no. I\\'m pretty sure he\\'s dead. Where to start? The Aether, firstly, is not a stone. Someone called it a stone before. It\\'s more of an angry sludge sort of a thing... so someone\\'s gonna need to amend that and stop saying that. Here\\'s an interesting story, though, about the Aether. My grandfather, many years ago... had to hide the stone from the Dark Elves. Scary beings. So, Jane, actually... Oh, there she is. Yeah, so Jane was an old flame of mine. You know, she stuck her hand inside a rock this one time... and then the Aether stuck itself inside her... and she became very, very sick. And so I had to take her to Asgard, which is where I\\'m from... and we had to try and fix her. We were dating at the time, you see... and I got to introduce her to my mother... who\\'s dead and... Oh, you know, Jane and I aren\\'t even dating anymore, so... Yes, these things happen, though. You know? Nothing lasts forever. The only thing that... - Why don\\'t you come sit down? - I\\'m not done yet. The only thing that is permanent in life is impermanence. Awesome. Eggs? Breakfast? No. I\\'d like a Bloody Mary. Quill said he stole the Power Stone from Morag. - Is that a person? - No, Morag\\'s a planet. Quill was a person. Like a planet? Like in outer space? Oh, look. It\\'s like a little puppy, all happy and everything. Do you wanna go to space? You wanna go to space, puppy? I\\'ll take you to space. Thanos found the Soul Stone on Vormir. What is Vormir? A dominion of death... at the very center of celestial existence. It\\'s where Thanos murdered my sister. Not it. - That Time Stone guy. - Doctor Strange. Yeah, what kind of doctor was he? Ear-nose-throat meets rabbit-from-hat. Nice place in the Village, though. Yeah, on Sullivan Street? Bleecker Street. Wait, he lived in New York? - No, he lived in Toronto. - Yeah, on Bleecker and Sullivan. - Have you been listening to anything? - Guys. If you pick the right year, there are three stones in New York. Shut the front door. All right. We have a plan. Six stones, three teams, one shot. Five years ago, we lost. All of us. We lost friends. We lost family. We lost a part of ourselves. Today, we have a chance to take it all back. You know your teams. You know your missions. Get the stones. Get them back. One round-trip each. No mistakes... no do-overs. Most of us are going somewhere we know. That doesn\\'t mean we should know what to expect. Be careful. Look out for each other. This is the fight of our lives... and we\\'re gonna win. Whatever it takes. Good luck. He\\'s pretty good at that. - Right? - All right. You heard the man. Stroke those keys, Jolly Green. Trackers engaged. You promise to bring that back in one piece, right? Yeah, yeah, yeah. Okay, I\\'ll do my best. As promises go, that was pretty lame. See ya in a minute. All right, we all have our assignments. Two stones uptown, one stone down. Stay low. Keep an eye on the clock. Maybe smash a few things along the way. I think it\\'s gratuitous, but whatever. I\\'d be careful going that way. We just had the floors waxed. Yeah, I\\'m looking for Doctor Strange. You\\'re about five years too early. Stephen Strange is currently performing surgery about 20 blocks that way. What do you want from him? That, actually. I\\'m afraid not. Sorry, but I wasn\\'t asking. You don\\'t want to do this. You\\'re right, I don\\'t. But I need that stone... and I don\\'t have time to debate it. Let\\'s start over, shall we? For you, Lady Jane. Do you have anything with pants? Pants? Never mind. These will be fine. Thank you. - Yes, milady. - There\\'s Jane. All right. Here\\'s the deal, tubby. You\\'re gonna charm her, and I\\'m gonna poke her with this thing... and extract the Reality Stone, and get gone lickety-split. I\\'ll be right back, okay? The wine cellar is just down here. My father used to have this huge barrel of Aakonian ale. I\\'ll see if the scullery has a couple of to-go cups. Hey. Hey! Aren\\'t you drunk enough already? - If you could send Loki some soup. - Yes, milady. And ask our librarians to pull some volumes from the astronomy shelf. Who\\'s the fancy broad? That\\'s my mother. She dies today. Oh, that is today? I can\\'t do this. I can\\'t do this. I shouldn\\'t be here. I shouldn\\'t have come. It\\'s a bad idea! - Come here. - No, no, no. I think I\\'m having a panic attack. - Come here. Right here. - I shouldn\\'t be here. This is bad. You think you\\'re the only one who lost people? What do you think we\\'re doing here? I lost the only family I ever had. Quill, Groot, Drax, the chick with the antenna... all gone. I get you miss your mom... but she\\'s gone. Really gone. And there are plenty of people who are only kind of gone... and you can help them. So, is it too much to ask that you brush the crumbs out of your beard... make schmoopy talk to Pretty Pants... and when she\\'s not looking, suck out the Infinity Stone... and help me get my family back? Okay. Are you crying? No. Yes. I feel like I\\'m losing it. Get it together! You can do this. You can do this. All right? Yes, I can. Good. I can do this. I can do this. I can\\'t do this. All right, heartbreaker, she\\'s alone. This is our shot. Thor? Thor! All right, bring it down, Blue. Right on that line. That\\'s it. Down, down. Hey, can we hurry it up? Guys, chop-chop. Come on. We\\'re on the clock. All that is really helpful. - Take care, okay? - Yeah. Get that stone and come back. No messing around. - Hey. - We got this. - Let\\'s get it done. - Yes, sir. I\\'ll see you back. You guys watch each other\\'s six. Yeah. Coordinates for Vormir are laid in. All they have to do is not fall out. We\\'re a long way from Budapest. Okay, so... we just wait around for this Quill guy to show up... and then he leads us to the Power Stone, is that it? Let\\'s take cover. We\\'re not the only ones in 2014 looking for the stones. Wait a minute. What are you talking about right now? Who else is looking for these stones? My father... my sister... and me. And you? Where are you right now? You\\'re welcome. I didn\\'t ask for your help. And yet, you always need it. Get up. Father wants us back on the ship. Why? He\\'s found an Infinity Stone. Where? On a planet called Morag. Father\\'s plan is finally in motion. One stone isn\\'t six, Nebula. It\\'s a start. If he gets all of them... Ronan\\'s located the Power Stone. I\\'m dispatching you to his ship. He won\\'t like that. His alternative is death. Ronan\\'s obsession... clouds his judgment. We will not fail you, Father. No, you won\\'t. I swear... I will make you proud. We just wait around for this Quill guy to show up... and then he leads us to the Power Stone, is that it? Let\\'s take cover. We\\'re not the only ones in 2014 looking for the stones. Who was that? I don\\'t know. My head is splitting. I don\\'t know. Her synaptic drive was probably damaged in battle. Bring her to my ship. Better hustle, Cap. Things look like they\\'re just about wrapped up here. Got it. I\\'m approaching the elevator now. If it\\'s all the same to you... I\\'ll have that drink now. All right, get him on his feet. We can all stand around posing up a storm later. By the way, feel free to clean up. Mr. Rogers, I almost forgot that that suit... did nothing for your ass. No one asked you to look, Tony. - It\\'s ridiculous. - I think you look great, Cap. As far as I\\'m concerned, that\\'s America\\'s ass. Who gets the magic wand? S.T.R.I.K.E. team\\'s coming to secure it. We can take that off your hands. By all means. Careful with that thing. Yeah, unless you want your mind erased. And not in a fun way. We promise to be careful. Who are these guys? They are S.H.I.E.I.D. Well, actually Hydra, but we didn\\'t know that yet. Seriously? You didn\\'t? I mean, they look like bad guys. You\\'re small, but you\\'re talking loud. On my way down to coordinate search and rescue. On my way down to coordinate search and rescue. I mean, honestly, how do you keep your food down? Shut up. All right, you\\'re up, little buddy. There\\'s our stone. All right. Flick me. - Move. - Hey. Hey, hey. Buddy! What do you think? Maximum occupancy has been reached. Take the stairs. Yeah. Stop, stop. \"Take the stairs.\" Hate the stairs. All right, Cap, I got our scepter in the elevator... just passing the 80th floor. On it. - Head to the lobby. - All right, I\\'ll see you there. Evidence secure. We\\'re en route to Doctor List. No. No hitches at all, Mr. Secretary. Captain. I thought you were coordinating search and rescue. Change of plans. Hey, Cap. Rumlow. I just got a call from the secretary. I\\'m gonna be running point on the scepter. Sir? I don\\'t understand. We got word there may be an attempt to steal it. Sorry, Cap. We can\\'t give you the scepter. I\\'m gonna have to call the director. That\\'s okay. Trust me. Hail Hydra. So many stairs! Thumbelina, do you copy? I\\'ve got eyes on the prize. It is go time. Bombs away. Is that Axe Body Spray? Yeah, I had a can in the desk for emergencies. Relax. Can we focus, please? I\\'m going inside you... now. May I ask you where you\\'re going? Bit of lunch and then Asgard. I\\'m sorry, you are...? Alexander Pierce. He\\'s the man above the folks behind Nick Fury. My friends call me Mr. Secretary. I\\'m gonna have to ask you to turn that prisoner over to me. Loki will be answering to Odin himself. No, he\\'s going to answer to us. Odin can have what\\'s left. And I\\'m gonna need that case. That\\'s been S.H.I.E.I.D. property for over 70 years. Hand over the case, Stark. All right, move it, Stuart Little. Things are getting dicey out here. Let\\'s go. I\\'m not gonna argue who\\'s got the higher authority here... You promise me you won\\'t die? We\\'re only giving me a mild cardiac dysrhythmia. That doesn\\'t sound mild. I need the case. I know you got a lot of pull, I\\'m just saying, jurisdiction... Okay, then give me the case. - Well, jurisdiction... - Hand it over. Do it, Lang! - Get your hands off me. - Window\\'s closing. Pull my pin. Here goes! - Stark? - Stark? He\\'s convulsing. Give him air! - Medic! - Medic! Give these guys some help. Speak to me. Stark, is it your chest machine? Breathe, breathe. Good job. Meet me in the alley. I\\'m gonna grab a quick slice. No stairs! Come on, Stark, stay with us. I\\'m going to try something. Okay? I have no idea if it\\'s going to work. Yes! Oh, that worked a treat. Dude, that was so crazy. I had no idea if that was gonna work. - The case. - The case is... Where\\'s the case? Where\\'s Loki? Loki! That wasn\\'t supposed to happen, was it? We blew it. Loki? Tony, what\\'s going on? Tell me you found that Cube. You got to be shitting me. I have eyes on Loki. 14th floor. I\\'m not Loki... and I don\\'t wanna hurt you. I can do this all day. Yeah, I know. I know. Where did you get this? Bucky is alive. What? That is America\\'s ass. Please, please. I\\'m sorry, I can\\'t help you, Bruce. If I give up the Time Stone to help your reality, I\\'m dooming my own. With all due respect, all right... I\\'m not sure the science really supports that. The Infinity Stones create what you experience as the flow of time. Remove one of the stones... and that flow splits. Now, this may benefit your reality... but my new one, not so much. In this new branch reality... without our chief weapon against the forces of darkness... our world would be overrun. Millions will suffer. So, tell me, Doctor. Can your science prevent all that? No... but we can erase it. Because once we\\'re done with the stones... we can return each one to its own timeline... at the moment it was taken. So, chronologically... in that reality... it never left. Yes, but you\\'re leaving out the most important part. In order to return the stones, you have to survive. We will. I will. I promise. I can\\'t risk this reality on a promise. It\\'s the duty of the Sorcerer Supreme to protect the Time Stone. Then why the hell did Strange give it away? What did you say? Strange. He gave it away. He gave it to Thanos. - Willingly? - Yes. - Why? - I have no idea. Maybe he made a mistake. Or I did. Strange is meant to be the best of us. So, he must\\'ve done it for a reason. I fear you might be right. Thank you. I\\'m counting on you, Bruce. We all are. Run diagnostics. Show me her memory file. Sire, the file appears entangled. It was a memory, but not hers. There\\'s another consciousness... sharing her network. Another Nebula. Impossible. This duplicate carries a time stamp... from nine years in the future. Where is this other Nebula? In our solar system on Morag. Can you access her? Yes, the two are linked. Search the duplicate\\'s memories... for Infinity Stones. And these stones have been in a lot of different places throughout history. Our history. So, not a lot of convenient spots... to just drop in. Which means we have to pick our targets. - Correct. - Freeze image. Terrans. Avengers. Unruly wretches. What\\'s that reflection? Amplify this, Maw. I don\\'t understand. Two Nebulas. No. The same Nebula... from two different times. Set course for Morag. And scan the duplicate\\'s memories. I wanna see everything. My ladies, I\\'ll see you after. I\\'ll see you after. Go on ahead. What are you doing? Oh, God! You\\'re better off leaving the sneaking to your brother. No, I wasn\\'t sneaking. I was just going for a walk. What are you wearing? I always wear this. It\\'s one of my favorites. What\\'s wrong with your eye? Oh, my eye. Remember the Battle of Harokin... when I got hit in the face with the broadsword? You\\'re not the Thor I know at all, are you? Yes, I am. The future hasn\\'t been kind to you, has it? I didn\\'t say I was from the future. I was raised by witches, boy. I see with more than eyes, you know that. Yeah, I\\'m totally from the future. Yes, you are, honey. I really need to talk to you. We can talk. His head was over there... and his body over there... I mean, what was the point? I was too late. I was just standing there. Some idiot with an axe. Now, you\\'re no idiot. You\\'re here, aren\\'t you? Seeking counsel from the wisest person in Asgard. I am. Yes. Idiot, no. A failure? Absolutely. That\\'s a little bit harsh. Do you know what that makes you? Just like everyone else. I\\'m not supposed to be like everyone else, am I? Everyone fails at who they\\'re supposed to be, Thor. The measure of a person, of a hero... is how well they succeed at being who they are. I\\'ve really missed you, Mom. Thor! I got it! Get that rabbit! Mom, I have to tell you something. No, son, you don\\'t. You\\'re here to repair your future, not mine. This is about your future. It\\'s none of my business. Hi. You must be Mom. I got the thing. Come on. We got to move. I wish we had more time. No, this was a gift. Now you go and be the man you\\'re meant to be. I love you, Mom. I love you. And eat a salad. Come on, we got to go. - Goodbye. - Three... - Two... - No, wait! What am I looking at? Sometimes it takes a second. I\\'m still worthy. Oh, boy. - Goodbye, Mom. - Goodbye. So, he\\'s an idiot? Yeah. What\\'s that? The tool of a thief. This is the part where spikes come out... with skeletons on the end of them and everything. What are you talking about? When you break into a place called \"The Temple of the Power Stone\"... there\\'s gonna be a bunch of booby traps. - Oh, my God. - Okay. All right. Go ahead. I wasn\\'t always like this. Me either. But we work with what we got, right? Let\\'s sync up. Three, two, one. You murdered trillions! You should be grateful. Where are the stones? Gone. Reduced to atoms. You used them two days ago! I used the stones to destroy the stones. It nearly killed me. But the work is done. It always will be. I am inevitable. What did you do to them? Nothing. Yet. They\\'re not trying to stop something I\\'m going to do in our time. They\\'re trying to undo something I\\'ve already done in theirs. The stones. I found them all. I won. Tipped the cosmic scales to balance. This is your future. It\\'s my destiny. My father is many things. A liar is not one of them. Thank you, daughter. Perhaps I treated you too harshly. And that is destiny fulfilled. Sire... your daughter... No! Is a traitor. That\\'s not me. It\\'s not, I could never... I would never betray you. Never. Never. I know. And you\\'ll have the chance to prove it. No! He knows! Barton! Barton, come in. Romanoff! Come in, we have a problem. Come on! Come in, we have a... Thanos knows. Thanos... Cap. Sorry, buddy, we got a problem. Yeah, we do. Well, what are we gonna do now? You know what? Give me a break, Steve. I just got hit in the head with the Hulk. You said that we had one shot. This was our shot. We shot it. It\\'s shot. Six stones or nothing. - It was six stones or nothing. - You\\'re repeating yourself, you know that? You\\'re repeating yourself. You\\'re repeating yourself. You\\'re repeating yourself. - Dude. Come on! - No. You never wanted a time heist. You weren\\'t on board with the time heist. - I dropped the ball. - You ruined the time heist. - Is that what I did? - Yeah. Are there any other options with the Tesseract? No, no, no, there\\'s no other options. There\\'s no do-overs. We\\'re not going anywhere else. We have one particle left. Each. That\\'s it. All right? We use that... bye-bye, you\\'re not going home. Yeah, well, if we don\\'t try... then no one else is going home, either. I got it. There\\'s another way to retake the Tesseract and acquire new particles. Little stroll down memory lane. Military installation, Garden State. When were they both there? They were there at a time... I have a vaguely exact idea. - How vague? - What are you talking about? Where are we going? I know for a fact they were there. - Who\\'s they? What are we doing? - And I know how I know. Guys, what is it? Looks like we\\'re improvising. - Great. - What are we improvising? Scott, get this back to the compound. Suit up. - What\\'s in New Jersey? - 0-4. 0-4. - 0-7. - 0-7. - Excuse me. - 1-9-7-0. Are you sure? Cap? Captain? Steve? Sorry. America. Rogers. Look, if you do this... and it doesn\\'t work, you\\'re not coming back. Thanks for the pep talk, pissant. You trust me? I do. Your call. Here we go. Hey, man! Make love, not war. Clearly you weren\\'t actually born here, right? The idea of me was. Right. Well, imagine you\\'re S.H.I.E.I.D... running a quasi-fascistic intelligence organization... where do you hide it? In plain sight. Good luck on your mission, Captain. Good luck on your project, Doctor. You new here? Not exactly. Come on, you bastard. Gotcha. Back in the game. Arnim, you in there? Arnim? Hey! The door is this way, pal. Oh, yeah. Looking for Doctor Zola, have you seen him? Yeah, Doctor Zola. No, I haven\\'t seen a soul. Pardon me. Do I know you? No, sir. I\\'m a visitor from MIT. MIT. Got a name? Howard. - That\\'ll be easy to remember. - Howard... Potts. Well, I\\'m Howard Stark. Hi. Shake that, don\\'t pull it. Yeah. You look a little green around the gills, there, Potts. I\\'m fine. Just long hours. You wanna get some air? - Hello, Potts. - Yeah. - That\\'d be swell. - That way. Okay. Need your briefcase? You\\'re not one of those beatniks, are you, Potts? - Hello? - Doctor Pym? That would be the number that you called, yes. This is Captain Stevens from shipping. We have a package for you. Bring it up. That\\'s the thing, sir, we can\\'t. I\\'m confused. I thought that was your job. Well, it\\'s just... Sir, the box is glowing... and to be honest, some of our mail guys aren\\'t feeling that great. They didn\\'t open it, did they? Yeah, they did. You better get down here. Excuse me! Out of the way! So, flowers and sauerkraut. You got a big date tonight? My wife\\'s expecting. And too much time at the office. Congratulations. - Thanks. Hold this, will ya? - Yeah, sure. - How far along is she? - I don\\'t know. She\\'s at the point where she can\\'t stand the sound of my chewing. I guess I\\'ll be eating dinner in the pantry again. I have a little girl. A girl would be nice. Less of a chance she\\'d turn out exactly like me. What\\'d be so awful about that? Let\\'s just say that the greater good has rarely outweighed my own self-interest. And you\\'ve never seen these two men before? No, I\\'ve got an eye for this. The two of them looked fishy. - Can you describe them? - One of them had a hippie beard. Hippie. Like Bee Gees or Mungo Jerry? Definitely Mungo Jerry. Yeah, this is Chesler. I need every available MP to sublevel six. We have a potential breach. I said bring them in. They\\'re trying, ma\\'am, but Braddock\\'s unit has been stopped by lightning strikes. Oh, for the love of... I\\'ll look at the weather projections. It\\'s not lightning strikes we\\'re looking at. So, where you at with names? Well, if it\\'s a boy, my wife likes Elmonzo. Might wanna let that stew awhile. You got time. Let me ask you a question. When your kid was born, were you nervous? Wildly. - Yeah. - Did you feel qualified? Like you had any idea how to successfully operate that thing? I literally pieced it together as I went along. I thought about what my dad did. My old man, he never met a problem he couldn\\'t solve with a belt. I thought my dad was tough on me. And now, looking back on it, I just remember the good stuff. You know? He did drop the odd pearl. Yeah? Like what? \"No amount of money ever bought a second of time.\" Smart guy. He did his best. I\\'ll tell you, that kid\\'s not even here yet and there\\'s nothing I wouldn\\'t do for him. Good to meet you, Potts. Yeah. Howard... everything\\'s gonna be all right. Thank you... for everything... you\\'ve done for this country. Jarvis. Have we ever met that guy? You meet a lot of people, sir. Seems very familiar. Weird beard. You\\'re weak. I\\'m you. You could stop this. You know you want to. Did you see what happens in the future? Thanos finds the Soul Stone. You wanna know how he does that? You wanna know what he does to you? That\\'s enough. You disgust me. But that doesn\\'t mean you\\'re useless. How do I look? Wow. Under different circumstances... this would be totally awesome. I bet the raccoon didn\\'t have to climb a mountain. Technically he\\'s not a raccoon, you know? Whatever. He eats garbage. Welcome. Natasha. Daughter of Ivan. Clint. Son of Edith. Who are you? Consider me a guide... to you... and to all who seek the Soul Stone. Oh, good. You tell us where it is, then we\\'ll be on our way. If only it were that easy. What you seek lies in front of you. As does what you fear. The stone\\'s down there. For one of you. For the other... In order to take the stone... you must lose that which you love. An everlasting exchange. A soul for a soul. How\\'s it going? Jesus. Maybe he\\'s making this shit up. No. I don\\'t think so. Why? \\'Cause he knows your daddy\\'s name? I didn\\'t. Thanos left here with the stone... without his daughter. That\\'s not a coincidence. Yeah. Whatever it takes. Whatever it takes. If we don\\'t get that stone... billions of people stay dead. Yeah. Then I guess we both know who it\\'s got to be. I guess we do. I\\'m starting to think we mean different people here, Natasha. For the last five years, I\\'ve been trying to do one thing. Get to right here. That\\'s all it\\'s been about. Bringing everybody back. No, don\\'t you get all decent on me now. What, you think I wanna do it? I\\'m trying to save your life, you idiot. Yeah, well, I don\\'t want you to. How\\'s that? Natasha, you know what I\\'ve done. You know what I\\'ve become. I don\\'t judge people on their worst mistakes. Maybe you should. You didn\\'t. You\\'re a pain in my ass, you know that? Okay. You win. Tell my family I love \\'em. You tell \\'em yourself. Damn you. Wait. Let me go. No. No. Please, no. It\\'s okay. Please. No! Did we get \\'em all? Are you telling me this actually worked? Clint, where\\'s Nat? Do we know if she had family? Yeah. Us. What? - What are you doing? - Just asked him a question. Yeah, no, you\\'re acting like she\\'s dead. Why are we acting like she\\'s dead? We have the stones, right? As long as we have the stones... Cap, we can bring her back. Isn\\'t that right? So, stop this shit. We\\'re the Avengers. Get it together. Can\\'t get her back. What\\'s he...? What? It can\\'t be undone. It can\\'t. Look, I\\'m sorry, no offense, but you\\'re a very earthly being, okay? And we\\'re talking about space magic. And \"can\\'t\" seems very definitive. Don\\'t you think? Yeah, look, I know that I\\'m way outside my pay grade here. But she still isn\\'t here, is she? No, that\\'s my point. It can\\'t be undone. Or that\\'s at least what the red, floating guy had to say. Maybe you wanna go talk to him, okay? Go grab your hammer and you go fly and you talk to him. It was supposed to be me. She sacrificed her life for that goddamn stone. She bet her life on it. She\\'s not coming back. We have to make it worth it. We have to. We will. Boom! All right, the glove\\'s ready. Question is, who\\'s gonna snap their freakin\\' fingers? - I\\'ll do it. - Excuse me? It\\'s okay. Stop, stop. Slow down. Thor. Just wait. We haven\\'t decided who\\'s gonna put that on yet. I\\'m sorry. What, we\\'re all just sitting around waiting for the right opportunity? We should at least discuss it. Look, sitting here staring at the thing is not gonna bring everybody back. I\\'m the strongest Avenger, okay? So, this responsibility falls upon me. - Normally, you\\'re right. - It\\'s my duty. - It\\'s not about that. - It\\'s not that. - Hey, buddy... - Stop it! Just let me. Just let me do it. Just let me do something good. Something right. Look, it\\'s not just the fact... that that glove is channeling enough energy to light up a continent. I\\'m telling you. You\\'re in no condition. What do you think is coursing through my veins right now? Cheez Whiz? Lightning. - Yeah. - Lightning. Lightning won\\'t help you, pal. It\\'s got to be me. You saw what those stones did to Thanos. They almost killed him. None of you could survive. How do we know you will? We don\\'t. But the radiation\\'s mostly gamma. It\\'s like... I was made for this. Good to go, yeah? Let\\'s do it. Okay, remember, everyone Thanos snapped away five years ago... you\\'re just bringing them back to now, today. Don\\'t change anything from the last five years. Got it. Friday, do me a favor and activate Barn Door Protocol, will ya? Yes, boss. Everybody comes home. Take it off! Take it off! No, wait. Bruce, are you okay? Talk to me, Banner. I\\'m okay. I\\'m okay. Bruce! Don\\'t move him. - Did it work? - We\\'re not sure. It\\'s okay. Honey. Clint? Honey. Guys... I think it worked. I can\\'t breathe! I can\\'t breathe! Canopy, canopy, canopy. Rhodey, Rocket, get out of here. Let me up! Let me up! Come on! Rhodey! Mayday, Mayday! Does anybody copy? We\\'re on the lower level. It\\'s flooding! What? What? We are drowning! Does anybody copy? Mayday! Wait! I\\'m here! I\\'m here. Can you hear me? Cap? Okay. Daughter. Yes, Father. So, this is the future. Well done. Thank you, Father. They suspected nothing. The arrogant never do. Go. Find the stones, bring them to me. What will you do? Wait. Tell me something. In the future... what happens to you and me? I try to kill you. Several times. But eventually... we become friends. We become sisters. Come on. We can stop him. Come on, buddy, wake up! That\\'s my man. You lose this again, I\\'m keeping it. What happened? You mess with time, it tends to mess back. You\\'ll see. What\\'s he been doing? Absolutely nothing. Where are the stones? Somewhere under all this. All I know is he doesn\\'t have \\'em. So, we keep it that way. You know it\\'s a trap, right? Yeah. I don\\'t much care. Good. Just as long as we\\'re all in agreement. Let\\'s kill him properly this time. You could not live with your own failure. Where did that bring you? Back to me. I thought by eliminating half of life... the other half would thrive. But you\\'ve shown me... that\\'s impossible. And as long as there are those that remember what was... there will always be those that are unable to accept what can be. They will resist. Yep, we\\'re all kinds of stubborn. I\\'m thankful. Because now... I know what I must do. I will shred this universe... down to its last atom. And then... with the stones you\\'ve collected for me... create a new one... teeming with life... that knows not what it has lost... but only what it has been given. A grateful universe. Born out of blood. They\\'ll never know it. Because you won\\'t be alive to tell them. See you on the other side, man. Hang on! I\\'m coming! Yeah! Oh, hey. I know you. Father... I have the stones. What? Stop. You\\'re betraying us? You don\\'t have to do this. I am this. No, you\\'re not. You\\'ve seen what we become. Nebula, listen to her. You can change. He won\\'t let me. No! Okay, Thor. Hit me. Boss, wake up! I knew it! In all my years of conquest... violence... slaughter... it was never personal. But I\\'ll tell you now... what I\\'m about to do to your stubborn, annoying little planet... I\\'m gonna enjoy it... very, very much. Hey, Cap, you read me? Cap, it\\'s Sam. Can you hear me? On your left. Is that everyone? What? You wanted more? Avengers... assemble. Die! No, no, give me that. You have the little one. Hey! Holy cow! You will not believe what\\'s been going on. Do you remember when we were in space? And I got all dusty? And I must\\'ve passed out, because I woke up and you were gone. But Doctor Strange was there, right? And he was like... \"It\\'s been five years. Come on, they need us.\" And then he started doing the yellow sparkly thing that he does all the time. He did? Oh, no. What are you doing? This is nice. Gamora? I thought I lost you. Don\\'t touch me! You missed the first time. Then you got \\'em both the second time. This is the one? Seriously? Your choices were him or a tree. Cap! What do you want me to do with this damn thing? Get those stones as far away as possible! No! We need to get \\'em back where they came from. No way to get \\'em back. Thanos destroyed the quantum tunnel. Hold on! That wasn\\'t our only time machine. Anyone see an ugly brown van out there? Yes! But you\\'re not gonna like where it\\'s parked! Scott, how long you need to get that thing working? Maybe 10 minutes. Get it started. We\\'ll get the stones to you. We\\'re on it, Cap. Hey. You said one out of 14 million, we win, yeah? Tell me this is it. If I tell you what happens... it won\\'t happen. You better be right. It\\'s a mess back here. It\\'s dead. - What? - It\\'s dead. I have to hot-wire it. Where\\'s Nebula? She\\'s not responding. Sire... Clint! Give it to me. You took everything from me. I don\\'t even know who you are. You will. I got it! Activate Instant Kill. Rain fire! But, sire, our troops! Just do it! Is anyone else seeing this? I got this! I got this. Okay, I don\\'t got this. Help, somebody help! Hey, Queens, heads up! Hang on. I got you, kid. Hey! Nice to meet you... Oh, my God! What the hell is this? Friday, what are they firing at? Something just entered the upper atmosphere. Oh, yeah! Danvers, we need an assist here. Hi, I\\'m Peter Parker. Hey, Peter Parker. You got something for me? I don\\'t know how you\\'re gonna get it through all of that. Don\\'t worry. She\\'s got help. I am inevitable. And I... am... Iron Man. Mr. Stark? Hey! Mr. Stark. Can you hear me? It\\'s Peter. Hey. We won, Mr. Stark. We won, Mr. Stark. We won! You did it, sir, you did it. I\\'m sorry. Tony. Hey. Hey, Pep. Friday? Life functions critical. Tony? Look at me. We\\'re gonna be okay. You can rest now. Everybody wants a happy ending, right? But it doesn\\'t always roll that way. Maybe this time. I\\'m hoping if you play this back... it\\'s in celebration. I hope families are reunited. I hope we get it back. And something like a normal version of the planet has been restored. If there ever was such a thing. God, what a world. Universe, now. If you told me 10 years ago that we weren\\'t alone... let alone to this extent, I mean, I wouldn\\'t have been surprised... but come on, who knew? The epic forces of darkness and light that have come into play. And for better or worse... that\\'s the reality Morgan\\'s gonna have to find a way to grow up in. So, I thought I\\'d probably better record a little greeting... in the case of an untimely death. On my part. Not that death at any time isn\\'t untimely. This time travel thing that we\\'re gonna try and pull off tomorrow... it\\'s got me scratching my head about the survivability of it all. That\\'s the thing. Then again, that\\'s the hero gig, right? Part of the journey is the end. What am I even tripping for? Everything is gonna work out exactly the way it\\'s supposed to. I love you 3,000. You know, I wish there was a way that I could let her know. That we won. We did it. She knows. They both do. How you doing, squirt? Good. - You good? - Mm-hmm. - Good. You hungry? - Mm-hmm. What do you want? Cheeseburgers. You know, your dad liked cheeseburgers. Okay. I\\'m gonna get you all the cheeseburgers you want. Okay. So... when can we expect you back? About that... Thor, your people need a king. No, they already have one. That\\'s funny. Are you being serious? It\\'s time for me to be who I am... rather than who I\\'m supposed to be. But you, you\\'re a leader. That\\'s who you are. You know, I\\'d make a lot of changes around here. I\\'m counting on it... Your Majesty. What will you do? I\\'m not sure. For the first time in a thousand years, I have no path. I do have a ride though. Move it or lose it, hairbag. Here we are! Tree, good to see you. The Asgardians of the Galaxy back together again. Where to first? Hey. Just so you know, this is my ship still. I\\'m in charge. I know. I know. Of course you are. Of course. See, you say, \"Of course,\" but then you touch the map. It makes you think that maybe you didn\\'t realize I was in charge. Quail, that\\'s your own insecurities in there. Quail? Okay? I am merely trying to be of service and assisting. Quill. That\\'s what I said. You should fight one another for the honor of leadership. Sounds fair. - It\\'s not necessary, okay? - It\\'s not. I got some blasters, unless you guys wanna use knives. Oh, yes! Please, use knives. Yeah. Knives. I am Groot. Not necessary. There shall be no knifing one another. Everybody knows who\\'s in charge. Me. Right? Yes, you. Of course! Of course. Of course. Remember... you have to return the stones to the exact moment you got \\'em... or you\\'re gonna open up a bunch of nasty alternative realities. Don\\'t worry, Bruce. Clip all the branches. You know, I tried. When I had the gauntlet, the stones, I really tried to bring her back. I miss her, man. Me too. You know, if you want, I could come with you. You\\'re a good man, Sam. This one\\'s on me, though. Don\\'t do anything stupid till I get back. How can I? You\\'re taking all the stupid with you. Gonna miss you, buddy. It\\'s gonna be okay, Buck. How long is this gonna take? For him, as long as he needs. For us, five seconds. You ready, Cap? All right, we\\'ll meet you back here, okay? You bet. Going quantum. Three... two... one. And returning in five... four... three, two... one. Where is he? I don\\'t know. He blew right by his time stamp. He should be here. Get him back. - I\\'m trying. - Get him the hell back. - Hey, I said I\\'m trying. - Sam. Go ahead. Cap? Hi, Sam. So, did something go wrong or did something go right? Well, after I put the stones back, I thought... maybe... I\\'ll try some of that life Tony was telling me to get. How\\'d that work out for ya? It was beautiful. Good. I\\'m happy for you. Truly. Thank you. Only thing bumming me out... is the fact I have to live in a world without Captain America. That reminds me. Try it on. How does it feel? Like it\\'s someone else\\'s. It isn\\'t. Thank you. I\\'ll do my best. That\\'s why it\\'s yours. You wanna tell me about her? No. No, I don\\'t think I will. This is the Asgardian refugee vessel Statesman. We are under assault. I repeat, we are under assault. The engines are dead, life support failing. Requesting aid from any vessel within range. We are 22 jump points out of Asgard. Our crew is made up of Asgardian families. We have very few soldiers here. This is not a warcraft. I repeat, this is not a warcraft. Hear me and rejoice. You have had the privilege of being saved by the Great Titan. You may think this is suffering. No. It is salvation. Universal scales tip toward balance because of your sacrifice. Smile. For even in death, you have become Children of Thanos. I know what it\\'s like to lose. To feel so desperately that you\\'re right... yet to fail, nonetheless. It\\'s frightening. Turns the legs to jelly. But I ask you, to what end? Dread it, run from it... destiny arrives all the same. And now, it\\'s here. Or should I say... I am. You talk too much. The Tesseract. Or your brother\\'s head. I assume you have a preference. Oh, I do. Kill away. All right, stop! We don\\'t have the Tesseract. It was destroyed on Asgard. You really are the worst brother. I assure you, brother... the sun will shine on us again. Your optimism is misplaced, Asgardian. Well, for one thing, I\\'m not Asgardian. And for another... we have a Hulk. - Let him have his fun. Allfathers... let the dark magic flow through me one last... time. That was a mistake. No! You\\'re going to die for that. Shh. My humble personage... bows before your grandeur. No other being has ever had the might... nay, the nobility... to wield not one, but two Infinity Stones. The universe lies within your grasp. There are two more stones on Earth. Find them, my children, and bring them to me on Titan. Father, we will not fail you. If I might interject. If you\\'re going to Earth, you might want a guide. I do have a bit of experience in that arena. If you consider failure experience. I consider experience experience. Almighty Thanos... I, Loki, prince of Asgard... Odinson... the rightful king of Jotunheim... god of mischief... do hereby pledge to you... my undying fidelity. Undying? You should choose your words more carefully. You... will never be... a god. No! No resurrections this time. No. Loki. Seriously, you don\\'t have any money? Attachment to the material is detachment from the spiritual. I\\'ll tell the guys at the deli. Maybe they\\'ll make you a metaphysical ham on rye. Oh. Wait, wait, wait. I think I have 200. Dollars? - Rupees. - Which is? - Uh, buck and a half. What do you want? I wouldn\\'t say no to a tuna melt. Thanos is coming. He\\'s coming. Who? Slow down, slow down. I\\'ll spell it out for you. You\\'re totally rambling. -  No, I\\'m not. -  You lost me. Look, you know how you\\'re having a dream, and in the dream you gotta pee. - Yeah. - Okay. And then you\\'re like... \"Oh, my God. there\\'s no bathrooms. What am I gonna do? Oh! someone\\'s watching. Right. Oh, I\\'m gonna go in my pants.\" And then you wake up and in real life you actually have to pee. - Yes. - Yeah. - Okay. - Everybody has that. Right, that\\'s the point I\\'m trying to make. Apropos of that, last night I dreamt we had a kid. It was so real. We named him after your eccentric uncle. Uh, what was his name? - Right. - Morgan! Morgan. - So you woke up... - Naturally. ...and thought that we were... - Expecting. - Yeah. - Yes? - No. I had a dream about it. It was so real. If you wanted to have a kid... you wouldn\\'t have done that. I\\'m glad you brought this up, \\'cause it\\'s nothing. It\\'s just a housing unit for nanoparticles. You\\'re not helping your case, okay? No, this is detachable. It\\'s not a... You don\\'t need that. I know, I had the surgery. I\\'m just trying to protect us... and future usses and that\\'s it. Just in case there\\'s a monster in the closet. - Instead of, you know... - Shirts. You know me so well. - God. - You finish all my sentences. You should have shirts in your closet. Yeah. You know what there should be? No more surprises. We\\'re gonna have a nice dinner tonight. - Show off this Harry Winston. Right? And we should have no more surprises. Ever. I should promise you. - Yes. - I will. Thank you. Tony Stark. I\\'m Doctor Stephen Strange. I need you to come with me. Oh, uh, congratulations on the wedding, by the way. I\\'m sorry, you giving out tickets to something? We need your help. It\\'s not overselling it to say that the fate of the universe is at stake. And who\\'s \"we\"? Hey, Tony. Bruce. - Pepper. - Hi. - Oh. - You okay? At the dawn of the universe, there was nothing. Then... Boom. The Big Bang sent six elemental crystals... hurtling across the virgin universe. These Infinity Stones each control an essential aspect of existence. Space. Reality. Power. Soul. Mind. And Time. Tell me his name again. Thanos. He\\'s a plague, Tony. He invades planets. He takes what he wants. He wipes out half the population. He sent Loki. The attack on New York, that\\'s him. This is it. What\\'s our timeline? No telling. He has the Power and Space Stones. That already makes him the strongest creature in the whole universe. If he gets his hands on all six stones, Tony... He could destroy life on a scale hitherto undreamt of. Did you seriously just say \"hitherto undreamt of\"? Are you seriously leaning on the Cauldron of the Cosmos? - Is that what it is? I\\'m going to allow that. If Thanos needs all six, why don\\'t we just stick this one down a garbage disposal? No can do. We swore an oath to protect the Time Stone with our lives. And I swore off dairy... but then Ben & Jerry\\'s named a flavor after me. - Stark Raving Hazelnuts. - Not bad. A bit chalky. A Hunk of Hulk of Burning Fudge is our favorite. - That\\'s a thing? - Whatever. Point is, things change. Our oath to protect the Time Stone cannot change. And this stone may be the best chance we have against Thanos. Yeah, so conversely, it may also be his best chance against us. Well, if we don\\'t do our jobs. What is your job exactly? Besides making balloon animals. Protecting your reality, douchebag. Okay, guys. Could we table this discussion right now? The fact is we have this stone. We know where it is. Vision is out there somewhere with the Mind Stone... and we have to find him now. Yeah, that\\'s the thing. What do you mean? Two weeks ago, Vision turned off his transponder. He\\'s offline. - What? - Yeah. Tony, you lost another super-bot? I didn\\'t lose him. He\\'s more than that. He\\'s evolving. Who could find Vision then? Shit. Probably Steve Rogers. Oh, great. Maybe. But... Call him. It\\'s not that easy. God, we haven\\'t caught up in a spell, have we? No. The Avengers broke up. We\\'re toast. Broke up? Like a band? Like... Like the Beatles? Cap and I fell out hard. We\\'re not on speaking terms. Tony, listen to me. Thor\\'s gone. Thanos is coming. It doesn\\'t matter who you\\'re talking to or not. Flip phone. Say, Doc, you wouldn\\'t happen to be moving your hair, would ya? Not at the moment, no. - You okay? - Help him! - Banner! - Wong! Look alive! - Go, go! We got it! Friday, what am I looking at? Not sure. I\\'m working on it Hey! You might wanna put that Time Stone in your back pocket, Doc! Might wanna use it. Ned, hey. I need you to cause a distraction. Holy shit. We\\'re all gonna die! There\\'s a spaceship! - What\\'s going on? - Oh, my God! What\\'s the matter with you kids? You never seen a spaceship before? Friday, evac anyone south of 43rd Street. Notify first responders. Will do. Hear me and rejoice. You are about to die at the hands of the Children of Thanos. - Be thankful... that your meaningless lives are now contributing... I\\'m sorry, Earth is closed today. You better pack it up and get outta here. Stonekeeper. Does this chattering animal speak for you? Certainly not. I speak for myself. You\\'re trespassing in this city and on this planet. He means get lost, Squidward. He exhausts me. - Bring me the stone. Banner, you want a piece? Mmm, no, not really. But when do I ever get what I want? That\\'s right. Okay. Push! It\\'s been a while. It\\'s gonna be good to have you, buddy. Okay. Shh. Let me just... I need to concentrate here for a second. Come on, come on, man. - God! Where\\'s your guy? I don\\'t know. We\\'ve sorta been having a thing. - It\\'s no time for a thing. - I know. That\\'s the thing right there. Let\\'s go. Dude, you\\'re embarrassing me in front of the wizards. Tony, I\\'m sorry. Either I can\\'t or he won\\'t. It\\'s okay. Hey, stand down. Keep an eye on him. Thank you. - I have him. - Damn it. Where\\'d that come from? It\\'s nanotech. You like it? A little something I... Doctor Banner, if the rest of your green friend won\\'t be joining us... Gotta get that stone outta here, now. It stays with me. Exactly. Bye. Tony, you okay? - How we doing? Good? Bad? - Really, really good. Really good. Do you plan on helping out? I\\'m trying. He won\\'t come out. Hammer. Come on, Hulk! What are you doing to me? Come out! Come out! Come out! No! What do you mean, \"no\"? Hey, man. What\\'s up, Mr. Stark? - Kid, where\\'d you come from? - A field trip to MoMA. Uh, what is this guy\\'s problem, Mr. Stark? Uh, he\\'s from space. He came here to steal a necklace from a wizard. Your powers are quaint. You must be popular with children. It\\'s a simple spell but quite unbreakable. Then I\\'ll take it off your corpse. You\\'ll find removing a dead man\\'s spell troublesome. You\\'ll only wish you were dead. No! Kid, that\\'s the wizard. Get on it. On it! Not cool. Gotcha! Wait! Uh, Mr. Stark, I\\'m being beamed up. Hang on, kid. - Oh! Ugh. Wong, you\\'re invited to my wedding. Give me a little juice, Friday. Unlock 17:A. Pete, you gotta let go. I\\'m gonna catch you. But you said save the wizard! I can\\'t breathe. We\\'re too high up. You\\'re running out of air. Yeah. That makes sense. Mr. Stark, it smells like a new car in here! Happy trails, kid. Friday, send him home. Yep. Oh, come on! Boss, incoming call from Miss Potts. Tony? Oh, my God. Are you all right? What\\'s going on? Yeah, I\\'m fine. I just think we might have to push our 8:30 res. Why? Just \\'cause I\\'ll probably not make it back for a while. Tell me you\\'re not on that ship. Yeah. God, no, please tell me you\\'re not on the ship. Honey, I\\'m sorry. I\\'m sorry, I don\\'t know what to say. Come back here, Tony. I swear to God. - Pep. - Come back here right now. Come back. Boss, we\\'re losing her. I\\'m going too. Oh, my God! I shoulda stayed on the bus. Where you going? The Time Stone\\'s been taken. The Sanctum remains unguarded. What will you do? I\\'m gonna make a call. Sing it, Drax! Why are we doing this again? It\\'s a distress signal, Rocket. Someone could be dying. I get that, but why are we doing it? \\'Cause we\\'re nice. And maybe whoever it is will give us a little cheddar cheese for our effort. - Which isn\\'t the point. - Which isn\\'t the point. I mean, if he doesn\\'t pony up... We take his ship. - Exactly! - Bingo! All right! We are arriving. All right, Guardians, don\\'t forget this might be dangerous... so let\\'s put on our mean faces. Groot, put that thing away, now. I don\\'t wanna tell you again. - Groot. I am Groot! - Whoa! - Language! - Hey! - Wow. You got some acorns on you, kid. Ever since you got a little sap, you\\'re a total d-hole. Now, keep it up, and I\\'m gonna smash that thing to pieces. What happened? Oh, my God. Looks like we\\'re not getting paid. Wipers! Wipers! Get it off. How the hell is this dude still alive? He is not a dude. You\\'re a dude. This... This is a man. A handsome, muscular man. I\\'m muscular. But who are you kidding, Quill? You\\'re one sandwich away from fat. Yeah, right. It\\'s true, Quill. You have put on weight. What? Gamora, do you think I\\'m... He is anxious, angry. He feels tremendous loss and guilt. It\\'s like a pirate had a baby with an angel. Wow. This is a real wake-up call for me. Okay. I\\'m gonna get a Bowflex. I\\'m gonna commit. I\\'m gonna get some dumbbells. You know you can\\'t eat dumbbells, right? It\\'s like his muscles are made of Cotati metal fibers. Stop massaging his muscles. Wake him up. Wake. Who the hell are you guys? The entire time I knew Thanos, he only ever had one goal. To bring balance to the universe by wiping out half of all life. He used to kill people planet by planet, massacre by massacre. Including my own. If he gets all six Infinity Stones... he can do it with the snap of his fingers like this. You seem to know a great deal about Thanos. Gamora is the daughter of Thanos. Your father killed my brother. Oh, boy. Stepfather, technically. And she hates him as much as you do. Families can be tough. Before my father died, he told me that I had a half-sister... that he imprisoned in Hel. And then she returned home and stabbed me in the eye. So I had to kill her. That\\'s life though, isn\\'t it, I guess. Goes round and round and... I feel your pain. I feel your pain as well, because... I mean, it\\'s not a competition, but I\\'ve been through a lot. - My father killed my mother. And then I had to kill my father. - That was hard. Probably even harder than having to kill a sister. Plus, I came out with both my eyes, which was... I need a hammer, not a spoon. How do I open this thing? Is there some sort of, uh... A four-digit code, maybe? Maybe a birthdate. - Uh, what are you doing? - Taking your pod. No, you\\'re not. You will not be taking our pod today, sir. Uh... Quill, are you making your voice deeper? - No. - You are. You\\'re imitating the god-man. It\\'s weird. No, I\\'m not. He just did it again! - This is my voice. Are you mocking me? - Are you mocking me? - Stop it. You did it again. He\\'s trying to copy me. I need you to stop doing that. Enough! - He\\'s doing it first. We need to stop Thanos. Which means we need to find out where he\\'s going next. Knowhere. He must be going somewhere. No, no. Knowhere? It\\'s a place. We\\'ve been there. It sucks. - Excuse me, that\\'s our food. - Not anymore. Thor, why would he go to Knowhere? Because for years... the Reality Stone\\'s been safely stored there with a man called the Collector. If it\\'s with the Collector, then it\\'s not safe. Only an idiot would give that man a stone. - Or a genius. - How do you know... he\\'s not going for one of the other stones? There are six stones out there. Thanos already has the Power Stone... because he stole it last week when he decimated Xandar. He stole the Space Stone from me... when he destroyed my ship and slaughtered half my people. The Time and Mind Stones are safe on Earth. They\\'re with the Avengers. - The Avengers? - Earth\\'s mightiest heroes. Like Kevin Bacon? He may be on the team. I don\\'t know. I haven\\'t been there in a while. As for the Soul Stone, well, no one\\'s ever seen that. No one even knows where it is. Therefore Thanos can\\'t get it. Therefore he\\'s going to Knowhere. Hence he\\'ll be getting the Reality Stone. You\\'re welcome. Then we have to go to Knowhere now. Wrong. Where we have to go is Nidavellir. - That\\'s a made-up word. - All words are made up. Nidavellir is real? Seriously? That place is a legend. They make the most powerful, horrific weapons to ever torment the universe. I would very much like to go there, please. The rabbit is correct and clearly the smartest among you. Rabbit? Only Eitri the Dwarf can make me the weapon I need. I assume you\\'re the captain, sir. You\\'re very perceptive. You seem like a noble leader. Will you join me on my quest to Nidavellir? Let me just ask the captain. Oh, wait a second, it\\'s me! - Yeah. I\\'ll go. - Wonderful! Uh, except for that I\\'m the captain. Quiet. - That\\'s my backpack. - Go sit down. Look, this is my ship. And I\\'m not goin\\' to... Wait, what kinda weapon are we talkin\\' about here? The Thanos-killing kind. Don\\'t you think that we should all have a weapon like that? No. You simply lack the strength to wield them. Your bodies would crumble as your minds collapsed into madness. Is it weird that I wanna do it even more now? Mmm, a little bit, yeah. If we don\\'t go to Knowhere and Thanos retrieves another stone... he\\'ll be too powerful to stop. - He already is. - I got it figured out. We got two ships and a large assortment of morons. So me and Groot will go with the pirate angel here. And the morons will go to Knowhere to try to stop Thanos. - Cool? Cool. - So cool. For the record... I know that you\\'re going with him because it\\'s where Thanos isn\\'t. You know, you really shouldn\\'t talk that way to your captain, Quill. Come on, Groot. Put that game down. You\\'ll rot your brain. I bid you farewell and good luck, morons. Bye. Vis? Is it the stone again? It\\'s as if it\\'s speaking to me. What does it say? I don\\'t... I don\\'t know, but something. - Hey. Tell me what you feel. I just feel you. So there\\'s a 10:00 a.m. to Glasgow... which would give us more time together before you went back. What if I miss that train? There\\'s an 11:00. What if I missed all the trains? What if this time I didn\\'t go back? But you gave Stark your word. I\\'d rather give it to you. Well, there are people who are expecting me too, you know. We both made promises. Not to each other. Wanda. For two years, we\\'ve stolen these moments... trying to see if this could work and... I don\\'t know. You know what, I\\'m just gonna speak for myself. I think... - It works. - It works. It works. Stay. Stay with me. Or not. If I\\'m overstepping... What are they? What the stone was warning me about. I have to go. No, Vision. Vision, if that\\'s true, then maybe going isn\\'t the best idea. Wanda, I... - Vision! The blade, it stopped me from phasing. - Is that even possible? - It isn\\'t supposed to be. My systems are failing. I\\'m beginning to think we should have stayed in bed. Vis! Give up the stone, and she lives. Hands off. Come on. Come on. Come on, you gotta get up. You gotta get up. Come on. Hey. Hey. We have to go. Please. Please leave. You asked me to stay. - I\\'m staying. - Please. - Get up. - I can\\'t. We don\\'t wanna kill you, but we will. You\\'ll never get the chance again. Can you stand? Thank you, Captain. Let\\'s get you on the jet. Now, I thought we had a deal. Stay close, check in, don\\'t take any chances. I\\'m sorry. We just wanted time. Where to, Cap? Home. We\\'ll be safe. We\\'ll be safe. Zehobereians. Mother! Where\\'s my mother? Choose a side or die. Mother! One side is a revelation... the other an honor known only to a few. What\\'s wrong, little one? My mother. Where is my mother? What\\'s your name? Gamora. You\\'re quite the fighter, Gamora. Come. Let me help you. Look. Pretty, isn\\'t it? Perfectly balanced, as all things should be. Too much to one side or the other... Here. You try. Now, go in peace to meet your maker. - Uh-uh. Concentrate. There. You\\'ve got it. Gamora. Do you know if these grenades are the blow-off-your-junk kind or the gas kind? Because I was thinking about hanging a couple on my belt right here. But I don\\'t want to if they\\'re the... I need to ask a favor. Yeah, sure. One way or another, the path that we\\'re on leads to Thanos. Which is what the grenades are for. Uh, I\\'m sorry. What\\'s the favor? If things go wrong... If Thanos gets me... I want you to promise me... you\\'ll kill me. What? I know something he doesn\\'t. And if he finds it out, the entire universe could be at risk. What do you know? If I tell you, you\\'d know too. If it\\'s so important... shouldn\\'t I? Only if you wanna die. Why does somebody always have to die in this scenario? Just... Trust me. And possibly kill me. I mean, I\\'d like to. - I really would. But you... Swear to me. Swear to me on your mother. Okay. Okay. - Oh. - Dude. How long have you been standing there? An hour. An hour? Are you serious? I\\'ve mastered the ability of standing so incredibly still... that I become invisible to the eye. Watch. You\\'re eating a zarg-nut. But my movement... was so slow... that it\\'s imperceptible. Mmm, no. I\\'m sure I\\'m invisible. Hi, Drax. Damn it. This place looks deserted. I\\'m reading movement in the third quadrant. Yep, I\\'m picking that up too. Let\\'s put down right here. I don\\'t have it. Everyone in the galaxy knows you\\'d sell your own brother... if you thought it would add even the slightest trinket... to your pathetic collection. I know you have the Reality Stone, Tivan. Giving it to me will spare you a great deal of suffering. I told you. I sold it. Why would I lie? I imagine it\\'s like breathing for you. Like suicide. You do understand. Not even you would surrender something so precious. I didn\\'t know what it was. Then you\\'re more of a fool than I took you for. It\\'s him. Last chance, charlatan. Where\\'s the stone? Today... Drax. Drax. ...he pays for the deaths of my wife and daughter. Drax, wait. Not yet, not yet, not yet. Drax. Drax, Drax, Drax. Listen to me. He doesn\\'t have the stone yet. If we get it, then we can stop him. We have to get the stone first. Yeah. No. No. For Ovette, for Camaria. Sleep. Okay. Gamora, Mantis, you go right. The other right. Why? Why you, daughter? That was quick. Magnificent! Magnificent! Magnificent! Is that sadness I sense in you, daughter? In my heart, I knew you still cared. But one never knows for sure. Reality is often disappointing. That is, it was. Now... reality can be whatever I want. You knew I\\'d come. I counted on it. There\\'s something we need to discuss, little one. Thanos! No! Let her go, Grimace. Peter. I told you to go right. Now? Really? You let her go! - Ah, the boyfriend. No. Like to think of myself more as a Titan-killing, long-term booty call. - Let her go. - Peter. I\\'m gonna blow that nutsack of a chin right off your face. Not him. You promised. You promised. Oh, daughter. You expect too much from him. She\\'s asked, hasn\\'t she? Do it. Mmm. - Do it! I told you to go right. I love you more than anything. I love you too. I like him. Still no word from Vision? Satellites lost him somewhere over Edinburgh. On a stolen Quinjet with four of the world\\'s most wanted criminals. You know they\\'re only criminals because you\\'ve chosen to call them that, right, sir? My God, Rhodes. Your talent for horseshit rivals my own. If it weren\\'t for those Accords, Vision would\\'ve been right here. I remember your signature on those papers, Colonel. That\\'s right. And I\\'m pretty sure I paid for that. You have second thoughts? Not anymore. Mr. Secretary. You got some nerve. I\\'ll give you that. You could use some of that right now. The world\\'s on fire. And you think all is forgiven? I\\'m not looking for forgiveness. And I\\'m way past asking permission. Earth just lost her best defender. So we\\'re here to fight. And if you wanna stand in our way... we\\'ll fight you too. Arrest them. All over it. That\\'s a court-martial. It\\'s great to see you, Cap. - You too, Rhodey. Hey. Wow. You guys... really look like crap. Must\\'ve been a rough couple years. Yeah, well, the hotels weren\\'t exactly five star. Uh, I think you look great. Uh... Yeah, I\\'m back. Hi, Bruce. Nat. This is awkward. So we gotta assume they\\'re coming back, right? And they can clearly find us. We need all hands on deck. Where\\'s Clint? After the whole Accords situation, he and Scott took a deal. It was too tough on their families. They\\'re on house arrest. - Who\\'s Scott? - Ant-Man. There\\'s an Ant-Man and a Spider-Man? Okay, look. Thanos has the biggest army in the universe... and he is not gonna stop until he gets... Vision\\'s stone. Then we have to protect it. No, we have to destroy it. I\\'ve been giving a good deal of thought to this entity in my head. About its nature. But also its composition. I think if it were exposed to a sufficiently powerful energy source... something very similar to its own signature, perhaps... its molecular integrity could fail. Yeah, and you with it. We\\'re not having this conversation. Eliminating the stone is the only way to be certain that Thanos can\\'t get it. That\\'s too high a price. Only you have the power to pay it. Thanos threatens half the universe. One life cannot stand in the way of defeating him. But it should. We don\\'t trade lives, Vision. Captain, 70 years ago, you laid down your life... to save how many millions of people? Tell me, why is this any different? Because you might have a choice. Your mind is made up of a complex construct of overlays. Jarvis, Ultron, Tony, me, the stone. All of them mixed together, all of them learning from one another. You\\'re saying Vision isn\\'t just the stone? I\\'m saying that if we take out the stone... there\\'s still a whole lot of Vision left. Perhaps the best parts. Can we do that? Not me, not here. Well, you better find someone and somewhere fast. Ross isn\\'t just gonna let you guys have your old rooms back. I know somewhere. The Kingsguard and the Dora Milaje have been alerted. And the Border Tribe? Those that are left. Send word to the Jabari as well. M\\'Baku likes a good fight. And what of this one? This one may be tired of war. But the White Wolf has rested long enough. Where\\'s the fight? On its way. In all the time I\\'ve served Thanos... I have never failed him. If I were to reach our rendezvous on Titan... with the Time Stone still attached to your vaguely irritating person... there would be judgment. Give me... the stone. Wow, you\\'re a seriously loyal piece of outerwear, aren\\'t you? Yeah, uh, speaking of loyalty... What the... - I know what you\\'re gonna say. - You should not be here. - I was gonna go home. - I don\\'t wanna hear it. But it was such a long way down and I just thought - about you on the way... - And now I gotta hear it. ...and kinda stuck to the side of the ship. And this suit is ridiculously intuitive, by the way. God damn it. So, if anything, it\\'s kinda your fault that I\\'m here. - What did you just say? - I take that back. And now, I\\'m here in space. Yeah, right where I didn\\'t want you to be. This isn\\'t Coney Island. This isn\\'t a field trip. This is a one-way ticket. You hear me? Don\\'t pretend you thought this through. No, I did think this through. You could not have possibly thought this through. You can\\'t be a friendly neighborhood Spider-Man... if there\\'s no neighborhood. Okay, that didn\\'t really make sense, but you know what I\\'m trying to say. Come on. We got a situation. See him down there? He\\'s in trouble. What\\'s your plan? - Go. - Um... Okay, okay... Uh... Okay. Did you ever see this really old movie, \"Aliens?\" Painful, aren\\'t they? They were originally designed for microsurgery. - And any one of them... could end your friend\\'s life in an instant. I gotta tell you, he\\'s not really my friend. Saving his life is more of a professional courtesy. You\\'ve saved nothing. Your powers are inconsequential compared to mine. Yeah, but the kid\\'s seen more movies. Yes! Wait. What are those? Hey, we haven\\'t officially met. Cool. We gotta turn this ship around. Yeah, now he wants to run. Great plan. No, I want to protect the stone. And I want you to thank me. Now, go ahead. I\\'m listening. For what? Nearly blasting me into space? Who just saved your magical ass? Me. I seriously don\\'t know how you fit your head into that helmet. Admit it, you should\\'ve ducked out when I told you to. I tried to bench you. You refused. Unlike everyone else in your life, I don\\'t work for you. And due to that fact, we\\'re now in a flying doughnut... billions of miles from Earth with no backup. - I\\'m backup. - No, you\\'re a stowaway. The adults are talking. I\\'m sorry, I\\'m confused as to the relationship here. What is he, your ward? No. - I\\'m Peter, by the way. - Doctor Strange. Oh, you\\'re using our made-up names. Um... I\\'m Spider-Man, then. This ship is self-correcting its course. Thing\\'s on autopilot. Can we control it? Fly us home? - Stark? - Yeah. Can you get us home? Yeah, I heard you. I\\'m thinking I\\'m not so sure we should. Under no circumstances can we bring the Time Stone to Thanos. I don\\'t think you quite understand what\\'s at stake here. What? No. It\\'s you who doesn\\'t understand... that Thanos has been inside my head for six years. Since he sent an army to New York and now he\\'s back. And I don\\'t know what to do. So I\\'m not so sure if it\\'s a better plan to fight him on our turf or his... but you saw what they did, what they can do. At least on his turf, he\\'s not expecting it. So I say we take the fight to him. Doctor. Do you concur? All right, Stark. We go to him. But you have to understand... if it comes to saving you or the kid or the Time Stone... I will not hesitate to let either of you die. I can\\'t, because the universe depends on it. Nice. Good, moral compass. We\\'re straight. All right, kid. You\\'re an Avenger now. I thought you might be hungry. I always hated that chair. So I\\'ve been told. Even so, I\\'d hoped you\\'d sit in it one day. I hated this room. This ship. I hated my life. You told me that too. Every day. For almost 20 years. I was a child when you took me. I saved you. No. No. We were happy on my home planet. Going to bed hungry... scrounging for scraps. Your planet was on the brink of collapse. I\\'m the one who stopped that. Do you know what\\'s happened since then? The children born... have known nothing but full bellies and clear skies. It\\'s a paradise. Because you murdered half the planet. A small price to pay for salvation. You\\'re insane. Little one, it\\'s a simple calculus. This universe is finite, its resources finite. If life is left unchecked, life will cease to exist. It needs correction. You don\\'t know that! I\\'m the only one who knows that. At least, I\\'m the only one with the will to act on it. For a time... you had that same will... as you fought by my side. Daughter. I\\'m not your daughter. Everything I hate about myself you taught me. And, in doing so, made you the fiercest woman in the galaxy. That\\'s why I trusted you to find the Soul Stone. I\\'m sorry I disappointed you. I am disappointed. But not because you didn\\'t find it. But because you did. And you lied. Nebula. Don\\'t do this. Some time ago, your sister snuck aboard this ship to kill me. Please don\\'t do this. And very nearly succeeded. So I brought her here. To talk. Stop. Stop it. I swear to you on my life. I never found the Soul Stone. Accessing memory files. You know what he\\'s about to do. He\\'s finally ready, and he\\'s going for the stones. - All of them. - He can never get them all. He will! He can\\'t, Nebula. Because I found the map to the Soul Stone... and I burned it to ash. I burned it. You\\'re strong. Me. You\\'re generous. Me. But I never taught you to lie. That\\'s why you\\'re so bad at it. Where is the Soul Stone? Vormir! The stone is on Vormir. Show me. I am Groot. Tinkle in the cup. We\\'re not looking. What\\'s there to see? What\\'s a twig? Everybody\\'s seen a twig before. I am Groot. Tree, pour what\\'s in the cup out into space and go in the cup again. You speak Groot? Yes, they taught it on Asgard. It was an elective. I am Groot. You\\'ll know when we\\'re close. Nidavellir\\'s forge harnesses the blazing power of a neutron star. It\\'s the birthplace of my hammer. It\\'s truly awesome. Okay, time to be the captain. So, dead brother, huh? Yeah, that could be annoying. Well, he\\'s been dead before. But, no, this time I think it really might be true. And you said your sister and your dad? Both dead. But still got a mom, though? Killed by a dark elf. A best friend? Stabbed through the heart. You sure you\\'re up to this particular murder mission? Absolutely. Rage and vengeance, anger, loss, regret... they\\'re all tremendous motivators. They really clear the mind. So I\\'m good to go. Yeah, but this Thanos we\\'re talkin\\' about... he\\'s the toughest there is. - Well, he\\'s never fought me. - Yeah, he has. He\\'s never fought me twice. And I\\'m getting a new hammer, don\\'t forget. It better be some hammer. You know, I\\'m 1,500 years old. I\\'ve killed twice as many enemies as that. And every one of them would\\'ve rather killed me, but none succeeded. I\\'m only alive because fate wants me alive. Thanos is just the latest in a long line of bastards... and he\\'ll be the latest to feel my vengeance. Fate wills it so. Mmm-hmm. And what if you\\'re wrong? If I\\'m wrong, then... what more could I lose? I could lose a lot. Me, personally, I could lose a lot. Okay. If fate does want you to kill that crapsack... you\\'re gonna need more than one stupid eyeball. - What\\'s this? - What\\'s it look like? Some jerk lost a bet with me on Contraxia. He gave you his eye? No, he gave me 100 credits. I snuck into his room later that night and stole his eye. Thank you, sweet rabbit. Hmm. Huh? Oh. I would\\'ve washed that. The only way I could sneak it off Contraxia was up my... Hey, we\\'re here! I don\\'t think this thing works. Everything seems dark. It ain\\'t the eye. Something\\'s wrong. The star\\'s gone out. And the rings are frozen. I hope these dwarves are better at forging than they are cleaning. Maybe they realized that they live in a junk pile in the middle of space. This forge hasn\\'t gone dark in centuries. You said Thanos had a gauntlet, right? Yes, why? It look anything like that? I am Groot. Go back to the pod. Eitri, wait! Stop! Stop. Thor? What happened here? You were supposed to protect us. Asgard was supposed to protect us. Asgard is destroyed. Eitri, the glove. What did you do? 300 dwarves lived on this ring. I thought if I did what he asked, they\\'d be safe. I made what he wanted. A device capable of harnessing the power of the stones. Then he killed everyone anyway. All except me. \"Your life is yours,\" he said. \"But your hands are mine alone.\" Eitri, this isn\\'t about your hands. Every weapon you\\'ve ever designed, every axe, hammer, sword... it\\'s all inside your head. Now, I know it feels like all hope is lost. Trust me, I know. But together, you and I, we can kill Thanos. Mantis, listen very carefully. I need you to meet me on Titan. Hey, what\\'s going on? I think we\\'re here. I don\\'t think this rig has a self-park function. Get your hand inside the steering gimbal. Close those around it. - You understand? - Yep, got it. This was meant for one big guy, so we gotta - move at the same time. - Okay, okay. Ready. - We might wanna turn. Turn! Turn! Turn! You all right? That was close. I owe you one. Let me just say, if aliens wind up implanting eggs in my chest or something... and I eat one of you, I\\'m sorry. I do not want another single pop culture reference out of you for the rest of the trip. You understand? I\\'m trying to say that something is coming. Thanos! Whoa, whoa, whoa! Please don\\'t put your eggs in me! - Stay down, clown. Die, blanket of death! Everybody stay where you are. Chill the eff out. I\\'m gonna ask you this one time. Where is Gamora? Yeah. I\\'ll do you one better. Who\\'s Gamora? I\\'ll do you one better. Why is Gamora? Tell me where the girl is or I swear to you I\\'m gonna French fry this little freak. Let\\'s do it. You shoot my guy and I\\'ll blast him. Let\\'s go! Do it, Quill! I can take it. - No, he can\\'t take it! - She\\'s right. You can\\'t. Oh, yeah? You don\\'t wanna tell me where she is? That\\'s fine. I\\'ll kill all three of you and I\\'ll beat it out of Thanos myself. Starting with you. Wait, what, Thanos? All right, let me ask you this one time. What master do you serve? What master do I serve? What am I supposed to say, \"Jesus\"? You\\'re from Earth. I\\'m not from Earth, I\\'m from Missouri. Yeah, that\\'s on Earth, dipshit. What are you hassling us for? So you\\'re not with Thanos? With Thanos? No, I\\'m here to kill Thanos. He took my girl. Wait, who are you? - We\\'re the Avengers, man. - Oh. You\\'re the ones Thor told us about. You know Thor? Yeah. Tall guy, not that good-looking, needed saving. Where is he now? This is the plan? We\\'re gonna hit him with a brick? It\\'s a mold. A king\\'s weapon. Meant to be the greatest in Asgard. In theory, it could even summon the Bifrost. Did it have a name? Stormbreaker. That\\'s a bit much. So how do we make it? You\\'ll have to restart the forge. Awaken the heart of a dying star. Rabbit, fire up the pod. The hell happened to this planet? It\\'s eight degrees off its axis. Gravitational pull is all over the place. Yeah, we got one advantage. He\\'s coming to us. We\\'ll use it. All right, I have a plan. Or at least the beginnings of one. It\\'s pretty simple. We draw him in, pin him down, get what we need. Definitely don\\'t wanna dance with this guy. We just want the gauntlet. - Are you yawning? In the middle of this, while I\\'m breaking it down? Huh? Did you hear what I said? I stopped listening after you said, \"We need a plan.\" Okay, Mr. Clean is on his own page. See, \"not winging it\" isn\\'t really what they do. Uh, what exactly is it that they do? Kick names, take ass. Yeah, that\\'s right. All right, just get over here, please. Mr. Lord, can you get your folks to circle up? \"Mr. Lord.\" Star-Lord is fine. We gotta coalesce. \\'Cause if all we come at him with is a plucky attitude... Dude, don\\'t call us plucky. We don\\'t know what it means. All right, we\\'re optimistic, yes. I like your plan. Except it sucks, so let me do the plan... and that way it might be really good. Tell him about the dance-off to save the universe. - What dance-off? - It\\'s nothing. Like in Footloose, the movie? Exactly like Footloose. Is it still the greatest movie in history? It never was. Don\\'t encourage this, all right? - Okay. - We\\'re getting no help - from Flash Gordon here. - Flash Gordon? By the way, that\\'s a compliment. Don\\'t forget, I\\'m half human. So that 50% of me that\\'s stupid... that\\'s 100% you. Your math is blowing my mind. Excuse me. But does your friend often do that? Strange, we all right? You\\'re back. You\\'re all right. - Hi. - Hey, what was that? I went forward in time to view alternate futures. To see all the possible outcomes of the coming conflict. How many did you see? 14,000,605. How many did we win? One. The stone had better be up there. For your sister\\'s sake. Welcome, Thanos, son of Alars. Gamora, daughter of Thanos. You know us? It is my curse to know all who journey here. Where is the Soul Stone? You should know... it extracts a terrible price. I am prepared. We all think that at first. We are all wrong. How is it you know this place so well? A lifetime ago, I, too, sought the stones. I even held one in my hand. But it cast me out, banished me here. Guiding others to a treasure I cannot possess. What you seek lies in front of you. As does what you fear. What\\'s this? The price. Soul holds a special place among the Infinity Stones. You might say it has a certain wisdom. Tell me what it needs. To ensure that whoever possesses it... understands its power... the stone demands a sacrifice. Of what? In order to take the stone, you must lose that which you love. A soul... for a soul. All my life, I dreamed of a day... a moment... when you got what you deserved. And I was always so disappointed. But now... You kill and torture... and you call it mercy. The universe has judged you. You asked it for a prize, and it told you no. You failed. And do you wanna know why? Because you love nothing. No one. No. Really? Tears? They\\'re not for him. No. This isn\\'t love. I ignored my destiny once. I cannot do that again. Even for you. I\\'m sorry, little one. No! Drop to 2600, heading 0-3-0. I hope you\\'re right about this. Or we\\'re gonna land a lot faster than you want to. When you said we were going to open Wakanda to the rest of the world... this is not what I imagined. And what did you imagine? The Olympics. Maybe even a Starbucks. Should we bow? Yeah, he\\'s a king. Seems like I\\'m always thanking you for something. - What are you doing? Uh, we don\\'t do that here. So how big of an assault should we expect? Uh, sir, I think you should expect quite a big assault. How we looking? You will have my Kingsguard, the Border Tribe, the Dora Milaje, and... And a semi-stable 100-year-old man. How you been, Buck? Uh, not bad, for the end of the world. Whoa. The structure is polymorphic. Right, we had to attach each neuron non-sequentially. Why didn\\'t you just reprogram the synapses to work collectively? Because we didn\\'t think of it. I\\'m sure you did your best. Can you do it? Yes, but there are more than two trillion neurons here. One misalignment could cause a cascade of circuit failures. It will take time, brother. How long? As long as you can give me. Something\\'s entered the atmosphere. Hey, Cap, we got a situation here. God, I love this place. Yeah, don\\'t start celebrating yet, guys. We got more incoming outside the dome. It\\'s too late. We need to destroy the stone now. Vision, get your ass back on the table. We will hold them off. Wanda, as soon as that stone\\'s out of his head... you blow it to hell. I will. Evacuate the city. Engage all defenses. And get this man a shield. I don\\'t think you get the scientifics here. These rings are gigantic. You wanna get them moving... you\\'re gonna need something a lot bigger to yank \\'em loose. - Leave that to me. - Leave it to you? Buddy, you\\'re in space. All you got is a rope and a... Fire the engines! More power, rabbit! Well done, boy. That\\'s Nidavellir. Damn it. \"Damn it\"? What\\'s \"damn it\"? The mechanism is crippled. - What? - With the iris closed, I can\\'t heat the metal. How long will it take to heat it? A few minutes, maybe more. Why? I\\'m gonna hold it open. That\\'s suicide. So is facing Thanos without that axe. How we looking, Bruce? Yeah, I think I\\'m getting the hang of it. Wow! This is amazing, man. It\\'s like being the Hulk without actually... I\\'m okay. I\\'m okay. I\\'ve got two heat signatures breaking through the tree line. Thank you for standing with us. Where\\'s your other friend? You will pay for his life with yours. Thanos will have that stone. That\\'s not gonna happen. You are in Wakanda now. Thanos will have nothing but dust and blood. We have blood to spare. They surrender? Not exactly. What the hell? Looks like we pissed her off. They\\'re killing themselves. You see the teeth on those things? All right, back up, Sam. You\\'re gonna get your wings singed. Cap, if these things circle the perimeter and get in behind us... there\\'s nothing between them and Vision. Then we better keep \\'em in front of us. How do we do that? We open the barrier. On my signal, open North-West Section Seventeen. Requesting confirmation, My King. You said open the barrier? On my signal. This will be the end of Wakanda. Then it will be the noblest ending in history. Wakanda forever! Now! How much longer, Shuri? I\\'ve barely begun, brother. You might want to pick up the pace Allfathers, give me strength. You understand, boy? You\\'re about to take the full force of a star. It\\'ll kill you. Only if I die. Yes. That\\'s what killing you means. Hold it! Hold it, Thor! Thor! Say something. Come on. Thor, you okay? I think he\\'s dying. He needs the axe! Where\\'s the handle? Tree, help me find the handle! There\\'s too many of \\'em! You guys are so screwed now! Bring me Thanos! Oh, yeah. You\\'re much more of a Thanos. I take it the Maw is dead. This day extracts a heavy toll. Still, he accomplished his mission. You may regret that. He brought you face-to-face with the Master of the Mystic Arts. And where do you think he brought you? Let me guess. Your home? It was. And it was beautiful. Titan was like most planets. Too many mouths, not enough to go around. And when we faced extinction, I offered a solution. Genocide. But random, dispassionate, fair to rich and poor alike. They called me a madman. And what I predicted came to pass. Congratulations, you\\'re a prophet. I\\'m a survivor. Who wants to murder trillions. With all six stones, I could simply snap my fingers. They would all cease to exist. I call that mercy. And then what? I\\'d finally rest... and watch the sun rise on a grateful universe. The hardest choices require the strongest wills. I think you\\'ll find our will equal to yours. Our? Piece of cake, Quill. Yeah, if your goal was to piss him off. Boom! - Don\\'t let him close his fist. Magic. More magic. Magic with a kick. Magic with a... - Insect! Well, well. You should\\'ve killed me. It would\\'ve been a waste of parts! Where\\'s Gamora? Is he under? Don\\'t let up. Be quick. He is very strong. Parker, help! Get over here. She can\\'t hold him much longer. Let\\'s go. We gotta open his fingers to get it off. I thought you\\'d be hard to catch. For the record, this was my plan. You\\'re not so strong now, huh? Where is Gamora? My Gamora. No, bullshit! Where is she? He is in anguish. - Good. He... He mourns. What does this monster have to mourn? Gamora. What? He took her to Vormir. He came back with the Soul Stone. But she didn\\'t. Okay, Quill, you gotta cool it right now. You understand? Don\\'t, don\\'t. Don\\'t engage. We almost got this off! Tell me she\\'s lying. Asshole, tell me you didn\\'t do it! I had to. No, you didn\\'t. - No, you didn\\'t. - No, you didn\\'t! - Quill! Hey, stop! Hey, stop! Stop! - Hey, stop! Stop! It\\'s coming, it\\'s coming. I got it, I got it! Oh, God. Come and get some, space dogs! Come on! Get some! Get some! Come on! Get some! - How much for the gun? - Not for sale. Okay. How much for the arm? Oh, I\\'ll get that arm. New haircut? Noticed you\\'ve copied my beard. By the way, this is a friend of mine, Tree. I am Groot. I am Steve Rogers. Fall back! Fall back, now! Focus that fire on the left flank, Sam. I\\'m doing it. Why was she up there all this time? She\\'s on the field. Take it. Guys, we got a Vision situation here. Somebody get to Vision! - I got him! - On my way. He\\'ll die alone. As will you. She\\'s not alone. Oh, no, you don\\'t. This isn\\'t gonna be like New York, pal. This suit\\'s already kicked the crap outta the Hulk. What? No! No! Guys! Vision needs backup, now! Hulk? Hulk, I know you like making your entrance at the last second. Well, this is it, man. This is the last, last second. Hulk! Hulk! Hulk! No! Oh, screw you, you big, green asshole! I\\'ll do it myself! Come on! Yeah! - See ya! Hulk, we got a lot to figure out, pal. I thought you were formidable, machine. But you\\'re dying, like any man. Get outta here! Go! That was really gross. I thought I told you to go. We don\\'t trade lives, Captain. I got you. I got you. I\\'m sorry I can\\'t remember anybody\\'s names. You\\'re full of tricks, wizard. Yet you never once used your greatest weapon. A fake. You throw another moon at me, and I\\'m gonna lose it. Stark. You know me? I do. You\\'re not the only one cursed with knowledge. My only curse is you. Come on! All that for a drop of blood. You have my respect, Stark. When I\\'m done, half of humanity will still be alive. I hope they remember you. Stop. Spare his life... and I will give you the stone. No tricks. Don\\'t. One to go. Where is he? Did we just lose? Why would you do that? We\\'re in the endgame now. Are you okay? What? What is it? He\\'s here. Everyone, on my position. We have incoming. What the hell? Cap. That\\'s him. Eyes up. Stay sharp. Wanda. It\\'s time. No. They can\\'t stop him, Wanda, but we can. Look at me. You have the power to destroy the stone. Don\\'t. You must do it. Wanda, please. We are out of time. I can\\'t. Yes, you can. You can. If he gets the stone, half the universe dies. It\\'s not fair. It shouldn\\'t be you, but it is. It\\'s all right. You could never hurt me. I just feel you. It\\'s all right. It\\'s all right. I love you. I understand, my child. Better than anyone. You could never. Today, I lost more than you can know. But now is no time to mourn. Now is no time at all. No! I told you... you\\'d die for that. You should have... You should... You should have gone for the head. No! Daughter? Did you do it? Yes. What did it cost? Everything. What did you do? What\\'d you do? Where\\'d he go? Thor. Where\\'d he go? Steve? Up, General. Up! This is no place to die. I am Groot. - Oh... No, no, no! Groot! No. Sam! Sam, where you at? Something\\'s happening. Quill? Steady, Quill. Oh, man. Tony. There was no other way. Mr. Stark? I don\\'t feel so good. You\\'re all right. I don\\'t... I don\\'t know what\\'s happening. I don\\'t know... I don\\'t want to go. I don\\'t want to go, sir. Please. Please, I don\\'t want to go. I don\\'t want to go. I\\'m sorry. He did it. What is this? What the hell is happening? Oh, God. Still no word from Stark? No, not yet. We\\'re watching every satellite on both hemispheres, but still nothing. - What is it? Multiple bogeys over Wakanda. Same energy signature as New York? Ten times bigger. Tell Klein we\\'ll meet him at... - Nick! Nick! They okay? There\\'s no one here. Call Control. Code red. Nick. Hill. Oh, no. Mother... The Tesseract has awakened. It is on a little world, a human world. They would wield its power, but our ally knows its workings as they never will. He is ready to lead and our force, our Chitauri, will follow. A world will be his. The universe, yours. And the humans, what can they do but burn? All personnel, the evacuation order has been confirmed. How bad is it? That\\'s the problem, sir. We don\\'t know. Dr Selvig read an energy surge from the Tesseract four hours ago. NASA didn\\'t authorise Selvig to go to test phase. He wasn\\'t testing it. He wasn\\'t even in the room. Spontaneous event. It just turned itself on? Where are the energy levels now? Climbing. When Selvig couldn\\'t shut it down, we ordered evac. How long to get everyone out? Campus should be clear in the next half-hour. Do better. Sir, evacuation may be futile. We should tell them to go back to sleep? If we can\\'t control the Tesseract\\'s energy, there may not be a minimum safe distance. I need you to make sure the Phase 2 prototypes are shipped out. Sir, is that really a priority right now? Until such time as the world ends, we will act as though it intends to spin on. Clear out the tech below. Every piece of Phase 2 on a truck and gone. Yes, sir. With me. Talk to me, Doctor. Director. Is there anything we know for certain? The Tesseract is misbehaving. - Is that supposed to be funny? - No, it\\'s not funny at all. The Tesseract is not only active, she\\'s behaving. I assume you pulled the plug. She\\'s an energy source. We turn off the power, she turns it back on. If she reaches peak level... We prepared for this, Doctor. Harnessing energy from space. But we don\\'t have the harness. My calculations are far from complete. And she\\'s throwing off interference, radiation. Nothing harmful, low levels of gamma radiation. That can be harmful. Where\\'s Agent Barton? The Hawk? Up in his nest, as usual. Agent Barton, report. I gave you this detail so you could keep a close eye on things. Well, I see better from a distance. Have you seen anything that might set this thing off? Doctor, it\\'s spiking again. No one\\'s come or gone. And Selvig\\'s clean. No contacts, no IMs. If there was any tampering, sir, it wasn\\'t at this end. \"At this end\"? Yeah, the Cube is a doorway to the other end of space, right? Doors open from both sides. Not yet. Sir, please put down the spear. You have heart. Please don\\'t. I still need that. This doesn\\'t have to get any messier. Of course it does. I\\'ve come too far for anything else. I am Loki, of Asgard and I am burdened with glorious purpose. Loki, brother of Thor. We have no quarrel with your people. An ant has no quarrel with a boot. Are you planning to step on us? I come with glad tidings of a world made free. Free from what? Freedom. Freedom is life\\'s great lie. Once you accept that, in your heart, you will know peace. Yeah, you say \"peace,\" I kind of think you mean the other thing. Sir, Director Fury is stalling. This place is about to blow and drop a hundred feet of rock on us. He means to bury us. Like the pharaohs of old. He\\'s right. The portal is collapsing in on itself. We\\'ve got maybe two minutes before this goes critical. Well, then. I need these vehicles. - Who\\'s that? - They didn\\'t tell me. Hill! Do you copy? Barton has turned. They have the Tesseract! Shut them down! Okay, let\\'s go. No, leave it. Go! We\\'re clear upstairs, sir. You need to go. Director? Director Fury, do you copy? The Tesseract is with a hostile force. I have men down. Hill? A lot of men still under. I don\\'t know how many survivors. Sound a general call. I want every living soul not working rescue looking for that briefcase. Roger that. Coulson, get back to base. This is a Level Seven. As of right now, we are at war. What do we do? This is not how I wanted this evening to go. I know how you wanted this evening to go. Believe me this is better. Who are you working for? Lermentov, yes? Does he think we have to go through him to move our cargo? I thought General Solohob is in charge of the export business. Solohob a bagman, a front. Your outdated information betrays you. The famous Black Widow and she turns out to be simply another pretty face. You really think I\\'m pretty? Tell Lermentov we don\\'t need him to move the tanks. Tell him he is out. Well... ...you may have to write it down. It\\'s for her. You listen carefully You\\'re at 1- 14 Silensky Plaza, 3rd floor. We have an F-22 exactly eight miles out. Put the woman on the phone, or I will blow up the block before you can make the lobby. - We need you to come in. - Are you kidding? I\\'m working. This takes precedence. I\\'m in the middle of an interrogation. This moron is giving me everything. I don\\'t give everything. Look, you can\\'t pull me out of this right now. Natasha... Barton\\'s been compromised. Let me put you on hold. Where is Barton now? - We don\\'t know. - But he\\'s alive? We think so. I\\'ll brief you on everything when you get back. But first, we need you to talk to the big guy. Coulson, you know that Stark trusts me about as far as he can throw me. I\\'ve got Stark. You get the big guy. Who are you? Get out! There is sickness here! You\\'re a doctor. My father\\'s not waking up! He has a fever and he\\'s moaning but his eyes won\\'t open. Slow down. My father... Like them? Please. You should\\'ve got paid up front, Banner. You know, for a man who\\'s supposed to be avoiding stress you picked a hell of a place to settle. Avoiding stress isn\\'t the secret. Then what is it? Yoga? You brought me to the edge of the city. Smart. I assume the whole place is surrounded. Just you and me. And your actress buddy? Is she a spy, too? They start that young? I did. Who are you? Natasha Romanoff. Are you here to kill me, Ms Romanoff? Because that\\'s not going to work out for everyone. No, of course not. I\\'m here on behalf of S.H.I.E.L.D. S.H.I.E.L.D. How did they find me? We never lost you, Doctor. We\\'ve kept our distance. Even helped keep some other interested parties off your scent. Why? Nick Fury seems to trust you. But now we need you to come in. What if I say no? I\\'ll persuade you. And what if the other guy says no? You\\'ve been more than a year without an incident. I don\\'t think you want to break that streak. Well, I don\\'t every time get what I want. Doctor, we\\'re facing a potential global catastrophe. Well, those I actively try to avoid. This is the Tesseract. It has the potential energy to wipe out the planet. What does Fury want me to do, swallow it? He wants you to find it. It\\'s been taken. It emits a gamma signature that\\'s too weak for us to trace. There\\'s no one that knows gamma radiation like you do. If there was, that\\'s where I\\'d be. So, Fury isn\\'t after the monster? Not that he\\'s told me. And he tells you everything? Talk to Fury. He needs you on this. He needs me in a cage? No one\\'s going to put you in a... Stop lying to me! I\\'m sorry. That was mean. I just wanted to see what you\\'d do. Why don\\'t we do this the easy way where you don\\'t use that and the other guy doesn\\'t make a mess. Okay? Natasha? Stand down. We\\'re good here. \"Just you and me.\" This is out of line, Director. You\\'re dealing with forces you can\\'t control. You ever been in a war, Councilman? In a firefight? Did you feel an overabundance of control? You\\'re saying that this Asgard is declaring war on our planet? Not Asgard. Loki. He can\\'t be working alone. What about the other one? His brother. Our intelligence says Thor is not a hostile but he\\'s worlds away. We can\\'t depend on him to help, either. It\\'s up to us. Which is why you should be focusing on Phase 2. It was designed for exactly this... Phase 2 isn\\'t ready. Our enemy is. We need a response team. The Avengers Initiative was shut down. This isn\\'t about the Avengers. We\\'ve seen the list. You\\'re running the world\\'s greatest covert security network and you\\'re going to leave the fate of the human race to a handful of freaks. I\\'m not leaving anything to anyone. We need a response team. These people may be isolated, unbalanced even but I believe with the right push they can be exactly what we need. You believe? War isn\\'t won by sentiment, Director. No, it\\'s won by soldiers. There\\'s not enough time. I got to put her in the water! You won\\'t be alone. Oh, my God. This guy is still alive! Trouble sleeping? I slept for 70 years, sir. I think I\\'ve had my fill. Then you should be out, celebrating, seeing the world. When I went under, the world was at war. I wake up, they say we won. They didn\\'t say what we lost. We\\'ve made some mistakes along the way. Some, very recently. Are you here with a mission, sir? I am. Trying to get me back in the world? Trying to save it. HYDRA\\'s secret weapon. Howard Stark fished that out of the ocean when he was looking for you. He thought what we think. The Tesseract could be the key to unlimited sustainable energy. That\\'s something the world sorely needs. Who took it from you? He\\'s called Loki. He\\'s not from around here. There\\'s a lot we\\'ll have to bring you up to speed on if you\\'re in. The world has gotten even stranger than you already know. At this point, I doubt anything would surprise me. Ten bucks says you\\'re wrong. There\\'s a debriefing packet waiting for you back at your apartment. Is there anything you can tell us about the Tesseract that we ought to know now? You should have left it in the ocean. Good to go on this end. The rest is up to you. You disconnected the transmission lines? Are we off the grid? Stark Tower is about to become a beacon of self-sustaining clean energy. Well, assuming the arc reactor takes over and it actually works. I assume. Light her up. How does it look? Like Christmas, but with more me. We\\'ve got to go wider on the public awareness campaign. You need to do some press. I\\'m in DC tomorrow, I\\'m working on the zoning for the next three buildings. Pepper, you\\'re killing me. The moment, remember? Enjoy the moment. Get in here and I will. Sir, Agent Coulson of S.H.I.E.L.D. Is on the line. I\\'m not in. I\\'m actually out. Sir, I\\'m afraid he\\'s insisting. Grow a spine, Jarvis. I got a date. Levels are holding steady, I think. Of course they are. I was directly involved. Which brings me to my next question. How does it feel to be a genius? Well, I really wouldn\\'t know, now would I? What do you mean? All this came from you. No, all this came from that. Give yourself some credit. Please. Stark Tower is your baby. Give yourself 12% of the credit. 12%? An argument can be made for 15. 12%? My baby? Well, I did do all the heavy lifting. Literally, I lifted the heavy things. And, sorry, but the security snafu? That was on you. - My private elevator... - You mean our elevator? ...it was teeming with sweaty workmen. I\\'m going to pay for that comment about percentages in some subtle way later, aren\\'t I? It\\'s not going to be that subtle. I\\'ll tell you what. The next building is gonna say \"Potts\" on the tower. On the lease. Call your mom. Can you bunk over? Sir, the telephone. I\\'m afraid my protocols are being overridden. Mr Stark, we need to talk. You have reached the life model decoy of Tony Stark. - Please leave a message. - This is urgent. Then leave it urgently. Security breach. It\\'s on you. - Mr Stark. - Phil! Come in. \"Phil\"? I can\\'t stay. His first name is \"Agent.\" Come on in. We\\'re celebrating. Which is why he can\\'t stay. We need you to look this over as soon as possible. I don\\'t like being handed things. That\\'s fine, because I love to be handed things. So, let\\'s trade. Thank you. Official consulting hours are between 8 and 5 every other Thursday. This isn\\'t a consultation. Is this about the Avengers? Which I know nothing about. The Avengers Initiative was scrapped, I thought. And I didn\\'t even qualify. I didn\\'t know that either. Apparently I\\'m volatile, self-obsessed, don\\'t play well with others. That I did know. This isn\\'t about personality profiles any more. Whatever. Ms Potts, got a second? Half a mo. You know, I thought we were having a moment. I was having 12% of a moment. This seems serious. Phil\\'s pretty shaken. How would you know if it\\'s... Why is he \"Phil\"? What is all this? This is this. I\\'m going to take the jet to DC tonight. Tomorrow. You have homework. You have a lot of homework. Well, what if I didn\\'t? - Lf you didn\\'t? - Yeah. You mean when you\\'ve finished? Well, then... Square deal. Fly safe. Work hard. So, any chance you\\'re driving by LaGuardia? - I can drop you. - Fantastic. I want to hear about the cellist. Is that still a thing? She moved back to Portland. What? Boo! We\\'re about 40 minutes out from home base, sir. So, this Dr Banner was trying to replicate the serum they used on me? A lot of people were. You were the world\\'s first superhero. Banner thought gamma radiation might hold the key to unlocking Erskine\\'s original formula. Didn\\'t really go his way, did it? Not so much. When he\\'s not that thing, though, the guy\\'s like a Stephen Hawking. He\\'s like a smart person. I gotta say, it\\'s an honour to meet you officially. I\\'ve sort of met you. I mean, I watched you while you were sleeping. I mean, I was present while you were unconscious from the ice. You know, it\\'s really just a huge honour to have you on board this... I hope I\\'m the man for the job. Oh, you are. Absolutely. We made some modifications to the uniform. I had a little design input. The uniform? Aren\\'t the stars and stripes a little old-fashioned? With everything that\\'s happening and the things that are about to come to light, people might just need a little old-fashioned. The Chitauri grow restless. Let them gird themselves. I will lead them in the glorious battle. Battle? Against the meagre might of Earth? Glorious, not lengthy. If your force is as formidable as you claim. You question us? You question him, he who put the sceptre in your hand? Who gave you ancient knowledge and new purpose when you were cast out, defeated? I was a king! The rightful king of Asgard, betrayed. Your ambition is little and born of childish need. We look beyond the Earth to the greater worlds the Tesseract will unveil. You don\\'t have the Tesseract yet. I don\\'t threaten. But until I open the doors, until your force is mine to command, you are but words. You will have your war, Asgardian. If you fail, if the Tesseract is kept from us, there will be no realm, no barren moon, no crevice where he cannot find you. You think you know pain? He will make you long for something sweet as pain. Stow the captain\\'s gear. Yes, sir. Agent Romanoff, Captain Rogers. - Ma\\'am. - Hi. They need you on the bridge. They\\'re starting the face-trace. See you there. It was quite the buzz around here, finding you in the ice. I thought Coulson was gonna swoon. Did he ask you to sign his Captain America trading cards yet? Trading cards? They\\'re vintage. He\\'s very proud. Dr Banner. Yeah, hi. They told me you would be coming. Word is, you can find the Cube. Is that the only word on me? Only word I care about. It must be strange for you, all of this. Well, this is actually kind of familiar. Gentlemen, you might want to step inside in a minute. It\\'s going to get a little hard to breathe. Flight crew, secure the deck. Is this a submarine? Really? They want me in a submerged, pressurised, metal container? No, no, this is much worse. Hover power check complete. Position cyclic. Increase collective to 8.0%. Preparing for maximum performance takeoff. Increase output to capacity. Power plant performing at capacity. We are clear. All engines operating. S.H.I.E.L.D. Emergency Protocol 193.6 in effect. - We are at level, sir. - Good. Let\\'s vanish. Engage retro-reflection panels. Reflection panels engaged. Gentlemen. Doctor, thank you for coming. Thanks for asking nicely. So, how long am I staying? Once we get our hands on the Tesseract, you\\'re in the wind. Where are you with that? We\\'re sweeping every wirelessly accessible camera on the planet. Cell phones, laptops... If it\\'s connected to a satellite, it\\'s eyes and ears for us. That\\'s still not gonna find them in time. You have to narrow your field. How many spectrometers do you have access to? - How many are there? - Call every lab you know. Tell them to put the spectrometers on the roof and calibrate them for gamma rays. I\\'ll rough out a tracking algorithm, basic cluster recognition. At least we could rule out a few places. Do you have somewhere for me to work? Agent Romanoff, could you show Dr Banner to his laboratory, please? You\\'re gonna love it, Doc. We got all the toys. Put it over there. Where did you find all these people? S.H.I.E.L.D. Has no shortage of enemies, Doctor. Is this the stuff you need? Yeah, iridium. It\\'s found in meteorites. It forms anti-protons. It\\'s very hard to get hold of. Especially if S.H.I.E.L.D. Knows you need it. Well, I didn\\'t know. Hey! The Tesseract has shown me so much. It\\'s more than knowledge. It\\'s truth. I know. What did it show you, Agent Barton? My next target. Tell me what you need. I need a distraction. And an eyeball. I mean, if it\\'s not too much trouble. No, no. It\\'s fine. It\\'s a vintage set. It took me a couple of years to collect them all. Near mint. Slight foxing around the edges, but... We got a hit. A 67% match. Wait. Cross match, 79%. Location? Stuttgart, Germany. 28 Königstrasse. He\\'s not exactly hiding. Captain, you\\'re up. Kneel before me. I said kneel! Is not this simpler? Is this not your natural state? It\\'s the unspoken truth of humanity, that you crave subjugation. The bright lure of freedom diminishes your life\\'s joy in a mad scramble for power, for identity. You were made to be ruled. In the end, you will always kneel. Not to men like you. There are no men like me. There are always men like you. Look to your elder, people. Let him be an example. You know, the last time I was in Germany, and saw a man standing above everybody else, we ended up disagreeing. The soldier. The man out of time. I\\'m not the one who\\'s out of time. Loki, drop the weapon and stand down. Kneel. Not today! The guy\\'s all over the place. Agent Romanoff. You miss me? Make your move, Reindeer Games. Good move. Mr Stark. Captain. Is he saying anything? Not a word. Just get him here. We\\'re low on time. I don\\'t like it. What, Rock of Ages giving up so easily? I don\\'t remember it being that easy. This guy packs a wallop. Still, you are pretty spry for an older fellow. What\\'s your thing, Pilates? What? It\\'s like calisthenics. You might have missed a couple of things doing time as a Capsicle. Fury didn\\'t tell me he was calling you in. Yeah, there\\'s a lot of things Fury doesn\\'t tell you. Where\\'s this coming from? What\\'s the matter? Are you scared of a little lightning? I\\'m not overly fond of what follows. What are you doing? And now there\\'s that guy. Another Asgardian? - That guy\\'s a friendly? - Doesn\\'t matter. If he frees Loki or kills him, the Tesseract\\'s lost. Stark, we need a plan of attack! I have a plan. Attack. I\\'d sit this one out, Cap. I don\\'t see how I can. These guys come from legend. They\\'re basically gods. There\\'s only one God, ma\\'am. And I\\'m pretty sure he doesn\\'t dress like that. Where is the Tesseract? I missed you, too. Do I look to be in a gaming mood? You should thank me. With the Bifrost gone, how much dark energy did the Allfather have to muster to conjure you here to your precious Earth? I thought you dead. Did you mourn? We all did. Our father... Your father. He did tell you my true parentage, did he not? We were raised together. We played together, we fought together. Do you remember none of that? I remember a shadow. Living in the shade of your greatness. I remember you tossing me into an abyss. I, who was, and should be, king! So you take the world I love as a recompense for your imagined slights? No. The Earth is under my protection, Loki. And you\\'re doing a marvellous job with that. The humans slaughter each other in droves while you idly fret. I mean to rule them, as why should I not? You think yourself above them? Well, yes. Then you miss the truth of ruling, brother. A throne would suit you ill. I\\'ve seen worlds you\\'ve never known about! I have grown, Odinson, in my exile. I have seen the true power of the Tesseract, and when I wield it... Who showed you this power? Who controls the would-be king? - I am a king! - Not here! You give up the Tesseract! You give up this poisonous dream! You come home. I don\\'t have it. You need the Cube to bring me home. But I\\'ve sent it off, I know not where. You listen well, brother. I\\'m listening. Do not touch me again. Then don\\'t take my stuff. You have no idea what you\\'re dealing with. Shakespeare in the Park? Doth Mother know you wear-eth her drapes? This is beyond you, metal man. Loki will face Asgardian justice. He gives up the Cube, he\\'s all yours. Until then, stay out of the way. Tourist. Okay. Power at 400% capacity. How about that? Hey! That\\'s enough. Now, I don\\'t know what you plan on doing here. I\\'ve come here to put an end to Loki\\'s schemes. Then prove it. Put that hammer down. Yeah... No. Bad call. He loves his hammer. You want me to put the hammer down? Are we done, here? In case it\\'s unclear, if you try to escape, if you so much as scratch that glass, it\\'s 30,000 feet straight down in a steel trap. You get how that works? Ant, boot. It\\'s an impressive cage. Not built, I think, for me. Built for something a lot stronger than you. Oh, I\\'ve heard. A mindless beast. Makes play he\\'s still a man. How desperate are you, that you call on such lost creatures to defend you? How desperate am I? You threaten my world with war. You steal a force you can\\'t hope to control. You talk about peace, and you kill because it\\'s fun. You have made me very desperate. You might not be glad that you did. It burns you to have come so close. To have the Tesseract, to have power, unlimited power. And for what? A warm light for all mankind to share. And then to be reminded what real power is. Well, let me know if \"real power\" wants a magazine or something. He really grows on you, doesn\\'t he? Loki\\'s gonna drag this out. So, Thor, what\\'s his play? He has an army called the Chitauri. They\\'re not of Asgard, nor any world known. He means to lead them against your people. They will win him the Earth, in return, I suspect, for the Tesseract. An army from outer space. So, he\\'s building another portal. That\\'s what he needs Erik Selvig for. Selvig? - He\\'s an astrophysicist. - He\\'s a friend. Loki has him under some kind of spell, along with one of ours. I want to know why Loki let us take him. He\\'s not leading an army from here. I don\\'t think we should be focusing on Loki. That guy\\'s brain is a bag full of cats. You could smell crazy on him. Have care how you speak. Loki is beyond reason, but he is of Asgard. And he is my brother. He killed 80 people in two days. He\\'s adopted. I think it\\'s about the mechanics. Iridium... What do they need the iridium for? It\\'s a stabilising agent. I\\'m just saying, pick a weekend. I\\'ll fly you to Portland. Keep love alive. It means the portal won\\'t collapse on itself like it did at S.H.I.E.L.D. No hard feelings, Point Break. You\\'ve got a mean swing. Also, it means the portal can open as wide and stay open as long, as Loki wants. Raise the mizzenmast. Jib the topsails. That man is playing Galaga. He thought we wouldn\\'t notice, but we did. How does Fury even see these? He turns. Sounds exhausting. The rest of the raw materials, Agent Barton can get his hands on pretty easily. The only major component he still needs is a power source of high-energy density. Something to kick-start the Cube. When did you become an expert in thermonuclear astrophysics? Last night. The packet, Selvig\\'s notes, the extraction theory papers. Am I the only one who did the reading? Does Loki need any particular kind of power source? He would have to heat the Cube to 120-million Kelvin just to break through the Coulomb barrier. Unless Selvig has figured out how to stabilise the quantum tunnelling effect. Well, if he could do that, he could achieve heavy ion fusion at any reactor on the planet. Finally, someone who speaks English. Is that what just happened? It\\'s good to meet you, Dr Banner. Your work on antielectron collisions is unparalleled. And I\\'m a huge fan of the way you lose control and turn into an enormous green rage-monster. Thanks. Dr Banner is only here to track the Cube. I was hoping you might join him. I would start with that stick of his. It may be magical, but it works an awful lot like a HYDRA weapon. I don\\'t know about that, but it is powered by the Cube. And I would like to know how Loki used it to turn two of the sharpest men I know into his personal flying monkeys. Monkeys? I do not understand. I do. I understood that reference. Shall we play, Doctor? This way, sir. The gamma readings are definitely consistent with Selvig\\'s reports of the Tesseract. But it\\'s going to take weeks to process. If we bypass their mainframe and direct route to the Homer cluster, we can clock this at around 600 teraflops. All I packed was a toothbrush. You know, you should come by Stark Tower sometime. Top ten floors, all R&D. You\\'d love it. It\\'s Candy Land. Thanks, but the last time I was in New York, I kind of broke Harlem. Well, I promise a stress-free environment. No tension, no surprises. - Hey! - Nothing? Are you nuts? Jury\\'s out. You really have got a lid on it, haven\\'t you? What\\'s your secret? Mellow jazz, bongo drums, huge bag of weed? Is everything a joke to you? Funny things are. Threatening the safety of everyone on this ship isn\\'t funny. No offence, Doc. It\\'s all right, I wouldn\\'t have come aboard if I couldn\\'t handle pointy things. You\\'re tip-toeing, big man. You need to strut. And you need to focus on the problem, Mr Stark. Do you think I\\'m not? Why did Fury call us in? Why now? Why not before? What isn\\'t he telling us? I can\\'t do the equation unless I have all the variables. You think Fury\\'s hiding something? He\\'s a spy. Captain, he\\'s \"the\" spy. His secrets have secrets. It\\'s bugging him, too. Isn\\'t it? I just want to finish my work here, and... Doctor? \"A warm light for all mankind.\" Loki\\'s jab at Fury about the Cube. I heard it. I think that was meant for you. Even if Barton didn\\'t tell Loki about the tower, it was still all over the news. The Stark Tower? That big, ugly building in New York? It\\'s powered by an arc reactor, a self-sustaining energy source. That building will run itself for, what, a year? It\\'s just the prototype. I\\'m kind of the only name in clean energy right now. That\\'s what he\\'s getting at. So, why didn\\'t S.H.I.E.L.D. Bring him in on the Tesseract project? What are they doing in the energy business in the first place? I should probably look into that once my decryption programme finishes breaking into all of S.H.I.E.L.D.\\'s secure files. I\\'m sorry. Did you say... Jarvis has been running it since I hit the bridge. In a few hours, I\\'ll know every dirty secret S.H.I.E.L.D. Has ever tried to hide. Blueberry? Yet you\\'re confused about why they didn\\'t want you around. An intelligence organisation that fears intelligence? Historically, not awesome. I think Loki\\'s trying to wind us up. This is a man who means to start a war and if we don\\'t stay focused, he\\'ll succeed. We have orders. We should follow them. Following\\'s not really my style. And you\\'re all about style, aren\\'t you? Of the people in this room, which one is, A, wearing a spangly outfit, and, B, not of use? Steve, tell me none of this smells a little funky to you. Just find the Cube. That\\'s the guy my dad never shut up about? I\\'m wondering if they shouldn\\'t have kept him on ice. The guy\\'s not wrong about Loki. He does have the jump on us. What he\\'s got is an Acme dynamite kit. It\\'s going to blow up in his face. And I\\'m going to be there when it does. Yeah. I\\'ll read all about it. Or you\\'ll be suiting up with the rest of us. You see, I don\\'t get a suit of armour. I\\'m exposed. Like a nerve. It\\'s a nightmare. I\\'ve got a cluster of shrapnel trying every second to crawl its way into my heart. This stops it. This little circle of light, it\\'s part of me now, not just armour. It\\'s a terrible privilege. - But you can control it. - Because I learned how. It\\'s different. Hey, I read all about your accident. That much gamma exposure should have killed you. So you\\'re saying that the Hulk... The other guy saved my life? That\\'s nice. It\\'s a nice sentiment. Saved it for what? I guess we\\'ll find out. You may not enjoy that. And you just might. As soon as Loki took the doctor, we moved Jane Foster. They\\'ve got an excellent observatory in Tromsø. She was asked to consult there very suddenly yesterday. Handsome fee, private plane, very remote. She\\'ll be safe. Thank you. It\\'s no accident, Loki taking Erik Selvig. I dread what he plans for him once he\\'s done. Erik is a good man. He talks about you a lot. You changed his life. You changed everything around here. They were better as they were. We pretend on Asgard that we\\'re more advanced but we come here, battling like bilge snipe. - Like what? - Bilge snipe. You know, huge, scaly, big antlers. - You don\\'t have those? - I don\\'t think so. Well, they are repulsive. And they trample everything in their path. When I first came to Earth, Loki\\'s rage followed me here, and your people paid the price. And now, again. In my youth, I courted war. War hasn\\'t started yet. You think you could make Loki tell us where the Tesseract is? I do not know. Loki\\'s mind is far afield. It\\'s not just power he craves, it\\'s vengeance, upon me. There\\'s no pain would prise his need from him. A lot of guys think that until the pain starts. What are you asking me to do? I\\'m asking, what are you prepared to do? Loki is a prisoner. Then why do I feel like he\\'s the only person on this boat that wants to be here? There\\'s not many people who can sneak up on me. But you figured I\\'d come. After. After whatever tortures Fury can concoct, you would appear as a friend, as a balm. And I would cooperate. I want to know what you\\'ve done to Agent Barton. I would say I\\'ve expanded his mind. And once you\\'ve won, once you\\'re king of the mountain, what happens to his mind? Is this love, Agent Romanoff? Love is for children. I owe him a debt. Tell me. Before I worked for S.H.I.E.L. D... I... Well, I made a name for myself. I have a very specific skill set. I didn\\'t care who I used it for, or on. I got on S.H.I.E.L.D.\\'s radar in a bad way. Agent Barton was sent to kill me. He made a different call. And what will you do if I vow to spare him? Not let you out. No, but I like this. Your world in the balance, and you bargain for one man. Regimes fall every day. I tend not to weep over that. I\\'m Russian. Or I was. And what are you now? It\\'s really not that complicated. I got red in my ledger, I\\'d like to wipe it out. Can you? Can you wipe out that much red? Dreykov\\'s daughter, São Paulo, the hospital fire? Barton told me everything. Your ledger is dripping. It\\'s gushing red and you think saving a man no more virtuous than yourself will change anything? This is the basest sentimentality. This is a child at prayer. Pathetic! You lie and kill in the service of liars and killers. You pretend to be separate, to have your own code, something that makes up for the horrors. But they are part of you. And they will never go away. I won\\'t touch Barton, not until I make him kill you. Slowly, intimately, in every way he knows you fear. And then he\\'ll wake just long enough to see his good work and when he screams, I\\'ll split his skull. This is my bargain, you mewling quim. You\\'re a monster. Oh, no. You brought the monster. So, Banner. That\\'s your play. What? Loki means to unleash the Hulk. Keep Banner in the lab. I\\'m on my way. Send Thor as well. Thank you for your cooperation. What are you doing, Mr Stark? Kind of been wondering the same thing about you. You\\'re supposed to be locating the Tesseract. We are. The model\\'s locked and we\\'re sweeping for the signature now. When we get a hit, we\\'ll have the location within half a mile. Yeah, then you get your Cube back. No muss, no fuss. What is \"Phase 2\"? Phase 2 is S.H.I.E.L.D. Uses the Cube to make weapons. Sorry, computer was moving a little slow for me. Rogers, we gathered everything related to the Tesseract. This does not mean that we\\'re making... I\\'m sorry, Nick. What were you lying? I was wrong, Director. The world hasn\\'t changed a bit. Did you know about this? You want to think about removing yourself from this environment, Doctor? I was in Calcutta. I was pretty well removed. Loki is manipulating you. And you\\'ve been doing what, exactly? You didn\\'t come here because I bat my eyelashes at you. Yes, and I\\'m not leaving because suddenly you get a little twitchy. I\\'d like to know why S.H.I.E.L.D. Is using the Tesseract to build weapons of mass destruction. Because of him. Me? Last year, Earth had a visitor from another planet who had a grudge match that levelled a small town. We learned that not only are we not alone but we are hopelessly, hilariously, outgunned. My people want nothing but peace with your planet. But you\\'re not the only people out there, are you? And you\\'re not the only threat. The world\\'s filling up with people who can\\'t be matched, that can\\'t be controlled. Like you controlled the Cube? Your work with the Tesseract is what drew Loki to it, and his allies. It is a signal to all the realms that the Earth is ready for a higher form of war. A higher form? You forced our hand. We had to come up with something. A nuclear deterrent. Because that always calms everything right down. Remind me again how you made your fortune, Stark. I\\'m sure if he still made weapons, Stark would be neck-deep... Hold on. How is this now about me? I\\'m sorry, isn\\'t everything? I thought humans were more evolved than this. Excuse me, did we come to your planet and blow stuff up? You treat your champions with such mistrust. Are you boys really that naïve? S.H.I.E.L.D. Monitors potential threats. Captain America\\'s on threat watch? We all are. Wait, you\\'re on that list? Are you above or below angry bees? Stark, so help me God, if you make one more wisecrack... Threat! Verbal threat. I feel threatened. - Show some respect. - Respect what? Transport Six-Six-Bravo, please relay confirm codes. I\\'ve got you on the computer, but not on the day log. What is your haul? Over. Arms and ammunition. Over. You speak of control, yet you court chaos. That\\'s his M.O., isn\\'t it? I mean, what are we, a team? No, we\\'re a chemical mixture that makes chaos. We\\'re a time bomb. You need to step away. Why shouldn\\'t the guy let off a little steam? You know damn well why. Back off! I\\'m starting to want you to make me. Yeah. Big man in a suit of armour. Take that off, what are you? Genius, billionaire, playboy, philanthropist. I know guys with none of that worth ten of you. I\\'ve seen the footage. The only thing you really fight for is yourself. You\\'re not the guy to make the sacrifice play, to lay down on a wire and let the other guy crawl over you. I think I would just cut the wire. Always a way out. You may not be a threat but you better stop pretending to be a hero. A hero? Like you? You\\'re a laboratory experiment, Rogers. Everything special about you came out of a bottle. Put on the suit. Let\\'s go a few rounds. You people are so petty and tiny. Yeah, this is a team. Agent Romanoff, would you escort Dr Banner back to his... Where? You rented my room. The cell was just in case... In case you needed to kill me. But you can\\'t. I know, I tried. I got low. I didn\\'t see an end. So, I put a bullet in my mouth, and the other guy spit it out. So I moved on. I focused on helping other people. I was good. Until you dragged me back into this freak show and put everyone here at risk. You want to know my secret, Agent Romanoff? You want to know how I stay calm? Dr Banner, put down the sceptre. Got it. Sorry, kids, you don\\'t get to see my party trick after all. You located the Tesseract? I could get there fastest. The Tesseract belongs on Asgard. No human is a match for it. - You\\'re not going alone. - You\\'re gonna stop me? Put on the suit, let\\'s find out. I\\'m not afraid to hit an old man. Put on the suit. Oh, my God. Put on the suit. Yeah. All hands to stations. - Hill! - External detonation. Number three engine is down. We\\'ve been hit. - Can they get it running? - Fire in engine three! Talk to me. Turbine looks mostly intact but it\\'s impossible to get out there to make repairs while we\\'re in the air. If we lose one more engine, we won\\'t be. Somebody\\'s got to get outside and patch that engine. - Stark, you copy that? - I\\'m on it. Coulson, initiate defensive lockdown in the detention section then get to the armoury. Romanoff? We\\'re okay. We\\'re okay, right? - Keep that engine down! - Yes, sir. Detention, wait for cameras to go dark. - Got it. - Stay close. Let\\'s go, Level 4. Engine three. I\\'ll meet you there. Doctor? Bruce? You got to fight it. This is just what Loki wants. We\\'re going to be okay. Listen to me. Are you hurt? We\\'re going to be okay. All right? I swear on my life, I will get you out of this. You will walk away and never ever... Your life? Bruce. Bring the carrier about to a 1-8-0, heading south! - Take us to the water! - We\\'re flying blind. Navigation\\'s recalibrating after the engine failure. Is the sun coming up? - Yes, sir. - Then put it on the left. Get us over water. One more turbine goes down, and we drop. Thanks. Stark! Stark, I\\'m here! Good. Let\\'s see what we\\'ve got. I got to get this superconducting coolant system back online before I can access the rotors, work on dislodging the debris. I need you to get to that engine control panel and tell me which relays are in overload position. What does it look like in there? It seems to run on some form of electricity. Well, you\\'re not wrong. We are not your enemies, Banner. Try to think! Okay, the relays are intact. What\\'s our next move? Even if I clear the rotors, this thing won\\'t re-engage without a jump. I\\'m going to have to get in there and push. If that thing gets up to speed, you\\'ll get shredded. That stator control unit can reverse the polarity long enough to disengage maglev and that could... Speak English! You see that red lever? It will slow the rotors down long enough for me to get out. Stand by it. Wait for my word. We need full evac on the lower hangar bay. Grenade! We\\'ve got a perimeter breach! Hostiles are in S.H.I.E.L.D. Gear. Call-outs at every junction. We have the Hulk and Thor on Research Level 4. Levels 2 and 3 are dark. Sir, the Hulk will tear this place apart! Get his attention. Escort 6-0, proceed to Wishbone and engage hostile. Don\\'t get too close. Copy. Target acquired. Target engaged. Target angry, target angry! They\\'re not getting through here, so what the hell... Engine one is now in shut-down. We are in an uncontrolled descent. Sir, we\\'ve lost all power in engine one. It\\'s Barton. He took out our systems. He\\'s headed for the detention level. Does anybody copy? This is Agent Romanoff. I copy. Stark, we\\'re losing altitude. Yeah, I noticed. No! Are you ever not going to fall for that? The humans think us immortal. Should we test that? Move away, please. You like this? We started working on the prototype after you sent the Destroyer. Even I don\\'t know what it does. Do you want to find out? No! Natasha? You\\'re going to lose. Am I? It\\'s in your nature. Your heroes are scattered. Your floating fortress falls from the sky. Where is my disadvantage? You lack conviction. I don\\'t think I\\'m... So, that\\'s what it does. All hands to crash stations immediately. Cap, hit the lever. I need a minute here! Lever now! Help! Sorry, boss. The god rabbited. Just stay awake. Eyes on me. No, I\\'m clocking out here. Not an option. It\\'s okay, boss. This was never gonna work if they didn\\'t have something to... Agent Coulson is down. A medical team is on its way to your location. They\\'re here. They called it. These were in Phil Coulson\\'s jacket. I guess he never did get you to sign them. We\\'re dead in the air up here. Our communications, the location of the Cube, Banner, Thor... I got nothing for you. I lost my one good eye. Maybe I had that coming. Yes, we were going to build an arsenal with the Tesseract. I never put all my chips on that number, though because I was playing something even riskier. There was an idea, Stark knows this, called the Avengers Initiative. The idea was to bring together a group of remarkable people to see if they could become something more. To see if they could work together when we needed them to, to fight the battles that we never could. Phil Coulson died still believing in that idea. In heroes. Well, it\\'s an old-fashioned notion. You fell out of the sky. Did I hurt anybody? There\\'s nobody around here to get hurt. You did scare the hell out of some pigeons, though. Lucky. Or just good aim. You were awake when you fell. - You saw? - The whole thing. Right through the ceiling. Big and green and buck-ass nude. Here. Didn\\'t think those would fit you until you shrunk down to a regular-size feller. Thank you. Are you an alien? What? From outer space, an alien. No. Well, then, son, you\\'ve got a condition. Clint. You\\'re going to be all right. You know that? Is that what you know? I\\'ve got no window. I have to flush him out. You got to level out. It\\'s going to take time. You don\\'t understand. Have you ever had someone take your brain and play? Pull you out and stuff something else in? Do you know what it\\'s like to be unmade? You know that I do. Why am I back? How did you get him out? Cognitive recalibration. I hit you really hard on the head. Thanks. Natasha... How many agents did I... Don\\'t. Don\\'t do that to yourself, Clint. This is Loki. This is monsters and magic, and nothing we were ever trained for. Loki, did he get away? Yeah. I don\\'t suppose you know where. I didn\\'t need to know. I didn\\'t ask. He\\'s going to make his play soon, though. Today. We got to stop him. Yeah? Who\\'s \"we\"? I don\\'t know. Whoever\\'s left. Well, if I put an arrow through Loki\\'s eye socket, I would sleep better, I suppose. Now you sound like you. But you don\\'t. You\\'re a spy, not a soldier. Now you want to wade into a war. Why? What did Loki do to you? He didn\\'t. I just... Natasha. I\\'ve been compromised. I got red in my ledger. I would like to wipe it out. Was he married? No. There was a cellist, I think. I\\'m sorry. He seemed like a good man. He was an idiot. Why? For believing? For taking on Loki alone. He was doing his job. He was out of his league. He should have waited. He should have... Sometimes there isn\\'t a way out, Tony. Right, I\\'ve heard that before. Is this the first time you lost a soldier? We are not soldiers. I\\'m not marching to Fury\\'s fife. Neither am I. He\\'s got the same blood on his hands that Loki does. But right now, we got to put that behind us and get this done. Loki needs a power source. If we can put together a list... He made it personal. That\\'s not the point. That is the point. That\\'s Loki\\'s point. He hit us all right where we live. Why? To tear us apart. Yeah, divide and conquer is great but he knows he has to take us out to win, right? That\\'s what he wants. He wants to beat us, he wants to be seen doing it. He wants an audience. Right. I caught his act in Stuttgart. Yeah, that was just previews. This is opening night. And Loki, he\\'s a full-tilt diva, right? He wants flowers, he wants parades. He wants a monument built to the skies with his name plastered... Son of a bitch. Time to go. - Go where? - I\\'ll tell you on the way. Can you fly one of those jets? I can. You got a suit? Yeah. Then suit up. Hey, you guys aren\\'t authorised to be in here. Son, just don\\'t. Sir. Agent Hill. Those cards, they were in Coulson\\'s locker, not in his jacket. They needed the push. We have an unauthorised departure from Bay 6. They found him. Get our communications back up, whatever you have to do. - I want eyes on everything. - Yes, sir. Sir, I\\'ve turned off the arc reactor but the device is already self-sustaining. Shut it down, Dr Selvig. It\\'s too late! She can\\'t stop now. She wants to show us something! A new universe. Okay. The barrier is pure energy. It\\'s unbreachable. Yeah, I got that. Plan B. Sir, the Mark 7 is not ready for deployment. Then skip the spinning rims. We\\'re on the clock. Please tell me you\\'re going to appeal to my humanity. Actually, I\\'m planning to threaten you. You should have left your armour on for that. Yeah. It\\'s seen a bit of mileage, and you\\'ve got the glow stick of destiny. Would you like a drink? Stalling me won\\'t change anything. No, no. Threatening. No drink? Are you sure? I\\'m having one. The Chitauri are coming. Nothing will change that. What have I to fear? The Avengers. That\\'s what we call ourselves. We\\'re sort of like a team. \"Earth\\'s mightiest heroes\"-type thing. Yes, I\\'ve met them. Yeah. It takes us a while to get any traction, I\\'ll give you that one. But let\\'s do a head count, here. Your brother, the demigod, a super soldier, a living legend who kind of lives up to the legend. A man with breathtaking anger-management issues, a couple of master assassins, and you, big fella, you\\'ve managed to piss off every single one of them. That was the plan. Not a great plan. When they come, and they will, they\\'ll come for you. I have an army. We have a Hulk. I thought the beast had wandered off. You\\'re missing the point. There is no throne. There is no version of this where you come out on top. Maybe your army comes and maybe it\\'s too much for us, but it\\'s all on you. Because if we can\\'t protect the Earth, you can be damn well sure we\\'ll avenge it. How will your friends have time for me when they are so busy fighting you? This usually works. Well, performance issues, it\\'s not uncommon. One out of five... Jarvis, anytime now. You will all fall before me. Deploy! Deploy! And there\\'s one other person you pissed off. His name was Phil. Right. Army. Loki! Turn off the Tesseract, or I\\'ll destroy it. You can\\'t. There is no stopping it. There is only the war. So be it. Stark, we\\'re on your three, headed northeast. What? Did you stop for drive-through? Swing up Park. I\\'m going to lay them out for you. Sir, we have more incoming. Fine. Let\\'s keep them occupied. - Nat? - I see him. We got to get back up there. Stark, are you seeing this? Seeing. Still working on believing. Where\\'s Banner? Has he shown up yet? Banner? Just keep me posted. Jarvis, find me a soft spot. Look at this! Look around you! You think this madness will end with your rule? It\\'s too late. It\\'s too late to stop it. No. We can, together. Sentiment. We\\'ve got civilians still trapped up here. Loki. They\\'re fish in a barrel down there. We got this. It\\'s good. Go. Do you think you can hold them off? Captain, it would be my genuine pleasure. Just like Budapest all over again. You and I remember Budapest very differently. It\\'s going to be an hour before they can scramble the National Guard. National Guard? Does the army know what\\'s happening here? Do we? You need men in these buildings. There are people inside and they\\'re going to be running right into the line of fire. You take them to the basements or through the subway. You keep them off the streets. I need a perimeter as far back as 39th. Why the hell should I take orders from you? I need men in those buildings. Lead the people down and away from the streets. We\\'re going to set up a perimeter all the way down to 39th Street. Well, we got its attention. What the hell was step two? What\\'s the story upstairs? The power surrounding the Cube is impenetrable. Thor\\'s right. We got to deal with these guys. - How do we do this? - As a team. I have unfinished business with Loki. Yeah? Well, get in line. Save it. Loki\\'s going to keep this fight focused on us, and that\\'s what we need. Without him, these things could run wild. We got Stark up top. He\\'s going to need us to... So, this all seems horrible. I\\'ve seen worse. Sorry. No, we could use a little worse. - Stark, we got him. - Banner? Just like you said. Then tell him to suit up. I\\'m bringing the party to you. I don\\'t see how that\\'s a party. Dr Banner. Now might be a really good time for you to get angry. That\\'s my secret, Captain. I\\'m always angry. Hold on! Send the rest. Guys. Call it, Captain. All right, listen up. Until we can close that portal, our priority is containment. Barton, I want you on that roof. Eyes on everything. Call out patterns and strays. Stark, you got the perimeter. Anything gets more than three blocks out, you turn it back or you turn it to ash. - Can you give me a lift? - Right. Better clench up, Legolas. Thor, you got to try and bottleneck that portal. Slow them down. You got the lightning. Light the bastards up. You and me, we stay here on the ground. We keep the fighting here. And Hulk... Smash. Sir. The Council is on. Stark, you got a lot of strays sniffing your tail. I\\'m just trying to keep them off the streets. Well, they can\\'t bank worth a damn. So find a tight corner. I will roger that. Oh, boy. Nice call. What else you got? Thor is taking on a squadron down on Sixth. And he didn\\'t invite me. Captain, none of this is going to mean a damn thing if we don\\'t close that portal. Our biggest guns couldn\\'t touch it. Well, maybe it\\'s not about guns. If you want to get up there, you\\'re going to need a ride. I got a ride. I could use a boost, though. Are you sure about this? Yeah. It\\'s gonna be fun. Okay, turn, turn. Less! Less! Captain, the bank on 42nd past Madison. They\\'ve cornered a lot of civilians in there. I\\'m on it. Everyone! Clear out! Director Fury, the Council has made a decision. I recognise the Council has made a decision. But given that it\\'s a stupid-ass decision, I have elected to ignore it. Director, you\\'re closer than any of our subs. You scramble that jet... That is the island of Manhattan, Councilman. Until I\\'m certain my team can\\'t hold it, I will not order a nuclear strike against a civilian population. If we don\\'t hold them here, we lose everything. If I send that bird out, we already have. You. Hawkeye! Nat, what are you doing? A little help? I got him. Enough! You are, all of you, beneath me! I am a god, you dull creature. And I will not be bullied by... Puny god. The sceptre... Doctor. Loki\\'s sceptre. The energy. The Tesseract can\\'t fight, but you can\\'t protect against yourself. It\\'s not your fault. You didn\\'t know what you were doing. Actually, I think I did. I built in a safety to cut their power source. Loki\\'s sceptre. It may be able to close the portal. And I\\'m looking right at it. Sir, we will lose power before we penetrate that shell. Jarvis, you ever hear the tale of Jonah? I wouldn\\'t consider him a role model. Director Fury is no longer in command. Override order 7-Alpha- 1- 1. 7- Alpha- 1- 1, confirmed. We\\'re go for takeoff. Sir, we have a bird in motion! Anyone on the deck, we have a rogue bird. We need to shut it down! Repeat, takeoff is not authorised. Stark, do you hear me? You have a missile headed straight for the city. How long? Three minutes, max. The payload will wipe out Midtown. Jarvis, put everything we got into the thrusters. I just did. Package is sent. Detonation in 2 minutes, 30 seconds, mark. Are you ready for another bout? What, are you getting sleepy? Right at the crown! I can close it. Can anybody copy? I can shut the portal down. - Do it! - No, wait. Stark, these things are still coming. I got a nuke coming in. It\\'s gonna blow in less than a minute. And I know just where to put it. Stark, you know that\\'s a one-way trip. Save the rest for the turn, J. Sir, shall I try Miss Potts? Might as well. The streets of New York City have become a battleground. The Army is here trying to contain the violence but clearly, it is outmatched. And I have to say, in all my years of reporting, I have never seen anything like this. We have limited information on the team but we do know that billionaire Tony Stark\\'s Iron Man... Come on, Stark. Close it. Son of a gun. He\\'s not slowing down. Is he breathing? What the hell? What just happened? Please tell me nobody kissed me. We won. All right, yay! Hurray. Good job, guys. Let\\'s just not come in tomorrow. Let\\'s just take a day. Have you ever tried shawarma? There\\'s a shawarma joint about two blocks from here. I don\\'t know what it is, but I want to try it. We\\'re not finished yet. And then shawarma after. If it\\'s all the same to you, I\\'ll have that drink now. Despite the devastation of what has been confirmed as an extraterrestrial attack, the extraordinary heroics of the group known as the Avengers has been to many a cause not only for comfort, but for celebration. It\\'s just really great knowing they\\'re out there. That someone is watching over us. I love you, Thor! And then these guys were like... And then the air goes... And this green guy walks up and he goes... I don\\'t know. I don\\'t exactly feel safer with those things out there. It just seems that there\\'s a lot they\\'re not telling us. Superheroes in New York? Give me a break. These so-called \"heroes\" have to be held responsible for the destruction done to this city. This was their fight. Where are they now? Tough questions are being asked about the Avengers themselves. Their sudden appearance and equally sudden disappearance... What, this is all somehow their fault? Captain America saved my life. Wherever he is, and wherever any of them are, I would just... I would want to say thank you. Where are the Avengers? I\\'m not currently tracking their whereabouts. I\\'d say they\\'ve earned a leave of absence. And the Tesseract? The Tesseract is where it belongs. Out of our reach. That\\'s not your call. I didn\\'t make it. I just didn\\'t argue with the god that did. So, you let him take it and the war criminal, Loki, who should be answering for his crime. I think he will be. I don\\'t think you understand what you\\'ve started, letting the Avengers loose on this world. They\\'re dangerous. They surely are, and the whole world knows it. Every world knows it. Was that the point of all this? A statement? A promise. Sir, how does it work now? They\\'ve gone their separate ways. Some, pretty extremely far. If we get into a situation like this again, what happens then? They\\'ll come back. Are you really sure about that? I am. Why? Because we\\'ll need them to. Humans. They are not the cowering wretches we were promised. They stand. They are unruly, and therefore cannot be ruled. To challenge them 1754is to court death.'"
            ],
            "application/vnd.google.colaboratory.intrinsic+json": {
              "type": "string"
            }
          },
          "metadata": {},
          "execution_count": 25
        }
      ]
    },
    {
      "cell_type": "markdown",
      "source": [
        "### Transformar el corpus a tokens"
      ],
      "metadata": {
        "id": "6U8teCRGVRPJ"
      }
    },
    {
      "cell_type": "code",
      "metadata": {
        "id": "_KlsYd7_uOez",
        "colab": {
          "base_uri": "https://localhost:8080/"
        },
        "outputId": "e989f973-979f-4441-8b09-35aba0fc9058"
      },
      "source": [
        "tokens=text_to_word_sequence(corpus)\n",
        "# Vistazo general de los primeros tokens\n",
        "tokens[:20]"
      ],
      "execution_count": 26,
      "outputs": [
        {
          "output_type": "execute_result",
          "data": {
            "text/plain": [
              "['distant',\n",
              " 'explosion',\n",
              " 'strucker',\n",
              " 'on',\n",
              " 'pa',\n",
              " 'report',\n",
              " 'to',\n",
              " 'your',\n",
              " 'stations',\n",
              " 'immediately',\n",
              " 'this',\n",
              " 'is',\n",
              " 'not',\n",
              " 'a',\n",
              " 'drill',\n",
              " 'we',\n",
              " 'are',\n",
              " 'under',\n",
              " 'attack',\n",
              " 'soldiers']"
            ]
          },
          "metadata": {},
          "execution_count": 26
        }
      ]
    },
    {
      "cell_type": "code",
      "metadata": {
        "id": "GlqpZSJOJ1xQ",
        "colab": {
          "base_uri": "https://localhost:8080/"
        },
        "outputId": "424f9c4c-6685-4ea9-bc89-1d127b096ad5"
      },
      "source": [
        "print(\"Cantidad de tokens en el corpus:\", len(tokens))"
      ],
      "execution_count": 27,
      "outputs": [
        {
          "output_type": "stream",
          "name": "stdout",
          "text": [
            "Cantidad de tokens en el corpus: 42244\n"
          ]
        }
      ]
    },
    {
      "cell_type": "code",
      "metadata": {
        "id": "RhQevOynuYk2"
      },
      "source": [
        "# Código para hacer el desfazaje de las palabras\n",
        "# según el train_len\n",
        "text_sequences = []\n",
        "for i in range(train_len, len(tokens)):\n",
        "  seq = tokens[i-train_len:i]\n",
        "  text_sequences.append(seq)"
      ],
      "execution_count": 28,
      "outputs": []
    },
    {
      "cell_type": "code",
      "metadata": {
        "id": "FU3FuqHSuhzq",
        "colab": {
          "base_uri": "https://localhost:8080/"
        },
        "outputId": "1a4ba88c-07ae-4292-cbe6-130775fd34e1"
      },
      "source": [
        "# Demos un vistazo a nuestros vectores para entrenar el modelo\n",
        "text_sequences[:20]"
      ],
      "execution_count": 29,
      "outputs": [
        {
          "output_type": "execute_result",
          "data": {
            "text/plain": [
              "[['distant', 'explosion', 'strucker', 'on'],\n",
              " ['explosion', 'strucker', 'on', 'pa'],\n",
              " ['strucker', 'on', 'pa', 'report'],\n",
              " ['on', 'pa', 'report', 'to'],\n",
              " ['pa', 'report', 'to', 'your'],\n",
              " ['report', 'to', 'your', 'stations'],\n",
              " ['to', 'your', 'stations', 'immediately'],\n",
              " ['your', 'stations', 'immediately', 'this'],\n",
              " ['stations', 'immediately', 'this', 'is'],\n",
              " ['immediately', 'this', 'is', 'not'],\n",
              " ['this', 'is', 'not', 'a'],\n",
              " ['is', 'not', 'a', 'drill'],\n",
              " ['not', 'a', 'drill', 'we'],\n",
              " ['a', 'drill', 'we', 'are'],\n",
              " ['drill', 'we', 'are', 'under'],\n",
              " ['we', 'are', 'under', 'attack'],\n",
              " ['are', 'under', 'attack', 'soldiers'],\n",
              " ['under', 'attack', 'soldiers', 'shouting'],\n",
              " ['attack', 'soldiers', 'shouting', 'indistinctly'],\n",
              " ['soldiers', 'shouting', 'indistinctly', 'we']]"
            ]
          },
          "metadata": {},
          "execution_count": 29
        }
      ]
    },
    {
      "cell_type": "markdown",
      "source": [
        "### Proceso de tokenizacion"
      ],
      "metadata": {
        "id": "1S0W3DzyVVpo"
      }
    },
    {
      "cell_type": "code",
      "metadata": {
        "id": "064N2jtLvHRg",
        "colab": {
          "base_uri": "https://localhost:8080/"
        },
        "outputId": "7eafc3dd-bb6f-4e9d-8da8-aea22cc1fce5"
      },
      "source": [
        "tok = Tokenizer()\n",
        "tok.fit_on_texts(text_sequences)\n",
        "\n",
        "# Convertimos las palabras a números\n",
        "# entran palabras -> salen números\n",
        "sequences = tok.texts_to_sequences(text_sequences)\n",
        "\n",
        "# Damos un vistazo\n",
        "sequences[:20]"
      ],
      "execution_count": 30,
      "outputs": [
        {
          "output_type": "execute_result",
          "data": {
            "text/plain": [
              "[[4589, 4588, 414, 14],\n",
              " [4588, 414, 14, 2224],\n",
              " [414, 14, 2224, 931],\n",
              " [14, 2224, 931, 4],\n",
              " [2224, 931, 4, 28],\n",
              " [931, 4, 28, 1140],\n",
              " [4, 28, 1140, 1141],\n",
              " [28, 1140, 1141, 12],\n",
              " [1140, 1141, 12, 8],\n",
              " [1141, 12, 8, 17],\n",
              " [12, 8, 17, 5],\n",
              " [8, 17, 5, 1142],\n",
              " [17, 5, 1142, 7],\n",
              " [5, 1142, 7, 21],\n",
              " [1142, 7, 21, 306],\n",
              " [7, 21, 306, 544],\n",
              " [21, 306, 544, 580],\n",
              " [306, 544, 580, 581],\n",
              " [544, 580, 581, 2225],\n",
              " [580, 581, 2225, 7]]"
            ]
          },
          "metadata": {},
          "execution_count": 30
        }
      ]
    },
    {
      "cell_type": "code",
      "metadata": {
        "id": "vwsvmvDKKXSP",
        "colab": {
          "base_uri": "https://localhost:8080/"
        },
        "outputId": "2af911b4-d4c9-4497-fb2a-71acea85cd1a"
      },
      "source": [
        "print(\"Cantidad de rows del dataset:\", len(sequences))"
      ],
      "execution_count": 31,
      "outputs": [
        {
          "output_type": "stream",
          "name": "stdout",
          "text": [
            "Cantidad de rows del dataset: 42240\n"
          ]
        }
      ]
    },
    {
      "cell_type": "markdown",
      "metadata": {
        "id": "QMVP4bj0vL2e"
      },
      "source": [
        "## 2 - Input y target"
      ]
    },
    {
      "cell_type": "code",
      "metadata": {
        "id": "e1vJTG65v4Qn",
        "colab": {
          "base_uri": "https://localhost:8080/"
        },
        "outputId": "571be17e-d86f-4ce6-9a8a-71a690338672"
      },
      "source": [
        "arr_sequences = np.array(sequences)\n",
        "x_data = arr_sequences[:,:-1]\n",
        "y_data_int = arr_sequences[:,-1]\n",
        "\n",
        "print(x_data.shape)\n",
        "print(y_data_int.shape)"
      ],
      "execution_count": 35,
      "outputs": [
        {
          "output_type": "stream",
          "name": "stdout",
          "text": [
            "(42240, 3)\n",
            "(42240,)\n"
          ]
        }
      ]
    },
    {
      "cell_type": "code",
      "metadata": {
        "id": "ln6kVWVlwBBs",
        "colab": {
          "base_uri": "https://localhost:8080/"
        },
        "outputId": "b14ead84-0cc3-4fa5-a1f1-ee86b5df0ade"
      },
      "source": [
        "# Palabras del vocabulario\n",
        "tok.index_word"
      ],
      "execution_count": 36,
      "outputs": [
        {
          "output_type": "execute_result",
          "data": {
            "text/plain": [
              "{1: 'you',\n",
              " 2: 'the',\n",
              " 3: 'i',\n",
              " 4: 'to',\n",
              " 5: 'a',\n",
              " 6: 'it',\n",
              " 7: 'we',\n",
              " 8: 'is',\n",
              " 9: 'that',\n",
              " 10: 'of',\n",
              " 11: 'and',\n",
              " 12: 'this',\n",
              " 13: 'in',\n",
              " 14: 'on',\n",
              " 15: 'what',\n",
              " 16: 'me',\n",
              " 17: 'not',\n",
              " 18: 'no',\n",
              " 19: \"i'm\",\n",
              " 20: \"it's\",\n",
              " 21: 'are',\n",
              " 22: 'for',\n",
              " 23: 'have',\n",
              " 24: 'he',\n",
              " 25: 'know',\n",
              " 26: 'be',\n",
              " 27: 'all',\n",
              " 28: 'your',\n",
              " 29: 'do',\n",
              " 30: \"don't\",\n",
              " 31: 'my',\n",
              " 32: 'right',\n",
              " 33: 'but',\n",
              " 34: \"you're\",\n",
              " 35: 'was',\n",
              " 36: 'if',\n",
              " 37: 'get',\n",
              " 38: 'got',\n",
              " 39: 'so',\n",
              " 40: 'here',\n",
              " 41: 'out',\n",
              " 42: 'yeah',\n",
              " 43: 'up',\n",
              " 44: 'one',\n",
              " 45: 'can',\n",
              " 46: 'like',\n",
              " 47: 'with',\n",
              " 48: 'just',\n",
              " 49: 'time',\n",
              " 50: 'him',\n",
              " 51: 'go',\n",
              " 52: \"that's\",\n",
              " 53: 'there',\n",
              " 54: 'they',\n",
              " 55: 'gonna',\n",
              " 56: 'about',\n",
              " 57: 'now',\n",
              " 58: 'will',\n",
              " 59: 'stark',\n",
              " 60: 'did',\n",
              " 61: \"we're\",\n",
              " 62: \"he's\",\n",
              " 63: 'need',\n",
              " 64: 'back',\n",
              " 65: 'think',\n",
              " 66: 'okay',\n",
              " 67: 'how',\n",
              " 68: 'come',\n",
              " 69: 'at',\n",
              " 70: 'them',\n",
              " 71: 'well',\n",
              " 72: 'oh',\n",
              " 73: 'an',\n",
              " 74: 'our',\n",
              " 75: 'us',\n",
              " 76: 'going',\n",
              " 77: 'where',\n",
              " 78: 'want',\n",
              " 79: 'down',\n",
              " 80: 'as',\n",
              " 81: 'from',\n",
              " 82: 'his',\n",
              " 83: 'then',\n",
              " 84: \"didn't\",\n",
              " 85: 'could',\n",
              " 86: 'way',\n",
              " 87: \"can't\",\n",
              " 88: 'why',\n",
              " 89: 'hey',\n",
              " 90: 'see',\n",
              " 91: 'good',\n",
              " 92: 'been',\n",
              " 93: 'stone',\n",
              " 94: 'take',\n",
              " 95: 'thanos',\n",
              " 96: 'who',\n",
              " 97: 'would',\n",
              " 98: 'people',\n",
              " 99: 'were',\n",
              " 100: 'man',\n",
              " 101: 'look',\n",
              " 102: 'tell',\n",
              " 103: 'ultron',\n",
              " 104: 'when',\n",
              " 105: 'something',\n",
              " 106: 'or',\n",
              " 107: \"i'll\",\n",
              " 108: 'only',\n",
              " 109: 'am',\n",
              " 110: 'thing',\n",
              " 111: 'really',\n",
              " 112: 'yes',\n",
              " 113: 'had',\n",
              " 114: 'off',\n",
              " 115: 'stones',\n",
              " 116: \"there's\",\n",
              " 117: 'more',\n",
              " 118: 'never',\n",
              " 119: 'has',\n",
              " 120: \"what's\",\n",
              " 121: 'little',\n",
              " 122: 'guys',\n",
              " 123: 'even',\n",
              " 124: 'say',\n",
              " 125: \"i've\",\n",
              " 126: 'stop',\n",
              " 127: 'should',\n",
              " 128: 'sorry',\n",
              " 129: 'thor',\n",
              " 130: 'her',\n",
              " 131: 'some',\n",
              " 132: 'too',\n",
              " 133: 'please',\n",
              " 134: 'still',\n",
              " 135: 'find',\n",
              " 136: 'world',\n",
              " 137: 'because',\n",
              " 138: 'make',\n",
              " 139: 'sir',\n",
              " 140: \"they're\",\n",
              " 141: 'power',\n",
              " 142: 'guy',\n",
              " 143: 'let',\n",
              " 144: 'life',\n",
              " 145: 'jarvis',\n",
              " 146: 'give',\n",
              " 147: 'than',\n",
              " 148: 'loki',\n",
              " 149: \"let's\",\n",
              " 150: 'banner',\n",
              " 151: \"isn't\",\n",
              " 152: 'very',\n",
              " 153: 'everything',\n",
              " 154: 'tony',\n",
              " 155: 'god',\n",
              " 156: 'coming',\n",
              " 157: 'put',\n",
              " 158: 'these',\n",
              " 159: 'better',\n",
              " 160: 'she',\n",
              " 161: 'doing',\n",
              " 162: 'long',\n",
              " 163: 'mean',\n",
              " 164: 'barton',\n",
              " 165: 'two',\n",
              " 166: 'help',\n",
              " 167: 'might',\n",
              " 168: 'other',\n",
              " 169: 'lost',\n",
              " 170: 'lot',\n",
              " 171: 'nothing',\n",
              " 172: 'kill',\n",
              " 173: 'by',\n",
              " 174: 'work',\n",
              " 175: 'thought',\n",
              " 176: 'maybe',\n",
              " 177: 'does',\n",
              " 178: 'tesseract',\n",
              " 179: 'wait',\n",
              " 180: 'cap',\n",
              " 181: 'avengers',\n",
              " 182: 'over',\n",
              " 183: 'call',\n",
              " 184: 'made',\n",
              " 185: 'much',\n",
              " 186: 'years',\n",
              " 187: 'bring',\n",
              " 188: 'any',\n",
              " 189: 'wanna',\n",
              " 190: 'before',\n",
              " 191: \"doesn't\",\n",
              " 192: 'things',\n",
              " 193: 'thank',\n",
              " 194: 'new',\n",
              " 195: 'sure',\n",
              " 196: 'every',\n",
              " 197: 'keep',\n",
              " 198: 'said',\n",
              " 199: 'romanoff',\n",
              " 200: 'ever',\n",
              " 201: 'again',\n",
              " 202: 'trying',\n",
              " 203: \"you've\",\n",
              " 204: 'move',\n",
              " 205: 'anything',\n",
              " 206: 'through',\n",
              " 207: 'rogers',\n",
              " 208: 'uh',\n",
              " 209: 'everyone',\n",
              " 210: \"she's\",\n",
              " 211: 'mr',\n",
              " 212: 'after',\n",
              " 213: 'away',\n",
              " 214: 'talk',\n",
              " 215: 'big',\n",
              " 216: 'hulk',\n",
              " 217: 'around',\n",
              " 218: 'captain',\n",
              " 219: 'end',\n",
              " 220: 'plan',\n",
              " 221: 'doctor',\n",
              " 222: 'mind',\n",
              " 223: 'earth',\n",
              " 224: 'kind',\n",
              " 225: 'd',\n",
              " 226: \"won't\",\n",
              " 227: 'three',\n",
              " 228: 'groans',\n",
              " 229: 'into',\n",
              " 230: 'seen',\n",
              " 231: 's',\n",
              " 232: 'h',\n",
              " 233: 'e',\n",
              " 234: 'love',\n",
              " 235: 'team',\n",
              " 236: 'fight',\n",
              " 237: 'done',\n",
              " 238: 'first',\n",
              " 239: 'stay',\n",
              " 240: 'feel',\n",
              " 241: 'last',\n",
              " 242: 'else',\n",
              " 243: 'gotta',\n",
              " 244: 'looking',\n",
              " 245: 'place',\n",
              " 246: 'yet',\n",
              " 247: 'space',\n",
              " 248: \"i'd\",\n",
              " 249: 'which',\n",
              " 250: 'vision',\n",
              " 251: 'universe',\n",
              " 252: 'home',\n",
              " 253: 'great',\n",
              " 254: 'exactly',\n",
              " 255: 'old',\n",
              " 256: 'fury',\n",
              " 257: 'hold',\n",
              " 258: 'dead',\n",
              " 259: 'war',\n",
              " 260: 'planet',\n",
              " 261: 'always',\n",
              " 262: 'those',\n",
              " 263: 'try',\n",
              " 264: 'grunting',\n",
              " 265: \"we've\",\n",
              " 266: 'may',\n",
              " 267: 'close',\n",
              " 268: 'dr',\n",
              " 269: 'their',\n",
              " 270: 'bad',\n",
              " 271: 'l',\n",
              " 272: 'knows',\n",
              " 273: 'together',\n",
              " 274: 'hell',\n",
              " 275: 'grunts',\n",
              " 276: 'second',\n",
              " 277: 'pretty',\n",
              " 278: 'hope',\n",
              " 279: 'job',\n",
              " 280: 'lose',\n",
              " 281: 'point',\n",
              " 282: 'screaming',\n",
              " 283: 'hit',\n",
              " 284: 'left',\n",
              " 285: \"you'll\",\n",
              " 286: 'asgard',\n",
              " 287: 'fine',\n",
              " 288: 'miss',\n",
              " 289: 'wrong',\n",
              " 290: 'killed',\n",
              " 291: 'turn',\n",
              " 292: 'understand',\n",
              " 293: 'remember',\n",
              " 294: 'head',\n",
              " 295: 'six',\n",
              " 296: 'its',\n",
              " 297: 'friday',\n",
              " 298: 'both',\n",
              " 299: \"wasn't\",\n",
              " 300: 'course',\n",
              " 301: 'nice',\n",
              " 302: 'enough',\n",
              " 303: \"we'll\",\n",
              " 304: 'another',\n",
              " 305: 'wants',\n",
              " 306: 'under',\n",
              " 307: 'energy',\n",
              " 308: 'city',\n",
              " 309: 'gone',\n",
              " 310: \"where's\",\n",
              " 311: 'best',\n",
              " 312: 'word',\n",
              " 313: 'own',\n",
              " 314: 'bruce',\n",
              " 315: 'suit',\n",
              " 316: 'kid',\n",
              " 317: 'father',\n",
              " 318: 'panting',\n",
              " 319: 'agent',\n",
              " 320: 'nat',\n",
              " 321: 'die',\n",
              " 322: 'ask',\n",
              " 323: 'rest',\n",
              " 324: 'men',\n",
              " 325: 'ready',\n",
              " 326: 'real',\n",
              " 327: 'getting',\n",
              " 328: 'natasha',\n",
              " 329: 'means',\n",
              " 330: 'day',\n",
              " 331: 'already',\n",
              " 332: \"who's\",\n",
              " 333: 'being',\n",
              " 334: 'though',\n",
              " 335: 'told',\n",
              " 336: 'scott',\n",
              " 337: 'soul',\n",
              " 338: 'groaning',\n",
              " 339: 'show',\n",
              " 340: 'many',\n",
              " 341: 'hear',\n",
              " 342: 'used',\n",
              " 343: 'few',\n",
              " 344: 'actually',\n",
              " 345: 'run',\n",
              " 346: 'called',\n",
              " 347: 'damn',\n",
              " 348: 'supposed',\n",
              " 349: 'future',\n",
              " 350: 'chance',\n",
              " 351: 'ago',\n",
              " 352: 'ship',\n",
              " 353: 'daughter',\n",
              " 354: 'half',\n",
              " 355: 'inside',\n",
              " 356: 'eyes',\n",
              " 357: 'green',\n",
              " 358: 'once',\n",
              " 359: 'protect',\n",
              " 360: 'next',\n",
              " 361: 'anyone',\n",
              " 362: 'saw',\n",
              " 363: 'case',\n",
              " 364: 'peace',\n",
              " 365: 'working',\n",
              " 366: 'wanted',\n",
              " 367: 'clear',\n",
              " 368: 'control',\n",
              " 369: 'everybody',\n",
              " 370: 'hi',\n",
              " 371: 'leave',\n",
              " 372: 'quill',\n",
              " 373: 'cube',\n",
              " 374: 'sceptre',\n",
              " 375: 'without',\n",
              " 376: 'room',\n",
              " 377: 'thanks',\n",
              " 378: 'safe',\n",
              " 379: 'probably',\n",
              " 380: 'buddy',\n",
              " 381: 'yourself',\n",
              " 382: 'shut',\n",
              " 383: 'whole',\n",
              " 384: 'save',\n",
              " 385: 'open',\n",
              " 386: \"wouldn't\",\n",
              " 387: 'someone',\n",
              " 388: 'came',\n",
              " 389: 'talking',\n",
              " 390: 'stand',\n",
              " 391: 'until',\n",
              " 392: 'eye',\n",
              " 393: 'brother',\n",
              " 394: 'five',\n",
              " 395: 'groot',\n",
              " 396: 'gamora',\n",
              " 397: 'send',\n",
              " 398: 'clint',\n",
              " 399: 'copy',\n",
              " 400: 'wanda',\n",
              " 401: 'drop',\n",
              " 402: 'seems',\n",
              " 403: 'whatever',\n",
              " 404: 'each',\n",
              " 405: 'makes',\n",
              " 406: 'start',\n",
              " 407: 'took',\n",
              " 408: 'idea',\n",
              " 409: 'part',\n",
              " 410: 'gets',\n",
              " 411: 'found',\n",
              " 412: 'hands',\n",
              " 413: 'reality',\n",
              " 414: 'strucker',\n",
              " 415: 'roaring',\n",
              " 416: 'building',\n",
              " 417: \"loki's\",\n",
              " 418: 'deal',\n",
              " 419: 'fire',\n",
              " 420: 'hill',\n",
              " 421: 'days',\n",
              " 422: 'boss',\n",
              " 423: 'alive',\n",
              " 424: 'believe',\n",
              " 425: 'meet',\n",
              " 426: 'guess',\n",
              " 427: 'needs',\n",
              " 428: 'mission',\n",
              " 429: 'change',\n",
              " 430: 'use',\n",
              " 431: 'went',\n",
              " 432: 'side',\n",
              " 433: 'face',\n",
              " 434: 'director',\n",
              " 435: 'same',\n",
              " 436: \"aren't\",\n",
              " 437: 'alone',\n",
              " 438: 'saying',\n",
              " 439: \"'em\",\n",
              " 440: 'works',\n",
              " 441: 'hammer',\n",
              " 442: 'quantum',\n",
              " 443: 'name',\n",
              " 444: 'must',\n",
              " 445: 'sighs',\n",
              " 446: 'far',\n",
              " 447: 'soon',\n",
              " 448: 'gasps',\n",
              " 449: \"haven't\",\n",
              " 450: 'human',\n",
              " 451: 'saved',\n",
              " 452: 'full',\n",
              " 453: 'while',\n",
              " 454: 'person',\n",
              " 455: 'pull',\n",
              " 456: 'dream',\n",
              " 457: 'army',\n",
              " 458: 'hard',\n",
              " 459: 'asked',\n",
              " 460: 'wake',\n",
              " 461: 'listen',\n",
              " 462: 'running',\n",
              " 463: \"you'd\",\n",
              " 464: 'play',\n",
              " 465: 'become',\n",
              " 466: 'blow',\n",
              " 467: 'engine',\n",
              " 468: 'infinity',\n",
              " 469: 'today',\n",
              " 470: 'mother',\n",
              " 471: 'soldier',\n",
              " 472: 'sent',\n",
              " 473: 'friend',\n",
              " 474: 'trust',\n",
              " 475: 'cho',\n",
              " 476: 'set',\n",
              " 477: 'minutes',\n",
              " 478: 'line',\n",
              " 479: 'past',\n",
              " 480: 'having',\n",
              " 481: 'machine',\n",
              " 482: 'potts',\n",
              " 483: 'missed',\n",
              " 484: 'crazy',\n",
              " 485: 'friends',\n",
              " 486: \"he'll\",\n",
              " 487: 'win',\n",
              " 488: 'against',\n",
              " 489: 'huh',\n",
              " 490: 'steve',\n",
              " 491: 'king',\n",
              " 492: 'ass',\n",
              " 493: 'york',\n",
              " 494: 'care',\n",
              " 495: 'son',\n",
              " 496: 'happened',\n",
              " 497: 'somewhere',\n",
              " 498: 'weapon',\n",
              " 499: 'won',\n",
              " 500: \"'cause\",\n",
              " 501: \"shouldn't\",\n",
              " 502: 'mom',\n",
              " 503: 'strange',\n",
              " 504: \"couldn't\",\n",
              " 505: 'gave',\n",
              " 506: 'looks',\n",
              " 507: 'monster',\n",
              " 508: 'most',\n",
              " 509: 'mmm',\n",
              " 510: 'meant',\n",
              " 511: 'moment',\n",
              " 512: 'indistinct',\n",
              " 513: 'story',\n",
              " 514: 'excuse',\n",
              " 515: 'happy',\n",
              " 516: 'laughing',\n",
              " 517: '1',\n",
              " 518: 'different',\n",
              " 519: 'making',\n",
              " 520: 'self',\n",
              " 521: 'create',\n",
              " 522: 'break',\n",
              " 523: 'happen',\n",
              " 524: 'hand',\n",
              " 525: 'night',\n",
              " 526: 'problem',\n",
              " 527: 'bit',\n",
              " 528: 'selvig',\n",
              " 529: 'promise',\n",
              " 530: 'magic',\n",
              " 531: 'level',\n",
              " 532: \"they'll\",\n",
              " 533: 'shot',\n",
              " 534: 'angry',\n",
              " 535: 'none',\n",
              " 536: 'light',\n",
              " 537: 'baby',\n",
              " 538: 'portal',\n",
              " 539: 'telling',\n",
              " 540: 'either',\n",
              " 541: 'travel',\n",
              " 542: 'drax',\n",
              " 543: '0',\n",
              " 544: 'attack',\n",
              " 545: 'shit',\n",
              " 546: 'fact',\n",
              " 547: 'worry',\n",
              " 548: 'iron',\n",
              " 549: 'tower',\n",
              " 550: 'air',\n",
              " 551: 'secret',\n",
              " 552: 'door',\n",
              " 553: 'low',\n",
              " 554: 'playing',\n",
              " 555: 'goes',\n",
              " 556: 'couple',\n",
              " 557: 'expect',\n",
              " 558: 'fly',\n",
              " 559: \"world's\",\n",
              " 560: 'hmm',\n",
              " 561: 'known',\n",
              " 562: 'girl',\n",
              " 563: 'question',\n",
              " 564: 'needed',\n",
              " 565: 'apart',\n",
              " 566: 'hurt',\n",
              " 567: 'vibranium',\n",
              " 568: '2',\n",
              " 569: 'hours',\n",
              " 570: 'incoming',\n",
              " 571: 'dad',\n",
              " 572: 'dark',\n",
              " 573: 'easy',\n",
              " 574: 'pain',\n",
              " 575: 'slow',\n",
              " 576: 'myself',\n",
              " 577: 'seriously',\n",
              " 578: 'gamma',\n",
              " 579: 'takes',\n",
              " 580: 'soldiers',\n",
              " 581: 'shouting',\n",
              " 582: 'powering',\n",
              " 583: 'boys',\n",
              " 584: 'order',\n",
              " 585: 'taking',\n",
              " 586: 'field',\n",
              " 587: 'somebody',\n",
              " 588: 'source',\n",
              " 589: 'growling',\n",
              " 590: 'worked',\n",
              " 591: 'since',\n",
              " 592: 'cool',\n",
              " 593: 'pietro',\n",
              " 594: 'terrible',\n",
              " 595: 'cradle',\n",
              " 596: 'live',\n",
              " 597: 'metal',\n",
              " 598: 'intelligence',\n",
              " 599: 'sounds',\n",
              " 600: 'jane',\n",
              " 601: '000',\n",
              " 602: 'anybody',\n",
              " 603: 'comes',\n",
              " 604: 'waiting',\n",
              " 605: 'ahead',\n",
              " 606: 'whoa',\n",
              " 607: 'funny',\n",
              " 608: 'heard',\n",
              " 609: 'standing',\n",
              " 610: \"ultron's\",\n",
              " 611: 'knew',\n",
              " 612: 'children',\n",
              " 613: 'chuckles',\n",
              " 614: 'game',\n",
              " 615: 'wakanda',\n",
              " 616: 'afraid',\n",
              " 617: 'charge',\n",
              " 618: 'rock',\n",
              " 619: 'nobody',\n",
              " 620: 'fail',\n",
              " 621: 'pal',\n",
              " 622: 'lila',\n",
              " 623: 'met',\n",
              " 624: 'water',\n",
              " 625: 'assume',\n",
              " 626: 'red',\n",
              " 627: 'rabbit',\n",
              " 628: 'yours',\n",
              " 629: 'realm',\n",
              " 630: 'destroy',\n",
              " 631: 'minute',\n",
              " 632: 'lives',\n",
              " 633: 'fun',\n",
              " 634: 'family',\n",
              " 635: 'front',\n",
              " 636: 'wow',\n",
              " 637: 'idiot',\n",
              " 638: 'nebula',\n",
              " 639: 'speak',\n",
              " 640: 'dude',\n",
              " 641: 'sam',\n",
              " 642: \"strucker's\",\n",
              " 643: 'ones',\n",
              " 644: 'wish',\n",
              " 645: 'weapons',\n",
              " 646: 'below',\n",
              " 647: 'secure',\n",
              " 648: 'beat',\n",
              " 649: 'code',\n",
              " 650: 'screams',\n",
              " 651: 'lab',\n",
              " 652: 'speaking',\n",
              " 653: 'pay',\n",
              " 654: 'history',\n",
              " 655: 'weird',\n",
              " 656: 'beeping',\n",
              " 657: \"how's\",\n",
              " 658: 'brought',\n",
              " 659: 'started',\n",
              " 660: 'business',\n",
              " 661: 'beautiful',\n",
              " 662: 'access',\n",
              " 663: 'feet',\n",
              " 664: 'boom',\n",
              " 665: 'built',\n",
              " 666: 'rhodes',\n",
              " 667: 'high',\n",
              " 668: 'rhodey',\n",
              " 669: 'free',\n",
              " 670: 'codes',\n",
              " 671: 'sense',\n",
              " 672: \"weren't\",\n",
              " 673: 'fear',\n",
              " 674: 'picture',\n",
              " 675: 'bed',\n",
              " 676: 'tear',\n",
              " 677: 'less',\n",
              " 678: 'heat',\n",
              " 679: 'heart',\n",
              " 680: 'times',\n",
              " 681: 'tried',\n",
              " 682: '3',\n",
              " 683: 'honey',\n",
              " 684: 'kids',\n",
              " 685: 'living',\n",
              " 686: 'threat',\n",
              " 687: 'matter',\n",
              " 688: 'killing',\n",
              " 689: 'nick',\n",
              " 690: 'changed',\n",
              " 691: 'humans',\n",
              " 692: 'simple',\n",
              " 693: 'clean',\n",
              " 694: 'cannot',\n",
              " 695: 'blood',\n",
              " 696: 'tomorrow',\n",
              " 697: 'true',\n",
              " 698: 'fall',\n",
              " 699: 'step',\n",
              " 700: 'worse',\n",
              " 701: 'death',\n",
              " 702: 'fingers',\n",
              " 703: '7',\n",
              " 704: 'happening',\n",
              " 705: 'force',\n",
              " 706: 'ant',\n",
              " 707: 'careful',\n",
              " 708: 'ya',\n",
              " 709: 'trip',\n",
              " 710: 'least',\n",
              " 711: 'swear',\n",
              " 712: 'boy',\n",
              " 713: 'lightning',\n",
              " 714: 'asgardian',\n",
              " 715: 'knowhere',\n",
              " 716: 'phase',\n",
              " 717: 'coulson',\n",
              " 718: 'language',\n",
              " 719: 'beyond',\n",
              " 720: 'perimeter',\n",
              " 721: 'greatest',\n",
              " 722: 'test',\n",
              " 723: 'jet',\n",
              " 724: 'files',\n",
              " 725: 'number',\n",
              " 726: 'engage',\n",
              " 727: \"would've\",\n",
              " 728: 'memory',\n",
              " 729: 'sometimes',\n",
              " 730: '10',\n",
              " 731: 'special',\n",
              " 732: 'everywhere',\n",
              " 733: 'says',\n",
              " 734: 'pepper',\n",
              " 735: 'thinking',\n",
              " 736: 'helped',\n",
              " 737: 'worst',\n",
              " 738: 'roll',\n",
              " 739: 'armour',\n",
              " 740: 'hello',\n",
              " 741: 'designed',\n",
              " 742: 'certain',\n",
              " 743: 'body',\n",
              " 744: 'form',\n",
              " 745: 'ms',\n",
              " 746: 'um',\n",
              " 747: 'sound',\n",
              " 748: 'tough',\n",
              " 749: 'neither',\n",
              " 750: 'also',\n",
              " 751: 'huge',\n",
              " 752: 'scoffs',\n",
              " 753: 'worthy',\n",
              " 754: 'bet',\n",
              " 755: 'strings',\n",
              " 756: 'path',\n",
              " 757: 'nuclear',\n",
              " 758: '100',\n",
              " 759: 'himself',\n",
              " 760: \"stark's\",\n",
              " 761: 'four',\n",
              " 762: 'floor',\n",
              " 763: 'brain',\n",
              " 764: 'build',\n",
              " 765: 'worth',\n",
              " 766: 'clearly',\n",
              " 767: 'walk',\n",
              " 768: 'america',\n",
              " 769: 'finish',\n",
              " 770: 'heavy',\n",
              " 771: 'sleep',\n",
              " 772: 'elevator',\n",
              " 773: 'hide',\n",
              " 774: 'laura',\n",
              " 775: 'mess',\n",
              " 776: 'hot',\n",
              " 777: 'hoping',\n",
              " 778: 'heroes',\n",
              " 779: 'between',\n",
              " 780: 'bridge',\n",
              " 781: 'definitely',\n",
              " 782: 'saving',\n",
              " 783: 'stuff',\n",
              " 784: 'fault',\n",
              " 785: 'flying',\n",
              " 786: 'touch',\n",
              " 787: 'born',\n",
              " 788: 'trouble',\n",
              " 789: 'ice',\n",
              " 790: 'weeks',\n",
              " 791: 'hang',\n",
              " 792: 'late',\n",
              " 793: 'sit',\n",
              " 794: 'asking',\n",
              " 795: \"hasn't\",\n",
              " 796: 'seeing',\n",
              " 797: 'luck',\n",
              " 798: 'heist',\n",
              " 799: 'wipe',\n",
              " 800: 'star',\n",
              " 801: 'mine',\n",
              " 802: 'vormir',\n",
              " 803: 'sister',\n",
              " 804: 'giving',\n",
              " 805: 'breathe',\n",
              " 806: 'tree',\n",
              " 807: 'peter',\n",
              " 808: 'titan',\n",
              " 809: \"guy's\",\n",
              " 810: 'phil',\n",
              " 811: 'hydra',\n",
              " 812: 'weak',\n",
              " 813: 'list',\n",
              " 814: 'unsafe',\n",
              " 815: 'surrender',\n",
              " 816: 'enhanced',\n",
              " 817: 'watch',\n",
              " 818: 'quick',\n",
              " 819: 'reading',\n",
              " 820: 'faster',\n",
              " 821: 'bigger',\n",
              " 822: 'prize',\n",
              " 823: 'expecting',\n",
              " 824: 'feels',\n",
              " 825: 'party',\n",
              " 826: 'chitauri',\n",
              " 827: 'shell',\n",
              " 828: 'powerful',\n",
              " 829: 'reactor',\n",
              " 830: 'gem',\n",
              " 831: 'deep',\n",
              " 832: 'artificial',\n",
              " 833: 'key',\n",
              " 834: 'hate',\n",
              " 835: 'program',\n",
              " 836: 'imagine',\n",
              " 837: 'hostile',\n",
              " 838: 'chatter',\n",
              " 839: 'tech',\n",
              " 840: 'absolutely',\n",
              " 841: 'leads',\n",
              " 842: 'ah',\n",
              " 843: 'shall',\n",
              " 844: 'extinction',\n",
              " 845: 'words',\n",
              " 846: 'headed',\n",
              " 847: 'later',\n",
              " 848: \"everyone's\",\n",
              " 849: 'dinner',\n",
              " 850: 'starts',\n",
              " 851: \"ma'am\",\n",
              " 852: 'message',\n",
              " 853: 'throw',\n",
              " 854: 'glad',\n",
              " 855: 'swing',\n",
              " 856: 'backup',\n",
              " 857: 'approaching',\n",
              " 858: 'house',\n",
              " 859: 'names',\n",
              " 860: 'totally',\n",
              " 861: 'woman',\n",
              " 862: 'seem',\n",
              " 863: \"should've\",\n",
              " 864: 'nope',\n",
              " 865: 'within',\n",
              " 866: 'return',\n",
              " 867: 'read',\n",
              " 868: 'above',\n",
              " 869: 'match',\n",
              " 870: 'heading',\n",
              " 871: 'package',\n",
              " 872: 'outside',\n",
              " 873: 'spy',\n",
              " 874: 'destroyed',\n",
              " 875: 'suppose',\n",
              " 876: 'lying',\n",
              " 877: 'failure',\n",
              " 878: 'hero',\n",
              " 879: 'leaving',\n",
              " 880: 'handle',\n",
              " 881: '12',\n",
              " 882: 'levels',\n",
              " 883: 'wield',\n",
              " 884: 'position',\n",
              " 885: 'pep',\n",
              " 886: 'battle',\n",
              " 887: 'figured',\n",
              " 888: 'lie',\n",
              " 889: 'fought',\n",
              " 890: 'street',\n",
              " 891: 'bunch',\n",
              " 892: \"one's\",\n",
              " 893: 'small',\n",
              " 894: 'jump',\n",
              " 895: 'except',\n",
              " 896: 'pod',\n",
              " 897: 'grow',\n",
              " 898: 'lunch',\n",
              " 899: 'impossible',\n",
              " 900: 'kidding',\n",
              " 901: 'kinda',\n",
              " 902: 'hour',\n",
              " 903: 'pants',\n",
              " 904: 'turned',\n",
              " 905: 'turns',\n",
              " 906: 'awesome',\n",
              " 907: 'drink',\n",
              " 908: 'round',\n",
              " 909: 'almost',\n",
              " 910: 'pick',\n",
              " 911: 'itself',\n",
              " 912: 'year',\n",
              " 913: 'piece',\n",
              " 914: 'along',\n",
              " 915: 'stairs',\n",
              " 916: 'axe',\n",
              " 917: 'experience',\n",
              " 918: 'destiny',\n",
              " 919: 'howard',\n",
              " 920: 'happens',\n",
              " 921: 'such',\n",
              " 922: 'stupid',\n",
              " 923: 'spell',\n",
              " 924: 'fate',\n",
              " 925: 'push',\n",
              " 926: 'quite',\n",
              " 927: 'signature',\n",
              " 928: 'situation',\n",
              " 929: 'price',\n",
              " 930: 'target',\n",
              " 931: 'report',\n",
              " 932: 'view',\n",
              " 933: 'base',\n",
              " 934: 'taken',\n",
              " 935: 'deploy',\n",
              " 936: 'twins',\n",
              " 937: 'clamouring',\n",
              " 938: 'costel',\n",
              " 939: 'breathing',\n",
              " 940: 'evac',\n",
              " 941: 'locked',\n",
              " 942: 'hiding',\n",
              " 943: 'wall',\n",
              " 944: 'technically',\n",
              " 945: 'rumbling',\n",
              " 946: 'music',\n",
              " 947: 'whimpering',\n",
              " 948: 'parties',\n",
              " 949: 'rough',\n",
              " 950: 'alien',\n",
              " 951: 'pretending',\n",
              " 952: 'tissue',\n",
              " 953: 'forever',\n",
              " 954: 'laughs',\n",
              " 955: \"here's\",\n",
              " 956: 'difference',\n",
              " 957: 'helen',\n",
              " 958: 'wondering',\n",
              " 959: 'runs',\n",
              " 960: 'top',\n",
              " 961: 'yesterday',\n",
              " 962: 'sun',\n",
              " 963: 'instead',\n",
              " 964: 'veronica',\n",
              " 965: 'enjoy',\n",
              " 966: 'global',\n",
              " 967: 'initiative',\n",
              " 968: 'weight',\n",
              " 969: 'gentlemen',\n",
              " 970: 'wind',\n",
              " 971: 'breaking',\n",
              " 972: 'physics',\n",
              " 973: 'rule',\n",
              " 974: 'security',\n",
              " 975: \"thor's\",\n",
              " 976: 'interesting',\n",
              " 977: 'legionnaire',\n",
              " 978: 'humanity',\n",
              " 979: 'evolve',\n",
              " 980: 'internet',\n",
              " 981: 'escape',\n",
              " 982: 'rage',\n",
              " 983: 'arms',\n",
              " 984: 'calling',\n",
              " 985: 'church',\n",
              " 986: 'exact',\n",
              " 987: 'engines',\n",
              " 988: 'grab',\n",
              " 989: 'engaged',\n",
              " 990: 'answer',\n",
              " 991: 'horrible',\n",
              " 992: 'sell',\n",
              " 993: 'trade',\n",
              " 994: 'follow',\n",
              " 995: 'strongest',\n",
              " 996: 'conversations',\n",
              " 997: 'boat',\n",
              " 998: 'parts',\n",
              " 999: 'helping',\n",
              " 1000: 'upon',\n",
              " ...}"
            ]
          },
          "metadata": {},
          "execution_count": 36
        }
      ]
    },
    {
      "cell_type": "code",
      "metadata": {
        "id": "gJgVhq1zwEpf",
        "colab": {
          "base_uri": "https://localhost:8080/"
        },
        "outputId": "d63bb3cb-95c5-4fa7-9e21-dcdf77fb685e"
      },
      "source": [
        "# Cantidad de palabras en el vocabulario\n",
        "vocab_size = len(tok.word_counts)\n",
        "vocab_size"
      ],
      "execution_count": 37,
      "outputs": [
        {
          "output_type": "execute_result",
          "data": {
            "text/plain": [
              "4589"
            ]
          },
          "metadata": {},
          "execution_count": 37
        }
      ]
    },
    {
      "cell_type": "code",
      "metadata": {
        "id": "qWjNrNx9wM1b",
        "colab": {
          "base_uri": "https://localhost:8080/"
        },
        "outputId": "6a99984d-6c3a-485d-beb5-af935074e5a6"
      },
      "source": [
        "# ¡Ojo! y_data_int comienza en \"1\" en vez de \"0\"\n",
        "# valor minimo:\n",
        "min(y_data_int)"
      ],
      "execution_count": 38,
      "outputs": [
        {
          "output_type": "execute_result",
          "data": {
            "text/plain": [
              "1"
            ]
          },
          "metadata": {},
          "execution_count": 38
        }
      ]
    },
    {
      "cell_type": "code",
      "metadata": {
        "id": "gIg2e2WCwXbG",
        "colab": {
          "base_uri": "https://localhost:8080/"
        },
        "outputId": "9cbe44c9-09a0-4e67-c853-0f22d65ad6e6"
      },
      "source": [
        "# Hay que restar 1\n",
        "y_data_int_offset = y_data_int - 1\n",
        "min(y_data_int_offset)"
      ],
      "execution_count": 39,
      "outputs": [
        {
          "output_type": "execute_result",
          "data": {
            "text/plain": [
              "0"
            ]
          },
          "metadata": {},
          "execution_count": 39
        }
      ]
    },
    {
      "cell_type": "code",
      "source": [
        "assert (y_data_int > 0).all()\n"
      ],
      "metadata": {
        "id": "X3dhSUSgOpM1"
      },
      "execution_count": 40,
      "outputs": []
    },
    {
      "cell_type": "code",
      "source": [
        "class Data(Dataset):\n",
        "    def __init__(self, x, y):\n",
        "        # Convertir los arrays de numpy a tensores.\n",
        "        # pytorch espera en general entradas 32bits\n",
        "        self.x = torch.from_numpy(x.astype(np.int32))\n",
        "        # Transformar los datos a oneHotEncoding\n",
        "        # la loss function esperan la salida float\n",
        "        #self.y = F.one_hot(torch.from_numpy(y), num_classes=vocab_size).float()\n",
        "        self.y = torch.from_numpy(y.astype(np.int64))\n",
        "\n",
        "\n",
        "        self.len = self.y.shape[0]\n",
        "\n",
        "    def __getitem__(self,index):\n",
        "        return self.x[index], self.y[index]\n",
        "\n",
        "    def __len__(self):\n",
        "        return self.len\n",
        "\n",
        "data_set = Data(x_data, y_data_int_offset)\n",
        "\n",
        "input_size = data_set.x.shape[1]\n",
        "print(\"input_size:\", input_size)\n",
        "\n",
        "#output_dim = data_set.y.shape[1]\n",
        "output_dim = vocab_size\n",
        "\n",
        "print(\"Output dim\", output_dim)"
      ],
      "metadata": {
        "colab": {
          "base_uri": "https://localhost:8080/"
        },
        "id": "cVO59n_3BEyR",
        "outputId": "4d6e1a94-bd49-40e2-a1f0-eeeb979f72dd"
      },
      "execution_count": 41,
      "outputs": [
        {
          "output_type": "stream",
          "name": "stdout",
          "text": [
            "input_size: 3\n",
            "Output dim 4589\n"
          ]
        }
      ]
    },
    {
      "cell_type": "code",
      "source": [
        "torch.manual_seed(42)\n",
        "valid_set_size = int(data_set.len * 0.2)\n",
        "train_set_size = data_set.len - valid_set_size\n",
        "\n",
        "train_set = torch.utils.data.Subset(data_set, range(train_set_size))\n",
        "valid_set = torch.utils.data.Subset(data_set, range(train_set_size, data_set.len))\n",
        "\n",
        "print(\"Tamaño del conjunto de entrenamiento:\", len(train_set))\n",
        "print(\"Tamaño del conjunto de validacion:\", len(valid_set))\n",
        "\n",
        "train_batch_size = 32\n",
        "train_loader = torch.utils.data.DataLoader(train_set, batch_size=train_batch_size, shuffle=True)\n",
        "valid_loader = torch.utils.data.DataLoader(valid_set, batch_size=len(valid_set), shuffle=False)"
      ],
      "metadata": {
        "colab": {
          "base_uri": "https://localhost:8080/"
        },
        "id": "9_HzwNSwCISC",
        "outputId": "d7a2c2ba-372e-4740-a4a5-e28ebaf30b81"
      },
      "execution_count": 42,
      "outputs": [
        {
          "output_type": "stream",
          "name": "stdout",
          "text": [
            "Tamaño del conjunto de entrenamiento: 33792\n",
            "Tamaño del conjunto de validacion: 8448\n"
          ]
        }
      ]
    },
    {
      "cell_type": "markdown",
      "metadata": {
        "id": "GmJWNyxQwfCE"
      },
      "source": [
        "## 3 - Entrenar el modelo"
      ]
    },
    {
      "cell_type": "code",
      "source": [
        "class Model1(nn.Module):\n",
        "    def __init__(self, vocab_size, output_dim):\n",
        "        super().__init__()\n",
        "        # num_embeddings = vocab_size --> 1628 palabras distintas + 1 para padding o UNK\n",
        "        # embedding_dim = 5 --> crear embeddings de tamaño 5 (tamaño variable y ajustable)\n",
        "        self.lstm_size = 64\n",
        "        self.num_layers = 2\n",
        "        self.embedding = nn.Embedding(num_embeddings=vocab_size+1, embedding_dim=5, padding_idx=0)\n",
        "        self.lstm1 = nn.LSTM(input_size=5, hidden_size=self.lstm_size, batch_first=True,\n",
        "                            num_layers=self.num_layers, dropout=0.5) # LSTM layer\n",
        "        self.fc1 = nn.Linear(in_features=self.lstm_size, out_features=32) # Fully connected layer\n",
        "        self.fc2 = nn.Linear(in_features=32, out_features=output_dim) # Fully connected layer\n",
        "\n",
        "        self.relu = nn.ReLU()\n",
        "        self.softmax = nn.Softmax(dim=1) # normalize in dim 1\n",
        "\n",
        "    def forward(self, x, prev_state=None):\n",
        "        if prev_state is None:\n",
        "            # En cada nueva inferencia reinicio el hidden state\n",
        "            # de la LSTM al menos que sea pasado por parámetro el\n",
        "            # elstado de previo\n",
        "            # Esta acción se realiza especialmente para que\n",
        "            # el hidden_state de la última inferencia no afecte\n",
        "            # a la siguiente\n",
        "            batch_size = x.shape[0] #(batch, seq_size)\n",
        "            prev_state = self.init_hidden(batch_size)\n",
        "\n",
        "        out = self.embedding(x)\n",
        "        lstm_output, (ht, ct) = self.lstm1(out, prev_state)\n",
        "        out = self.relu(self.fc1(lstm_output[:,-1,:])) # take last output (last seq)\n",
        "        #out = self.softmax(self.fc2(out))\n",
        "        out = self.fc2(out)\n",
        "\n",
        "        return out\n",
        "\n",
        "    def init_hidden(self, batch_size):\n",
        "        return (torch.zeros(self.num_layers, batch_size, self.lstm_size).to(device),\n",
        "                torch.zeros(self.num_layers, batch_size, self.lstm_size).to(device))"
      ],
      "metadata": {
        "id": "VsdYibawCkHi"
      },
      "execution_count": 80,
      "outputs": []
    },
    {
      "cell_type": "code",
      "source": [
        "model1 = Model1(vocab_size=vocab_size, output_dim=output_dim)\n",
        "if cuda: model1.cuda()\n",
        "\n",
        "model1_optimizer = torch.optim.Adam(model1.parameters(), lr=0.001, weight_decay=1e-4)\n",
        "\n",
        "model1_criterion = torch.nn.CrossEntropyLoss()\n"
      ],
      "metadata": {
        "id": "BEoeL08dHcUq"
      },
      "execution_count": 81,
      "outputs": []
    },
    {
      "cell_type": "code",
      "source": [
        "device = torch.device(\"cuda\" if torch.cuda.is_available() else \"cpu\")\n",
        "model1 = model1.to(device)\n"
      ],
      "metadata": {
        "id": "mcF-sxapHusz"
      },
      "execution_count": 82,
      "outputs": []
    },
    {
      "cell_type": "markdown",
      "source": [
        "### Summary"
      ],
      "metadata": {
        "id": "E5qDOnXTV_6l"
      }
    },
    {
      "cell_type": "code",
      "source": [
        "input_tensor = data_set[0][0].unsqueeze(0).to(device)\n",
        "\n",
        "# Mostrar resumen del modelo\n",
        "summary(model1, input_data=input_tensor)"
      ],
      "metadata": {
        "colab": {
          "base_uri": "https://localhost:8080/"
        },
        "id": "hbPs-LkoHZ07",
        "outputId": "9334e2ca-e7b2-4e04-b24f-f090d542cdbf"
      },
      "execution_count": 83,
      "outputs": [
        {
          "output_type": "execute_result",
          "data": {
            "text/plain": [
              "==========================================================================================\n",
              "Layer (type:depth-idx)                   Output Shape              Param #\n",
              "==========================================================================================\n",
              "Model1                                   [1, 4589]                 --\n",
              "├─Embedding: 1-1                         [1, 3, 5]                 22,950\n",
              "├─LSTM: 1-2                              [1, 3, 64]                51,456\n",
              "├─Linear: 1-3                            [1, 32]                   2,080\n",
              "├─ReLU: 1-4                              [1, 32]                   --\n",
              "├─Linear: 1-5                            [1, 4589]                 151,437\n",
              "==========================================================================================\n",
              "Total params: 227,923\n",
              "Trainable params: 227,923\n",
              "Non-trainable params: 0\n",
              "Total mult-adds (Units.MEGABYTES): 0.33\n",
              "==========================================================================================\n",
              "Input size (MB): 0.00\n",
              "Forward/backward pass size (MB): 0.04\n",
              "Params size (MB): 0.91\n",
              "Estimated Total Size (MB): 0.95\n",
              "=========================================================================================="
            ]
          },
          "metadata": {},
          "execution_count": 83
        }
      ]
    },
    {
      "cell_type": "code",
      "source": [
        "def categorical_acc(y_pred, y_test):\n",
        "    y_pred_tag = y_pred.data.max(dim=1, keepdim=True)[1]\n",
        "    y_test_tag = y_test.view(-1, 1)\n",
        "    correct_results_sum = (y_pred_tag == y_test_tag).sum().float()\n",
        "    acc = correct_results_sum / y_test.shape[0]\n",
        "    return acc\n"
      ],
      "metadata": {
        "id": "CXUw_vJ6Pq3H"
      },
      "execution_count": 47,
      "outputs": []
    },
    {
      "cell_type": "code",
      "source": [
        "history1 = train(model1,\n",
        "                train_loader,\n",
        "                valid_loader,\n",
        "                model1_optimizer,\n",
        "                model1_criterion,\n",
        "                epochs=100\n",
        "                )"
      ],
      "metadata": {
        "colab": {
          "base_uri": "https://localhost:8080/"
        },
        "id": "S5yINRb7yMzB",
        "outputId": "2d63f880-f24a-4bbf-9bfd-58933bcb8a83"
      },
      "execution_count": 48,
      "outputs": [
        {
          "output_type": "stream",
          "name": "stderr",
          "text": [
            "/usr/local/lib/python3.11/dist-packages/torch/autograd/graph.py:823: UserWarning: Attempting to run cuBLAS, but there was no current CUDA context! Attempting to set the primary context... (Triggered internally at /pytorch/aten/src/ATen/cuda/CublasHandlePool.cpp:180.)\n",
            "  return Variable._execution_engine.run_backward(  # Calls into the C++ engine to run the backward pass\n"
          ]
        },
        {
          "output_type": "stream",
          "name": "stdout",
          "text": [
            "Epoch: 1/100 - Train loss 6.643 - Train accuracy 0.032 - Valid Loss 6.563 - Valid accuracy 0.037\n",
            "Epoch: 2/100 - Train loss 6.379 - Train accuracy 0.034 - Valid Loss 6.517 - Valid accuracy 0.038\n",
            "Epoch: 3/100 - Train loss 6.344 - Train accuracy 0.036 - Valid Loss 6.494 - Valid accuracy 0.039\n",
            "Epoch: 4/100 - Train loss 6.296 - Train accuracy 0.040 - Valid Loss 6.459 - Valid accuracy 0.043\n",
            "Epoch: 5/100 - Train loss 6.204 - Train accuracy 0.044 - Valid Loss 6.387 - Valid accuracy 0.044\n",
            "Epoch: 6/100 - Train loss 6.087 - Train accuracy 0.047 - Valid Loss 6.344 - Valid accuracy 0.047\n",
            "Epoch: 7/100 - Train loss 6.005 - Train accuracy 0.049 - Valid Loss 6.342 - Valid accuracy 0.047\n",
            "Epoch: 8/100 - Train loss 5.946 - Train accuracy 0.050 - Valid Loss 6.328 - Valid accuracy 0.050\n",
            "Epoch: 9/100 - Train loss 5.890 - Train accuracy 0.054 - Valid Loss 6.321 - Valid accuracy 0.056\n",
            "Epoch: 10/100 - Train loss 5.838 - Train accuracy 0.057 - Valid Loss 6.307 - Valid accuracy 0.054\n",
            "Epoch: 11/100 - Train loss 5.783 - Train accuracy 0.060 - Valid Loss 6.297 - Valid accuracy 0.057\n",
            "Epoch: 12/100 - Train loss 5.732 - Train accuracy 0.062 - Valid Loss 6.289 - Valid accuracy 0.062\n",
            "Epoch: 13/100 - Train loss 5.674 - Train accuracy 0.067 - Valid Loss 6.289 - Valid accuracy 0.064\n",
            "Epoch: 14/100 - Train loss 5.615 - Train accuracy 0.072 - Valid Loss 6.285 - Valid accuracy 0.065\n",
            "Epoch: 15/100 - Train loss 5.557 - Train accuracy 0.075 - Valid Loss 6.264 - Valid accuracy 0.065\n",
            "Epoch: 16/100 - Train loss 5.501 - Train accuracy 0.080 - Valid Loss 6.278 - Valid accuracy 0.071\n",
            "Epoch: 17/100 - Train loss 5.451 - Train accuracy 0.083 - Valid Loss 6.281 - Valid accuracy 0.072\n",
            "Epoch: 18/100 - Train loss 5.405 - Train accuracy 0.087 - Valid Loss 6.275 - Valid accuracy 0.070\n",
            "Epoch: 19/100 - Train loss 5.364 - Train accuracy 0.089 - Valid Loss 6.279 - Valid accuracy 0.074\n",
            "Epoch: 20/100 - Train loss 5.322 - Train accuracy 0.092 - Valid Loss 6.286 - Valid accuracy 0.074\n",
            "Epoch: 21/100 - Train loss 5.281 - Train accuracy 0.092 - Valid Loss 6.295 - Valid accuracy 0.076\n",
            "Epoch: 22/100 - Train loss 5.247 - Train accuracy 0.095 - Valid Loss 6.307 - Valid accuracy 0.078\n",
            "Epoch: 23/100 - Train loss 5.217 - Train accuracy 0.095 - Valid Loss 6.325 - Valid accuracy 0.078\n",
            "Epoch: 24/100 - Train loss 5.183 - Train accuracy 0.099 - Valid Loss 6.342 - Valid accuracy 0.078\n",
            "Epoch: 25/100 - Train loss 5.159 - Train accuracy 0.099 - Valid Loss 6.331 - Valid accuracy 0.078\n",
            "Epoch: 26/100 - Train loss 5.132 - Train accuracy 0.100 - Valid Loss 6.356 - Valid accuracy 0.080\n",
            "Epoch: 27/100 - Train loss 5.107 - Train accuracy 0.102 - Valid Loss 6.378 - Valid accuracy 0.077\n",
            "Epoch: 28/100 - Train loss 5.085 - Train accuracy 0.102 - Valid Loss 6.380 - Valid accuracy 0.080\n",
            "Epoch: 29/100 - Train loss 5.064 - Train accuracy 0.104 - Valid Loss 6.391 - Valid accuracy 0.077\n",
            "Epoch: 30/100 - Train loss 5.042 - Train accuracy 0.105 - Valid Loss 6.414 - Valid accuracy 0.076\n",
            "Epoch: 31/100 - Train loss 5.024 - Train accuracy 0.104 - Valid Loss 6.394 - Valid accuracy 0.078\n",
            "Epoch: 32/100 - Train loss 5.003 - Train accuracy 0.106 - Valid Loss 6.415 - Valid accuracy 0.082\n",
            "Epoch: 33/100 - Train loss 4.989 - Train accuracy 0.105 - Valid Loss 6.417 - Valid accuracy 0.080\n",
            "Epoch: 34/100 - Train loss 4.974 - Train accuracy 0.106 - Valid Loss 6.451 - Valid accuracy 0.081\n",
            "Epoch: 35/100 - Train loss 4.954 - Train accuracy 0.107 - Valid Loss 6.457 - Valid accuracy 0.078\n",
            "Epoch: 36/100 - Train loss 4.940 - Train accuracy 0.108 - Valid Loss 6.465 - Valid accuracy 0.077\n",
            "Epoch: 37/100 - Train loss 4.928 - Train accuracy 0.109 - Valid Loss 6.487 - Valid accuracy 0.082\n",
            "Epoch: 38/100 - Train loss 4.917 - Train accuracy 0.110 - Valid Loss 6.489 - Valid accuracy 0.077\n",
            "Epoch: 39/100 - Train loss 4.903 - Train accuracy 0.108 - Valid Loss 6.505 - Valid accuracy 0.080\n",
            "Epoch: 40/100 - Train loss 4.890 - Train accuracy 0.110 - Valid Loss 6.508 - Valid accuracy 0.075\n",
            "Epoch: 41/100 - Train loss 4.881 - Train accuracy 0.110 - Valid Loss 6.500 - Valid accuracy 0.075\n",
            "Epoch: 42/100 - Train loss 4.865 - Train accuracy 0.112 - Valid Loss 6.527 - Valid accuracy 0.079\n",
            "Epoch: 43/100 - Train loss 4.856 - Train accuracy 0.110 - Valid Loss 6.532 - Valid accuracy 0.080\n",
            "Epoch: 44/100 - Train loss 4.842 - Train accuracy 0.113 - Valid Loss 6.550 - Valid accuracy 0.078\n",
            "Epoch: 45/100 - Train loss 4.827 - Train accuracy 0.113 - Valid Loss 6.540 - Valid accuracy 0.076\n",
            "Epoch: 46/100 - Train loss 4.822 - Train accuracy 0.111 - Valid Loss 6.569 - Valid accuracy 0.077\n",
            "Epoch: 47/100 - Train loss 4.803 - Train accuracy 0.113 - Valid Loss 6.548 - Valid accuracy 0.080\n",
            "Epoch: 48/100 - Train loss 4.796 - Train accuracy 0.112 - Valid Loss 6.576 - Valid accuracy 0.078\n",
            "Epoch: 49/100 - Train loss 4.785 - Train accuracy 0.114 - Valid Loss 6.590 - Valid accuracy 0.082\n",
            "Epoch: 50/100 - Train loss 4.775 - Train accuracy 0.113 - Valid Loss 6.606 - Valid accuracy 0.078\n",
            "Epoch: 51/100 - Train loss 4.766 - Train accuracy 0.114 - Valid Loss 6.598 - Valid accuracy 0.077\n",
            "Epoch: 52/100 - Train loss 4.756 - Train accuracy 0.116 - Valid Loss 6.582 - Valid accuracy 0.075\n",
            "Epoch: 53/100 - Train loss 4.746 - Train accuracy 0.115 - Valid Loss 6.616 - Valid accuracy 0.080\n",
            "Epoch: 54/100 - Train loss 4.742 - Train accuracy 0.115 - Valid Loss 6.630 - Valid accuracy 0.078\n",
            "Epoch: 55/100 - Train loss 4.731 - Train accuracy 0.115 - Valid Loss 6.629 - Valid accuracy 0.077\n",
            "Epoch: 56/100 - Train loss 4.727 - Train accuracy 0.115 - Valid Loss 6.639 - Valid accuracy 0.072\n",
            "Epoch: 57/100 - Train loss 4.715 - Train accuracy 0.115 - Valid Loss 6.648 - Valid accuracy 0.081\n",
            "Epoch: 58/100 - Train loss 4.715 - Train accuracy 0.115 - Valid Loss 6.619 - Valid accuracy 0.080\n",
            "Epoch: 59/100 - Train loss 4.703 - Train accuracy 0.117 - Valid Loss 6.652 - Valid accuracy 0.077\n",
            "Epoch: 60/100 - Train loss 4.695 - Train accuracy 0.117 - Valid Loss 6.644 - Valid accuracy 0.076\n",
            "Epoch: 61/100 - Train loss 4.686 - Train accuracy 0.116 - Valid Loss 6.659 - Valid accuracy 0.074\n",
            "Epoch: 62/100 - Train loss 4.678 - Train accuracy 0.119 - Valid Loss 6.676 - Valid accuracy 0.076\n",
            "Epoch: 63/100 - Train loss 4.672 - Train accuracy 0.117 - Valid Loss 6.671 - Valid accuracy 0.078\n",
            "Epoch: 64/100 - Train loss 4.671 - Train accuracy 0.118 - Valid Loss 6.675 - Valid accuracy 0.074\n",
            "Epoch: 65/100 - Train loss 4.665 - Train accuracy 0.119 - Valid Loss 6.680 - Valid accuracy 0.074\n",
            "Epoch: 66/100 - Train loss 4.655 - Train accuracy 0.119 - Valid Loss 6.676 - Valid accuracy 0.075\n",
            "Epoch: 67/100 - Train loss 4.646 - Train accuracy 0.118 - Valid Loss 6.693 - Valid accuracy 0.077\n",
            "Epoch: 68/100 - Train loss 4.645 - Train accuracy 0.120 - Valid Loss 6.689 - Valid accuracy 0.075\n",
            "Epoch: 69/100 - Train loss 4.638 - Train accuracy 0.119 - Valid Loss 6.711 - Valid accuracy 0.072\n",
            "Epoch: 70/100 - Train loss 4.626 - Train accuracy 0.119 - Valid Loss 6.707 - Valid accuracy 0.078\n",
            "Epoch: 71/100 - Train loss 4.626 - Train accuracy 0.121 - Valid Loss 6.711 - Valid accuracy 0.076\n",
            "Epoch: 72/100 - Train loss 4.619 - Train accuracy 0.119 - Valid Loss 6.720 - Valid accuracy 0.076\n",
            "Epoch: 73/100 - Train loss 4.609 - Train accuracy 0.122 - Valid Loss 6.735 - Valid accuracy 0.075\n",
            "Epoch: 74/100 - Train loss 4.605 - Train accuracy 0.121 - Valid Loss 6.763 - Valid accuracy 0.080\n",
            "Epoch: 75/100 - Train loss 4.597 - Train accuracy 0.121 - Valid Loss 6.736 - Valid accuracy 0.073\n",
            "Epoch: 76/100 - Train loss 4.588 - Train accuracy 0.124 - Valid Loss 6.759 - Valid accuracy 0.077\n",
            "Epoch: 77/100 - Train loss 4.583 - Train accuracy 0.121 - Valid Loss 6.764 - Valid accuracy 0.076\n",
            "Epoch: 78/100 - Train loss 4.577 - Train accuracy 0.123 - Valid Loss 6.761 - Valid accuracy 0.078\n",
            "Epoch: 79/100 - Train loss 4.564 - Train accuracy 0.127 - Valid Loss 6.755 - Valid accuracy 0.071\n",
            "Epoch: 80/100 - Train loss 4.560 - Train accuracy 0.124 - Valid Loss 6.780 - Valid accuracy 0.075\n",
            "Epoch: 81/100 - Train loss 4.548 - Train accuracy 0.125 - Valid Loss 6.786 - Valid accuracy 0.075\n",
            "Epoch: 82/100 - Train loss 4.536 - Train accuracy 0.126 - Valid Loss 6.782 - Valid accuracy 0.074\n",
            "Epoch: 83/100 - Train loss 4.527 - Train accuracy 0.127 - Valid Loss 6.798 - Valid accuracy 0.072\n",
            "Epoch: 84/100 - Train loss 4.520 - Train accuracy 0.126 - Valid Loss 6.795 - Valid accuracy 0.075\n",
            "Epoch: 85/100 - Train loss 4.510 - Train accuracy 0.128 - Valid Loss 6.822 - Valid accuracy 0.071\n",
            "Epoch: 86/100 - Train loss 4.500 - Train accuracy 0.126 - Valid Loss 6.820 - Valid accuracy 0.078\n",
            "Epoch: 87/100 - Train loss 4.489 - Train accuracy 0.130 - Valid Loss 6.822 - Valid accuracy 0.076\n",
            "Epoch: 88/100 - Train loss 4.482 - Train accuracy 0.127 - Valid Loss 6.827 - Valid accuracy 0.074\n",
            "Epoch: 89/100 - Train loss 4.474 - Train accuracy 0.129 - Valid Loss 6.835 - Valid accuracy 0.071\n",
            "Epoch: 90/100 - Train loss 4.461 - Train accuracy 0.130 - Valid Loss 6.836 - Valid accuracy 0.075\n",
            "Epoch: 91/100 - Train loss 4.454 - Train accuracy 0.129 - Valid Loss 6.823 - Valid accuracy 0.075\n",
            "Epoch: 92/100 - Train loss 4.444 - Train accuracy 0.130 - Valid Loss 6.842 - Valid accuracy 0.072\n",
            "Epoch: 93/100 - Train loss 4.435 - Train accuracy 0.132 - Valid Loss 6.869 - Valid accuracy 0.074\n",
            "Epoch: 94/100 - Train loss 4.427 - Train accuracy 0.131 - Valid Loss 6.872 - Valid accuracy 0.071\n",
            "Epoch: 95/100 - Train loss 4.420 - Train accuracy 0.132 - Valid Loss 6.896 - Valid accuracy 0.070\n",
            "Epoch: 96/100 - Train loss 4.417 - Train accuracy 0.132 - Valid Loss 6.872 - Valid accuracy 0.073\n",
            "Epoch: 97/100 - Train loss 4.402 - Train accuracy 0.135 - Valid Loss 6.872 - Valid accuracy 0.072\n",
            "Epoch: 98/100 - Train loss 4.391 - Train accuracy 0.133 - Valid Loss 6.874 - Valid accuracy 0.072\n",
            "Epoch: 99/100 - Train loss 4.388 - Train accuracy 0.135 - Valid Loss 6.900 - Valid accuracy 0.073\n",
            "Epoch: 100/100 - Train loss 4.379 - Train accuracy 0.135 - Valid Loss 6.915 - Valid accuracy 0.073\n"
          ]
        }
      ]
    },
    {
      "cell_type": "code",
      "source": [
        "epoch_count = range(1, len(history1['accuracy']) + 1)\n",
        "sns.lineplot(x=epoch_count,  y=history1['accuracy'], label='train')\n",
        "sns.lineplot(x=epoch_count,  y=history1['val_accuracy'], label='valid')\n",
        "plt.show()"
      ],
      "metadata": {
        "colab": {
          "base_uri": "https://localhost:8080/",
          "height": 434
        },
        "id": "QH6al4DoyUWu",
        "outputId": "9a5c2fad-dd25-4cce-a055-d4ab02d75cc3"
      },
      "execution_count": 49,
      "outputs": [
        {
          "output_type": "display_data",
          "data": {
            "text/plain": [
              "<Figure size 640x480 with 1 Axes>"
            ],
            "image/png": "[encoded data removed]"
          },
          "metadata": {}
        }
      ]
    },
    {
      "cell_type": "code",
      "source": [
        "# Guarda solo los pesos del modelo\n",
        "torch.save(model1.state_dict(), \"model1_weights.pth\")\n"
      ],
      "metadata": {
        "id": "6NxCtTXiIo7u"
      },
      "execution_count": 50,
      "outputs": []
    },
    {
      "cell_type": "markdown",
      "source": [
        "## Cargar modelo"
      ],
      "metadata": {
        "id": "oNe4eomLIsgG"
      }
    },
    {
      "cell_type": "code",
      "source": [
        "model1 = Model1(vocab_size=vocab_size, output_dim=output_dim)\n",
        "model1.load_state_dict(torch.load(\"model1_weights.pth\"))\n",
        "model1.to(device)\n",
        "model1.eval()\n"
      ],
      "metadata": {
        "colab": {
          "base_uri": "https://localhost:8080/"
        },
        "id": "NyE9Yc6jItlj",
        "outputId": "dc3b9db5-05b8-42ef-d5d1-3d1c0a022d2a"
      },
      "execution_count": 51,
      "outputs": [
        {
          "output_type": "execute_result",
          "data": {
            "text/plain": [
              "Model1(\n",
              "  (embedding): Embedding(4590, 5, padding_idx=0)\n",
              "  (lstm1): LSTM(5, 64, num_layers=2, batch_first=True, dropout=0.5)\n",
              "  (fc1): Linear(in_features=64, out_features=32, bias=True)\n",
              "  (fc2): Linear(in_features=32, out_features=4589, bias=True)\n",
              "  (relu): ReLU()\n",
              "  (softmax): Softmax(dim=1)\n",
              ")"
            ]
          },
          "metadata": {},
          "execution_count": 51
        }
      ]
    },
    {
      "cell_type": "markdown",
      "metadata": {
        "id": "KN6Fg_BsxJe6"
      },
      "source": [
        "## 4 - Predicción de próxima palabra"
      ]
    },
    {
      "cell_type": "code",
      "source": [
        "def predict_next_word(model, tokenizer, input_text, max_len=3):\n",
        "    \"\"\"\n",
        "    Predice la próxima palabra dada una frase de entrada.\n",
        "\n",
        "    Args:\n",
        "        model (torch.nn.Module): Modelo entrenado.\n",
        "        tokenizer (Tokenizer): Tokenizador ya ajustado.\n",
        "        input_text (str): Frase inicial.\n",
        "        max_len (int): Longitud máxima de entrada (usada en pad_sequences).\n",
        "\n",
        "    Returns:\n",
        "        str: Frase con la palabra predicha añadida.\n",
        "    \"\"\"\n",
        "    model.eval()\n",
        "\n",
        "    # Tokenizar y preprocesar\n",
        "    encoded = tokenizer.texts_to_sequences([input_text])[0]\n",
        "    padded = pad_sequences([encoded], maxlen=max_len, padding='pre')\n",
        "    tensor = torch.from_numpy(padded.astype(np.int32)).to(device)\n",
        "\n",
        "    # Predecir\n",
        "    with torch.no_grad():\n",
        "        output = model(tensor)\n",
        "        predicted_idx = output.argmax(dim=-1).item()\n",
        "\n",
        "    predicted_word = None\n",
        "    for word, index in tokenizer.word_index.items():\n",
        "        if index == predicted_idx + 1:\n",
        "            predicted_word = word\n",
        "            break\n",
        "\n",
        "    predicted_word = predicted_word if predicted_word is not None else \"<UNK>\"\n",
        "\n",
        "    return input_text + \" \" + predicted_word\n"
      ],
      "metadata": {
        "id": "9xKLBpepaOji"
      },
      "execution_count": 85,
      "outputs": []
    },
    {
      "cell_type": "code",
      "source": [
        "input_text = \"bring me thanos\"\n",
        "output = predict_next_word(model1, tok, input_text)\n",
        "print(output)\n"
      ],
      "metadata": {
        "colab": {
          "base_uri": "https://localhost:8080/"
        },
        "id": "HYTtF-agaeW3",
        "outputId": "6327ae12-2a72-4306-eaf4-59ed1e0d654a"
      },
      "execution_count": 91,
      "outputs": [
        {
          "output_type": "stream",
          "name": "stdout",
          "text": [
            "bring me thanos defeating\n"
          ]
        }
      ]
    },
    {
      "cell_type": "code",
      "source": [
        "input_text = \"hi how are\"\n",
        "output = predict_next_word(model1, tok, input_text)\n",
        "print(output)"
      ],
      "metadata": {
        "colab": {
          "base_uri": "https://localhost:8080/"
        },
        "id": "-Bygx3O0arG1",
        "outputId": "1dc1728d-ac86-4bde-9806-f1e183691c94"
      },
      "execution_count": 92,
      "outputs": [
        {
          "output_type": "stream",
          "name": "stdout",
          "text": [
            "hi how are defeating\n"
          ]
        }
      ]
    },
    {
      "cell_type": "code",
      "source": [
        "input_text = \"i am\"\n",
        "output = predict_next_word(model1, tok, input_text)\n",
        "print(output)"
      ],
      "metadata": {
        "colab": {
          "base_uri": "https://localhost:8080/"
        },
        "id": "BU5iAbb1a6Ni",
        "outputId": "59817ce2-43e6-4b89-be6b-71c75cb77677"
      },
      "execution_count": 93,
      "outputs": [
        {
          "output_type": "stream",
          "name": "stdout",
          "text": [
            "i am defeating\n"
          ]
        }
      ]
    },
    {
      "cell_type": "code",
      "source": [
        "input_text = \"tony stark is\"\n",
        "output = predict_next_word(model1, tok, input_text)\n",
        "print(output)"
      ],
      "metadata": {
        "colab": {
          "base_uri": "https://localhost:8080/"
        },
        "id": "DZaQpChca9fk",
        "outputId": "805b8b4c-5b9a-4109-cf02-6cd381b3982a"
      },
      "execution_count": 94,
      "outputs": [
        {
          "output_type": "stream",
          "name": "stdout",
          "text": [
            "tony stark is defeating\n"
          ]
        }
      ]
    },
    {
      "cell_type": "markdown",
      "source": [
        "por alguna razon siempre predeci que la siguiente palabra es defeating. Por lo que el modelo no es el mejor."
      ],
      "metadata": {
        "id": "gkZZIVYIa_76"
      }
    },
    {
      "cell_type": "markdown",
      "metadata": {
        "id": "mCeMWWupxN1-"
      },
      "source": [
        "## 5 - Generación de secuencias nuevas"
      ]
    },
    {
      "cell_type": "code",
      "metadata": {
        "id": "bwbS_pfhxvB3"
      },
      "source": [
        "def generate_seq(model, tokenizer, seed_text, max_length, n_words):\n",
        "    \"\"\"\n",
        "        Exec model sequence prediction\n",
        "\n",
        "        Args:\n",
        "            model (keras): modelo entrenado\n",
        "            tokenizer (keras tokenizer): tonenizer utilizado en el preprocesamiento\n",
        "            seed_text (string): texto de entrada (input_seq)\n",
        "            max_length (int): máxima longitud de la sequencia de entrada\n",
        "            n_words (int): números de palabras a agregar a la sequencia de entrada\n",
        "        returns:\n",
        "            output_text (string): sentencia con las \"n_words\" agregadas\n",
        "    \"\"\"\n",
        "    output_text = seed_text\n",
        "\t# generate a fixed number of words\n",
        "    for _ in range(n_words):\n",
        "\t\t# Encodeamos\n",
        "        encoded = tokenizer.texts_to_sequences([output_text])[0]\n",
        "\t\t# Si tienen distinto largo\n",
        "        encoded = pad_sequences([encoded], maxlen=max_length, padding='pre')\n",
        "\n",
        "        # Transformo a tensor\n",
        "        tensor = torch.from_numpy(encoded.astype(np.int32)).to(device)\n",
        "        # Predicción softmax\n",
        "        y_hat = model1(tensor).argmax(axis=-1)\n",
        "\n",
        "\t\t# Vamos concatenando las predicciones\n",
        "        out_word = ''\n",
        "\n",
        "        # Debemos buscar en el vocabulario la palabra\n",
        "        # que corresopnde al indice (y_hat) predicho por le modelo\n",
        "        for word, index in tokenizer.word_index.items():\n",
        "            if index == y_hat:\n",
        "                out_word = word\n",
        "                break\n",
        "\n",
        "\t\t# Agrego las palabras a la frase predicha\n",
        "        output_text += ' ' + out_word\n",
        "    return output_text"
      ],
      "execution_count": 59,
      "outputs": []
    },
    {
      "cell_type": "code",
      "metadata": {
        "id": "JoFqRC5pxzqS",
        "colab": {
          "base_uri": "https://localhost:8080/",
          "height": 36
        },
        "outputId": "00038bcf-357a-4c28-9710-d39b8b414f33"
      },
      "source": [
        "input_text='i am iron'\n",
        "\n",
        "generate_seq(model1, tok, input_text, max_length=3, n_words=2)"
      ],
      "execution_count": 97,
      "outputs": [
        {
          "output_type": "execute_result",
          "data": {
            "text/plain": [
              "'i am iron threatens threatens'"
            ],
            "application/vnd.google.colaboratory.intrinsic+json": {
              "type": "string"
            }
          },
          "metadata": {},
          "execution_count": 97
        }
      ]
    },
    {
      "cell_type": "markdown",
      "metadata": {
        "id": "T2SHmXbgxQH9"
      },
      "source": [
        "## 6 - Conclusiones\n",
        "El modelo entrenado tuvo un muy mail desempeño en el entrenamiento además de overfitting. Cuestiones que podrían mejorarse:\n",
        "- Agregar más capas o neuronaes\n",
        "- Incrementar la cantidad de épocas\n",
        "- Agregar BRNN\n",
        "\n",
        "Es importante destacar que en este ejemplo estamos entrenando nuestro propios Embeddings, y para ello se requiere mucha data. En los ejemplos que realizaremos de aquí en más utilizaremos más datos, embeddings pre-enternados o modelos pre-entrenados."
      ]
    },
    {
      "cell_type": "markdown",
      "source": [
        "Voy a aplicar las siguientes recomendaciones para ver si mejora el modelo:"
      ],
      "metadata": {
        "id": "5O3r6lWZWoDl"
      }
    },
    {
      "cell_type": "code",
      "source": [
        "class ModelBonus(Model1):\n",
        "    def __init__(self, vocab_size, output_dim):\n",
        "        super().__init__(vocab_size, output_dim)\n",
        "\n",
        "        self.bidirectional = True\n",
        "        self.embedding_dim = 5\n",
        "        self.lstm_size = 32\n",
        "        self.num_layers = 2\n",
        "        self.embedding = nn.Embedding(num_embeddings=vocab_size + 1,\n",
        "                                      embedding_dim=self.embedding_dim,\n",
        "                                      padding_idx=0)\n",
        "        self.lstm1 = nn.LSTM(input_size=self.embedding_dim,\n",
        "                             hidden_size=self.lstm_size,\n",
        "                             num_layers=self.num_layers,\n",
        "                             dropout=0.6,\n",
        "                             batch_first=True,\n",
        "                             bidirectional=self.bidirectional)\n",
        "\n",
        "        # Ajustamos los Linear para bidireccional\n",
        "        self.fc1 = nn.Linear(in_features=self.lstm_size * 2, out_features=32)\n",
        "        self.fc2 = nn.Linear(in_features=32, out_features=output_dim)\n",
        "\n",
        "        self.relu = nn.ReLU()\n",
        "\n",
        "    def forward(self, x, prev_state=None):\n",
        "        if prev_state is None:\n",
        "            batch_size = x.shape[0]\n",
        "            prev_state = self.init_hidden(batch_size)\n",
        "\n",
        "        out = self.embedding(x)\n",
        "        lstm_output, (ht, ct) = self.lstm1(out, prev_state)\n",
        "        out = self.relu(self.fc1(lstm_output[:, -1, :]))\n",
        "        out = self.fc2(out)  # sin softmax porque usamos CrossEntropy\n",
        "        return out\n",
        "\n",
        "    def init_hidden(self, batch_size):\n",
        "        num_directions = 2 if self.bidirectional else 1\n",
        "        return (\n",
        "            torch.zeros(self.num_layers * num_directions, batch_size, self.lstm_size).to(device),\n",
        "            torch.zeros(self.num_layers * num_directions, batch_size, self.lstm_size).to(device),\n",
        "        )\n"
      ],
      "metadata": {
        "id": "tM8QvgalVppk"
      },
      "execution_count": 75,
      "outputs": []
    },
    {
      "cell_type": "code",
      "source": [
        "model2 = ModelBonus(vocab_size=vocab_size, output_dim=output_dim)\n",
        "if cuda: model2.cuda()\n",
        "\n",
        "model2_optimizer = torch.optim.Adam(model2.parameters(), lr=0.001, weight_decay=1e-5)\n",
        "\n",
        "model2_criterion = torch.nn.CrossEntropyLoss()"
      ],
      "metadata": {
        "id": "j6Sbu7jrVtcA"
      },
      "execution_count": 76,
      "outputs": []
    },
    {
      "cell_type": "code",
      "source": [
        "model2 = model2.to(device)"
      ],
      "metadata": {
        "id": "sn0I1OFmV2DB"
      },
      "execution_count": 77,
      "outputs": []
    },
    {
      "cell_type": "code",
      "source": [
        "# Mostrar resumen del modelo\n",
        "summary(model2, input_data=input_tensor)"
      ],
      "metadata": {
        "colab": {
          "base_uri": "https://localhost:8080/"
        },
        "id": "Mf5wFFYYV7nM",
        "outputId": "3b501589-9949-4f71-c659-e4945a29934e"
      },
      "execution_count": 78,
      "outputs": [
        {
          "output_type": "execute_result",
          "data": {
            "text/plain": [
              "==========================================================================================\n",
              "Layer (type:depth-idx)                   Output Shape              Param #\n",
              "==========================================================================================\n",
              "ModelBonus                               [1, 4589]                 --\n",
              "├─Embedding: 1-1                         [1, 3, 5]                 22,950\n",
              "├─LSTM: 1-2                              [1, 3, 64]                35,072\n",
              "├─Linear: 1-3                            [1, 32]                   2,080\n",
              "├─ReLU: 1-4                              [1, 32]                   --\n",
              "├─Linear: 1-5                            [1, 4589]                 151,437\n",
              "==========================================================================================\n",
              "Total params: 211,539\n",
              "Trainable params: 211,539\n",
              "Non-trainable params: 0\n",
              "Total mult-adds (Units.MEGABYTES): 0.28\n",
              "==========================================================================================\n",
              "Input size (MB): 0.00\n",
              "Forward/backward pass size (MB): 0.04\n",
              "Params size (MB): 0.85\n",
              "Estimated Total Size (MB): 0.88\n",
              "=========================================================================================="
            ]
          },
          "metadata": {},
          "execution_count": 78
        }
      ]
    },
    {
      "cell_type": "code",
      "source": [
        "history2 = train(model2,\n",
        "                train_loader,\n",
        "                valid_loader,\n",
        "                model2_optimizer,\n",
        "                model2_criterion,\n",
        "                epochs=30\n",
        "                )"
      ],
      "metadata": {
        "colab": {
          "base_uri": "https://localhost:8080/"
        },
        "id": "gfSUUCdqWHUu",
        "outputId": "086d8a72-c453-4775-b9f9-dcc097316ce9"
      },
      "execution_count": 79,
      "outputs": [
        {
          "output_type": "stream",
          "name": "stdout",
          "text": [
            "Epoch: 1/30 - Train loss 6.665 - Train accuracy 0.032 - Valid Loss 6.642 - Valid accuracy 0.037\n",
            "Epoch: 2/30 - Train loss 6.347 - Train accuracy 0.035 - Valid Loss 6.571 - Valid accuracy 0.040\n",
            "Epoch: 3/30 - Train loss 6.234 - Train accuracy 0.039 - Valid Loss 6.482 - Valid accuracy 0.041\n",
            "Epoch: 4/30 - Train loss 6.124 - Train accuracy 0.042 - Valid Loss 6.420 - Valid accuracy 0.041\n",
            "Epoch: 5/30 - Train loss 6.036 - Train accuracy 0.044 - Valid Loss 6.395 - Valid accuracy 0.046\n",
            "Epoch: 6/30 - Train loss 5.965 - Train accuracy 0.051 - Valid Loss 6.367 - Valid accuracy 0.049\n",
            "Epoch: 7/30 - Train loss 5.886 - Train accuracy 0.055 - Valid Loss 6.338 - Valid accuracy 0.051\n",
            "Epoch: 8/30 - Train loss 5.809 - Train accuracy 0.058 - Valid Loss 6.321 - Valid accuracy 0.056\n",
            "Epoch: 9/30 - Train loss 5.736 - Train accuracy 0.062 - Valid Loss 6.315 - Valid accuracy 0.059\n",
            "Epoch: 10/30 - Train loss 5.667 - Train accuracy 0.065 - Valid Loss 6.319 - Valid accuracy 0.065\n",
            "Epoch: 11/30 - Train loss 5.604 - Train accuracy 0.068 - Valid Loss 6.319 - Valid accuracy 0.065\n",
            "Epoch: 12/30 - Train loss 5.552 - Train accuracy 0.070 - Valid Loss 6.319 - Valid accuracy 0.069\n",
            "Epoch: 13/30 - Train loss 5.505 - Train accuracy 0.072 - Valid Loss 6.310 - Valid accuracy 0.069\n",
            "Epoch: 14/30 - Train loss 5.457 - Train accuracy 0.075 - Valid Loss 6.332 - Valid accuracy 0.069\n",
            "Epoch: 15/30 - Train loss 5.417 - Train accuracy 0.077 - Valid Loss 6.340 - Valid accuracy 0.071\n",
            "Epoch: 16/30 - Train loss 5.374 - Train accuracy 0.079 - Valid Loss 6.359 - Valid accuracy 0.070\n",
            "Epoch: 17/30 - Train loss 5.333 - Train accuracy 0.081 - Valid Loss 6.357 - Valid accuracy 0.071\n",
            "Epoch: 18/30 - Train loss 5.290 - Train accuracy 0.083 - Valid Loss 6.387 - Valid accuracy 0.074\n",
            "Epoch: 19/30 - Train loss 5.259 - Train accuracy 0.085 - Valid Loss 6.397 - Valid accuracy 0.072\n",
            "Epoch: 20/30 - Train loss 5.222 - Train accuracy 0.087 - Valid Loss 6.422 - Valid accuracy 0.072\n",
            "Epoch: 21/30 - Train loss 5.187 - Train accuracy 0.089 - Valid Loss 6.441 - Valid accuracy 0.074\n",
            "Epoch: 22/30 - Train loss 5.157 - Train accuracy 0.090 - Valid Loss 6.463 - Valid accuracy 0.075\n",
            "Epoch: 23/30 - Train loss 5.125 - Train accuracy 0.092 - Valid Loss 6.480 - Valid accuracy 0.077\n",
            "Epoch: 24/30 - Train loss 5.093 - Train accuracy 0.096 - Valid Loss 6.522 - Valid accuracy 0.077\n",
            "Epoch: 25/30 - Train loss 5.072 - Train accuracy 0.094 - Valid Loss 6.521 - Valid accuracy 0.078\n",
            "Epoch: 26/30 - Train loss 5.042 - Train accuracy 0.096 - Valid Loss 6.540 - Valid accuracy 0.076\n",
            "Epoch: 27/30 - Train loss 5.013 - Train accuracy 0.098 - Valid Loss 6.586 - Valid accuracy 0.074\n",
            "Epoch: 28/30 - Train loss 4.986 - Train accuracy 0.099 - Valid Loss 6.608 - Valid accuracy 0.078\n",
            "Epoch: 29/30 - Train loss 4.966 - Train accuracy 0.100 - Valid Loss 6.616 - Valid accuracy 0.079\n",
            "Epoch: 30/30 - Train loss 4.943 - Train accuracy 0.101 - Valid Loss 6.661 - Valid accuracy 0.078\n"
          ]
        }
      ]
    },
    {
      "cell_type": "code",
      "source": [
        "epoch_count = range(1, len(history2['accuracy']) + 1)\n",
        "sns.lineplot(x=epoch_count,  y=history2['accuracy'], label='train')\n",
        "sns.lineplot(x=epoch_count,  y=history2['val_accuracy'], label='valid')\n",
        "plt.show()"
      ],
      "metadata": {
        "colab": {
          "base_uri": "https://localhost:8080/",
          "height": 430
        },
        "id": "z1ecx6QGWTrb",
        "outputId": "452101d8-019b-4a42-87a3-48b1d28dac1e"
      },
      "execution_count": 69,
      "outputs": [
        {
          "output_type": "display_data",
          "data": {
            "text/plain": [
              "<Figure size 640x480 with 1 Axes>"
            ],
            "image/png": "[encoded data removed]"
          },
          "metadata": {}
        }
      ]
    },
    {
      "cell_type": "code",
      "source": [
        "torch.save(model2.state_dict(), \"model2_weights.pth\")"
      ],
      "metadata": {
        "id": "1jUg8a0qWZd4"
      },
      "execution_count": 70,
      "outputs": []
    },
    {
      "cell_type": "code",
      "source": [
        "test_phrases = [\n",
        "    \"bring me thanos\",\n",
        "    \"hi how are\",\n",
        "    \"i am\",\n",
        "    \"tony stark is\",\n",
        "    \"i am iron\",\n",
        "    \"we have a\",\n",
        "    \"i can do\",\n",
        "    \"avengers assemble on\",\n",
        "    \"whatever it takes\",\n",
        "    \"you should have\",\n",
        "    \"i love you\"\n",
        "]\n",
        "\n",
        "\n",
        "for text in test_phrases:\n",
        "    output = predict_next_word(model2, tok, text)\n",
        "    print(f\"Input:  {text}\")\n",
        "    print(f\"Output: {output}\")\n",
        "    print(\"-\" * 40)\n"
      ],
      "metadata": {
        "colab": {
          "base_uri": "https://localhost:8080/"
        },
        "id": "DFqRUl40bbO9",
        "outputId": "ba7ee45e-3e82-4a8d-9897-89553cf354c1"
      },
      "execution_count": 103,
      "outputs": [
        {
          "output_type": "stream",
          "name": "stdout",
          "text": [
            "Input:  bring me thanos\n",
            "Output: bring me thanos h\n",
            "----------------------------------------\n",
            "Input:  hi how are\n",
            "Output: hi how are you\n",
            "----------------------------------------\n",
            "Input:  i am\n",
            "Output: i am groot\n",
            "----------------------------------------\n",
            "Input:  tony stark is\n",
            "Output: tony stark is it\n",
            "----------------------------------------\n",
            "Input:  i am iron\n",
            "Output: i am iron and\n",
            "----------------------------------------\n",
            "Input:  we have a\n",
            "Output: we have a lot\n",
            "----------------------------------------\n",
            "Input:  i can do\n",
            "Output: i can do you\n",
            "----------------------------------------\n",
            "Input:  avengers assemble on\n",
            "Output: avengers assemble on the\n",
            "----------------------------------------\n",
            "Input:  whatever it takes\n",
            "Output: whatever it takes it\n",
            "----------------------------------------\n",
            "Input:  you should have\n",
            "Output: you should have the\n",
            "----------------------------------------\n",
            "Input:  i love you\n",
            "Output: i love you to\n",
            "----------------------------------------\n"
          ]
        }
      ]
    },
    {
      "cell_type": "code",
      "source": [
        "# Comparacion con modelo1\n",
        "test_phrases = [\n",
        "    \"bring me thanos\",\n",
        "    \"hi how are\",\n",
        "    \"i am\",\n",
        "    \"tony stark is\",\n",
        "    \"i am iron\",\n",
        "    \"we have a\",\n",
        "    \"i can do\",\n",
        "    \"avengers assemble on\",\n",
        "    \"whatever it takes\",\n",
        "    \"you should have\",\n",
        "    \"i love you\"\n",
        "]\n",
        "\n",
        "\n",
        "for text in test_phrases:\n",
        "    output = predict_next_word(model1, tok, text)\n",
        "    print(f\"Input:  {text}\")\n",
        "    print(f\"Output: {output}\")\n",
        "    print(\"-\" * 40)\n"
      ],
      "metadata": {
        "colab": {
          "base_uri": "https://localhost:8080/"
        },
        "id": "RhdfMRpecOPS",
        "outputId": "ead510cc-4cfe-4f26-d58b-96eb180beb2c"
      },
      "execution_count": 104,
      "outputs": [
        {
          "output_type": "stream",
          "name": "stdout",
          "text": [
            "Input:  bring me thanos\n",
            "Output: bring me thanos defeating\n",
            "----------------------------------------\n",
            "Input:  hi how are\n",
            "Output: hi how are defeating\n",
            "----------------------------------------\n",
            "Input:  i am\n",
            "Output: i am defeating\n",
            "----------------------------------------\n",
            "Input:  tony stark is\n",
            "Output: tony stark is defeating\n",
            "----------------------------------------\n",
            "Input:  i am iron\n",
            "Output: i am iron defeating\n",
            "----------------------------------------\n",
            "Input:  we have a\n",
            "Output: we have a defeating\n",
            "----------------------------------------\n",
            "Input:  i can do\n",
            "Output: i can do defeating\n",
            "----------------------------------------\n",
            "Input:  avengers assemble on\n",
            "Output: avengers assemble on defeating\n",
            "----------------------------------------\n",
            "Input:  whatever it takes\n",
            "Output: whatever it takes defeating\n",
            "----------------------------------------\n",
            "Input:  you should have\n",
            "Output: you should have defeating\n",
            "----------------------------------------\n",
            "Input:  i love you\n",
            "Output: i love you defeating\n",
            "----------------------------------------\n"
          ]
        }
      ]
    },
    {
      "cell_type": "markdown",
      "source": [
        "En conclusión, incorporar una LSTM bidireccional incrementó la capacidad del modelo y permitió una leve mejora en el rendimiento sobre el conjunto de entrenamiento. Sin embargo, el desempeño general sigue siendo limitado, evidenciando que el modelo continúa teniendo dificultades para generalizar. Esto indica que, si bien la bidireccionalidad aporta valor, la arquitectura actual sigue siendo insuficiente para capturar correctamente la complejidad del lenguaje en el dataset de avengers."
      ],
      "metadata": {
        "id": "sggCw6UocVXs"
      }
    }
  ]
}
